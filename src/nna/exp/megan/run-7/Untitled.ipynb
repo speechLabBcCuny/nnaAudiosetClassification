{
 "cells": [
  {
   "cell_type": "code",
   "execution_count": 1,
   "metadata": {},
   "outputs": [
    {
     "name": "stderr",
     "output_type": "stream",
     "text": [
      "/scratch/enis/conda/envs/soundenv3/lib/python3.7/site-packages/torchaudio/backend/utils.py:54: UserWarning: \"sox\" backend is being deprecated. The default backend will be changed to \"sox_io\" backend in 0.8.0 and \"sox\" backend will be removed in 0.9.0. Please migrate to \"sox_io\" backend. Please refer to https://github.com/pytorch/audio/issues/903 for the detail.\n",
      "  '\"sox\" backend is being deprecated. '\n"
     ]
    }
   ],
   "source": [
    "import run"
   ]
  },
  {
   "cell_type": "code",
   "execution_count": 2,
   "metadata": {},
   "outputs": [],
   "source": [
    "import runconfigs # type: ignore\n",
    "from nna.exp import runutils\n"
   ]
  },
  {
   "cell_type": "code",
   "execution_count": 3,
   "metadata": {},
   "outputs": [],
   "source": [
    "def find_upper_taxo(taxo):\n",
    "\n",
    "    if '.' in taxo:\n",
    "        taxo_a = taxo.split('.')\n",
    "    else:\n",
    "        taxo_a = taxo[:]\n",
    "\n",
    "    if set(taxo_a)==set('X'):\n",
    "        return '.'.join(taxo_a)\n",
    "    if 'X' in taxo_a:\n",
    "        taxo_a = [x if x!='X' else '0' for x in taxo_a]\n",
    "    # -1 because we do not change first bit\n",
    "    for i in range(len(taxo_a)-1):\n",
    "        if taxo_a[-(i+1)]=='0':\n",
    "            continue\n",
    "        else:\n",
    "            taxo_a[-(i+1)] = '0'\n",
    "            break\n",
    "    \n",
    "    taxo_a='.'.join(taxo_a)\n",
    "    return taxo_a\n",
    "def get_root_taxos(org_taxo):\n",
    "    root_taxos = [ ]\n",
    "    upper_taxo = find_upper_taxo(org_taxo)\n",
    "    previous_taxo = org_taxo\n",
    "    while upper_taxo!=previous_taxo:\n",
    "        root_taxos.append(upper_taxo)\n",
    "        previous_taxo = upper_taxo\n",
    "        upper_taxo = find_upper_taxo(previous_taxo)\n",
    "    return root_taxos\n",
    "\n",
    "assert ['1.1.0', '1.0.0']==get_root_taxos('1.1.1')\n",
    "\n",
    "def create_multi_label_vector(alphabet, y_data):\n",
    "    # define input string\n",
    "    # define universe of possible input values\n",
    "    # alphabet = ['1.1.10','1.1.7']\n",
    "\n",
    "    # define a mapping of chars to integers\n",
    "    char_to_int = dict((c, i) for i, c in enumerate(alphabet))\n",
    "    int_to_char = dict((i, c) for i, c in enumerate(alphabet))\n",
    "    \n",
    "    integer_encoded = [ ]\n",
    "    for point in y_data:\n",
    "        root_taxos=get_root_taxos(point)\n",
    "        \n",
    "        root_taxos.append(point)\n",
    "#         print(root_taxos)\n",
    "        int_values=[char_to_int.get(taxo,None) for taxo in root_taxos]\n",
    "        int_values = [x for x in int_values if x is not None]\n",
    "        integer_encoded.append(int_values)\n",
    "    \n",
    "    onehot_encoded = list()\n",
    "#     print(integer_encoded)\n",
    "    for values in integer_encoded:\n",
    "        letter = [0 for _ in range(len(alphabet))]\n",
    "        for value in values:\n",
    "#             print(value)\n",
    "            letter[value] = 1\n",
    "        onehot_encoded.append(letter)\n",
    "    return onehot_encoded\n",
    "    "
   ]
  },
  {
   "cell_type": "code",
   "execution_count": 4,
   "metadata": {},
   "outputs": [],
   "source": [
    "\n",
    "\n",
    "def run_exp(wandb_logger_ins):\n",
    "\n",
    "\n",
    "    config = wandb_logger_ins.config\n",
    "    loc_per_set = [['12',\n",
    "                      '14',\n",
    "                      '27',\n",
    "                      '49',\n",
    "                      '31',\n",
    "                      '39',\n",
    "                      '44',\n",
    "                      '45',\n",
    "                      '48',\n",
    "                      '19',\n",
    "                      '16',\n",
    "                      '21',\n",
    "                      '38',\n",
    "                      '41',\n",
    "                      '20',\n",
    "                      '29',\n",
    "                      '37',\n",
    "                      '15'],\n",
    "                     ['17', '46', '50', '32', '33', '25', '40'],\n",
    "                     ['11', '18', '34', '24', '13', '22', '36', '47', '30']]\n",
    "\n",
    "    target_taxo = ['1.0.0','1.1.0','1.1.10','1.1.7','0.0.0','1.3.0','1.1.8','0.2.0','3.0.0']\n",
    "    # 0.0.0 anthrophony\n",
    "    # 0.2.0 aircraft\n",
    "    # 1.0.0 biophony\n",
    "    # 1.1.0 bird\n",
    "    # 1.1.10 songbirds\n",
    "    # 1.1.7 duck-goose-swan\n",
    "    # 1.3.0 insect\n",
    "    # 1.1.8 grouse-ptarmigan\n",
    "    # 3.0.0 silence\n",
    "\n",
    "    audio_dataset, _ = run.prepare_dataset()\n",
    "    audio_dataset = run.dataset_generate_samples(audio_dataset,\n",
    "                                         runconfigs.EXCERPT_LENGTH)\n",
    "\n",
    "    other_taxo = set()\n",
    "    for sound_ins in audio_dataset.values():\n",
    "        if sound_ins.taxo_code not in target_taxo:\n",
    "            other_taxo.add(sound_ins.taxo_code)\n",
    "    other_taxo = list(other_taxo)\n",
    "\n",
    "    x_data, y_data, location_id_info = run.put_samples_into_array(\n",
    "            target_taxo, other_taxo, audio_dataset)\n",
    "\n",
    "    #     onehot_encoded = create_one_hot_vector(target_taxo, y_data)\n",
    "    multi_label_vector=create_multi_label_vector(target_taxo, y_data)\n",
    "\n",
    "\n",
    "    X_train, X_test, X_val, y_train, y_test, y_val = run.split_train_test_val(\n",
    "        x_data, location_id_info, multi_label_vector, loc_per_set)\n",
    "\n",
    "    model, optimizer, dataloaders, metrics, criterion = run.prepare_run_inputs(\n",
    "        config, X_train, X_test, X_val, y_train, y_test, y_val)\n",
    "\n",
    "    print('ready ?')\n",
    "    checkpoints_dir = runconfigs.EXP_DIR / 'checkpoints'\n",
    "    checkpoints_dir.mkdir(exist_ok=True)\n",
    "\n",
    "    runutils.run(model, dataloaders, optimizer, criterion, metrics,\n",
    "                 config['device'], config, runconfigs.PROJECT_NAME, checkpoints_dir = checkpoints_dir,wandb_logger_ins=wandb_logger_ins)\n"
   ]
  },
  {
   "cell_type": "code",
   "execution_count": 5,
   "metadata": {},
   "outputs": [],
   "source": [
    "from ignite.contrib.handlers import wandb_logger\n"
   ]
  },
  {
   "cell_type": "code",
   "execution_count": null,
   "metadata": {},
   "outputs": [],
   "source": []
  },
  {
   "cell_type": "code",
   "execution_count": 6,
   "metadata": {},
   "outputs": [
    {
     "name": "stderr",
     "output_type": "stream",
     "text": [
      "Failed to query for notebook name, you can set it manually with the WANDB_NOTEBOOK_NAME environment variable\n",
      "\u001b[34m\u001b[1mwandb\u001b[0m: Currently logged in as: \u001b[33menisberk\u001b[0m (use `wandb login --relogin` to force relogin)\n",
      "\u001b[34m\u001b[1mwandb\u001b[0m: wandb version 0.10.19 is available!  To upgrade, please run:\n",
      "\u001b[34m\u001b[1mwandb\u001b[0m:  $ pip install wandb --upgrade\n"
     ]
    },
    {
     "data": {
      "text/html": [
       "\n",
       "                Tracking run with wandb version 0.10.15<br/>\n",
       "                Syncing run <strong style=\"color:#cdcd00\">vivid-shape-1025</strong> to <a href=\"https://wandb.ai\" target=\"_blank\">Weights & Biases</a> <a href=\"https://docs.wandb.com/integrations/jupyter.html\" target=\"_blank\">(Documentation)</a>.<br/>\n",
       "                Project page: <a href=\"https://wandb.ai/enisberk/megan\" target=\"_blank\">https://wandb.ai/enisberk/megan</a><br/>\n",
       "                Run page: <a href=\"https://wandb.ai/enisberk/megan/runs/8ngfjhi2\" target=\"_blank\">https://wandb.ai/enisberk/megan/runs/8ngfjhi2</a><br/>\n",
       "                Run data is saved locally in <code>/home/enis/projects/nna/src/nna/exp/megan/run-3/wandb/run-20210220_041247-8ngfjhi2</code><br/><br/>\n",
       "            "
      ],
      "text/plain": [
       "<IPython.core.display.HTML object>"
      ]
     },
     "metadata": {},
     "output_type": "display_data"
    },
    {
     "name": "stdout",
     "output_type": "stream",
     "text": [
      "/scratch/enis/data/nna/labeling/megan/AudioSamplesPerSite/meganLabeledFiles_wlenV1.txt\n",
      "/scratch/enis/data/nna/labeling/megan/AudioSamplesPerSite\n",
      "4 files are missing corresponding to excell entries\n",
      "'-> 5 number of samples are DELETED due to ignore_files and missing_audio_files'\n",
      "-> 415 samples DELETED because they are not in the excell\n",
      "\n",
      "-> 0 samples DELETED because they do not have the taxo info coming from excell\n",
      "\n",
      "-> classes that do not have enough data:\n",
      "[REMOVED!]\n",
      "\n",
      "-> classes that have enough data:\n",
      "['other-biophony'] 56.0\n",
      "['other-insect'] 140.0\n",
      "['other-bird'] 661.0\n",
      "['songbirds'] 392.0\n",
      "['duck-goose-swan'] 183.0\n",
      "['grouse-ptarmigan'] 59.0\n",
      "['other-anthrophony'] 66.0\n",
      "['other-mammal'] 0.0\n",
      "['other-silence'] 20.0\n",
      "['unknown-sound'] 2.0\n",
      "['other-aircraft'] 107.0\n",
      "['seabirds'] 1.0\n",
      "['canids'] 1.0\n",
      "['loons'] 29.0\n",
      "['other-car'] 37.0\n",
      "['other-flare'] 11.0\n",
      "['other-rain'] 20.0\n",
      "('-> 0 number of samples are deleted because their taxonomy category does not '\n",
      " 'have enough data.')\n",
      "-> classes that do not have enough data\n",
      "will be REMOVED!\n",
      "-> 97 number of samples are deleted because their length is not long enough.\n",
      "loading from cache at /scratch/enis/data/nna/labeling/megan/AudioSamplesPerSite/files_as_np_filtered_v3_int16.pkl\n"
     ]
    },
    {
     "name": "stderr",
     "output_type": "stream",
     "text": [
      "2021-02-20 04:13:08,084 Trainer INFO: Engine run starting with max_epochs=150.\n"
     ]
    },
    {
     "name": "stdout",
     "output_type": "stream",
     "text": [
      "ready ?\n"
     ]
    },
    {
     "name": "stderr",
     "output_type": "stream",
     "text": [
      "/scratch/enis/conda/envs/soundenv3/lib/python3.7/site-packages/torch/functional.py:516: UserWarning: stft will require the return_complex parameter be explicitly  specified in a future PyTorch release. Use return_complex=False  to preserve the current behavior or return_complex=True to return  a complex output. (Triggered internally at  /opt/conda/conda-bld/pytorch_1607370141920/work/aten/src/ATen/native/SpectralOps.cpp:653.)\n",
      "  normalized, onesided, return_complex)\n",
      "/scratch/enis/conda/envs/soundenv3/lib/python3.7/site-packages/torch/functional.py:516: UserWarning: The function torch.rfft is deprecated and will be removed in a future PyTorch release. Use the new torch.fft module functions, instead, by importing torch.fft and calling torch.fft.fft or torch.fft.rfft. (Triggered internally at  /opt/conda/conda-bld/pytorch_1607370141920/work/aten/src/ATen/native/SpectralOps.cpp:590.)\n",
      "  normalized, onesided, return_complex)\n",
      "2021-02-20 04:13:41,189 Train Evaluator INFO: Engine run starting with max_epochs=1.\n",
      "2021-02-20 04:14:09,496 Train Evaluator INFO: Epoch[1] Complete. Time taken: 00:00:28\n",
      "2021-02-20 04:14:09,501 Train Evaluator INFO: Engine run complete. Time taken: 00:00:28\n",
      "2021-02-20 04:14:09,503 Val Evaluator INFO: Engine run starting with max_epochs=1.\n",
      "2021-02-20 04:14:16,808 Val Evaluator INFO: Epoch[1] Complete. Time taken: 00:00:07\n",
      "2021-02-20 04:14:35,158 Val Evaluator INFO: Engine run complete. Time taken: 00:00:26\n",
      "\u001b[34m\u001b[1mwandb\u001b[0m: \u001b[33mWARNING\u001b[0m Step must only increase in log calls.  Step 1 < 34; dropping {'lr/group_0': 0.001}.\n",
      "2021-02-20 04:14:35,173 Trainer INFO: Epoch[1] Complete. Time taken: 00:01:27\n"
     ]
    },
    {
     "name": "stdout",
     "output_type": "stream",
     "text": [
      "train loss 253.07202280500013\n",
      "val loss 185.03343095812193\n",
      "validation roc auc [0.59673913 0.50381839 0.47568847 0.40158221 0.43392998 0.61284722\n",
      " 0.81134259 0.38595779 0.80633803] 1\n",
      "train roc auc [0.55477522 0.58589408 0.55074174 0.75894707 0.40136991 0.6426754\n",
      " 0.46797466 0.47322208 0.78782065] 1\n"
     ]
    },
    {
     "name": "stderr",
     "output_type": "stream",
     "text": [
      "2021-02-20 04:15:06,777 Train Evaluator INFO: Engine run starting with max_epochs=1.\n",
      "2021-02-20 04:15:33,529 Train Evaluator INFO: Epoch[1] Complete. Time taken: 00:00:27\n",
      "2021-02-20 04:15:33,533 Train Evaluator INFO: Engine run complete. Time taken: 00:00:27\n",
      "2021-02-20 04:15:33,534 Val Evaluator INFO: Engine run starting with max_epochs=1.\n",
      "2021-02-20 04:15:40,998 Val Evaluator INFO: Epoch[1] Complete. Time taken: 00:00:07\n",
      "2021-02-20 04:15:57,812 Val Evaluator INFO: Engine run complete. Time taken: 00:00:24\n",
      "\u001b[34m\u001b[1mwandb\u001b[0m: \u001b[33mWARNING\u001b[0m Step must only increase in log calls.  Step 2 < 68; dropping {'lr/group_0': 0.001}.\n",
      "2021-02-20 04:15:57,831 Trainer INFO: Epoch[2] Complete. Time taken: 00:01:23\n"
     ]
    },
    {
     "name": "stdout",
     "output_type": "stream",
     "text": [
      "train loss 0.6477018445574827\n",
      "val loss 0.6498952219166707\n",
      "validation roc auc [0.5 0.5 0.5 0.5 0.5 0.5 0.5 0.5 0.5] 2\n",
      "train roc auc [0.5 0.5 0.5 0.5 0.5 0.5 0.5 0.5 0.5] 2\n"
     ]
    },
    {
     "name": "stderr",
     "output_type": "stream",
     "text": [
      "2021-02-20 04:16:28,194 Train Evaluator INFO: Engine run starting with max_epochs=1.\n",
      "2021-02-20 04:16:54,051 Train Evaluator INFO: Epoch[1] Complete. Time taken: 00:00:26\n",
      "2021-02-20 04:16:54,054 Train Evaluator INFO: Engine run complete. Time taken: 00:00:26\n",
      "2021-02-20 04:16:54,055 Val Evaluator INFO: Engine run starting with max_epochs=1.\n",
      "2021-02-20 04:17:02,094 Val Evaluator INFO: Epoch[1] Complete. Time taken: 00:00:08\n",
      "2021-02-20 04:17:20,144 Val Evaluator INFO: Engine run complete. Time taken: 00:00:26\n",
      "\u001b[34m\u001b[1mwandb\u001b[0m: \u001b[33mWARNING\u001b[0m Step must only increase in log calls.  Step 3 < 102; dropping {'lr/group_0': 0.001}.\n",
      "2021-02-20 04:17:20,161 Trainer INFO: Epoch[3] Complete. Time taken: 00:01:22\n"
     ]
    },
    {
     "name": "stdout",
     "output_type": "stream",
     "text": [
      "train loss 0.6340694595924632\n",
      "val loss 0.6359199961436164\n",
      "validation roc auc [0.5 0.5 0.5 0.5 0.5 0.5 0.5 0.5 0.5] 3\n",
      "train roc auc [0.5 0.5 0.5 0.5 0.5 0.5 0.5 0.5 0.5] 3\n"
     ]
    },
    {
     "name": "stderr",
     "output_type": "stream",
     "text": [
      "2021-02-20 04:17:50,090 Train Evaluator INFO: Engine run starting with max_epochs=1.\n",
      "2021-02-20 04:18:14,789 Train Evaluator INFO: Epoch[1] Complete. Time taken: 00:00:25\n",
      "2021-02-20 04:18:14,792 Train Evaluator INFO: Engine run complete. Time taken: 00:00:25\n",
      "2021-02-20 04:18:14,793 Val Evaluator INFO: Engine run starting with max_epochs=1.\n",
      "2021-02-20 04:18:21,806 Val Evaluator INFO: Epoch[1] Complete. Time taken: 00:00:07\n",
      "2021-02-20 04:18:21,807 Val Evaluator INFO: Engine run complete. Time taken: 00:00:07\n",
      "\u001b[34m\u001b[1mwandb\u001b[0m: \u001b[33mWARNING\u001b[0m Step must only increase in log calls.  Step 4 < 136; dropping {'lr/group_0': 0.001}.\n",
      "2021-02-20 04:18:21,817 Trainer INFO: Epoch[4] Complete. Time taken: 00:01:02\n"
     ]
    },
    {
     "name": "stdout",
     "output_type": "stream",
     "text": [
      "train loss 0.6215068937218102\n",
      "val loss 0.6229719284064171\n",
      "validation roc auc [0.5 0.5 0.5 0.5 0.5 0.5 0.5 0.5 0.5] 4\n",
      "train roc auc [0.5 0.5 0.5 0.5 0.5 0.5 0.5 0.5 0.5] 4\n"
     ]
    },
    {
     "name": "stderr",
     "output_type": "stream",
     "text": [
      "2021-02-20 04:18:50,474 Train Evaluator INFO: Engine run starting with max_epochs=1.\n",
      "2021-02-20 04:19:18,351 Train Evaluator INFO: Epoch[1] Complete. Time taken: 00:00:28\n",
      "2021-02-20 04:19:18,354 Train Evaluator INFO: Engine run complete. Time taken: 00:00:28\n",
      "2021-02-20 04:19:18,356 Val Evaluator INFO: Engine run starting with max_epochs=1.\n",
      "2021-02-20 04:19:26,062 Val Evaluator INFO: Epoch[1] Complete. Time taken: 00:00:08\n",
      "2021-02-20 04:19:26,066 Val Evaluator INFO: Engine run complete. Time taken: 00:00:08\n",
      "\u001b[34m\u001b[1mwandb\u001b[0m: \u001b[33mWARNING\u001b[0m Step must only increase in log calls.  Step 5 < 170; dropping {'lr/group_0': 0.001}.\n",
      "2021-02-20 04:19:26,074 Trainer INFO: Epoch[5] Complete. Time taken: 00:01:04\n"
     ]
    },
    {
     "name": "stdout",
     "output_type": "stream",
     "text": [
      "train loss 0.60961451284331\n",
      "val loss 0.6106829391312354\n",
      "validation roc auc [0.5 0.5 0.5 0.5 0.5 0.5 0.5 0.5 0.5] 5\n",
      "train roc auc [0.5 0.5 0.5 0.5 0.5 0.5 0.5 0.5 0.5] 5\n"
     ]
    },
    {
     "name": "stderr",
     "output_type": "stream",
     "text": [
      "2021-02-20 04:19:56,003 Train Evaluator INFO: Engine run starting with max_epochs=1.\n",
      "2021-02-20 04:20:21,747 Train Evaluator INFO: Epoch[1] Complete. Time taken: 00:00:26\n",
      "2021-02-20 04:20:21,750 Train Evaluator INFO: Engine run complete. Time taken: 00:00:26\n",
      "2021-02-20 04:20:21,752 Val Evaluator INFO: Engine run starting with max_epochs=1.\n",
      "2021-02-20 04:20:28,859 Val Evaluator INFO: Epoch[1] Complete. Time taken: 00:00:07\n",
      "2021-02-20 04:20:28,861 Val Evaluator INFO: Engine run complete. Time taken: 00:00:07\n",
      "\u001b[34m\u001b[1mwandb\u001b[0m: \u001b[33mWARNING\u001b[0m Step must only increase in log calls.  Step 6 < 204; dropping {'lr/group_0': 0.001}.\n",
      "2021-02-20 04:20:28,870 Trainer INFO: Epoch[6] Complete. Time taken: 00:01:03\n"
     ]
    },
    {
     "name": "stdout",
     "output_type": "stream",
     "text": [
      "train loss 0.5983846060178079\n",
      "val loss 0.599049010227636\n",
      "validation roc auc [0.5 0.5 0.5 0.5 0.5 0.5 0.5 0.5 0.5] 6\n",
      "train roc auc [0.5 0.5 0.5 0.5 0.5 0.5 0.5 0.5 0.5] 6\n"
     ]
    },
    {
     "name": "stderr",
     "output_type": "stream",
     "text": [
      "2021-02-20 04:20:59,774 Train Evaluator INFO: Engine run starting with max_epochs=1.\n",
      "2021-02-20 04:21:24,176 Train Evaluator INFO: Epoch[1] Complete. Time taken: 00:00:24\n",
      "2021-02-20 04:21:24,180 Train Evaluator INFO: Engine run complete. Time taken: 00:00:24\n",
      "2021-02-20 04:21:24,181 Val Evaluator INFO: Engine run starting with max_epochs=1.\n",
      "2021-02-20 04:21:32,233 Val Evaluator INFO: Epoch[1] Complete. Time taken: 00:00:08\n",
      "2021-02-20 04:21:32,236 Val Evaluator INFO: Engine run complete. Time taken: 00:00:08\n",
      "\u001b[34m\u001b[1mwandb\u001b[0m: \u001b[33mWARNING\u001b[0m Step must only increase in log calls.  Step 7 < 238; dropping {'lr/group_0': 0.001}.\n",
      "2021-02-20 04:21:32,245 Trainer INFO: Epoch[7] Complete. Time taken: 00:01:03\n"
     ]
    },
    {
     "name": "stdout",
     "output_type": "stream",
     "text": [
      "train loss 0.587630664842345\n",
      "val loss 0.5878769845487326\n",
      "validation roc auc [0.5 0.5 0.5 0.5 0.5 0.5 0.5 0.5 0.5] 7\n",
      "train roc auc [0.5 0.5 0.5 0.5 0.5 0.5 0.5 0.5 0.5] 7\n"
     ]
    },
    {
     "name": "stderr",
     "output_type": "stream",
     "text": [
      "2021-02-20 04:22:03,554 Train Evaluator INFO: Engine run starting with max_epochs=1.\n",
      "2021-02-20 04:22:29,575 Train Evaluator INFO: Epoch[1] Complete. Time taken: 00:00:26\n",
      "2021-02-20 04:22:29,578 Train Evaluator INFO: Engine run complete. Time taken: 00:00:26\n",
      "2021-02-20 04:22:29,579 Val Evaluator INFO: Engine run starting with max_epochs=1.\n",
      "2021-02-20 04:22:36,733 Val Evaluator INFO: Epoch[1] Complete. Time taken: 00:00:07\n",
      "2021-02-20 04:22:36,736 Val Evaluator INFO: Engine run complete. Time taken: 00:00:07\n",
      "\u001b[34m\u001b[1mwandb\u001b[0m: \u001b[33mWARNING\u001b[0m Step must only increase in log calls.  Step 8 < 272; dropping {'lr/group_0': 0.001}.\n",
      "2021-02-20 04:22:36,744 Trainer INFO: Epoch[8] Complete. Time taken: 00:01:04\n"
     ]
    },
    {
     "name": "stdout",
     "output_type": "stream",
     "text": [
      "train loss 0.5772590893277038\n",
      "val loss 0.5770897863247141\n",
      "validation roc auc [0.5 0.5 0.5 0.5 0.5 0.5 0.5 0.5 0.5] 8\n",
      "train roc auc [0.5 0.5 0.5 0.5 0.5 0.5 0.5 0.5 0.5] 8\n"
     ]
    },
    {
     "name": "stderr",
     "output_type": "stream",
     "text": [
      "2021-02-20 04:23:06,947 Train Evaluator INFO: Engine run starting with max_epochs=1.\n",
      "2021-02-20 04:23:32,257 Train Evaluator INFO: Epoch[1] Complete. Time taken: 00:00:25\n",
      "2021-02-20 04:23:32,261 Train Evaluator INFO: Engine run complete. Time taken: 00:00:25\n",
      "2021-02-20 04:23:32,262 Val Evaluator INFO: Engine run starting with max_epochs=1.\n",
      "2021-02-20 04:23:40,325 Val Evaluator INFO: Epoch[1] Complete. Time taken: 00:00:08\n",
      "2021-02-20 04:23:40,328 Val Evaluator INFO: Engine run complete. Time taken: 00:00:08\n",
      "\u001b[34m\u001b[1mwandb\u001b[0m: \u001b[33mWARNING\u001b[0m Step must only increase in log calls.  Step 9 < 306; dropping {'lr/group_0': 0.001}.\n",
      "2021-02-20 04:23:40,336 Trainer INFO: Epoch[9] Complete. Time taken: 00:01:04\n"
     ]
    },
    {
     "name": "stdout",
     "output_type": "stream",
     "text": [
      "train loss 0.5672589761124412\n",
      "val loss 0.5666711256676114\n",
      "validation roc auc [0.5 0.5 0.5 0.5 0.5 0.5 0.5 0.5 0.5] 9\n",
      "train roc auc [0.5 0.5 0.5 0.5 0.5 0.5 0.5 0.5 0.5] 9\n"
     ]
    },
    {
     "name": "stderr",
     "output_type": "stream",
     "text": [
      "2021-02-20 04:24:10,975 Train Evaluator INFO: Engine run starting with max_epochs=1.\n",
      "2021-02-20 04:24:35,974 Train Evaluator INFO: Epoch[1] Complete. Time taken: 00:00:25\n",
      "2021-02-20 04:24:35,977 Train Evaluator INFO: Engine run complete. Time taken: 00:00:25\n",
      "2021-02-20 04:24:35,978 Val Evaluator INFO: Engine run starting with max_epochs=1.\n",
      "2021-02-20 04:24:43,065 Val Evaluator INFO: Epoch[1] Complete. Time taken: 00:00:07\n",
      "2021-02-20 04:24:43,066 Val Evaluator INFO: Engine run complete. Time taken: 00:00:07\n",
      "\u001b[34m\u001b[1mwandb\u001b[0m: \u001b[33mWARNING\u001b[0m Step must only increase in log calls.  Step 10 < 340; dropping {'lr/group_0': 0.001}.\n",
      "2021-02-20 04:24:43,076 Trainer INFO: Epoch[10] Complete. Time taken: 00:01:03\n"
     ]
    },
    {
     "name": "stdout",
     "output_type": "stream",
     "text": [
      "train loss 0.5577050052171455\n",
      "val loss 0.5566916332621754\n",
      "validation roc auc [0.5 0.5 0.5 0.5 0.5 0.5 0.5 0.5 0.5] 10\n",
      "train roc auc [0.5 0.5 0.5 0.5 0.5 0.5 0.5 0.5 0.5] 10\n"
     ]
    },
    {
     "name": "stderr",
     "output_type": "stream",
     "text": [
      "2021-02-20 04:25:13,286 Train Evaluator INFO: Engine run starting with max_epochs=1.\n",
      "2021-02-20 04:25:41,039 Train Evaluator INFO: Epoch[1] Complete. Time taken: 00:00:28\n",
      "2021-02-20 04:25:41,042 Train Evaluator INFO: Engine run complete. Time taken: 00:00:28\n",
      "2021-02-20 04:25:41,043 Val Evaluator INFO: Engine run starting with max_epochs=1.\n",
      "2021-02-20 04:25:48,175 Val Evaluator INFO: Epoch[1] Complete. Time taken: 00:00:07\n",
      "2021-02-20 04:25:48,177 Val Evaluator INFO: Engine run complete. Time taken: 00:00:07\n",
      "\u001b[34m\u001b[1mwandb\u001b[0m: \u001b[33mWARNING\u001b[0m Step must only increase in log calls.  Step 11 < 374; dropping {'lr/group_0': 0.001}.\n",
      "2021-02-20 04:25:48,187 Trainer INFO: Epoch[11] Complete. Time taken: 00:01:05\n"
     ]
    },
    {
     "name": "stdout",
     "output_type": "stream",
     "text": [
      "train loss 0.5484920372182311\n",
      "val loss 0.5470599327300423\n",
      "validation roc auc [0.5 0.5 0.5 0.5 0.5 0.5 0.5 0.5 0.5] 11\n",
      "train roc auc [0.5 0.5 0.5 0.5 0.5 0.5 0.5 0.5 0.5] 11\n"
     ]
    },
    {
     "name": "stderr",
     "output_type": "stream",
     "text": [
      "2021-02-20 04:26:16,835 Train Evaluator INFO: Engine run starting with max_epochs=1.\n",
      "2021-02-20 04:26:41,478 Train Evaluator INFO: Epoch[1] Complete. Time taken: 00:00:25\n",
      "2021-02-20 04:26:41,480 Train Evaluator INFO: Engine run complete. Time taken: 00:00:25\n",
      "2021-02-20 04:26:41,481 Val Evaluator INFO: Engine run starting with max_epochs=1.\n",
      "2021-02-20 04:26:50,019 Val Evaluator INFO: Epoch[1] Complete. Time taken: 00:00:09\n",
      "2021-02-20 04:26:50,021 Val Evaluator INFO: Engine run complete. Time taken: 00:00:09\n",
      "\u001b[34m\u001b[1mwandb\u001b[0m: \u001b[33mWARNING\u001b[0m Step must only increase in log calls.  Step 12 < 408; dropping {'lr/group_0': 0.001}.\n",
      "2021-02-20 04:26:50,028 Trainer INFO: Epoch[12] Complete. Time taken: 00:01:02\n"
     ]
    },
    {
     "name": "stdout",
     "output_type": "stream",
     "text": [
      "train loss 0.5396163809162733\n",
      "val loss 0.5377759794189348\n",
      "validation roc auc [0.5 0.5 0.5 0.5 0.5 0.5 0.5 0.5 0.5] 12\n",
      "train roc auc [0.5 0.5 0.5 0.5 0.5 0.5 0.5 0.5 0.5] 12\n"
     ]
    },
    {
     "name": "stderr",
     "output_type": "stream",
     "text": [
      "2021-02-20 04:27:19,669 Train Evaluator INFO: Engine run starting with max_epochs=1.\n",
      "2021-02-20 04:27:49,266 Train Evaluator INFO: Epoch[1] Complete. Time taken: 00:00:30\n",
      "2021-02-20 04:27:49,269 Train Evaluator INFO: Engine run complete. Time taken: 00:00:30\n",
      "2021-02-20 04:27:49,270 Val Evaluator INFO: Engine run starting with max_epochs=1.\n",
      "2021-02-20 04:27:56,715 Val Evaluator INFO: Epoch[1] Complete. Time taken: 00:00:07\n",
      "2021-02-20 04:27:56,716 Val Evaluator INFO: Engine run complete. Time taken: 00:00:07\n",
      "\u001b[34m\u001b[1mwandb\u001b[0m: \u001b[33mWARNING\u001b[0m Step must only increase in log calls.  Step 13 < 442; dropping {'lr/group_0': 0.001}.\n",
      "2021-02-20 04:27:56,724 Trainer INFO: Epoch[13] Complete. Time taken: 00:01:07\n"
     ]
    },
    {
     "name": "stdout",
     "output_type": "stream",
     "text": [
      "train loss 0.5310947200180467\n",
      "val loss 0.5288582823120851\n",
      "validation roc auc [0.5 0.5 0.5 0.5 0.5 0.5 0.5 0.5 0.5] 13\n",
      "train roc auc [0.5 0.5 0.5 0.5 0.5 0.5 0.5 0.5 0.5] 13\n"
     ]
    },
    {
     "name": "stderr",
     "output_type": "stream",
     "text": [
      "2021-02-20 04:28:26,444 Train Evaluator INFO: Engine run starting with max_epochs=1.\n",
      "2021-02-20 04:28:50,177 Train Evaluator INFO: Epoch[1] Complete. Time taken: 00:00:24\n",
      "2021-02-20 04:28:50,180 Train Evaluator INFO: Engine run complete. Time taken: 00:00:24\n",
      "2021-02-20 04:28:50,181 Val Evaluator INFO: Engine run starting with max_epochs=1.\n",
      "2021-02-20 04:28:57,693 Val Evaluator INFO: Epoch[1] Complete. Time taken: 00:00:08\n",
      "2021-02-20 04:28:57,696 Val Evaluator INFO: Engine run complete. Time taken: 00:00:08\n",
      "\u001b[34m\u001b[1mwandb\u001b[0m: \u001b[33mWARNING\u001b[0m Step must only increase in log calls.  Step 14 < 476; dropping {'lr/group_0': 0.001}.\n",
      "2021-02-20 04:28:57,704 Trainer INFO: Epoch[14] Complete. Time taken: 00:01:01\n"
     ]
    },
    {
     "name": "stdout",
     "output_type": "stream",
     "text": [
      "train loss 0.5229606514056606\n",
      "val loss 0.5203044382772085\n",
      "validation roc auc [0.5 0.5 0.5 0.5 0.5 0.5 0.5 0.5 0.5] 14\n",
      "train roc auc [0.5 0.5 0.5 0.5 0.5 0.5 0.5 0.5 0.5] 14\n"
     ]
    },
    {
     "name": "stderr",
     "output_type": "stream",
     "text": [
      "2021-02-20 04:29:28,333 Train Evaluator INFO: Engine run starting with max_epochs=1.\n",
      "2021-02-20 04:29:53,671 Train Evaluator INFO: Epoch[1] Complete. Time taken: 00:00:25\n",
      "2021-02-20 04:29:53,674 Train Evaluator INFO: Engine run complete. Time taken: 00:00:25\n",
      "2021-02-20 04:29:53,675 Val Evaluator INFO: Engine run starting with max_epochs=1.\n",
      "2021-02-20 04:30:00,889 Val Evaluator INFO: Epoch[1] Complete. Time taken: 00:00:07\n",
      "2021-02-20 04:30:00,890 Val Evaluator INFO: Engine run complete. Time taken: 00:00:07\n",
      "\u001b[34m\u001b[1mwandb\u001b[0m: \u001b[33mWARNING\u001b[0m Step must only increase in log calls.  Step 15 < 510; dropping {'lr/group_0': 0.001}.\n",
      "2021-02-20 04:30:00,951 Trainer INFO: Epoch[15] Complete. Time taken: 00:01:03\n"
     ]
    },
    {
     "name": "stdout",
     "output_type": "stream",
     "text": [
      "train loss 0.5150984231075728\n",
      "val loss 0.5120594946993995\n",
      "validation roc auc [0.5 0.5 0.5 0.5 0.5 0.5 0.5 0.5 0.5] 15\n",
      "train roc auc [0.5 0.5 0.5 0.5 0.5 0.5 0.5 0.5 0.5] 15\n"
     ]
    },
    {
     "name": "stderr",
     "output_type": "stream",
     "text": [
      "2021-02-20 04:30:30,705 Train Evaluator INFO: Engine run starting with max_epochs=1.\n",
      "2021-02-20 04:30:55,341 Train Evaluator INFO: Epoch[1] Complete. Time taken: 00:00:25\n",
      "2021-02-20 04:30:55,344 Train Evaluator INFO: Engine run complete. Time taken: 00:00:25\n",
      "2021-02-20 04:30:55,345 Val Evaluator INFO: Engine run starting with max_epochs=1.\n",
      "2021-02-20 04:31:02,485 Val Evaluator INFO: Epoch[1] Complete. Time taken: 00:00:07\n",
      "2021-02-20 04:31:02,487 Val Evaluator INFO: Engine run complete. Time taken: 00:00:07\n",
      "\u001b[34m\u001b[1mwandb\u001b[0m: \u001b[33mWARNING\u001b[0m Step must only increase in log calls.  Step 16 < 544; dropping {'lr/group_0': 0.001}.\n",
      "2021-02-20 04:31:02,495 Trainer INFO: Epoch[16] Complete. Time taken: 00:01:02\n"
     ]
    },
    {
     "name": "stdout",
     "output_type": "stream",
     "text": [
      "train loss 0.5075765717638671\n",
      "val loss 0.5041462034499112\n",
      "validation roc auc [0.5 0.5 0.5 0.5 0.5 0.5 0.5 0.5 0.5] 16\n",
      "train roc auc [0.5 0.5 0.5 0.5 0.5 0.5 0.5 0.5 0.5] 16\n"
     ]
    },
    {
     "name": "stderr",
     "output_type": "stream",
     "text": [
      "2021-02-20 04:31:33,566 Train Evaluator INFO: Engine run starting with max_epochs=1.\n",
      "2021-02-20 04:31:59,119 Train Evaluator INFO: Epoch[1] Complete. Time taken: 00:00:26\n",
      "2021-02-20 04:31:59,122 Train Evaluator INFO: Engine run complete. Time taken: 00:00:26\n",
      "2021-02-20 04:31:59,123 Val Evaluator INFO: Engine run starting with max_epochs=1.\n",
      "2021-02-20 04:32:06,323 Val Evaluator INFO: Epoch[1] Complete. Time taken: 00:00:07\n",
      "2021-02-20 04:32:06,326 Val Evaluator INFO: Engine run complete. Time taken: 00:00:07\n",
      "\u001b[34m\u001b[1mwandb\u001b[0m: \u001b[33mWARNING\u001b[0m Step must only increase in log calls.  Step 17 < 578; dropping {'lr/group_0': 0.001}.\n",
      "2021-02-20 04:32:06,335 Trainer INFO: Epoch[17] Complete. Time taken: 00:01:04\n"
     ]
    },
    {
     "name": "stdout",
     "output_type": "stream",
     "text": [
      "train loss 0.5002482780823494\n",
      "val loss 0.49644461622352865\n",
      "validation roc auc [0.5 0.5 0.5 0.5 0.5 0.5 0.5 0.5 0.5] 17\n",
      "train roc auc [0.5 0.5 0.5 0.5 0.5 0.5 0.5 0.5 0.5] 17\n"
     ]
    },
    {
     "name": "stderr",
     "output_type": "stream",
     "text": [
      "2021-02-20 04:32:36,444 Train Evaluator INFO: Engine run starting with max_epochs=1.\n",
      "2021-02-20 04:33:01,123 Train Evaluator INFO: Epoch[1] Complete. Time taken: 00:00:25\n",
      "2021-02-20 04:33:01,127 Train Evaluator INFO: Engine run complete. Time taken: 00:00:25\n",
      "2021-02-20 04:33:01,128 Val Evaluator INFO: Engine run starting with max_epochs=1.\n",
      "2021-02-20 04:33:09,481 Val Evaluator INFO: Epoch[1] Complete. Time taken: 00:00:08\n",
      "2021-02-20 04:33:09,482 Val Evaluator INFO: Engine run complete. Time taken: 00:00:08\n",
      "\u001b[34m\u001b[1mwandb\u001b[0m: \u001b[33mWARNING\u001b[0m Step must only increase in log calls.  Step 18 < 612; dropping {'lr/group_0': 0.001}.\n",
      "2021-02-20 04:33:09,491 Trainer INFO: Epoch[18] Complete. Time taken: 00:01:03\n"
     ]
    },
    {
     "name": "stdout",
     "output_type": "stream",
     "text": [
      "train loss 0.4931959038108929\n",
      "val loss 0.4890096562424886\n",
      "validation roc auc [0.5 0.5 0.5 0.5 0.5 0.5 0.5 0.5 0.5] 18\n",
      "train roc auc [0.5 0.5 0.5 0.5 0.5 0.5 0.5 0.5 0.5] 18\n"
     ]
    },
    {
     "name": "stderr",
     "output_type": "stream",
     "text": [
      "2021-02-20 04:33:39,629 Train Evaluator INFO: Engine run starting with max_epochs=1.\n",
      "2021-02-20 04:34:05,685 Train Evaluator INFO: Epoch[1] Complete. Time taken: 00:00:26\n",
      "2021-02-20 04:34:05,688 Train Evaluator INFO: Engine run complete. Time taken: 00:00:26\n",
      "2021-02-20 04:34:05,689 Val Evaluator INFO: Engine run starting with max_epochs=1.\n",
      "2021-02-20 04:34:12,926 Val Evaluator INFO: Epoch[1] Complete. Time taken: 00:00:07\n",
      "2021-02-20 04:34:12,928 Val Evaluator INFO: Engine run complete. Time taken: 00:00:07\n",
      "\u001b[34m\u001b[1mwandb\u001b[0m: \u001b[33mWARNING\u001b[0m Step must only increase in log calls.  Step 19 < 646; dropping {'lr/group_0': 0.001}.\n",
      "2021-02-20 04:34:12,934 Trainer INFO: Epoch[19] Complete. Time taken: 00:01:03\n"
     ]
    },
    {
     "name": "stdout",
     "output_type": "stream",
     "text": [
      "train loss 0.4865061447133113\n",
      "val loss 0.48195266959183813\n",
      "validation roc auc [0.5 0.5 0.5 0.5 0.5 0.5 0.5 0.5 0.5] 19\n",
      "train roc auc [0.5 0.5 0.5 0.5 0.5 0.5 0.5 0.5 0.5] 19\n"
     ]
    },
    {
     "name": "stderr",
     "output_type": "stream",
     "text": [
      "2021-02-20 04:34:43,471 Train Evaluator INFO: Engine run starting with max_epochs=1.\n",
      "2021-02-20 04:35:08,904 Train Evaluator INFO: Epoch[1] Complete. Time taken: 00:00:25\n",
      "2021-02-20 04:35:08,906 Train Evaluator INFO: Engine run complete. Time taken: 00:00:25\n",
      "2021-02-20 04:35:08,907 Val Evaluator INFO: Engine run starting with max_epochs=1.\n",
      "2021-02-20 04:35:16,349 Val Evaluator INFO: Epoch[1] Complete. Time taken: 00:00:07\n",
      "2021-02-20 04:35:16,352 Val Evaluator INFO: Engine run complete. Time taken: 00:00:07\n",
      "\u001b[34m\u001b[1mwandb\u001b[0m: \u001b[33mWARNING\u001b[0m Step must only increase in log calls.  Step 20 < 680; dropping {'lr/group_0': 0.001}.\n",
      "2021-02-20 04:35:16,363 Trainer INFO: Epoch[20] Complete. Time taken: 00:01:03\n"
     ]
    },
    {
     "name": "stdout",
     "output_type": "stream",
     "text": [
      "train loss 0.4799588871449698\n",
      "val loss 0.47504028104424884\n",
      "validation roc auc [0.5 0.5 0.5 0.5 0.5 0.5 0.5 0.5 0.5] 20\n",
      "train roc auc [0.5 0.5 0.5 0.5 0.5 0.5 0.5 0.5 0.5] 20\n"
     ]
    },
    {
     "name": "stderr",
     "output_type": "stream",
     "text": [
      "2021-02-20 04:35:46,250 Train Evaluator INFO: Engine run starting with max_epochs=1.\n",
      "2021-02-20 04:36:11,951 Train Evaluator INFO: Epoch[1] Complete. Time taken: 00:00:26\n",
      "2021-02-20 04:36:11,954 Train Evaluator INFO: Engine run complete. Time taken: 00:00:26\n",
      "2021-02-20 04:36:11,955 Val Evaluator INFO: Engine run starting with max_epochs=1.\n",
      "2021-02-20 04:36:20,060 Val Evaluator INFO: Epoch[1] Complete. Time taken: 00:00:08\n",
      "2021-02-20 04:36:20,064 Val Evaluator INFO: Engine run complete. Time taken: 00:00:08\n",
      "\u001b[34m\u001b[1mwandb\u001b[0m: \u001b[33mWARNING\u001b[0m Step must only increase in log calls.  Step 21 < 714; dropping {'lr/group_0': 0.001}.\n",
      "2021-02-20 04:36:20,072 Trainer INFO: Epoch[21] Complete. Time taken: 00:01:04\n"
     ]
    },
    {
     "name": "stdout",
     "output_type": "stream",
     "text": [
      "train loss 0.4737567158884003\n",
      "val loss 0.4685068045489976\n",
      "validation roc auc [0.5 0.5 0.5 0.5 0.5 0.5 0.5 0.5 0.5] 21\n",
      "train roc auc [0.5 0.5 0.5 0.5 0.5 0.5 0.5 0.5 0.5] 21\n"
     ]
    },
    {
     "name": "stderr",
     "output_type": "stream",
     "text": [
      "2021-02-20 04:36:50,459 Train Evaluator INFO: Engine run starting with max_epochs=1.\n",
      "2021-02-20 04:37:15,762 Train Evaluator INFO: Epoch[1] Complete. Time taken: 00:00:25\n",
      "2021-02-20 04:37:15,766 Train Evaluator INFO: Engine run complete. Time taken: 00:00:25\n",
      "2021-02-20 04:37:15,767 Val Evaluator INFO: Engine run starting with max_epochs=1.\n",
      "2021-02-20 04:37:21,965 Val Evaluator ERROR: Engine run is terminating due to exception: .\n",
      "2021-02-20 04:37:21,969 Trainer ERROR: Engine run is terminating due to exception: .\n"
     ]
    },
    {
     "ename": "KeyboardInterrupt",
     "evalue": "",
     "output_type": "error",
     "traceback": [
      "\u001b[0;31m---------------------------------------------------------------------------\u001b[0m",
      "\u001b[0;31mKeyboardInterrupt\u001b[0m                         Traceback (most recent call last)",
      "\u001b[0;32m<ipython-input-6-0ffcb50ad474>\u001b[0m in \u001b[0;36m<module>\u001b[0;34m\u001b[0m\n\u001b[1;32m      9\u001b[0m )\n\u001b[1;32m     10\u001b[0m \u001b[0;34m\u001b[0m\u001b[0m\n\u001b[0;32m---> 11\u001b[0;31m \u001b[0mrun_exp\u001b[0m\u001b[0;34m(\u001b[0m\u001b[0mwandb_logger_ins\u001b[0m\u001b[0;34m)\u001b[0m\u001b[0;34m\u001b[0m\u001b[0;34m\u001b[0m\u001b[0m\n\u001b[0m\u001b[1;32m     12\u001b[0m \u001b[0;31m# return audio_dataset, config\u001b[0m\u001b[0;34m\u001b[0m\u001b[0;34m\u001b[0m\u001b[0;34m\u001b[0m\u001b[0m\n",
      "\u001b[0;32m<ipython-input-4-f778ee462cdb>\u001b[0m in \u001b[0;36mrun_exp\u001b[0;34m(wandb_logger_ins)\u001b[0m\n\u001b[1;32m     63\u001b[0m \u001b[0;34m\u001b[0m\u001b[0m\n\u001b[1;32m     64\u001b[0m     runutils.run(model, dataloaders, optimizer, criterion, metrics,\n\u001b[0;32m---> 65\u001b[0;31m                  config['device'], config, runconfigs.PROJECT_NAME, checkpoints_dir = checkpoints_dir,wandb_logger_ins=wandb_logger_ins)\n\u001b[0m",
      "\u001b[0;32m~/projects/nna/src/nna/exp/runutils.py\u001b[0m in \u001b[0;36mrun\u001b[0;34m(model, dataloaders, optimizer, criterion, metrics, device, config, wandb_project_name, run_name, checkpoints_dir, wandb_logger_ins, taxo_names)\u001b[0m\n\u001b[1;32m    220\u001b[0m \u001b[0;34m\u001b[0m\u001b[0m\n\u001b[1;32m    221\u001b[0m \u001b[0;31m#     kick everything off\u001b[0m\u001b[0;34m\u001b[0m\u001b[0;34m\u001b[0m\u001b[0;34m\u001b[0m\u001b[0m\n\u001b[0;32m--> 222\u001b[0;31m     \u001b[0mtrainer\u001b[0m\u001b[0;34m.\u001b[0m\u001b[0mrun\u001b[0m\u001b[0;34m(\u001b[0m\u001b[0mtrain_loader\u001b[0m\u001b[0;34m,\u001b[0m \u001b[0mmax_epochs\u001b[0m\u001b[0;34m=\u001b[0m\u001b[0mconfig\u001b[0m\u001b[0;34m[\u001b[0m\u001b[0;34m'epochs'\u001b[0m\u001b[0;34m]\u001b[0m\u001b[0;34m)\u001b[0m\u001b[0;34m\u001b[0m\u001b[0;34m\u001b[0m\u001b[0m\n\u001b[0m\u001b[1;32m    223\u001b[0m \u001b[0;34m\u001b[0m\u001b[0m\n\u001b[1;32m    224\u001b[0m     \u001b[0mwandb_logger_ins\u001b[0m\u001b[0;34m.\u001b[0m\u001b[0mclose\u001b[0m\u001b[0;34m(\u001b[0m\u001b[0;34m)\u001b[0m\u001b[0;34m\u001b[0m\u001b[0;34m\u001b[0m\u001b[0m\n",
      "\u001b[0;32m/scratch/enis/conda/envs/soundenv3/lib/python3.7/site-packages/ignite/engine/engine.py\u001b[0m in \u001b[0;36mrun\u001b[0;34m(self, data, max_epochs, epoch_length, seed)\u001b[0m\n\u001b[1;32m    689\u001b[0m \u001b[0;34m\u001b[0m\u001b[0m\n\u001b[1;32m    690\u001b[0m         \u001b[0mself\u001b[0m\u001b[0;34m.\u001b[0m\u001b[0mstate\u001b[0m\u001b[0;34m.\u001b[0m\u001b[0mdataloader\u001b[0m \u001b[0;34m=\u001b[0m \u001b[0mdata\u001b[0m\u001b[0;34m\u001b[0m\u001b[0;34m\u001b[0m\u001b[0m\n\u001b[0;32m--> 691\u001b[0;31m         \u001b[0;32mreturn\u001b[0m \u001b[0mself\u001b[0m\u001b[0;34m.\u001b[0m\u001b[0m_internal_run\u001b[0m\u001b[0;34m(\u001b[0m\u001b[0;34m)\u001b[0m\u001b[0;34m\u001b[0m\u001b[0;34m\u001b[0m\u001b[0m\n\u001b[0m\u001b[1;32m    692\u001b[0m \u001b[0;34m\u001b[0m\u001b[0m\n\u001b[1;32m    693\u001b[0m     \u001b[0;34m@\u001b[0m\u001b[0mstaticmethod\u001b[0m\u001b[0;34m\u001b[0m\u001b[0;34m\u001b[0m\u001b[0m\n",
      "\u001b[0;32m/scratch/enis/conda/envs/soundenv3/lib/python3.7/site-packages/ignite/engine/engine.py\u001b[0m in \u001b[0;36m_internal_run\u001b[0;34m(self)\u001b[0m\n\u001b[1;32m    760\u001b[0m             \u001b[0mself\u001b[0m\u001b[0;34m.\u001b[0m\u001b[0m_dataloader_iter\u001b[0m \u001b[0;34m=\u001b[0m \u001b[0;32mNone\u001b[0m\u001b[0;34m\u001b[0m\u001b[0;34m\u001b[0m\u001b[0m\n\u001b[1;32m    761\u001b[0m             \u001b[0mself\u001b[0m\u001b[0;34m.\u001b[0m\u001b[0mlogger\u001b[0m\u001b[0;34m.\u001b[0m\u001b[0merror\u001b[0m\u001b[0;34m(\u001b[0m\u001b[0;34m\"Engine run is terminating due to exception: %s.\"\u001b[0m\u001b[0;34m,\u001b[0m \u001b[0mstr\u001b[0m\u001b[0;34m(\u001b[0m\u001b[0me\u001b[0m\u001b[0;34m)\u001b[0m\u001b[0;34m)\u001b[0m\u001b[0;34m\u001b[0m\u001b[0;34m\u001b[0m\u001b[0m\n\u001b[0;32m--> 762\u001b[0;31m             \u001b[0mself\u001b[0m\u001b[0;34m.\u001b[0m\u001b[0m_handle_exception\u001b[0m\u001b[0;34m(\u001b[0m\u001b[0me\u001b[0m\u001b[0;34m)\u001b[0m\u001b[0;34m\u001b[0m\u001b[0;34m\u001b[0m\u001b[0m\n\u001b[0m\u001b[1;32m    763\u001b[0m \u001b[0;34m\u001b[0m\u001b[0m\n\u001b[1;32m    764\u001b[0m         \u001b[0mself\u001b[0m\u001b[0;34m.\u001b[0m\u001b[0m_dataloader_iter\u001b[0m \u001b[0;34m=\u001b[0m \u001b[0;32mNone\u001b[0m\u001b[0;34m\u001b[0m\u001b[0;34m\u001b[0m\u001b[0m\n",
      "\u001b[0;32m/scratch/enis/conda/envs/soundenv3/lib/python3.7/site-packages/ignite/engine/engine.py\u001b[0m in \u001b[0;36m_handle_exception\u001b[0;34m(self, e)\u001b[0m\n\u001b[1;32m    465\u001b[0m             \u001b[0mself\u001b[0m\u001b[0;34m.\u001b[0m\u001b[0m_fire_event\u001b[0m\u001b[0;34m(\u001b[0m\u001b[0mEvents\u001b[0m\u001b[0;34m.\u001b[0m\u001b[0mEXCEPTION_RAISED\u001b[0m\u001b[0;34m,\u001b[0m \u001b[0me\u001b[0m\u001b[0;34m)\u001b[0m\u001b[0;34m\u001b[0m\u001b[0;34m\u001b[0m\u001b[0m\n\u001b[1;32m    466\u001b[0m         \u001b[0;32melse\u001b[0m\u001b[0;34m:\u001b[0m\u001b[0;34m\u001b[0m\u001b[0;34m\u001b[0m\u001b[0m\n\u001b[0;32m--> 467\u001b[0;31m             \u001b[0;32mraise\u001b[0m \u001b[0me\u001b[0m\u001b[0;34m\u001b[0m\u001b[0;34m\u001b[0m\u001b[0m\n\u001b[0m\u001b[1;32m    468\u001b[0m \u001b[0;34m\u001b[0m\u001b[0m\n\u001b[1;32m    469\u001b[0m     \u001b[0;34m@\u001b[0m\u001b[0mproperty\u001b[0m\u001b[0;34m\u001b[0m\u001b[0;34m\u001b[0m\u001b[0m\n",
      "\u001b[0;32m/scratch/enis/conda/envs/soundenv3/lib/python3.7/site-packages/ignite/engine/engine.py\u001b[0m in \u001b[0;36m_internal_run\u001b[0;34m(self)\u001b[0m\n\u001b[1;32m    735\u001b[0m                     \u001b[0mself\u001b[0m\u001b[0;34m.\u001b[0m\u001b[0m_fire_event\u001b[0m\u001b[0;34m(\u001b[0m\u001b[0mEvents\u001b[0m\u001b[0;34m.\u001b[0m\u001b[0mTERMINATE\u001b[0m\u001b[0;34m)\u001b[0m\u001b[0;34m\u001b[0m\u001b[0;34m\u001b[0m\u001b[0m\n\u001b[1;32m    736\u001b[0m                 \u001b[0;32melse\u001b[0m\u001b[0;34m:\u001b[0m\u001b[0;34m\u001b[0m\u001b[0;34m\u001b[0m\u001b[0m\n\u001b[0;32m--> 737\u001b[0;31m                     \u001b[0mself\u001b[0m\u001b[0;34m.\u001b[0m\u001b[0m_fire_event\u001b[0m\u001b[0;34m(\u001b[0m\u001b[0mEvents\u001b[0m\u001b[0;34m.\u001b[0m\u001b[0mEPOCH_COMPLETED\u001b[0m\u001b[0;34m)\u001b[0m\u001b[0;34m\u001b[0m\u001b[0;34m\u001b[0m\u001b[0m\n\u001b[0m\u001b[1;32m    738\u001b[0m                 \u001b[0mtime_taken\u001b[0m \u001b[0;34m+=\u001b[0m \u001b[0mtime\u001b[0m\u001b[0;34m.\u001b[0m\u001b[0mtime\u001b[0m\u001b[0;34m(\u001b[0m\u001b[0;34m)\u001b[0m \u001b[0;34m-\u001b[0m \u001b[0mhandlers_start_time\u001b[0m\u001b[0;34m\u001b[0m\u001b[0;34m\u001b[0m\u001b[0m\n\u001b[1;32m    739\u001b[0m                 \u001b[0;31m# update time wrt handlers\u001b[0m\u001b[0;34m\u001b[0m\u001b[0;34m\u001b[0m\u001b[0;34m\u001b[0m\u001b[0m\n",
      "\u001b[0;32m/scratch/enis/conda/envs/soundenv3/lib/python3.7/site-packages/ignite/engine/engine.py\u001b[0m in \u001b[0;36m_fire_event\u001b[0;34m(self, event_name, *event_args, **event_kwargs)\u001b[0m\n\u001b[1;32m    421\u001b[0m                 \u001b[0mkwargs\u001b[0m\u001b[0;34m.\u001b[0m\u001b[0mupdate\u001b[0m\u001b[0;34m(\u001b[0m\u001b[0mevent_kwargs\u001b[0m\u001b[0;34m)\u001b[0m\u001b[0;34m\u001b[0m\u001b[0;34m\u001b[0m\u001b[0m\n\u001b[1;32m    422\u001b[0m                 \u001b[0mfirst\u001b[0m\u001b[0;34m,\u001b[0m \u001b[0mothers\u001b[0m \u001b[0;34m=\u001b[0m \u001b[0;34m(\u001b[0m\u001b[0;34m(\u001b[0m\u001b[0margs\u001b[0m\u001b[0;34m[\u001b[0m\u001b[0;36m0\u001b[0m\u001b[0;34m]\u001b[0m\u001b[0;34m,\u001b[0m\u001b[0;34m)\u001b[0m\u001b[0;34m,\u001b[0m \u001b[0margs\u001b[0m\u001b[0;34m[\u001b[0m\u001b[0;36m1\u001b[0m\u001b[0;34m:\u001b[0m\u001b[0;34m]\u001b[0m\u001b[0;34m)\u001b[0m \u001b[0;32mif\u001b[0m \u001b[0;34m(\u001b[0m\u001b[0margs\u001b[0m \u001b[0;32mand\u001b[0m \u001b[0margs\u001b[0m\u001b[0;34m[\u001b[0m\u001b[0;36m0\u001b[0m\u001b[0;34m]\u001b[0m \u001b[0;34m==\u001b[0m \u001b[0mself\u001b[0m\u001b[0;34m)\u001b[0m \u001b[0;32melse\u001b[0m \u001b[0;34m(\u001b[0m\u001b[0;34m(\u001b[0m\u001b[0;34m)\u001b[0m\u001b[0;34m,\u001b[0m \u001b[0margs\u001b[0m\u001b[0;34m)\u001b[0m\u001b[0;34m\u001b[0m\u001b[0;34m\u001b[0m\u001b[0m\n\u001b[0;32m--> 423\u001b[0;31m                 \u001b[0mfunc\u001b[0m\u001b[0;34m(\u001b[0m\u001b[0;34m*\u001b[0m\u001b[0mfirst\u001b[0m\u001b[0;34m,\u001b[0m \u001b[0;34m*\u001b[0m\u001b[0;34m(\u001b[0m\u001b[0mevent_args\u001b[0m \u001b[0;34m+\u001b[0m \u001b[0mothers\u001b[0m\u001b[0;34m)\u001b[0m\u001b[0;34m,\u001b[0m \u001b[0;34m**\u001b[0m\u001b[0mkwargs\u001b[0m\u001b[0;34m)\u001b[0m\u001b[0;34m\u001b[0m\u001b[0;34m\u001b[0m\u001b[0m\n\u001b[0m\u001b[1;32m    424\u001b[0m \u001b[0;34m\u001b[0m\u001b[0m\n\u001b[1;32m    425\u001b[0m     \u001b[0;32mdef\u001b[0m \u001b[0mfire_event\u001b[0m\u001b[0;34m(\u001b[0m\u001b[0mself\u001b[0m\u001b[0;34m,\u001b[0m \u001b[0mevent_name\u001b[0m\u001b[0;34m:\u001b[0m \u001b[0mAny\u001b[0m\u001b[0;34m)\u001b[0m \u001b[0;34m->\u001b[0m \u001b[0;32mNone\u001b[0m\u001b[0;34m:\u001b[0m\u001b[0;34m\u001b[0m\u001b[0;34m\u001b[0m\u001b[0m\n",
      "\u001b[0;32m~/projects/nna/src/nna/exp/runutils.py\u001b[0m in \u001b[0;36mcompute_metrics\u001b[0;34m(engine, best_ROC_AUC, best_epoch, taxo_names)\u001b[0m\n\u001b[1;32m     99\u001b[0m     \u001b[0;32mdef\u001b[0m \u001b[0mcompute_metrics\u001b[0m\u001b[0;34m(\u001b[0m\u001b[0mengine\u001b[0m\u001b[0;34m,\u001b[0m \u001b[0mbest_ROC_AUC\u001b[0m\u001b[0;34m,\u001b[0m \u001b[0mbest_epoch\u001b[0m\u001b[0;34m,\u001b[0m\u001b[0mtaxo_names\u001b[0m\u001b[0;34m=\u001b[0m\u001b[0;32mNone\u001b[0m\u001b[0;34m)\u001b[0m\u001b[0;34m:\u001b[0m\u001b[0;34m\u001b[0m\u001b[0;34m\u001b[0m\u001b[0m\n\u001b[1;32m    100\u001b[0m         \u001b[0mtrain_evaluator\u001b[0m\u001b[0;34m.\u001b[0m\u001b[0mrun\u001b[0m\u001b[0;34m(\u001b[0m\u001b[0mtrain_loader\u001b[0m\u001b[0;34m)\u001b[0m\u001b[0;34m\u001b[0m\u001b[0;34m\u001b[0m\u001b[0m\n\u001b[0;32m--> 101\u001b[0;31m         \u001b[0mvalidation_evaluator\u001b[0m\u001b[0;34m.\u001b[0m\u001b[0mrun\u001b[0m\u001b[0;34m(\u001b[0m\u001b[0mval_loader\u001b[0m\u001b[0;34m)\u001b[0m\u001b[0;34m\u001b[0m\u001b[0;34m\u001b[0m\u001b[0m\n\u001b[0m\u001b[1;32m    102\u001b[0m         \u001b[0mroc_auc_array_val\u001b[0m \u001b[0;34m=\u001b[0m \u001b[0mvalidation_evaluator\u001b[0m\u001b[0;34m.\u001b[0m\u001b[0mstate\u001b[0m\u001b[0;34m.\u001b[0m\u001b[0mmetrics\u001b[0m\u001b[0;34m[\u001b[0m\u001b[0;34m'ROC_AUC'\u001b[0m\u001b[0;34m]\u001b[0m\u001b[0;34m\u001b[0m\u001b[0;34m\u001b[0m\u001b[0m\n\u001b[1;32m    103\u001b[0m         \u001b[0mroc_auc_array_train\u001b[0m \u001b[0;34m=\u001b[0m \u001b[0mtrain_evaluator\u001b[0m\u001b[0;34m.\u001b[0m\u001b[0mstate\u001b[0m\u001b[0;34m.\u001b[0m\u001b[0mmetrics\u001b[0m\u001b[0;34m[\u001b[0m\u001b[0;34m'ROC_AUC'\u001b[0m\u001b[0;34m]\u001b[0m\u001b[0;34m\u001b[0m\u001b[0;34m\u001b[0m\u001b[0m\n",
      "\u001b[0;32m/scratch/enis/conda/envs/soundenv3/lib/python3.7/site-packages/ignite/engine/engine.py\u001b[0m in \u001b[0;36mrun\u001b[0;34m(self, data, max_epochs, epoch_length, seed)\u001b[0m\n\u001b[1;32m    689\u001b[0m \u001b[0;34m\u001b[0m\u001b[0m\n\u001b[1;32m    690\u001b[0m         \u001b[0mself\u001b[0m\u001b[0;34m.\u001b[0m\u001b[0mstate\u001b[0m\u001b[0;34m.\u001b[0m\u001b[0mdataloader\u001b[0m \u001b[0;34m=\u001b[0m \u001b[0mdata\u001b[0m\u001b[0;34m\u001b[0m\u001b[0;34m\u001b[0m\u001b[0m\n\u001b[0;32m--> 691\u001b[0;31m         \u001b[0;32mreturn\u001b[0m \u001b[0mself\u001b[0m\u001b[0;34m.\u001b[0m\u001b[0m_internal_run\u001b[0m\u001b[0;34m(\u001b[0m\u001b[0;34m)\u001b[0m\u001b[0;34m\u001b[0m\u001b[0;34m\u001b[0m\u001b[0m\n\u001b[0m\u001b[1;32m    692\u001b[0m \u001b[0;34m\u001b[0m\u001b[0m\n\u001b[1;32m    693\u001b[0m     \u001b[0;34m@\u001b[0m\u001b[0mstaticmethod\u001b[0m\u001b[0;34m\u001b[0m\u001b[0;34m\u001b[0m\u001b[0m\n",
      "\u001b[0;32m/scratch/enis/conda/envs/soundenv3/lib/python3.7/site-packages/ignite/engine/engine.py\u001b[0m in \u001b[0;36m_internal_run\u001b[0;34m(self)\u001b[0m\n\u001b[1;32m    760\u001b[0m             \u001b[0mself\u001b[0m\u001b[0;34m.\u001b[0m\u001b[0m_dataloader_iter\u001b[0m \u001b[0;34m=\u001b[0m \u001b[0;32mNone\u001b[0m\u001b[0;34m\u001b[0m\u001b[0;34m\u001b[0m\u001b[0m\n\u001b[1;32m    761\u001b[0m             \u001b[0mself\u001b[0m\u001b[0;34m.\u001b[0m\u001b[0mlogger\u001b[0m\u001b[0;34m.\u001b[0m\u001b[0merror\u001b[0m\u001b[0;34m(\u001b[0m\u001b[0;34m\"Engine run is terminating due to exception: %s.\"\u001b[0m\u001b[0;34m,\u001b[0m \u001b[0mstr\u001b[0m\u001b[0;34m(\u001b[0m\u001b[0me\u001b[0m\u001b[0;34m)\u001b[0m\u001b[0;34m)\u001b[0m\u001b[0;34m\u001b[0m\u001b[0;34m\u001b[0m\u001b[0m\n\u001b[0;32m--> 762\u001b[0;31m             \u001b[0mself\u001b[0m\u001b[0;34m.\u001b[0m\u001b[0m_handle_exception\u001b[0m\u001b[0;34m(\u001b[0m\u001b[0me\u001b[0m\u001b[0;34m)\u001b[0m\u001b[0;34m\u001b[0m\u001b[0;34m\u001b[0m\u001b[0m\n\u001b[0m\u001b[1;32m    763\u001b[0m \u001b[0;34m\u001b[0m\u001b[0m\n\u001b[1;32m    764\u001b[0m         \u001b[0mself\u001b[0m\u001b[0;34m.\u001b[0m\u001b[0m_dataloader_iter\u001b[0m \u001b[0;34m=\u001b[0m \u001b[0;32mNone\u001b[0m\u001b[0;34m\u001b[0m\u001b[0;34m\u001b[0m\u001b[0m\n",
      "\u001b[0;32m/scratch/enis/conda/envs/soundenv3/lib/python3.7/site-packages/ignite/engine/engine.py\u001b[0m in \u001b[0;36m_handle_exception\u001b[0;34m(self, e)\u001b[0m\n\u001b[1;32m    465\u001b[0m             \u001b[0mself\u001b[0m\u001b[0;34m.\u001b[0m\u001b[0m_fire_event\u001b[0m\u001b[0;34m(\u001b[0m\u001b[0mEvents\u001b[0m\u001b[0;34m.\u001b[0m\u001b[0mEXCEPTION_RAISED\u001b[0m\u001b[0;34m,\u001b[0m \u001b[0me\u001b[0m\u001b[0;34m)\u001b[0m\u001b[0;34m\u001b[0m\u001b[0;34m\u001b[0m\u001b[0m\n\u001b[1;32m    466\u001b[0m         \u001b[0;32melse\u001b[0m\u001b[0;34m:\u001b[0m\u001b[0;34m\u001b[0m\u001b[0;34m\u001b[0m\u001b[0m\n\u001b[0;32m--> 467\u001b[0;31m             \u001b[0;32mraise\u001b[0m \u001b[0me\u001b[0m\u001b[0;34m\u001b[0m\u001b[0;34m\u001b[0m\u001b[0m\n\u001b[0m\u001b[1;32m    468\u001b[0m \u001b[0;34m\u001b[0m\u001b[0m\n\u001b[1;32m    469\u001b[0m     \u001b[0;34m@\u001b[0m\u001b[0mproperty\u001b[0m\u001b[0;34m\u001b[0m\u001b[0;34m\u001b[0m\u001b[0m\n",
      "\u001b[0;32m/scratch/enis/conda/envs/soundenv3/lib/python3.7/site-packages/ignite/engine/engine.py\u001b[0m in \u001b[0;36m_internal_run\u001b[0;34m(self)\u001b[0m\n\u001b[1;32m    728\u001b[0m                     \u001b[0mself\u001b[0m\u001b[0;34m.\u001b[0m\u001b[0m_setup_engine\u001b[0m\u001b[0;34m(\u001b[0m\u001b[0;34m)\u001b[0m\u001b[0;34m\u001b[0m\u001b[0;34m\u001b[0m\u001b[0m\n\u001b[1;32m    729\u001b[0m \u001b[0;34m\u001b[0m\u001b[0m\n\u001b[0;32m--> 730\u001b[0;31m                 \u001b[0mtime_taken\u001b[0m \u001b[0;34m=\u001b[0m \u001b[0mself\u001b[0m\u001b[0;34m.\u001b[0m\u001b[0m_run_once_on_dataset\u001b[0m\u001b[0;34m(\u001b[0m\u001b[0;34m)\u001b[0m\u001b[0;34m\u001b[0m\u001b[0;34m\u001b[0m\u001b[0m\n\u001b[0m\u001b[1;32m    731\u001b[0m                 \u001b[0;31m# time is available for handlers but must be update after fire\u001b[0m\u001b[0;34m\u001b[0m\u001b[0;34m\u001b[0m\u001b[0;34m\u001b[0m\u001b[0m\n\u001b[1;32m    732\u001b[0m                 \u001b[0mself\u001b[0m\u001b[0;34m.\u001b[0m\u001b[0mstate\u001b[0m\u001b[0;34m.\u001b[0m\u001b[0mtimes\u001b[0m\u001b[0;34m[\u001b[0m\u001b[0mEvents\u001b[0m\u001b[0;34m.\u001b[0m\u001b[0mEPOCH_COMPLETED\u001b[0m\u001b[0;34m.\u001b[0m\u001b[0mname\u001b[0m\u001b[0;34m]\u001b[0m \u001b[0;34m=\u001b[0m \u001b[0mtime_taken\u001b[0m\u001b[0;34m\u001b[0m\u001b[0;34m\u001b[0m\u001b[0m\n",
      "\u001b[0;32m/scratch/enis/conda/envs/soundenv3/lib/python3.7/site-packages/ignite/engine/engine.py\u001b[0m in \u001b[0;36m_run_once_on_dataset\u001b[0;34m(self)\u001b[0m\n\u001b[1;32m    777\u001b[0m                     \u001b[0;32mif\u001b[0m \u001b[0mself\u001b[0m\u001b[0;34m.\u001b[0m\u001b[0mlast_event_name\u001b[0m \u001b[0;34m!=\u001b[0m \u001b[0mEvents\u001b[0m\u001b[0;34m.\u001b[0m\u001b[0mDATALOADER_STOP_ITERATION\u001b[0m\u001b[0;34m:\u001b[0m\u001b[0;34m\u001b[0m\u001b[0;34m\u001b[0m\u001b[0m\n\u001b[1;32m    778\u001b[0m                         \u001b[0mself\u001b[0m\u001b[0;34m.\u001b[0m\u001b[0m_fire_event\u001b[0m\u001b[0;34m(\u001b[0m\u001b[0mEvents\u001b[0m\u001b[0;34m.\u001b[0m\u001b[0mGET_BATCH_STARTED\u001b[0m\u001b[0;34m)\u001b[0m\u001b[0;34m\u001b[0m\u001b[0;34m\u001b[0m\u001b[0m\n\u001b[0;32m--> 779\u001b[0;31m                     \u001b[0mself\u001b[0m\u001b[0;34m.\u001b[0m\u001b[0mstate\u001b[0m\u001b[0;34m.\u001b[0m\u001b[0mbatch\u001b[0m \u001b[0;34m=\u001b[0m \u001b[0mnext\u001b[0m\u001b[0;34m(\u001b[0m\u001b[0mself\u001b[0m\u001b[0;34m.\u001b[0m\u001b[0m_dataloader_iter\u001b[0m\u001b[0;34m)\u001b[0m\u001b[0;34m\u001b[0m\u001b[0;34m\u001b[0m\u001b[0m\n\u001b[0m\u001b[1;32m    780\u001b[0m                     \u001b[0mself\u001b[0m\u001b[0;34m.\u001b[0m\u001b[0m_fire_event\u001b[0m\u001b[0;34m(\u001b[0m\u001b[0mEvents\u001b[0m\u001b[0;34m.\u001b[0m\u001b[0mGET_BATCH_COMPLETED\u001b[0m\u001b[0;34m)\u001b[0m\u001b[0;34m\u001b[0m\u001b[0;34m\u001b[0m\u001b[0m\n\u001b[1;32m    781\u001b[0m                     \u001b[0miter_counter\u001b[0m \u001b[0;34m+=\u001b[0m \u001b[0;36m1\u001b[0m\u001b[0;34m\u001b[0m\u001b[0;34m\u001b[0m\u001b[0m\n",
      "\u001b[0;32m/scratch/enis/conda/envs/soundenv3/lib/python3.7/site-packages/torch/utils/data/dataloader.py\u001b[0m in \u001b[0;36m__next__\u001b[0;34m(self)\u001b[0m\n\u001b[1;32m    433\u001b[0m         \u001b[0;32mif\u001b[0m \u001b[0mself\u001b[0m\u001b[0;34m.\u001b[0m\u001b[0m_sampler_iter\u001b[0m \u001b[0;32mis\u001b[0m \u001b[0;32mNone\u001b[0m\u001b[0;34m:\u001b[0m\u001b[0;34m\u001b[0m\u001b[0;34m\u001b[0m\u001b[0m\n\u001b[1;32m    434\u001b[0m             \u001b[0mself\u001b[0m\u001b[0;34m.\u001b[0m\u001b[0m_reset\u001b[0m\u001b[0;34m(\u001b[0m\u001b[0;34m)\u001b[0m\u001b[0;34m\u001b[0m\u001b[0;34m\u001b[0m\u001b[0m\n\u001b[0;32m--> 435\u001b[0;31m         \u001b[0mdata\u001b[0m \u001b[0;34m=\u001b[0m \u001b[0mself\u001b[0m\u001b[0;34m.\u001b[0m\u001b[0m_next_data\u001b[0m\u001b[0;34m(\u001b[0m\u001b[0;34m)\u001b[0m\u001b[0;34m\u001b[0m\u001b[0;34m\u001b[0m\u001b[0m\n\u001b[0m\u001b[1;32m    436\u001b[0m         \u001b[0mself\u001b[0m\u001b[0;34m.\u001b[0m\u001b[0m_num_yielded\u001b[0m \u001b[0;34m+=\u001b[0m \u001b[0;36m1\u001b[0m\u001b[0;34m\u001b[0m\u001b[0;34m\u001b[0m\u001b[0m\n\u001b[1;32m    437\u001b[0m         \u001b[0;32mif\u001b[0m \u001b[0mself\u001b[0m\u001b[0;34m.\u001b[0m\u001b[0m_dataset_kind\u001b[0m \u001b[0;34m==\u001b[0m \u001b[0m_DatasetKind\u001b[0m\u001b[0;34m.\u001b[0m\u001b[0mIterable\u001b[0m \u001b[0;32mand\u001b[0m\u001b[0;31m \u001b[0m\u001b[0;31m\\\u001b[0m\u001b[0;34m\u001b[0m\u001b[0;34m\u001b[0m\u001b[0m\n",
      "\u001b[0;32m/scratch/enis/conda/envs/soundenv3/lib/python3.7/site-packages/torch/utils/data/dataloader.py\u001b[0m in \u001b[0;36m_next_data\u001b[0;34m(self)\u001b[0m\n\u001b[1;32m    473\u001b[0m     \u001b[0;32mdef\u001b[0m \u001b[0m_next_data\u001b[0m\u001b[0;34m(\u001b[0m\u001b[0mself\u001b[0m\u001b[0;34m)\u001b[0m\u001b[0;34m:\u001b[0m\u001b[0;34m\u001b[0m\u001b[0;34m\u001b[0m\u001b[0m\n\u001b[1;32m    474\u001b[0m         \u001b[0mindex\u001b[0m \u001b[0;34m=\u001b[0m \u001b[0mself\u001b[0m\u001b[0;34m.\u001b[0m\u001b[0m_next_index\u001b[0m\u001b[0;34m(\u001b[0m\u001b[0;34m)\u001b[0m  \u001b[0;31m# may raise StopIteration\u001b[0m\u001b[0;34m\u001b[0m\u001b[0;34m\u001b[0m\u001b[0m\n\u001b[0;32m--> 475\u001b[0;31m         \u001b[0mdata\u001b[0m \u001b[0;34m=\u001b[0m \u001b[0mself\u001b[0m\u001b[0;34m.\u001b[0m\u001b[0m_dataset_fetcher\u001b[0m\u001b[0;34m.\u001b[0m\u001b[0mfetch\u001b[0m\u001b[0;34m(\u001b[0m\u001b[0mindex\u001b[0m\u001b[0;34m)\u001b[0m  \u001b[0;31m# may raise StopIteration\u001b[0m\u001b[0;34m\u001b[0m\u001b[0;34m\u001b[0m\u001b[0m\n\u001b[0m\u001b[1;32m    476\u001b[0m         \u001b[0;32mif\u001b[0m \u001b[0mself\u001b[0m\u001b[0;34m.\u001b[0m\u001b[0m_pin_memory\u001b[0m\u001b[0;34m:\u001b[0m\u001b[0;34m\u001b[0m\u001b[0;34m\u001b[0m\u001b[0m\n\u001b[1;32m    477\u001b[0m             \u001b[0mdata\u001b[0m \u001b[0;34m=\u001b[0m \u001b[0m_utils\u001b[0m\u001b[0;34m.\u001b[0m\u001b[0mpin_memory\u001b[0m\u001b[0;34m.\u001b[0m\u001b[0mpin_memory\u001b[0m\u001b[0;34m(\u001b[0m\u001b[0mdata\u001b[0m\u001b[0;34m)\u001b[0m\u001b[0;34m\u001b[0m\u001b[0;34m\u001b[0m\u001b[0m\n",
      "\u001b[0;32m/scratch/enis/conda/envs/soundenv3/lib/python3.7/site-packages/torch/utils/data/_utils/fetch.py\u001b[0m in \u001b[0;36mfetch\u001b[0;34m(self, possibly_batched_index)\u001b[0m\n\u001b[1;32m     42\u001b[0m     \u001b[0;32mdef\u001b[0m \u001b[0mfetch\u001b[0m\u001b[0;34m(\u001b[0m\u001b[0mself\u001b[0m\u001b[0;34m,\u001b[0m \u001b[0mpossibly_batched_index\u001b[0m\u001b[0;34m)\u001b[0m\u001b[0;34m:\u001b[0m\u001b[0;34m\u001b[0m\u001b[0;34m\u001b[0m\u001b[0m\n\u001b[1;32m     43\u001b[0m         \u001b[0;32mif\u001b[0m \u001b[0mself\u001b[0m\u001b[0;34m.\u001b[0m\u001b[0mauto_collation\u001b[0m\u001b[0;34m:\u001b[0m\u001b[0;34m\u001b[0m\u001b[0;34m\u001b[0m\u001b[0m\n\u001b[0;32m---> 44\u001b[0;31m             \u001b[0mdata\u001b[0m \u001b[0;34m=\u001b[0m \u001b[0;34m[\u001b[0m\u001b[0mself\u001b[0m\u001b[0;34m.\u001b[0m\u001b[0mdataset\u001b[0m\u001b[0;34m[\u001b[0m\u001b[0midx\u001b[0m\u001b[0;34m]\u001b[0m \u001b[0;32mfor\u001b[0m \u001b[0midx\u001b[0m \u001b[0;32min\u001b[0m \u001b[0mpossibly_batched_index\u001b[0m\u001b[0;34m]\u001b[0m\u001b[0;34m\u001b[0m\u001b[0;34m\u001b[0m\u001b[0m\n\u001b[0m\u001b[1;32m     45\u001b[0m         \u001b[0;32melse\u001b[0m\u001b[0;34m:\u001b[0m\u001b[0;34m\u001b[0m\u001b[0;34m\u001b[0m\u001b[0m\n\u001b[1;32m     46\u001b[0m             \u001b[0mdata\u001b[0m \u001b[0;34m=\u001b[0m \u001b[0mself\u001b[0m\u001b[0;34m.\u001b[0m\u001b[0mdataset\u001b[0m\u001b[0;34m[\u001b[0m\u001b[0mpossibly_batched_index\u001b[0m\u001b[0;34m]\u001b[0m\u001b[0;34m\u001b[0m\u001b[0;34m\u001b[0m\u001b[0m\n",
      "\u001b[0;32m/scratch/enis/conda/envs/soundenv3/lib/python3.7/site-packages/torch/utils/data/_utils/fetch.py\u001b[0m in \u001b[0;36m<listcomp>\u001b[0;34m(.0)\u001b[0m\n\u001b[1;32m     42\u001b[0m     \u001b[0;32mdef\u001b[0m \u001b[0mfetch\u001b[0m\u001b[0;34m(\u001b[0m\u001b[0mself\u001b[0m\u001b[0;34m,\u001b[0m \u001b[0mpossibly_batched_index\u001b[0m\u001b[0;34m)\u001b[0m\u001b[0;34m:\u001b[0m\u001b[0;34m\u001b[0m\u001b[0;34m\u001b[0m\u001b[0m\n\u001b[1;32m     43\u001b[0m         \u001b[0;32mif\u001b[0m \u001b[0mself\u001b[0m\u001b[0;34m.\u001b[0m\u001b[0mauto_collation\u001b[0m\u001b[0;34m:\u001b[0m\u001b[0;34m\u001b[0m\u001b[0;34m\u001b[0m\u001b[0m\n\u001b[0;32m---> 44\u001b[0;31m             \u001b[0mdata\u001b[0m \u001b[0;34m=\u001b[0m \u001b[0;34m[\u001b[0m\u001b[0mself\u001b[0m\u001b[0;34m.\u001b[0m\u001b[0mdataset\u001b[0m\u001b[0;34m[\u001b[0m\u001b[0midx\u001b[0m\u001b[0;34m]\u001b[0m \u001b[0;32mfor\u001b[0m \u001b[0midx\u001b[0m \u001b[0;32min\u001b[0m \u001b[0mpossibly_batched_index\u001b[0m\u001b[0;34m]\u001b[0m\u001b[0;34m\u001b[0m\u001b[0;34m\u001b[0m\u001b[0m\n\u001b[0m\u001b[1;32m     45\u001b[0m         \u001b[0;32melse\u001b[0m\u001b[0;34m:\u001b[0m\u001b[0;34m\u001b[0m\u001b[0;34m\u001b[0m\u001b[0m\n\u001b[1;32m     46\u001b[0m             \u001b[0mdata\u001b[0m \u001b[0;34m=\u001b[0m \u001b[0mself\u001b[0m\u001b[0;34m.\u001b[0m\u001b[0mdataset\u001b[0m\u001b[0;34m[\u001b[0m\u001b[0mpossibly_batched_index\u001b[0m\u001b[0;34m]\u001b[0m\u001b[0;34m\u001b[0m\u001b[0;34m\u001b[0m\u001b[0m\n",
      "\u001b[0;32m~/projects/nna/src/nna/exp/runutils.py\u001b[0m in \u001b[0;36m__getitem__\u001b[0;34m(self, idx)\u001b[0m\n\u001b[1;32m    275\u001b[0m \u001b[0;34m\u001b[0m\u001b[0m\n\u001b[1;32m    276\u001b[0m         \u001b[0;32mif\u001b[0m \u001b[0mself\u001b[0m\u001b[0;34m.\u001b[0m\u001b[0mtransform\u001b[0m\u001b[0;34m:\u001b[0m\u001b[0;34m\u001b[0m\u001b[0;34m\u001b[0m\u001b[0m\n\u001b[0;32m--> 277\u001b[0;31m             \u001b[0msample\u001b[0m \u001b[0;34m=\u001b[0m \u001b[0mself\u001b[0m\u001b[0;34m.\u001b[0m\u001b[0mtransform\u001b[0m\u001b[0;34m(\u001b[0m\u001b[0msample\u001b[0m\u001b[0;34m)\u001b[0m\u001b[0;34m\u001b[0m\u001b[0;34m\u001b[0m\u001b[0m\n\u001b[0m\u001b[1;32m    278\u001b[0m \u001b[0;34m\u001b[0m\u001b[0m\n\u001b[1;32m    279\u001b[0m         \u001b[0;32mreturn\u001b[0m \u001b[0msample\u001b[0m\u001b[0;34m\u001b[0m\u001b[0;34m\u001b[0m\u001b[0m\n",
      "\u001b[0;32m/scratch/enis/conda/envs/soundenv3/lib/python3.7/site-packages/torchvision/transforms/transforms.py\u001b[0m in \u001b[0;36m__call__\u001b[0;34m(self, img)\u001b[0m\n\u001b[1;32m     65\u001b[0m     \u001b[0;32mdef\u001b[0m \u001b[0m__call__\u001b[0m\u001b[0;34m(\u001b[0m\u001b[0mself\u001b[0m\u001b[0;34m,\u001b[0m \u001b[0mimg\u001b[0m\u001b[0;34m)\u001b[0m\u001b[0;34m:\u001b[0m\u001b[0;34m\u001b[0m\u001b[0;34m\u001b[0m\u001b[0m\n\u001b[1;32m     66\u001b[0m         \u001b[0;32mfor\u001b[0m \u001b[0mt\u001b[0m \u001b[0;32min\u001b[0m \u001b[0mself\u001b[0m\u001b[0;34m.\u001b[0m\u001b[0mtransforms\u001b[0m\u001b[0;34m:\u001b[0m\u001b[0;34m\u001b[0m\u001b[0;34m\u001b[0m\u001b[0m\n\u001b[0;32m---> 67\u001b[0;31m             \u001b[0mimg\u001b[0m \u001b[0;34m=\u001b[0m \u001b[0mt\u001b[0m\u001b[0;34m(\u001b[0m\u001b[0mimg\u001b[0m\u001b[0;34m)\u001b[0m\u001b[0;34m\u001b[0m\u001b[0;34m\u001b[0m\u001b[0m\n\u001b[0m\u001b[1;32m     68\u001b[0m         \u001b[0;32mreturn\u001b[0m \u001b[0mimg\u001b[0m\u001b[0;34m\u001b[0m\u001b[0;34m\u001b[0m\u001b[0m\n\u001b[1;32m     69\u001b[0m \u001b[0;34m\u001b[0m\u001b[0m\n",
      "\u001b[0;32m~/projects/nna/src/nna/exp/megan/run-5/modelarchs.py\u001b[0m in \u001b[0;36m__call__\u001b[0;34m(self, sample)\u001b[0m\n\u001b[1;32m     34\u001b[0m \u001b[0;34m\u001b[0m\u001b[0m\n\u001b[1;32m     35\u001b[0m         \u001b[0mdb_transform\u001b[0m \u001b[0;34m=\u001b[0m \u001b[0mtorchaudio\u001b[0m\u001b[0;34m.\u001b[0m\u001b[0mtransforms\u001b[0m\u001b[0;34m.\u001b[0m\u001b[0mAmplitudeToDB\u001b[0m\u001b[0;34m(\u001b[0m\u001b[0;34m\"power\"\u001b[0m\u001b[0;34m,\u001b[0m \u001b[0;36m80.\u001b[0m\u001b[0;34m)\u001b[0m\u001b[0;34m\u001b[0m\u001b[0;34m\u001b[0m\u001b[0m\n\u001b[0;32m---> 36\u001b[0;31m         \u001b[0mmel\u001b[0m \u001b[0;34m=\u001b[0m \u001b[0mmelspect_transform\u001b[0m\u001b[0;34m(\u001b[0m\u001b[0mx\u001b[0m\u001b[0;34m.\u001b[0m\u001b[0mreshape\u001b[0m\u001b[0;34m(\u001b[0m\u001b[0;34m-\u001b[0m\u001b[0;36m1\u001b[0m\u001b[0;34m)\u001b[0m\u001b[0;34m)\u001b[0m\u001b[0;34m\u001b[0m\u001b[0;34m\u001b[0m\u001b[0m\n\u001b[0m\u001b[1;32m     37\u001b[0m         \u001b[0man_x\u001b[0m \u001b[0;34m=\u001b[0m \u001b[0mdb_transform\u001b[0m\u001b[0;34m(\u001b[0m\u001b[0mmel\u001b[0m\u001b[0;34m)\u001b[0m\u001b[0;34m\u001b[0m\u001b[0;34m\u001b[0m\u001b[0m\n\u001b[1;32m     38\u001b[0m         \u001b[0;31m#librosa version\u001b[0m\u001b[0;34m\u001b[0m\u001b[0;34m\u001b[0m\u001b[0;34m\u001b[0m\u001b[0m\n",
      "\u001b[0;32m/scratch/enis/conda/envs/soundenv3/lib/python3.7/site-packages/torch/nn/modules/module.py\u001b[0m in \u001b[0;36m_call_impl\u001b[0;34m(self, *input, **kwargs)\u001b[0m\n\u001b[1;32m    725\u001b[0m             \u001b[0mresult\u001b[0m \u001b[0;34m=\u001b[0m \u001b[0mself\u001b[0m\u001b[0;34m.\u001b[0m\u001b[0m_slow_forward\u001b[0m\u001b[0;34m(\u001b[0m\u001b[0;34m*\u001b[0m\u001b[0minput\u001b[0m\u001b[0;34m,\u001b[0m \u001b[0;34m**\u001b[0m\u001b[0mkwargs\u001b[0m\u001b[0;34m)\u001b[0m\u001b[0;34m\u001b[0m\u001b[0;34m\u001b[0m\u001b[0m\n\u001b[1;32m    726\u001b[0m         \u001b[0;32melse\u001b[0m\u001b[0;34m:\u001b[0m\u001b[0;34m\u001b[0m\u001b[0;34m\u001b[0m\u001b[0m\n\u001b[0;32m--> 727\u001b[0;31m             \u001b[0mresult\u001b[0m \u001b[0;34m=\u001b[0m \u001b[0mself\u001b[0m\u001b[0;34m.\u001b[0m\u001b[0mforward\u001b[0m\u001b[0;34m(\u001b[0m\u001b[0;34m*\u001b[0m\u001b[0minput\u001b[0m\u001b[0;34m,\u001b[0m \u001b[0;34m**\u001b[0m\u001b[0mkwargs\u001b[0m\u001b[0;34m)\u001b[0m\u001b[0;34m\u001b[0m\u001b[0;34m\u001b[0m\u001b[0m\n\u001b[0m\u001b[1;32m    728\u001b[0m         for hook in itertools.chain(\n\u001b[1;32m    729\u001b[0m                 \u001b[0m_global_forward_hooks\u001b[0m\u001b[0;34m.\u001b[0m\u001b[0mvalues\u001b[0m\u001b[0;34m(\u001b[0m\u001b[0;34m)\u001b[0m\u001b[0;34m,\u001b[0m\u001b[0;34m\u001b[0m\u001b[0;34m\u001b[0m\u001b[0m\n",
      "\u001b[0;32m/scratch/enis/conda/envs/soundenv3/lib/python3.7/site-packages/torchaudio/transforms.py\u001b[0m in \u001b[0;36mforward\u001b[0;34m(self, waveform)\u001b[0m\n\u001b[1;32m    432\u001b[0m             \u001b[0mTensor\u001b[0m\u001b[0;34m:\u001b[0m \u001b[0mMel\u001b[0m \u001b[0mfrequency\u001b[0m \u001b[0mspectrogram\u001b[0m \u001b[0mof\u001b[0m \u001b[0msize\u001b[0m \u001b[0;34m(\u001b[0m\u001b[0;34m...\u001b[0m\u001b[0;34m,\u001b[0m\u001b[0;31m \u001b[0m\u001b[0;31m`\u001b[0m\u001b[0;31m`\u001b[0m\u001b[0mn_mels\u001b[0m\u001b[0;31m`\u001b[0m\u001b[0;31m`\u001b[0m\u001b[0;34m,\u001b[0m \u001b[0mtime\u001b[0m\u001b[0;34m)\u001b[0m\u001b[0;34m.\u001b[0m\u001b[0;34m\u001b[0m\u001b[0;34m\u001b[0m\u001b[0m\n\u001b[1;32m    433\u001b[0m         \"\"\"\n\u001b[0;32m--> 434\u001b[0;31m         \u001b[0mspecgram\u001b[0m \u001b[0;34m=\u001b[0m \u001b[0mself\u001b[0m\u001b[0;34m.\u001b[0m\u001b[0mspectrogram\u001b[0m\u001b[0;34m(\u001b[0m\u001b[0mwaveform\u001b[0m\u001b[0;34m)\u001b[0m\u001b[0;34m\u001b[0m\u001b[0;34m\u001b[0m\u001b[0m\n\u001b[0m\u001b[1;32m    435\u001b[0m         \u001b[0mmel_specgram\u001b[0m \u001b[0;34m=\u001b[0m \u001b[0mself\u001b[0m\u001b[0;34m.\u001b[0m\u001b[0mmel_scale\u001b[0m\u001b[0;34m(\u001b[0m\u001b[0mspecgram\u001b[0m\u001b[0;34m)\u001b[0m\u001b[0;34m\u001b[0m\u001b[0;34m\u001b[0m\u001b[0m\n\u001b[1;32m    436\u001b[0m         \u001b[0;32mreturn\u001b[0m \u001b[0mmel_specgram\u001b[0m\u001b[0;34m\u001b[0m\u001b[0;34m\u001b[0m\u001b[0m\n",
      "\u001b[0;32m/scratch/enis/conda/envs/soundenv3/lib/python3.7/site-packages/torch/nn/modules/module.py\u001b[0m in \u001b[0;36m_call_impl\u001b[0;34m(self, *input, **kwargs)\u001b[0m\n\u001b[1;32m    725\u001b[0m             \u001b[0mresult\u001b[0m \u001b[0;34m=\u001b[0m \u001b[0mself\u001b[0m\u001b[0;34m.\u001b[0m\u001b[0m_slow_forward\u001b[0m\u001b[0;34m(\u001b[0m\u001b[0;34m*\u001b[0m\u001b[0minput\u001b[0m\u001b[0;34m,\u001b[0m \u001b[0;34m**\u001b[0m\u001b[0mkwargs\u001b[0m\u001b[0;34m)\u001b[0m\u001b[0;34m\u001b[0m\u001b[0;34m\u001b[0m\u001b[0m\n\u001b[1;32m    726\u001b[0m         \u001b[0;32melse\u001b[0m\u001b[0;34m:\u001b[0m\u001b[0;34m\u001b[0m\u001b[0;34m\u001b[0m\u001b[0m\n\u001b[0;32m--> 727\u001b[0;31m             \u001b[0mresult\u001b[0m \u001b[0;34m=\u001b[0m \u001b[0mself\u001b[0m\u001b[0;34m.\u001b[0m\u001b[0mforward\u001b[0m\u001b[0;34m(\u001b[0m\u001b[0;34m*\u001b[0m\u001b[0minput\u001b[0m\u001b[0;34m,\u001b[0m \u001b[0;34m**\u001b[0m\u001b[0mkwargs\u001b[0m\u001b[0;34m)\u001b[0m\u001b[0;34m\u001b[0m\u001b[0;34m\u001b[0m\u001b[0m\n\u001b[0m\u001b[1;32m    728\u001b[0m         for hook in itertools.chain(\n\u001b[1;32m    729\u001b[0m                 \u001b[0m_global_forward_hooks\u001b[0m\u001b[0;34m.\u001b[0m\u001b[0mvalues\u001b[0m\u001b[0;34m(\u001b[0m\u001b[0;34m)\u001b[0m\u001b[0;34m,\u001b[0m\u001b[0;34m\u001b[0m\u001b[0;34m\u001b[0m\u001b[0m\n",
      "\u001b[0;32m/scratch/enis/conda/envs/soundenv3/lib/python3.7/site-packages/torchaudio/transforms.py\u001b[0m in \u001b[0;36mforward\u001b[0;34m(self, waveform)\u001b[0m\n\u001b[1;32m     82\u001b[0m         \"\"\"\n\u001b[1;32m     83\u001b[0m         return F.spectrogram(waveform, self.pad, self.window, self.n_fft, self.hop_length,\n\u001b[0;32m---> 84\u001b[0;31m                              self.win_length, self.power, self.normalized)\n\u001b[0m\u001b[1;32m     85\u001b[0m \u001b[0;34m\u001b[0m\u001b[0m\n\u001b[1;32m     86\u001b[0m \u001b[0;34m\u001b[0m\u001b[0m\n",
      "\u001b[0;32m/scratch/enis/conda/envs/soundenv3/lib/python3.7/site-packages/torchaudio/functional.py\u001b[0m in \u001b[0;36mspectrogram\u001b[0;34m(waveform, pad, window, n_fft, hop_length, win_length, power, normalized)\u001b[0m\n\u001b[1;32m     95\u001b[0m         \u001b[0mspec_f\u001b[0m \u001b[0;34m/=\u001b[0m \u001b[0mwindow\u001b[0m\u001b[0;34m.\u001b[0m\u001b[0mpow\u001b[0m\u001b[0;34m(\u001b[0m\u001b[0;36m2.\u001b[0m\u001b[0;34m)\u001b[0m\u001b[0;34m.\u001b[0m\u001b[0msum\u001b[0m\u001b[0;34m(\u001b[0m\u001b[0;34m)\u001b[0m\u001b[0;34m.\u001b[0m\u001b[0msqrt\u001b[0m\u001b[0;34m(\u001b[0m\u001b[0;34m)\u001b[0m\u001b[0;34m\u001b[0m\u001b[0;34m\u001b[0m\u001b[0m\n\u001b[1;32m     96\u001b[0m     \u001b[0;32mif\u001b[0m \u001b[0mpower\u001b[0m \u001b[0;32mis\u001b[0m \u001b[0;32mnot\u001b[0m \u001b[0;32mNone\u001b[0m\u001b[0;34m:\u001b[0m\u001b[0;34m\u001b[0m\u001b[0;34m\u001b[0m\u001b[0m\n\u001b[0;32m---> 97\u001b[0;31m         \u001b[0mspec_f\u001b[0m \u001b[0;34m=\u001b[0m \u001b[0mcomplex_norm\u001b[0m\u001b[0;34m(\u001b[0m\u001b[0mspec_f\u001b[0m\u001b[0;34m,\u001b[0m \u001b[0mpower\u001b[0m\u001b[0;34m=\u001b[0m\u001b[0mpower\u001b[0m\u001b[0;34m)\u001b[0m\u001b[0;34m\u001b[0m\u001b[0;34m\u001b[0m\u001b[0m\n\u001b[0m\u001b[1;32m     98\u001b[0m \u001b[0;34m\u001b[0m\u001b[0m\n\u001b[1;32m     99\u001b[0m     \u001b[0;32mreturn\u001b[0m \u001b[0mspec_f\u001b[0m\u001b[0;34m\u001b[0m\u001b[0;34m\u001b[0m\u001b[0m\n",
      "\u001b[0;32m/scratch/enis/conda/envs/soundenv3/lib/python3.7/site-packages/torchaudio/functional.py\u001b[0m in \u001b[0;36mcomplex_norm\u001b[0;34m(complex_tensor, power)\u001b[0m\n\u001b[1;32m    422\u001b[0m     \u001b[0;31m# Replace by torch.norm once issue is fixed\u001b[0m\u001b[0;34m\u001b[0m\u001b[0;34m\u001b[0m\u001b[0;34m\u001b[0m\u001b[0m\n\u001b[1;32m    423\u001b[0m     \u001b[0;31m# https://github.com/pytorch/pytorch/issues/34279\u001b[0m\u001b[0;34m\u001b[0m\u001b[0;34m\u001b[0m\u001b[0;34m\u001b[0m\u001b[0m\n\u001b[0;32m--> 424\u001b[0;31m     \u001b[0;32mreturn\u001b[0m \u001b[0mcomplex_tensor\u001b[0m\u001b[0;34m.\u001b[0m\u001b[0mpow\u001b[0m\u001b[0;34m(\u001b[0m\u001b[0;36m2.\u001b[0m\u001b[0;34m)\u001b[0m\u001b[0;34m.\u001b[0m\u001b[0msum\u001b[0m\u001b[0;34m(\u001b[0m\u001b[0;34m-\u001b[0m\u001b[0;36m1\u001b[0m\u001b[0;34m)\u001b[0m\u001b[0;34m.\u001b[0m\u001b[0mpow\u001b[0m\u001b[0;34m(\u001b[0m\u001b[0;36m0.5\u001b[0m \u001b[0;34m*\u001b[0m \u001b[0mpower\u001b[0m\u001b[0;34m)\u001b[0m\u001b[0;34m\u001b[0m\u001b[0;34m\u001b[0m\u001b[0m\n\u001b[0m\u001b[1;32m    425\u001b[0m \u001b[0;34m\u001b[0m\u001b[0m\n\u001b[1;32m    426\u001b[0m \u001b[0;34m\u001b[0m\u001b[0m\n",
      "\u001b[0;31mKeyboardInterrupt\u001b[0m: "
     ]
    }
   ],
   "source": [
    "wandb_project_name = runconfigs.PROJECT_NAME\n",
    "default_config = runconfigs.default_config\n",
    "config = run.setup_config(default_config, wandb_project_name)\n",
    "\n",
    "wandb_logger_ins = wandb_logger.WandBLogger(\n",
    "    project=wandb_project_name,\n",
    "    # name=runconfigs.PROJECT_NAME,\n",
    "    config=config,\n",
    ")\n",
    "\n",
    "run_exp(wandb_logger_ins)\n",
    "# return audio_dataset, config "
   ]
  },
  {
   "cell_type": "code",
   "execution_count": null,
   "metadata": {},
   "outputs": [],
   "source": []
  },
  {
   "cell_type": "code",
   "execution_count": null,
   "metadata": {},
   "outputs": [],
   "source": []
  }
 ],
 "metadata": {
  "kernelspec": {
   "display_name": "soundenv3",
   "language": "python",
   "name": "soundenv3"
  },
  "language_info": {
   "codemirror_mode": {
    "name": "ipython",
    "version": 3
   },
   "file_extension": ".py",
   "mimetype": "text/x-python",
   "name": "python",
   "nbconvert_exporter": "python",
   "pygments_lexer": "ipython3",
   "version": "3.7.9"
  }
 },
 "nbformat": 4,
 "nbformat_minor": 4
}

{
 "cells": [
  {
   "cell_type": "code",
   "execution_count": 1,
   "metadata": {},
   "outputs": [],
   "source": [
    "from nna.exp.megan import knapsackutils"
   ]
  },
  {
   "cell_type": "code",
   "execution_count": null,
   "metadata": {},
   "outputs": [],
   "source": []
  },
  {
   "cell_type": "code",
   "execution_count": 2,
   "metadata": {},
   "outputs": [
    {
     "name": "stdout",
     "output_type": "stream",
     "text": [
      "OrderedDict([('Site ID', '12'), ('Anthro/Bio', 'Bio/Anth'), ('Category', 'Bird/Plane'), ('Specific Category', ''), ('Comments', 'raven, songbirds, long tailed ducks with aircraft in background'), ('', ''), ('File Name', 'S4A10268_20190610_103000_bio_anth.wav'), ('Could not decice', 'FALSE'), ('Songbird', 'FALSE'), ('Water Bird', 'FALSE'), ('Insect', 'FALSE'), ('Running Water', 'FALSE'), ('Rain', 'FALSE'), ('Cable', 'FALSE'), ('Wind', 'FALSE'), ('Vehicle', 'FALSE'), ('Aircraft', 'FALSE'), ('Date dd/mm/yy)', '6/6/2019'), ('Start Time', '1:05:22'), ('End Time', '1:05:53'), ('#VALUE!', '0:00:31')])\n"
     ]
    },
    {
     "name": "stderr",
     "output_type": "stream",
     "text": [
      "/home/enis/projects/nna/src/nna/exp/megan/knapsackutils.py:111: RuntimeWarning: invalid value encountered in true_divide\n",
      "  _P = P / norm(P, ord=1)\n"
     ]
    },
    {
     "name": "stdout",
     "output_type": "stream",
     "text": [
      "1.0.0 : 0.68, 0.13, 0.19, 47\n",
      "3.0.0 : 0.48, 0.26, 0.26, 46\n",
      "X.X.X : 0.5, 0.25, 0.25, 24\n",
      "1.1.10 : 0.63, 0.22, 0.15, 459\n",
      "1.1.0 : 0.63, 0.14, 0.24, 837\n",
      "1.3.0 : 0.52, 0.4, 0.087, 161\n",
      "1.1.8 : 0.49, 0.19, 0.32, 88\n",
      "1.1.7 : 0.38, 0.32, 0.3, 160\n",
      "1.2.4 : 1.0, 0.0, 0.0, 2\n",
      "0.2.0 : 0.78, 0.22, 0.0, 23\n",
      "1.1.5 : 1.0, 0.0, 0.0, 3\n",
      "0.0.0 : 0.93, 0.017, 0.052, 58\n",
      "1.2.0 : 0.0, 0.0, 1.0, 1\n",
      "1.1.3 : 0.94, 0.062, 0.0, 32\n",
      "2.1.0 : 0.22, 0.56, 0.22, 18\n",
      "0.1.0 : 1.0, 0.0, 0.0, 23\n",
      "0.4.0 : 0.62, 0.38, 0.0, 8\n"
     ]
    }
   ],
   "source": [
    "solution_by_location_name = knapsackutils.main(version=\"split_by_distr\")\n"
   ]
  },
  {
   "cell_type": "code",
   "execution_count": 4,
   "metadata": {},
   "outputs": [
    {
     "data": {
      "text/plain": [
       "[['45',\n",
       "  '38',\n",
       "  '48',\n",
       "  '39',\n",
       "  '11',\n",
       "  '44',\n",
       "  '46',\n",
       "  '17',\n",
       "  '20',\n",
       "  '50',\n",
       "  '13',\n",
       "  '25',\n",
       "  '21',\n",
       "  '29',\n",
       "  '19',\n",
       "  '16',\n",
       "  '24',\n",
       "  '37'],\n",
       " ['18', '31', '34', '27', '32', '33', '47', '41', '22', '15'],\n",
       " ['30', '12', '14', '36', '40', '49']]"
      ]
     },
     "execution_count": 4,
     "metadata": {},
     "output_type": "execute_result"
    }
   ],
   "source": [
    "solution_by_location_name"
   ]
  },
  {
   "cell_type": "code",
   "execution_count": null,
   "metadata": {},
   "outputs": [],
   "source": []
  },
  {
   "cell_type": "code",
   "execution_count": null,
   "metadata": {},
   "outputs": [],
   "source": []
  },
  {
   "cell_type": "code",
   "execution_count": 2,
   "metadata": {},
   "outputs": [
    {
     "name": "stderr",
     "output_type": "stream",
     "text": [
      "/scratch/enis/conda/envs/soundenv3/lib/python3.7/site-packages/torchaudio/backend/utils.py:54: UserWarning: \"sox\" backend is being deprecated. The default backend will be changed to \"sox_io\" backend in 0.8.0 and \"sox\" backend will be removed in 0.9.0. Please migrate to \"sox_io\" backend. Please refer to https://github.com/pytorch/audio/issues/903 for the detail.\n",
      "  '\"sox\" backend is being deprecated. '\n"
     ]
    }
   ],
   "source": [
    "\n",
    "import numpy as np\n",
    "\n",
    "from pathlib import Path\n",
    "from collections import Counter\n",
    "\n",
    "import runconfigs # type: ignore\n",
    "import modelarchs # type: ignore\n",
    "\n",
    "import nna.exp.megan as megan\n",
    "from nna.exp import runutils"
   ]
  },
  {
   "cell_type": "code",
   "execution_count": 3,
   "metadata": {},
   "outputs": [],
   "source": [
    "# OVER WRITE CONFIG\n",
    "runconfigs.TAXO_COUNT_LIMIT = 0"
   ]
  },
  {
   "cell_type": "code",
   "execution_count": 4,
   "metadata": {},
   "outputs": [],
   "source": [
    "\n",
    "\n",
    "def prepare_dataset():\n",
    "\n",
    "    taxo_count_limit = runconfigs.TAXO_COUNT_LIMIT\n",
    "    sample_length_limit = runconfigs.SAMPLE_LENGTH_LIMIT\n",
    "    taxonomy_file_path = runconfigs.TAXONOMY_FILE_PATH\n",
    "\n",
    "    megan_labeled_files_info_path = runconfigs.MEGAN_LABELED_FILES_INFO_PATH\n",
    "\n",
    "    csv4megan_excell_clenaed = runconfigs.CSV4MEGAN_EXCELL_CLEANED\n",
    "\n",
    "    ignore_files = runconfigs.IGNORE_FILES\n",
    "\n",
    "    excerpt_length = runconfigs.EXCERPT_LENGTH\n",
    "    excell_names2code = runconfigs.EXCELL_NAMES2CODE\n",
    "    dataset_name_v = runconfigs.DATASET_NAME_V\n",
    "\n",
    "    audio_dataset, deleted_files = megan.preparedataset.run( # type: ignore\n",
    "        megan_labeled_files_info_path,\n",
    "        taxonomy_file_path,\n",
    "        csv4megan_excell_clenaed,\n",
    "        ignore_files,\n",
    "        excerpt_length,\n",
    "        sample_length_limit,\n",
    "        taxo_count_limit,\n",
    "        excell_names2code=excell_names2code,\n",
    "        dataset_name_v=dataset_name_v)\n",
    "\n",
    "    audio_dataset.load_audio_files(runconfigs.AUDIO_DATA_CACHE_PATH)\n",
    "    audio_dataset.pick_channel_by_clipping()\n",
    "\n",
    "    return audio_dataset, deleted_files"
   ]
  },
  {
   "cell_type": "code",
   "execution_count": 5,
   "metadata": {},
   "outputs": [
    {
     "name": "stdout",
     "output_type": "stream",
     "text": [
      "/scratch/enis/data/nna/labeling/megan/AudioSamplesPerSite/meganLabeledFiles_wlenV1.txt\n",
      "/scratch/enis/data/nna/labeling/megan/AudioSamplesPerSite\n",
      "4 files are missing corresponding to excell entries\n",
      "'-> 5 number of samples are DELETED due to ignore_files and missing_audio_files'\n",
      "-> 415 samples DELETED because they are not in the excell\n",
      "\n",
      "-> 0 samples DELETED because they do not have the taxo info coming from excell\n",
      "\n",
      "-> classes that do not have enough data:\n",
      "[REMOVED!]\n",
      "\n",
      "-> classes that have enough data:\n",
      "['other-biophony'] 56.0\n",
      "['other-insect'] 140.0\n",
      "['other-bird'] 661.0\n",
      "['songbirds'] 392.0\n",
      "['duck-goose-swan'] 183.0\n",
      "['grouse-ptarmigan'] 59.0\n",
      "['other-anthrophony'] 66.0\n",
      "['other-mammal'] 0.0\n",
      "['other-silence'] 20.0\n",
      "['unknown-sound'] 2.0\n",
      "['other-aircraft'] 107.0\n",
      "['seabirds'] 1.0\n",
      "['canids'] 1.0\n",
      "['loons'] 29.0\n",
      "['other-car'] 37.0\n",
      "['other-flare'] 11.0\n",
      "['other-rain'] 20.0\n",
      "('-> 0 number of samples are deleted because their taxonomy category does not '\n",
      " 'have enough data.')\n",
      "-> classes that do not have enough data\n",
      "will be REMOVED!\n",
      "-> 97 number of samples are deleted because their length is not long enough.\n",
      "loading from cache at /scratch/enis/data/nna/labeling/megan/AudioSamplesPerSite/files_as_np_filtered_v3_int16.pkl\n"
     ]
    }
   ],
   "source": [
    "audio_dataset, _ = prepare_dataset()"
   ]
  },
  {
   "cell_type": "code",
   "execution_count": 6,
   "metadata": {},
   "outputs": [],
   "source": [
    "from run import dataset_generate_samples\n",
    "from run import data_to_samples\n"
   ]
  },
  {
   "cell_type": "code",
   "execution_count": 7,
   "metadata": {},
   "outputs": [],
   "source": [
    "audio_dataset = dataset_generate_samples(audio_dataset,\n",
    "                                             runconfigs.EXCERPT_LENGTH)"
   ]
  },
  {
   "cell_type": "code",
   "execution_count": 8,
   "metadata": {},
   "outputs": [],
   "source": [
    "def taxo_counts(audio_dataset,prnt=False):\n",
    "    taxo_dist=Counter()\n",
    "    taxo2loc_dict = {}\n",
    "\n",
    "    for sound_ins in audio_dataset.values():\n",
    "        taxo_dist+=Counter({sound_ins.taxo_code:len(sound_ins.samples)})\n",
    "        \n",
    "        taxo2loc_dict.setdefault(sound_ins.taxo_code, Counter({}))\n",
    "        taxo2loc_dict[taxonomy_code] = taxo2loc_dict[\n",
    "                taxonomy_code] + Counter({site_id: 1})\n",
    "        \n",
    "    counted_items=list(taxo_dist.items())\n",
    "    counted_items=sorted(counted_items)\n",
    "    counted_items = [(i[0].split('.'),i[1]) for i in counted_items]\n",
    "    if prnt:\n",
    "        for i in counted_items:\n",
    "            print(audio_dataset.taxonomy[i[0]][0],i[1])\n",
    "\n",
    "    return counted_items\n",
    "\n",
    "def taxo2loc_counts(audio_dataset,prnt=False):\n",
    "    taxo2loc_dict = {}\n",
    "\n",
    "    for sound_ins in audio_dataset.values():\n",
    "        taxo2loc_dict.setdefault(sound_ins.taxo_code, Counter({}))\n",
    "        taxo2loc_dict[sound_ins.taxo_code] = taxo2loc_dict[\n",
    "                sound_ins.taxo_code] + Counter({sound_ins.location_id: len(sound_ins.samples)})\n",
    "        \n",
    "\n",
    "    return taxo2loc_dict"
   ]
  },
  {
   "cell_type": "code",
   "execution_count": 9,
   "metadata": {},
   "outputs": [],
   "source": [
    "taxo2loc_dict=taxo2loc_counts(audio_dataset)"
   ]
  },
  {
   "cell_type": "code",
   "execution_count": 10,
   "metadata": {},
   "outputs": [],
   "source": [
    "# taxo2loc_dict "
   ]
  },
  {
   "cell_type": "code",
   "execution_count": null,
   "metadata": {},
   "outputs": [],
   "source": []
  },
  {
   "cell_type": "code",
   "execution_count": null,
   "metadata": {},
   "outputs": [],
   "source": []
  },
  {
   "cell_type": "code",
   "execution_count": 11,
   "metadata": {},
   "outputs": [],
   "source": [
    "from nna.exp.megan.knapsackutils import *"
   ]
  },
  {
   "cell_type": "code",
   "execution_count": 33,
   "metadata": {},
   "outputs": [],
   "source": [
    "from tabulate import tabulate"
   ]
  },
  {
   "cell_type": "code",
   "execution_count": 12,
   "metadata": {},
   "outputs": [],
   "source": [
    "# taxo2loc_dict"
   ]
  },
  {
   "cell_type": "code",
   "execution_count": 13,
   "metadata": {},
   "outputs": [],
   "source": [
    "# taxo2loc_dict"
   ]
  },
  {
   "cell_type": "code",
   "execution_count": null,
   "metadata": {},
   "outputs": [],
   "source": []
  },
  {
   "cell_type": "code",
   "execution_count": 15,
   "metadata": {},
   "outputs": [],
   "source": [
    "# taxo_size2= {i:0 for i in taxo2loc_dict2.keys()}\n",
    "# for taxo,counts in taxo2loc_dict2.items():\n",
    "#     for c in counts.values():\n",
    "#         taxo_size2[taxo]+=c"
   ]
  },
  {
   "cell_type": "code",
   "execution_count": 16,
   "metadata": {},
   "outputs": [],
   "source": [
    "taxo_size= {i:0 for i in taxo2loc_dict.keys()}\n",
    "for taxo,counts in taxo2loc_dict.items():\n",
    "    for c in counts.values():\n",
    "        taxo_size[taxo]+=c"
   ]
  },
  {
   "cell_type": "code",
   "execution_count": 18,
   "metadata": {},
   "outputs": [],
   "source": [
    "# # difference between number of files and number of samples (10 seconds)\n",
    "# sorted(taxo_size.items())\n",
    "# for m in taxo_size:\n",
    "#     print(taxo_size[m],taxo_size2[m])"
   ]
  },
  {
   "cell_type": "code",
   "execution_count": null,
   "metadata": {},
   "outputs": [],
   "source": []
  },
  {
   "cell_type": "code",
   "execution_count": 19,
   "metadata": {},
   "outputs": [],
   "source": [
    "def find_upper_taxo(taxo):\n",
    "\n",
    "    if '.' in taxo:\n",
    "        taxo_a = taxo.split('.')\n",
    "    else:\n",
    "        taxo_a = taxo[:]\n",
    "\n",
    "    if set(taxo_a)==set('X'):\n",
    "        return '.'.join(taxo_a)\n",
    "    if 'X' in taxo_a:\n",
    "        taxo_a = [x if x!='X' else '0' for x in taxo_a]\n",
    "    # -1 because we do not change first bit\n",
    "    for i in range(len(taxo_a)-1):\n",
    "        if taxo_a[-(i+1)]=='0':\n",
    "            continue\n",
    "        else:\n",
    "            taxo_a[-(i+1)] = '0'\n",
    "            break\n",
    "    \n",
    "    taxo_a='.'.join(taxo_a)\n",
    "    return taxo_a\n",
    "\n",
    "input_exptected_input =[('1.3.0','1.0.0'),\n",
    "('1.1.0','1.0.0'),\n",
    "('1.1.10','1.1.0'),\n",
    "('1.1.0','1.0.0'),\n",
    "('1.1.7','1.1.0'),\n",
    "('1.1.0','1.0.0'),\n",
    "('1.1.8','1.1.0'),\n",
    "('1.1.0','1.0.0'),\n",
    "('1.2.0','1.0.0'),\n",
    "('0.2.0','0.0.0'),\n",
    "('1.1.5','1.1.0'),\n",
    "('1.1.0','1.0.0'),\n",
    "('1.2.4','1.2.0'),\n",
    "('1.2.0','1.0.0'),\n",
    "('1.1.3','1.1.0'),\n",
    "('1.1.0','1.0.0'),\n",
    "('0.1.0','0.0.0'),\n",
    "('0.4.0','0.0.0'),\n",
    "('2.1.0','2.0.0'),\n",
    "('1.X.X','1.0.0'),             \n",
    "]\n",
    "def test_upper_taxo(a_input,expected_input):\n",
    "    assert expected_input==find_upper_taxo(a_input)\n",
    "\n",
    "for a_input,expected_input in input_exptected_input:\n",
    "    test_upper_taxo(a_input,expected_input)\n",
    "# test_upper_taxo()\n",
    "\n",
    "taxo2loc_dict_merged={}\n",
    "# size_limit=31\n",
    "for org_taxo,size in taxo_size.items():\n",
    "#     if size>size_limit:\n",
    "    if taxo2loc_dict_merged.get(taxo,None) is not None:\n",
    "        print('over writing, ERROR')\n",
    "        print(taxo)\n",
    "    taxo2loc_dict_merged[org_taxo]=taxo2loc_dict[org_taxo]\n",
    "    upper_taxo = find_upper_taxo(org_taxo)\n",
    "    previous_taxo = org_taxo\n",
    "    while upper_taxo!=previous_taxo:\n",
    "        taxo2loc_dict_merged[upper_taxo]=taxo2loc_dict_merged.get(upper_taxo,Counter())+taxo2loc_dict[org_taxo]\n",
    "        previous_taxo = upper_taxo\n",
    "        upper_taxo = find_upper_taxo(previous_taxo)\n",
    "        \n",
    "# upper_taxo('1.X.X')"
   ]
  },
  {
   "cell_type": "code",
   "execution_count": 20,
   "metadata": {},
   "outputs": [],
   "source": [
    "# taxo2loc_dict_merged"
   ]
  },
  {
   "cell_type": "code",
   "execution_count": 21,
   "metadata": {},
   "outputs": [],
   "source": [
    "# taxo2loc_dict_merged"
   ]
  },
  {
   "cell_type": "code",
   "execution_count": 22,
   "metadata": {},
   "outputs": [],
   "source": [
    "# taxo2loc_dict2 = add_taxo_code2dataset(reader)\n",
    "taxo2loc_dict_val = taxo2loc_dict.values()\n",
    "#merge taxo counters\n",
    "a=list(taxo2loc_dict_val)\n",
    "\n",
    "all_taxo=Counter()\n",
    "for m in a:\n",
    "    all_taxo+=m\n"
   ]
  },
  {
   "cell_type": "code",
   "execution_count": 23,
   "metadata": {},
   "outputs": [
    {
     "data": {
      "text/plain": [
       "Counter({'11': 125,\n",
       "         '12': 143,\n",
       "         '14': 90,\n",
       "         '17': 98,\n",
       "         '18': 34,\n",
       "         '27': 114,\n",
       "         '30': 127,\n",
       "         '31': 108,\n",
       "         '34': 12,\n",
       "         '39': 100,\n",
       "         '44': 129,\n",
       "         '45': 9,\n",
       "         '46': 115,\n",
       "         '48': 120,\n",
       "         '50': 138,\n",
       "         '19': 75,\n",
       "         '20': 99,\n",
       "         '21': 86,\n",
       "         '24': 165,\n",
       "         '32': 17,\n",
       "         '38': 124,\n",
       "         '40': 62,\n",
       "         '41': 137,\n",
       "         '13': 26,\n",
       "         '16': 99,\n",
       "         '22': 38,\n",
       "         '25': 91,\n",
       "         '29': 144,\n",
       "         '36': 20,\n",
       "         '37': 110,\n",
       "         '47': 35,\n",
       "         '49': 127,\n",
       "         '33': 62,\n",
       "         '15': 104})"
      ]
     },
     "execution_count": 23,
     "metadata": {},
     "output_type": "execute_result"
    }
   ],
   "source": [
    "all_taxo"
   ]
  },
  {
   "cell_type": "code",
   "execution_count": 24,
   "metadata": {},
   "outputs": [],
   "source": [
    "\n",
    "def calculate_item_distr_distance(bins, target_distr):\n",
    "    '''calculate largest distance between bins and target_distr\n",
    "\n",
    "        Args:\n",
    "            bins: list of lists, [[item1_count,...],[item1_count,...],[item1_count,...]..]\n",
    "                 inner list contains count of each item in the bin. Bins has to \n",
    "                 have same length with target_distr and each index should \n",
    "                 correspond to same item.\n",
    "\n",
    "    '''\n",
    "\n",
    "    for a_bin in bins:\n",
    "        assert len(a_bin) == len(target_distr)\n",
    "\n",
    "    all_costs = []\n",
    "    for a_bin in bins:\n",
    "        cost = JSD(a_bin, target_distr)\n",
    "        all_costs.append(cost)\n",
    "    \n",
    "    all_costs=[0.47 if np.isnan(x) else x for x in all_costs]\n",
    "#     print('len all_costs',len(all_costs))\n",
    "#     print('len cost ',all_costs)\n",
    "    return np.max(all_costs), all_costs"
   ]
  },
  {
   "cell_type": "code",
   "execution_count": 25,
   "metadata": {},
   "outputs": [
    {
     "data": {
      "text/plain": [
       "2.5"
      ]
     },
     "execution_count": 25,
     "metadata": {},
     "output_type": "execute_result"
    }
   ],
   "source": [
    "np.mean([1,2,3,4])"
   ]
  },
  {
   "cell_type": "code",
   "execution_count": 26,
   "metadata": {},
   "outputs": [],
   "source": [
    "def JSD(P, Q):\n",
    "    '''\n",
    "\n",
    "    from https://github.com/BirdVox/cramer2020icassp/blob/master/00_create_splits.py\n",
    "    '''\n",
    "    _P = P / norm(P, ord=1)\n",
    "    _Q = Q / norm(Q, ord=1)\n",
    "    _M = 0.5 * (_P + _Q)\n",
    "    return 0.5 * (kl_div(_P, _M) + kl_div(_Q, _M))\n",
    "\n"
   ]
  },
  {
   "cell_type": "code",
   "execution_count": 27,
   "metadata": {},
   "outputs": [],
   "source": [
    "# bins=[[8,8,8],[2,2,2],[0,0,0]]\n",
    "# target_distr=[3,3,3]\n",
    "# bins=np.array(bins)\n",
    "# target_distr=np.array(target_distr)\n",
    "\n",
    "# a,b=calculate_item_distr_distance(bins, target_distr)\n",
    "# a,b"
   ]
  },
  {
   "cell_type": "code",
   "execution_count": null,
   "metadata": {},
   "outputs": [],
   "source": []
  },
  {
   "cell_type": "code",
   "execution_count": 28,
   "metadata": {},
   "outputs": [],
   "source": [
    "\n",
    "def pick_solution_by_item_distr(item_weights, solutions, location2taxo_dict,\n",
    "                                target_dist):\n",
    "    '''Pick best solution has closest item dist between bins.\n",
    "    \n",
    "        target_dist = dict, keys are taxo and values are total counts in dataset\n",
    "    \n",
    "    '''\n",
    "    best_sol = None\n",
    "    lowest_cost = float('Inf')\n",
    "    target_array = np.array(list(target_dist.values()))\n",
    "    target_array = target_array/np.sum(target_array)\n",
    "\n",
    "    for sol in solutions:\n",
    "        # returns 3 bins, each one is a Counter-> taxo:total_count\n",
    "        bins_as_taxo_dist = map_weight_sol2taxo_dist_sol(\n",
    "            item_weights, sol, location2taxo_dict)\n",
    "        # turn Counters into array with same order of target_dist\n",
    "        bins_as_taxo_array = []\n",
    "        for a_bin in bins_as_taxo_dist:\n",
    "            bin_array = [a_bin.get(k, 0) for k in target_dist.keys()]\n",
    "            bins_as_taxo_array.append(bin_array)\n",
    "        \n",
    "        cost, xx = calculate_item_distr_distance(bins_as_taxo_array,\n",
    "                                                target_array)\n",
    "    \n",
    "#         print('-------')\n",
    "#         print(bins_as_taxo_array)\n",
    "#         print('xx')\n",
    "#         print(xx)\n",
    "\n",
    "        if lowest_cost > cost:\n",
    "            best_sol = sol\n",
    "            lowest_cost = cost\n",
    "\n",
    "    return best_sol, lowest_cost\n"
   ]
  },
  {
   "cell_type": "code",
   "execution_count": 29,
   "metadata": {},
   "outputs": [
    {
     "data": {
      "text/plain": [
       "Counter({'11': 125,\n",
       "         '12': 143,\n",
       "         '14': 90,\n",
       "         '17': 98,\n",
       "         '18': 34,\n",
       "         '27': 114,\n",
       "         '30': 127,\n",
       "         '31': 108,\n",
       "         '34': 12,\n",
       "         '39': 100,\n",
       "         '44': 129,\n",
       "         '45': 9,\n",
       "         '46': 115,\n",
       "         '48': 120,\n",
       "         '50': 138,\n",
       "         '19': 75,\n",
       "         '20': 99,\n",
       "         '21': 86,\n",
       "         '24': 165,\n",
       "         '32': 17,\n",
       "         '38': 124,\n",
       "         '40': 62,\n",
       "         '41': 137,\n",
       "         '13': 26,\n",
       "         '16': 99,\n",
       "         '22': 38,\n",
       "         '25': 91,\n",
       "         '29': 144,\n",
       "         '36': 20,\n",
       "         '37': 110,\n",
       "         '47': 35,\n",
       "         '49': 127,\n",
       "         '33': 62,\n",
       "         '15': 104})"
      ]
     },
     "execution_count": 29,
     "metadata": {},
     "output_type": "execute_result"
    }
   ],
   "source": [
    "all_taxo"
   ]
  },
  {
   "cell_type": "code",
   "execution_count": 30,
   "metadata": {},
   "outputs": [],
   "source": [
    "def run(taxo2loc_dict,audio_dataset,all_taxo):\n",
    "    # weights and values for knapsack\n",
    "    # counts of taxonomies are weights\n",
    "    # bins are train,validation,test\n",
    "    weights = list(all_taxo.values())\n",
    "    values = weights\n",
    "\n",
    "    #solve knapsack possible distributions around ~(60,20,20)\n",
    "    bin_capacities_w_solutions = solve_knapsack4combinations(weights,values)\n",
    "    \n",
    "    # remove bin_capacity info from solutions\n",
    "    solutions = [solution for bin_capacity,solution in bin_capacities_w_solutions]\n",
    "\n",
    "    # switch dict keys with key of value dicts\n",
    "    item_weights=all_taxo\n",
    "    location2taxo_dict = reverse_taxo2loc_dict(taxo2loc_dict)\n",
    "\n",
    "    dataset_taxo_distr = {k:sum(v.values()) for k,v in  taxo2loc_dict.items()}\n",
    "\n",
    "    target_dist = dataset_taxo_distr\n",
    "\n",
    "    best_sol, lowest_cost = pick_solution_by_item_distr(item_weights, solutions, location2taxo_dict, target_dist)\n",
    "\n",
    "    solution_by_location_name = map_weights2indexes(item_weights, best_sol)\n",
    "\n",
    "    # print solutions\n",
    "    solution_by_taxo_dist=[]\n",
    "    for sol_bin in solution_by_location_name:\n",
    "        taxo_counter = [location2taxo_dict[loc] for loc in sol_bin]\n",
    "        tc=Counter()\n",
    "        for c in taxo_counter:\n",
    "            tc+=c\n",
    "        solution_by_taxo_dist.append(tc)\n",
    "\n",
    "\n",
    "    t_dist = {}\n",
    "    table=[]\n",
    "    for taxo in taxo2loc_dict.keys():\n",
    "        train=solution_by_taxo_dist[0][taxo]\n",
    "        val=solution_by_taxo_dist[1][taxo]\n",
    "        test = solution_by_taxo_dist[2][taxo]\n",
    "        total = (train+val+test)\n",
    "        t_dist[taxo]=(train/total,val/total,test/total)\n",
    "        taxo_name = audio_dataset.taxonomy[taxo][0].replace('other-','')\n",
    "        table.append([taxo_name,f'{train/total:1.2}', f'{val/total:1.2}', f'{test/total:1.2}', f'{total}'])\n",
    "        print(f\"{taxo_name} : {train/total:1.2}, {val/total:1.2}, {test/total:1.2}, {total}\")\n",
    "    print(tabulate(table, headers=['name','train','val','test','total']))  \n",
    "    return solution_by_location_name,solution_by_taxo_dist"
   ]
  },
  {
   "cell_type": "code",
   "execution_count": 65,
   "metadata": {},
   "outputs": [
    {
     "name": "stdout",
     "output_type": "stream",
     "text": [
      "222 25 6 253\n"
     ]
    }
   ],
   "source": [
    "taxo='1.3.0'\n",
    "train=solution_by_taxo_dist[0][taxo]\n",
    "val=solution_by_taxo_dist[1][taxo]\n",
    "test = solution_by_taxo_dist[2][taxo]\n",
    "total = (train+val+test)\n",
    "print(train,val,test,total)"
   ]
  },
  {
   "cell_type": "code",
   "execution_count": 62,
   "metadata": {},
   "outputs": [
    {
     "data": {
      "text/plain": [
       "0.09881422924901186"
      ]
     },
     "execution_count": 62,
     "metadata": {},
     "output_type": "execute_result"
    }
   ],
   "source": []
  },
  {
   "cell_type": "code",
   "execution_count": 34,
   "metadata": {},
   "outputs": [
    {
     "name": "stdout",
     "output_type": "stream",
     "text": [
      "biophony : 0.64, 0.18, 0.18, 2691\n",
      "insect : 0.88, 0.099, 0.024, 253\n",
      "bird : 0.62, 0.18, 0.2, 2351\n",
      "songbirds : 0.73, 0.15, 0.12, 674\n",
      "duck-goose-swan : 0.56, 0.17, 0.27, 284\n",
      "grouse-ptarmigan : 0.73, 0.23, 0.047, 128\n",
      "anthrophony : 0.57, 0.23, 0.2, 284\n",
      "mammal : 1.0, 0.0, 0.0, 3\n",
      "silence : 0.32, 0.42, 0.26, 53\n",
      "unknown-sound : 0.42, 0.25, 0.33, 24\n",
      "aircraft : 0.37, 0.45, 0.18, 120\n",
      "seabirds : 1.0, 0.0, 0.0, 3\n",
      "canids : 1.0, 0.0, 0.0, 2\n",
      "loons : 0.038, 0.65, 0.31, 52\n",
      "car : 0.84, 0.068, 0.091, 44\n",
      "flare : 0.59, 0.41, 0.0, 17\n",
      "rain : 0.0, 0.61, 0.39, 31\n",
      "geology : 0.0, 0.61, 0.39, 31\n",
      "name                train    val    test    total\n",
      "----------------  -------  -----  ------  -------\n",
      "biophony            0.64   0.18    0.18      2691\n",
      "insect              0.88   0.099   0.024      253\n",
      "bird                0.62   0.18    0.2       2351\n",
      "songbirds           0.73   0.15    0.12       674\n",
      "duck-goose-swan     0.56   0.17    0.27       284\n",
      "grouse-ptarmigan    0.73   0.23    0.047      128\n",
      "anthrophony         0.57   0.23    0.2        284\n",
      "mammal              1      0       0            3\n",
      "silence             0.32   0.42    0.26        53\n",
      "unknown-sound       0.42   0.25    0.33        24\n",
      "aircraft            0.37   0.45    0.18       120\n",
      "seabirds            1      0       0            3\n",
      "canids              1      0       0            2\n",
      "loons               0.038  0.65    0.31        52\n",
      "car                 0.84   0.068   0.091       44\n",
      "flare               0.59   0.41    0           17\n",
      "rain                0      0.61    0.39        31\n",
      "geology             0      0.61    0.39        31\n"
     ]
    },
    {
     "name": "stderr",
     "output_type": "stream",
     "text": [
      "/scratch/enis/conda/envs/soundenv3/lib/python3.7/site-packages/ipykernel_launcher.py:6: RuntimeWarning: invalid value encountered in true_divide\n",
      "  \n"
     ]
    }
   ],
   "source": [
    "solution_by_location_name,solution_by_taxo_dist=run(taxo2loc_dict_merged,audio_dataset,all_taxo)"
   ]
  },
  {
   "cell_type": "code",
   "execution_count": null,
   "metadata": {},
   "outputs": [],
   "source": [
    "table=[[] for set in range(3+1)]\n",
    "\n",
    "\n",
    "for i,loc in enumerate(location_ids):\n",
    "    table[i+1].append(loc)\n",
    "    for taxo in taxo_codes:\n",
    "        table[i+1].append(table_dict[loc][taxo])\n",
    "table=sorted(table)\n",
    "\n",
    "table[0].append('total')\n",
    "for taxo in taxo_codes:\n",
    "    table[0].append(total[taxo])\n",
    "    \n",
    "taxo_codes_names =[audio_dataset.taxonomy[i][0].replace('other-','')[:6] for i in taxo_codes] \n",
    "print(tabulate(table, headers=['loc']+taxo_codes_names))"
   ]
  },
  {
   "cell_type": "code",
   "execution_count": null,
   "metadata": {},
   "outputs": [],
   "source": []
  },
  {
   "cell_type": "code",
   "execution_count": 201,
   "metadata": {},
   "outputs": [
    {
     "data": {
      "text/plain": [
       "Counter({'11': 6,\n",
       "         '15': 5,\n",
       "         '16': 17,\n",
       "         '20': 15,\n",
       "         '21': 2,\n",
       "         '25': 1,\n",
       "         '31': 36,\n",
       "         '37': 2,\n",
       "         '38': 5,\n",
       "         '40': 28,\n",
       "         '49': 11})"
      ]
     },
     "execution_count": 201,
     "metadata": {},
     "output_type": "execute_result"
    }
   ],
   "source": [
    "taxo2loc_dict_merged['1.1.8']"
   ]
  },
  {
   "cell_type": "code",
   "execution_count": 189,
   "metadata": {},
   "outputs": [
    {
     "data": {
      "text/plain": [
       "Counter({'25': 7, '27': 10})"
      ]
     },
     "execution_count": 189,
     "metadata": {},
     "output_type": "execute_result"
    }
   ],
   "source": [
    "taxo2loc_dict_merged['0.4.0']"
   ]
  },
  {
   "cell_type": "code",
   "execution_count": null,
   "metadata": {},
   "outputs": [],
   "source": []
  },
  {
   "cell_type": "code",
   "execution_count": 51,
   "metadata": {},
   "outputs": [
    {
     "name": "stdout",
     "output_type": "stream",
     "text": [
      "biophony : 0.64, 0.18, 0.18, 2691\n",
      "insect : 0.88, 0.099, 0.024, 253\n",
      "bird : 0.62, 0.18, 0.2, 2351\n",
      "songbirds : 0.73, 0.15, 0.12, 674\n",
      "duck-goose-swan : 0.56, 0.17, 0.27, 284\n",
      "grouse-ptarmigan : 0.73, 0.23, 0.047, 128\n",
      "anthrophony : 0.57, 0.23, 0.2, 284\n",
      "mammal : 1.0, 0.0, 0.0, 3\n",
      "silence : 0.32, 0.42, 0.26, 53\n",
      "unknown-sound : 0.42, 0.25, 0.33, 24\n",
      "aircraft : 0.37, 0.45, 0.18, 120\n",
      "seabirds : 1.0, 0.0, 0.0, 3\n",
      "canids : 1.0, 0.0, 0.0, 2\n",
      "loons : 0.038, 0.65, 0.31, 52\n",
      "car : 0.84, 0.068, 0.091, 44\n",
      "flare : 0.59, 0.41, 0.0, 17\n",
      "rain : 0.0, 0.61, 0.39, 31\n",
      "name                train    val    test    total\n",
      "----------------  -------  -----  ------  -------\n",
      "biophony            0.64   0.18    0.18      2691\n",
      "bird                0.62   0.18    0.2       2351\n",
      "songbirds           0.73   0.15    0.12       674\n",
      "duck-goose-swan     0.56   0.17    0.27       284\n",
      "anthrophony         0.57   0.23    0.2        284\n",
      "insect              0.88   0.099   0.024      253\n",
      "grouse-ptarmigan    0.73   0.23    0.047      128\n",
      "aircraft            0.37   0.45    0.18       120\n",
      "silence             0.32   0.42    0.26        53\n",
      "loons               0.038  0.65    0.31        52\n",
      "car                 0.84   0.068   0.091       44\n",
      "rain                0      0.61    0.39        31\n",
      "unknown-sound       0.42   0.25    0.33        24\n",
      "flare               0.59   0.41    0           17\n",
      "mammal              1      0       0            3\n",
      "seabirds            1      0       0            3\n",
      "canids              1      0       0            2\n"
     ]
    }
   ],
   "source": [
    "t_dist = {}\n",
    "table=[]\n",
    "for taxo in taxo2loc_dict.keys():\n",
    "    train=solution_by_taxo_dist[0][taxo]\n",
    "    val=solution_by_taxo_dist[1][taxo]\n",
    "    test = solution_by_taxo_dist[2][taxo]\n",
    "    total = (train+val+test)\n",
    "    t_dist[taxo]=(train/total,val/total,test/total)\n",
    "    taxo_name = audio_dataset.taxonomy[taxo][0].replace('other-','')\n",
    "    table.append([taxo_name,f'{train/total:1.2}', f'{val/total:1.2}', f'{test/total:1.2}', total])\n",
    "    print(f\"{taxo_name} : {train/total:1.2}, {val/total:1.2}, {test/total:1.2}, {total}\")\n",
    "    \n",
    "table.sort(key=lambda x:x[-1],reverse=True)\n",
    "print(tabulate(table, headers=['name','train','val','test','total']))"
   ]
  },
  {
   "cell_type": "code",
   "execution_count": 38,
   "metadata": {},
   "outputs": [
    {
     "data": {
      "text/plain": [
       "['aircraft', '0.37', '0.45', '0.18', '120']"
      ]
     },
     "execution_count": 38,
     "metadata": {},
     "output_type": "execute_result"
    }
   ],
   "source": [
    "table[0]"
   ]
  },
  {
   "cell_type": "code",
   "execution_count": 67,
   "metadata": {},
   "outputs": [
    {
     "data": {
      "text/plain": [
       "[['12',\n",
       "  '14',\n",
       "  '27',\n",
       "  '49',\n",
       "  '31',\n",
       "  '39',\n",
       "  '44',\n",
       "  '45',\n",
       "  '48',\n",
       "  '19',\n",
       "  '16',\n",
       "  '21',\n",
       "  '38',\n",
       "  '41',\n",
       "  '20',\n",
       "  '29',\n",
       "  '37',\n",
       "  '15'],\n",
       " ['17', '46', '50', '32', '33', '25', '40'],\n",
       " ['11', '18', '34', '24', '13', '22', '36', '47', '30']]"
      ]
     },
     "execution_count": 67,
     "metadata": {},
     "output_type": "execute_result"
    }
   ],
   "source": [
    "solution_by_location_name"
   ]
  },
  {
   "cell_type": "code",
   "execution_count": null,
   "metadata": {},
   "outputs": [],
   "source": []
  },
  {
   "cell_type": "code",
   "execution_count": 238,
   "metadata": {},
   "outputs": [
    {
     "name": "stdout",
     "output_type": "stream",
     "text": [
      "name                train    val    test    total\n",
      "----------------  -------  -----  ------  -------\n",
      "biophony             0.63  0.17    0.2         84\n",
      "insect               0.78  0.11    0.11       337\n",
      "bird                 0.73  0.14    0.12      1294\n",
      "songbirds            0.75  0.096   0.15       674\n",
      "duck-goose-swan      0.75  0.13    0.12      1578\n",
      "grouse-ptarmigan     0.75  0.13    0.11      1422\n",
      "anthrophony          0.64  0.049   0.31       103\n",
      "silence              0.75  0.15    0.094       53\n",
      "unknown-sound        0.88  0.042   0.083       24\n",
      "aircraft             0.45  0.3     0.24       223\n",
      "loons                0.73  0.14    0.13      1346\n",
      "car                  0.72  0.034   0.24       147\n",
      "rain                 0.32  0.45    0.23        31\n"
     ]
    }
   ],
   "source": [
    "print(tabulate(table, headers=['name','train','val','test','total']))"
   ]
  },
  {
   "cell_type": "code",
   "execution_count": null,
   "metadata": {},
   "outputs": [],
   "source": []
  }
 ],
 "metadata": {
  "kernelspec": {
   "display_name": "soundenv3",
   "language": "python",
   "name": "soundenv3"
  },
  "language_info": {
   "codemirror_mode": {
    "name": "ipython",
    "version": 3
   },
   "file_extension": ".py",
   "mimetype": "text/x-python",
   "name": "python",
   "nbconvert_exporter": "python",
   "pygments_lexer": "ipython3",
   "version": "3.7.9"
  }
 },
 "nbformat": 4,
 "nbformat_minor": 4
}

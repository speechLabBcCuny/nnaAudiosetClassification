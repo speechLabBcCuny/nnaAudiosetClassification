{
 "cells": [
  {
   "cell_type": "code",
   "execution_count": 1,
   "metadata": {},
   "outputs": [
    {
     "name": "stderr",
     "output_type": "stream",
     "text": [
      "/scratch/enis/conda/envs/soundenv3/lib/python3.7/site-packages/torchaudio/backend/utils.py:54: UserWarning: \"sox\" backend is being deprecated. The default backend will be changed to \"sox_io\" backend in 0.8.0 and \"sox\" backend will be removed in 0.9.0. Please migrate to \"sox_io\" backend. Please refer to https://github.com/pytorch/audio/issues/903 for the detail.\n",
      "  '\"sox\" backend is being deprecated. '\n"
     ]
    }
   ],
   "source": [
    "import os\n",
    "\n",
    "import numpy as np\n",
    "\n",
    "from pathlib import Path\n",
    "from collections import Counter\n",
    "\n",
    "import runconfigs # type: ignore\n",
    "import modelarchs # type: ignore\n",
    "\n",
    "import nna.exp.megan as megan\n",
    "from nna.exp import runutils\n"
   ]
  },
  {
   "cell_type": "code",
   "execution_count": 2,
   "metadata": {},
   "outputs": [],
   "source": [
    "# OVER WRITE CONFIG\n",
    "runconfigs.TAXO_COUNT_LIMIT = 0"
   ]
  },
  {
   "cell_type": "code",
   "execution_count": 3,
   "metadata": {},
   "outputs": [],
   "source": [
    "\n",
    "\n",
    "def prepare_dataset():\n",
    "\n",
    "    taxo_count_limit = runconfigs.TAXO_COUNT_LIMIT\n",
    "    sample_length_limit = runconfigs.SAMPLE_LENGTH_LIMIT\n",
    "    taxonomy_file_path = runconfigs.TAXONOMY_FILE_PATH\n",
    "\n",
    "    megan_labeled_files_info_path = runconfigs.MEGAN_LABELED_FILES_INFO_PATH\n",
    "\n",
    "    csv4megan_excell_clenaed = runconfigs.CSV4MEGAN_EXCELL_CLEANED\n",
    "\n",
    "    ignore_files = runconfigs.IGNORE_FILES\n",
    "\n",
    "    excerpt_length = runconfigs.EXCERPT_LENGTH\n",
    "    excell_names2code = runconfigs.EXCELL_NAMES2CODE\n",
    "    dataset_name_v = runconfigs.DATASET_NAME_V\n",
    "\n",
    "    audio_dataset, deleted_files = megan.preparedataset.run( # type: ignore\n",
    "        megan_labeled_files_info_path,\n",
    "        taxonomy_file_path,\n",
    "        csv4megan_excell_clenaed,\n",
    "        ignore_files,\n",
    "        excerpt_length,\n",
    "        sample_length_limit,\n",
    "        taxo_count_limit,\n",
    "        excell_names2code=excell_names2code,\n",
    "        dataset_name_v=dataset_name_v)\n",
    "\n",
    "    audio_dataset.load_audio_files(runconfigs.AUDIO_DATA_CACHE_PATH)\n",
    "    audio_dataset.pick_channel_by_clipping()\n",
    "\n",
    "    return audio_dataset, deleted_files"
   ]
  },
  {
   "cell_type": "code",
   "execution_count": 4,
   "metadata": {},
   "outputs": [
    {
     "name": "stdout",
     "output_type": "stream",
     "text": [
      "/scratch/enis/data/nna/labeling/megan/AudioSamplesPerSite/meganLabeledFiles_wlenV1.txt\n",
      "/scratch/enis/data/nna/labeling/megan/AudioSamplesPerSite\n",
      "4 files are missing corresponding to excell entries\n",
      "'-> 5 number of samples are DELETED due to ignore_files and missing_audio_files'\n",
      "-> 415 samples DELETED because they are not in the excell\n",
      "\n",
      "-> 0 samples DELETED because they do not have the taxo info coming from excell\n",
      "\n",
      "-> classes that do not have enough data:\n",
      "[REMOVED!]\n",
      "\n",
      "-> classes that have enough data:\n",
      "['other-biophony'] 56.0\n",
      "['other-insect'] 140.0\n",
      "['other-bird'] 661.0\n",
      "['songbirds'] 392.0\n",
      "['duck-goose-swan'] 183.0\n",
      "['grouse-ptarmigan'] 59.0\n",
      "['other-anthrophony'] 66.0\n",
      "['other-mammal'] 0.0\n",
      "['other-silence'] 20.0\n",
      "['unknown-sound'] 2.0\n",
      "['other-aircraft'] 107.0\n",
      "['seabirds'] 1.0\n",
      "['canids'] 1.0\n",
      "['loons'] 29.0\n",
      "['other-car'] 37.0\n",
      "['other-flare'] 11.0\n",
      "['other-rain'] 20.0\n",
      "('-> 0 number of samples are deleted because their taxonomy category does not '\n",
      " 'have enough data.')\n",
      "-> classes that do not have enough data\n",
      "will be REMOVED!\n",
      "-> 97 number of samples are deleted because their length is not long enough.\n",
      "loading from cache at /scratch/enis/data/nna/labeling/megan/AudioSamplesPerSite/files_as_np_filtered_v3_int16.pkl\n"
     ]
    }
   ],
   "source": [
    "audio_dataset, _ = prepare_dataset()"
   ]
  },
  {
   "cell_type": "code",
   "execution_count": 5,
   "metadata": {},
   "outputs": [],
   "source": [
    "from run import dataset_generate_samples\n",
    "from run import data_to_samples\n"
   ]
  },
  {
   "cell_type": "code",
   "execution_count": 6,
   "metadata": {},
   "outputs": [],
   "source": [
    "audio_dataset = dataset_generate_samples(audio_dataset,\n",
    "                                             runconfigs.EXCERPT_LENGTH)"
   ]
  },
  {
   "cell_type": "code",
   "execution_count": 7,
   "metadata": {},
   "outputs": [],
   "source": [
    "def taxo_counts(audio_dataset,prnt=False):\n",
    "    taxo_dist=Counter()\n",
    "    for sound_ins in audio_dataset.values():\n",
    "        taxo_dist+=Counter({sound_ins.taxo_code:len(sound_ins.samples)})\n",
    "    \n",
    "    counted_items=list(taxo_dist.items())\n",
    "    counted_items=sorted(counted_items)\n",
    "    counted_items = [(i[0].split('.'),i[1]) for i in counted_items]\n",
    "    if prnt:\n",
    "        for i in counted_items:\n",
    "            print(audio_dataset.taxonomy[i[0]][0],i[1])\n",
    "\n",
    "    return counted_items\n",
    "\n",
    "def print_counts_highest_taxo(audio_dataset):\n",
    "    counted_items=taxo_counts(audio_dataset)\n",
    "    \n",
    "    first_level = Counter()\n",
    "    for i in counted_items:\n",
    "        first_level+={i[0][0]:i[1]}\n",
    "    for m in first_level.items():\n",
    "        if m[0]=='X':\n",
    "            print('unknown sound',m[1])\n",
    "        else:\n",
    "            name_taxo = audio_dataset.taxonomy[[m[0],'0','0']][0]\n",
    "            name_taxo=name_taxo.replace('other-','')\n",
    "            print(name_taxo,m[1])\n"
   ]
  },
  {
   "cell_type": "code",
   "execution_count": null,
   "metadata": {},
   "outputs": [],
   "source": []
  },
  {
   "cell_type": "code",
   "execution_count": 64,
   "metadata": {},
   "outputs": [],
   "source": [
    "counted_items=taxo_counts(audio_dataset)"
   ]
  },
  {
   "cell_type": "code",
   "execution_count": 65,
   "metadata": {},
   "outputs": [
    {
     "name": "stdout",
     "output_type": "stream",
     "text": [
      "anthrophony 284\n",
      "biophony 2691\n",
      "geology 31\n",
      "silence 53\n",
      "unknown sound 24\n"
     ]
    }
   ],
   "source": [
    "print_counts_highest_taxo(audio_dataset)"
   ]
  },
  {
   "cell_type": "code",
   "execution_count": null,
   "metadata": {},
   "outputs": [],
   "source": []
  },
  {
   "cell_type": "code",
   "execution_count": 106,
   "metadata": {},
   "outputs": [],
   "source": [
    "taxo_dist = Counter()\n",
    "location_ids = set([ i.location_id for i in audio_dataset.values()])\n",
    "taxo_codes = set([ i.taxo_code for i in audio_dataset.values()])\n",
    "\n",
    "location_ids = sorted(list(location_ids))\n",
    "taxo_codes = sorted(list(taxo_codes))\n",
    "\n",
    "table_dict = {loc:{taxo:0 for taxo in taxo_codes} for loc in location_ids}\n",
    "total={taxo:0 for taxo in taxo_codes}\n",
    "for sound_ins in audio_dataset.values():\n",
    "    table_dict[sound_ins.location_id ][sound_ins.taxo_code]+=len(sound_ins.samples)\n",
    "    total[sound_ins.taxo_code]+=len(sound_ins.samples)"
   ]
  },
  {
   "cell_type": "code",
   "execution_count": 91,
   "metadata": {},
   "outputs": [],
   "source": [
    "from tabulate import tabulate\n",
    "\n"
   ]
  },
  {
   "cell_type": "code",
   "execution_count": null,
   "metadata": {},
   "outputs": [],
   "source": []
  },
  {
   "cell_type": "code",
   "execution_count": null,
   "metadata": {},
   "outputs": [],
   "source": []
  },
  {
   "cell_type": "code",
   "execution_count": 115,
   "metadata": {},
   "outputs": [
    {
     "name": "stdout",
     "output_type": "stream",
     "text": [
      "loc      anthro    car    aircra    flare    biopho    bird    songbi    loons    seabir    duck-g    grouse    mammal    canids    insect    rain    silenc    unknow\n",
      "-----  --------  -----  --------  -------  --------  ------  --------  -------  --------  --------  --------  --------  --------  --------  ------  --------  --------\n",
      "total       103     44       120       17        84    1210       674       52         3       284       128         1         2       253      31        53        24\n",
      "11            0      0         0        0         6      95        12        0         0         2         6         0         0         4       0         0         0\n",
      "12            3      0         0        0        15     124         0        0         0         0         0         1         0         0       0         0         0\n",
      "13            0      0         0        0         0      24         0        0         0         0         0         0         0         0       0         2         0\n",
      "14            0      0         0        0        14      44        10        0         0         0         0         0         0        18       0         3         1\n",
      "15            0      0        29        0         0       0         0        0         0        70         5         0         0         0       0         0         0\n",
      "16            0      0         0        0         0      29        46        0         2         5        17         0         0         0       0         0         0\n",
      "17            0      0        54        0         7      27         5        0         0         0         0         0         0         0       0         5         0\n",
      "18            0      0         0        0         1      18         8        0         0         0         0         0         0         0       0         5         2\n",
      "19            0      0         6        0         0       9        56        0         1         1         0         0         0         2       0         0         0\n",
      "20            0      0         0        0         0       9        64        0         0         3        15         0         2         1       0         4         1\n",
      "21            0      0         0        0         0      14        49        0         0         0         2         0         0        20       0         0         1\n",
      "22            0      0         0        0         0      14        17        2         0         5         0         0         0         0       0         0         0\n",
      "24           32      4        22        0         0      43        17       14         0        31         0         0         0         2       0         0         0\n",
      "25            0      3         0        7         0      24        30       20         0         2         1         0         0         0       0         2         2\n",
      "27            5      0         9       10         1      48         3        1         0        16         0         0         0        20       0         0         1\n",
      "29           63     37         0        0         0      13        28        0         0         2         0         0         0         0       0         0         1\n",
      "30            0      0         0        0         4      58        25        0         0        40         0         0         0         0       0         0         0\n",
      "31            0      0         0        0         3       2        67        0         0         0        36         0         0         0       0         0         0\n",
      "32            0      0         0        0         0       0         0        0         0         0         0         0         0         7       0         8         2\n",
      "33            0      0         0        0         0       0        45        0         0         0         0         0         0         0      14         3         0\n",
      "34            0      0         0        0         3       1         0        0         0         0         0         0         0         0       7         0         1\n",
      "36            0      0         0        0         0       3         0        0         0         0         0         0         0         0       5         7         5\n",
      "37            0      0         0        0         0      31        77        0         0         0         2         0         0         0       0         0         0\n",
      "38            0      0         0        0         0      68         6        1         0        28         5         0         0        12       0         3         1\n",
      "39            0      0         0        0         1      69        18        0         0         1         0         0         0         8       0         3         0\n",
      "40            0      0         0        0         0      23         0        0         0         5        28         0         0         2       0         4         0\n",
      "41            0      0         0        0         0      30         0        0         0         0         0         0         0       107       0         0         0\n",
      "44            0      0         0        0         6      89         0        0         0         0         0         0         0        34       0         0         0\n",
      "45            0      0         0        0         1       0         0        0         0         0         0         0         0         0       0         4         4\n",
      "46            0      0         0        0        17      27         9       14         0        41         0         0         0         0       5         0         2\n",
      "47            0      0         0        0         0      30         5        0         0         0         0         0         0         0       0         0         0\n",
      "48            0      0         0        0         2     113         1        0         0         4         0         0         0         0       0         0         0\n",
      "49            0      0         0        0         0      21        67        0         0        28        11         0         0         0       0         0         0\n",
      "50            0      0         0        0         3     110         9        0         0         0         0         0         0        16       0         0         0\n"
     ]
    }
   ],
   "source": [
    "# create  table/matrix of counts in each label at each location\n",
    "\n",
    "table=[[] for loc in range(len(location_ids)+1)]\n",
    "\n",
    "\n",
    "for i,loc in enumerate(location_ids):\n",
    "    table[i+1].append(loc)\n",
    "    for taxo in taxo_codes:\n",
    "        table[i+1].append(table_dict[loc][taxo])\n",
    "table=sorted(table)\n",
    "\n",
    "table[0].append('total')\n",
    "for taxo in taxo_codes:\n",
    "    table[0].append(total[taxo])\n",
    "    \n",
    "taxo_codes_names =[audio_dataset.taxonomy[i][0].replace('other-','')[:6] for i in taxo_codes] \n",
    "print(tabulate(table, headers=['loc']+taxo_codes_names))"
   ]
  },
  {
   "cell_type": "code",
   "execution_count": null,
   "metadata": {},
   "outputs": [],
   "source": []
  },
  {
   "cell_type": "code",
   "execution_count": null,
   "metadata": {},
   "outputs": [],
   "source": []
  },
  {
   "cell_type": "code",
   "execution_count": null,
   "metadata": {},
   "outputs": [],
   "source": []
  }
 ],
 "metadata": {
  "kernelspec": {
   "display_name": "soundenv3",
   "language": "python",
   "name": "soundenv3"
  },
  "language_info": {
   "codemirror_mode": {
    "name": "ipython",
    "version": 3
   },
   "file_extension": ".py",
   "mimetype": "text/x-python",
   "name": "python",
   "nbconvert_exporter": "python",
   "pygments_lexer": "ipython3",
   "version": "3.7.9"
  }
 },
 "nbformat": 4,
 "nbformat_minor": 4
}

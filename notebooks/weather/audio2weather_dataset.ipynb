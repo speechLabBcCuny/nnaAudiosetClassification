{
 "cells": [
  {
   "cell_type": "code",
   "execution_count": 4,
   "metadata": {},
   "outputs": [
    {
     "data": {
      "application/vnd.jupyter.widget-view+json": {
       "model_id": "a11e0c457711411483958e0111c36273",
       "version_major": 2,
       "version_minor": 0
      },
      "text/plain": [
       "Output(layout=Layout(border='1px solid black'))"
      ]
     },
     "metadata": {},
     "output_type": "display_data"
    }
   ],
   "source": [
    "LOCAL=False\n",
    "import os\n",
    "import importlib\n",
    "\n",
    "if LOCAL:\n",
    "    path = '/Users/berk/Documents/research/nna/src/scripts/'\n",
    "else:\n",
    "    path = '/home/enis/projects/nna/src/scripts/'\n",
    "os.chdir(path)\n",
    "\n",
    "import teacher\n",
    "from nna import weather\n",
    "\n",
    "# import itertools\n",
    "import pandas as pd\n",
    "\n",
    "import numpy as np\n",
    "import random\n"
   ]
  },
  {
   "cell_type": "code",
   "execution_count": 24,
   "metadata": {},
   "outputs": [],
   "source": [
    "importlib.reload(teacher)\n",
    "importlib.reload(weather)\n",
    "\n",
    "version_tag='weather_V3'\n",
    "dataset_version='W3'\n",
    "\n",
    "FILE_PER_LOCATION=1\n",
    "TIMESTAMPS_PER_ROW = 4\n",
    "\n",
    "config = teacher.setup(versiontag=version_tag)\n",
    "\n",
    "if LOCAL:\n",
    "    weather_data_folder='/Users/berk/Downloads/NNA_files/weather_data/2017_2020'\n",
    "else:\n",
    "    weather_data_folder='/scratch/enis/data/nna/weather_data/2017_2020'\n",
    "\n",
    "root_path = '/scratch/enis/data/nna/labeling/samples'\n",
    "config['split_out_path'] = f'{root_path}/{version_tag}/audio_'\n",
    "\n",
    "## data-1: as many sampes as possible\n",
    "config['new_dataset_path'] = f'{root_path}/{version_tag}/{version_tag}.csv'\n",
    "config['dataset_version'] = dataset_version\n",
    "# config['versiontag'] = 'yfitloiq-V1'\n",
    "config['excell_label_headers']=['day_length','air_temp','snow_depth',\n",
    "        'cloud_fraction','relative_humidity','runoff','rain_precip',\n",
    "         'snow_precip','wind_direction','wind_speed']\n",
    "\n",
    "# config['excell_label_headers']=['day_length','air_temp','snow_depth',\n",
    "#         'cloud_fraction','relative_humidity','runoff','rain_precip',\n",
    "#          'snow_precip','wind_direction','wind_speed',\n",
    "#         'snow_blowing_ground','snow_blowing_air',]\n",
    "\n",
    "\n",
    "config['upper_taxo_links']={}\n",
    "\n",
    "\n",
    "# print('total sample count to be produced:',file_per_location*len(short_ones.keys()))\n",
    "\n",
    "# 40 Prudhoe or ANWR monitoring sites AND the Ivvavik sites\n",
    "short_input_csv_headers = ['day_length','air_temp','snow_depth',\n",
    "        'cloud_fraction','relative_humidity','runoff','rain_precip',\n",
    "         'snow_precip','wind_direction','wind_speed']\n",
    "# (year,month,day,hour,day_length,air_temp,snow_depth,\n",
    "#                 cloud_fraction,relative_humidity,runoff,rain_precip,\n",
    "#                     snow_precip,wind_direction,wind_speed)=row\n",
    "# for Dalton and Dempster\n",
    "long_input_csv_headers = ['day_length','air_temp','snow_depth',\n",
    "        'cloud_fraction','relative_humidity','runoff','rain_precip',\n",
    "         'snow_precip','total_precip','wind_direction','wind_speed',\n",
    "        'snow_blowing_ground','snow_blowing_air']\n",
    "\n",
    "excell_all_headers = [\n",
    "    'data_version', 'Annotator', 'Site ID', 'File Name', 'Date', 'Start Time',\n",
    "    'End Time', 'Length', 'Clip Path', 'Comments', 'weather_timestamp',\n",
    "    'region', 'day_length', 'air_temp', 'snow_depth', 'cloud_fraction',\n",
    "    'relative_humidity', 'runoff', 'rain_precip','rain_precip_mm', 'snow_precip',\n",
    "    'wind_direction', 'wind_speed'\n",
    "]\n",
    "\n",
    "# (year,month,day,hour,day_length,air_temp,snow_depth,\n",
    "# cloud_fraction,relative_humidity,runoff,rain_precip,\n",
    "# snow_precip,total_precip,wind_direction,wind_speed,\n",
    "# snow_blowing_ground,snow_blowing_air)=row\n",
    "\n",
    "short_locations=('prudhoe','ivvavik','anwr')\n",
    "long_locations=('dalton','dempster')\n",
    "\n",
    "if LOCAL:\n",
    "    file_database = '/Users/berk/Documents/scratch/enis/data/nna/database/allFields_dataV10.pkl'\n",
    "else:\n",
    "    file_database = '/scratch/enis/data/nna/database/allFields_dataV10.pkl'"
   ]
  },
  {
   "cell_type": "code",
   "execution_count": 6,
   "metadata": {},
   "outputs": [],
   "source": [
    "\n",
    "def get_weather_rows(region, location, file_properties_df, fname,\n",
    "                     short_locations, long_locations, short_input_csv_headers,\n",
    "                     long_input_csv_headers, file_per_location):\n",
    "\n",
    "    filtered_files = file_properties_df[file_properties_df['region'] == region]\n",
    "    filtered_files = filtered_files[filtered_files['locationId'] == location]\n",
    "\n",
    "    weather_data = weather.load_weather_data(region, location, fname, short_locations,\n",
    "                                     long_locations, short_input_csv_headers,\n",
    "                                     long_input_csv_headers)\n",
    "\n",
    "    # Find the earliest start and end timestamps in weather_data\n",
    "    earliest_start = weather_data['TIMESTAMP'].min()\n",
    "    earliest_end = weather_data['TIMESTAMP'].max()\n",
    "\n",
    "    # Filter the rows of filtered_files dataframe\n",
    "    filtered_files = filtered_files[\n",
    "        (filtered_files['timestamp'] >= earliest_start) &\n",
    "        (filtered_files['timestampEnd'] <= earliest_end)]\n",
    "\n",
    "    # Check if filtered_files is empty\n",
    "    if filtered_files.empty:\n",
    "        print('No matching files found!')\n",
    "    else:\n",
    "        weather_rows =weather.get_weather_rows(filtered_files, weather_data,\n",
    "                                        file_per_location)\n",
    "        buffer_seconds = 0\n",
    "\n",
    "        new_dataset_csv, not_found_rows = teacher.generate_new_dataset(\n",
    "            weather_rows,\n",
    "            config['versiontag'],\n",
    "            config['split_out_path'],\n",
    "            file_properties_df,\n",
    "            config['upper_taxo_links'],\n",
    "            config['dataset_version'],\n",
    "            buffer=buffer_seconds,\n",
    "            excell_label_headers={},  #config['excell_label_headers'],\n",
    "            labels_thresholds={},  #config['labels_thresholds'],\n",
    "            outputSuffix='.wav',\n",
    "            dry_run=False,\n",
    "            excell_labels_2_names={},  #config['excell_labels_2_names'],\n",
    "            stereo2mono=True,\n",
    "            overwrite=False,\n",
    "            sampling_rate=48000,\n",
    "            label_row_by_threshold=False,\n",
    "            print_logs=False,\n",
    "        )\n",
    "        assert len(new_dataset_csv) == len(weather_rows), 'len(new_dataset_csv) != len(weather_rows)'\n",
    "        return new_dataset_csv, not_found_rows, weather_rows\n",
    "\n",
    "    return [], [], pd.DataFrame()"
   ]
  },
  {
   "cell_type": "code",
   "execution_count": 15,
   "metadata": {},
   "outputs": [
    {
     "name": "stdout",
     "output_type": "stream",
     "text": [
      "region: dempster location: 19 fname: /scratch/enis/data/nna/weather_data/2017_2020/Dempster/sm_products_by_station/sm_data_stn_08_Dempster19.csv\n"
     ]
    }
   ],
   "source": [
    "file_properties_df = pd.read_pickle(file_database)\n",
    "station_csv = weather.csv_path_per_regloc(weather_data_folder)\n",
    "station_years = weather.year_per_regloc(station_csv,file_properties_df)\n",
    "file_per_location=FILE_PER_LOCATION\n",
    "new_dataset_csv, not_found_rows = [], []\n",
    "df_per_location=[]\n",
    "for (region, location),fname in station_csv.items():\n",
    "    if (region,location) != ('dempster', '19'):\n",
    "        continue\n",
    "    print('region:',region,'location:',location,'fname:',fname)\n",
    "    new_dataset, not_found, weather_rows =get_weather_rows(region, location, file_properties_df, fname,\n",
    "                        short_locations, long_locations, short_input_csv_headers,\n",
    "                        long_input_csv_headers, file_per_location)\n",
    "\n",
    "    new_dataset_df=pd.DataFrame(new_dataset).reset_index(drop=True)\n",
    "    weather_rows_df=weather_rows.reset_index(drop=True)\n",
    "    combined=pd.concat([new_dataset_df, weather_rows_df], axis=1)\n",
    "    df_per_location.append(combined)\n",
    "    assert len(not_found)==0, 'not_found is not empty'\n",
    "\n",
    "dataset=pd.concat(df_per_location)\n"
   ]
  },
  {
   "cell_type": "code",
   "execution_count": 23,
   "metadata": {},
   "outputs": [
    {
     "data": {
      "text/plain": [
       "Index(['data_version', 'Annotator', 'Site ID', 'File Name', 'Start Time',\n",
       "       'End Time', 'Date', 'Length', 'Clip Path', 'Comments', 'location',\n",
       "       'region', 'TIMESTAMP', 'day_length', 'air_temp', 'snow_depth',\n",
       "       'cloud_fraction', 'relative_humidity', 'runoff', 'rain_precip',\n",
       "       'snow_precip', 'total_precip', 'wind_direction', 'wind_speed',\n",
       "       'snow_blowing_ground', 'snow_blowing_air', 'rain_precip_mm',\n",
       "       'timestamp_start', 'timestamp_end', 'timestamp_orig_weather',\n",
       "       'weather_timestamp'],\n",
       "      dtype='object')"
      ]
     },
     "execution_count": 23,
     "metadata": {},
     "output_type": "execute_result"
    }
   ],
   "source": [
    "dataset.columns"
   ]
  },
  {
   "cell_type": "code",
   "execution_count": 25,
   "metadata": {},
   "outputs": [],
   "source": [
    "assert dataset['Clip Path'].unique().shape[0]==dataset.shape[0], 'Clip Path is not unique'\n",
    "dataset['weather_timestamp']=dataset['timestamp_orig_weather']\n",
    "dataset[excell_all_headers].to_csv(config['new_dataset_path'],index=False, header=True, )"
   ]
  },
  {
   "cell_type": "code",
   "execution_count": 22,
   "metadata": {},
   "outputs": [
    {
     "data": {
      "text/plain": [
       "(14800, 14800)"
      ]
     },
     "execution_count": 22,
     "metadata": {},
     "output_type": "execute_result"
    }
   ],
   "source": [
    "dataset['Clip Path'].unique().shape[0],dataset.shape[0]"
   ]
  },
  {
   "cell_type": "code",
   "execution_count": 12,
   "metadata": {},
   "outputs": [],
   "source": [
    "dataset=dataset.drop_duplicates(subset=['Clip Path'])"
   ]
  },
  {
   "cell_type": "code",
   "execution_count": 13,
   "metadata": {},
   "outputs": [],
   "source": [
    "# dataset_copy=dataset.copy()\n",
    "# dataset=pd.concat([dataset,dataset_copy])"
   ]
  },
  {
   "cell_type": "code",
   "execution_count": 29,
   "metadata": {},
   "outputs": [
    {
     "data": {
      "text/html": [
       "<div>\n",
       "<style scoped>\n",
       "    .dataframe tbody tr th:only-of-type {\n",
       "        vertical-align: middle;\n",
       "    }\n",
       "\n",
       "    .dataframe tbody tr th {\n",
       "        vertical-align: top;\n",
       "    }\n",
       "\n",
       "    .dataframe thead th {\n",
       "        text-align: right;\n",
       "    }\n",
       "</style>\n",
       "<table border=\"1\" class=\"dataframe\">\n",
       "  <thead>\n",
       "    <tr style=\"text-align: right;\">\n",
       "      <th></th>\n",
       "      <th>rain_precip</th>\n",
       "      <th>rain_precip_mm</th>\n",
       "    </tr>\n",
       "  </thead>\n",
       "  <tbody>\n",
       "    <tr>\n",
       "      <th>0</th>\n",
       "      <td>0.000000</td>\n",
       "      <td>0.000000</td>\n",
       "    </tr>\n",
       "    <tr>\n",
       "      <th>0</th>\n",
       "      <td>0.000418</td>\n",
       "      <td>0.418094</td>\n",
       "    </tr>\n",
       "    <tr>\n",
       "      <th>1</th>\n",
       "      <td>0.000045</td>\n",
       "      <td>0.045358</td>\n",
       "    </tr>\n",
       "    <tr>\n",
       "      <th>2</th>\n",
       "      <td>0.000000</td>\n",
       "      <td>0.000000</td>\n",
       "    </tr>\n",
       "    <tr>\n",
       "      <th>3</th>\n",
       "      <td>0.000007</td>\n",
       "      <td>0.007408</td>\n",
       "    </tr>\n",
       "    <tr>\n",
       "      <th>...</th>\n",
       "      <td>...</td>\n",
       "      <td>...</td>\n",
       "    </tr>\n",
       "    <tr>\n",
       "      <th>195</th>\n",
       "      <td>0.000000</td>\n",
       "      <td>0.000000</td>\n",
       "    </tr>\n",
       "    <tr>\n",
       "      <th>196</th>\n",
       "      <td>0.000000</td>\n",
       "      <td>0.000000</td>\n",
       "    </tr>\n",
       "    <tr>\n",
       "      <th>197</th>\n",
       "      <td>0.000000</td>\n",
       "      <td>0.000000</td>\n",
       "    </tr>\n",
       "    <tr>\n",
       "      <th>198</th>\n",
       "      <td>0.000325</td>\n",
       "      <td>0.324959</td>\n",
       "    </tr>\n",
       "    <tr>\n",
       "      <th>199</th>\n",
       "      <td>0.000000</td>\n",
       "      <td>0.000000</td>\n",
       "    </tr>\n",
       "  </tbody>\n",
       "</table>\n",
       "<p>14800 rows × 2 columns</p>\n",
       "</div>"
      ],
      "text/plain": [
       "     rain_precip  rain_precip_mm\n",
       "0       0.000000        0.000000\n",
       "0       0.000418        0.418094\n",
       "1       0.000045        0.045358\n",
       "2       0.000000        0.000000\n",
       "3       0.000007        0.007408\n",
       "..           ...             ...\n",
       "195     0.000000        0.000000\n",
       "196     0.000000        0.000000\n",
       "197     0.000000        0.000000\n",
       "198     0.000325        0.324959\n",
       "199     0.000000        0.000000\n",
       "\n",
       "[14800 rows x 2 columns]"
      ]
     },
     "execution_count": 29,
     "metadata": {},
     "output_type": "execute_result"
    }
   ],
   "source": [
    "dataset[['rain_precip','rain_precip_mm']]"
   ]
  },
  {
   "cell_type": "code",
   "execution_count": 35,
   "metadata": {},
   "outputs": [
    {
     "data": {
      "text/plain": [
       "(2483, 14800)"
      ]
     },
     "execution_count": 35,
     "metadata": {},
     "output_type": "execute_result"
    }
   ],
   "source": [
    "dataset['timestamp_orig_weather'].unique().shape[0],dataset.shape[0]"
   ]
  },
  {
   "cell_type": "code",
   "execution_count": 39,
   "metadata": {},
   "outputs": [
    {
     "data": {
      "text/plain": [
       "<AxesSubplot:>"
      ]
     },
     "execution_count": 39,
     "metadata": {},
     "output_type": "execute_result"
    },
    {
     "data": {
      "image/png": "[encoded data removed]",
      "text/plain": [
       "<Figure size 432x288 with 1 Axes>"
      ]
     },
     "metadata": {
      "needs_background": "light"
     },
     "output_type": "display_data"
    }
   ],
   "source": [
    "dataset['timestamp_orig_weather'].value_counts().plot()"
   ]
  },
  {
   "cell_type": "code",
   "execution_count": 1,
   "metadata": {},
   "outputs": [],
   "source": [
    "%matplotlib inline"
   ]
  },
  {
   "cell_type": "code",
   "execution_count": null,
   "metadata": {},
   "outputs": [],
   "source": []
  }
 ],
 "metadata": {
  "kernelspec": {
   "display_name": "soundenv3",
   "language": "python",
   "name": "soundenv3"
  },
  "orig_nbformat": 4
 },
 "nbformat": 4,
 "nbformat_minor": 2
}

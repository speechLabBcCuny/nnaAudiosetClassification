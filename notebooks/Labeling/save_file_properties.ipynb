{
 "cells": [
  {
   "cell_type": "code",
   "execution_count": 3,
   "metadata": {},
   "outputs": [
    {
     "data": {
      "text/plain": [
       "'Collects data for file_properties_df.\\n\\nfile_properties_df holds metadata about data in our dataset, \\ndetails of metadata can be seen at src/nna/tests/mock_data.py::mock_file_properties_df\\n\\n\\n'"
      ]
     },
     "execution_count": 3,
     "metadata": {},
     "output_type": "execute_result"
    }
   ],
   "source": [
    "\"\"\"Collects data for file_properties_df.\n",
    "\n",
    "file_properties_df holds metadata about data in our dataset, \n",
    "details of metadata can be seen at src/nna/tests/mock_data.py::mock_file_properties_df\n",
    "\n",
    "\n",
    "\"\"\"\n"
   ]
  },
  {
   "cell_type": "code",
   "execution_count": 4,
   "metadata": {},
   "outputs": [],
   "source": [
    "\n",
    "from pathlib import Path\n",
    "import pandas as pd\n",
    "import datetime\n",
    "\n",
    "from collections import Counter\n",
    "\n",
    "from nna.fileUtils import list_files,getLength,read_file_properties_v2\n"
   ]
  },
  {
   "cell_type": "code",
   "execution_count": 13,
   "metadata": {},
   "outputs": [],
   "source": [
    "# External Programs\n",
    "# ffprobe version >= 4.3.1  \n",
    "ffprobe_path = '/scratch/enis/conda/envs/speechEnv/bin/ffprobe'"
   ]
  },
  {
   "cell_type": "code",
   "execution_count": 5,
   "metadata": {},
   "outputs": [],
   "source": [
    "# PARAMETERS  \n",
    "\n",
    "# increase version number accordinly \n",
    "previous_database_ver_str = 'V4'\n",
    "new_database_ver_str = 'V5'\n",
    "\n",
    "# where to save txt file storing length info\n",
    "# old_data_folder=\"/home/enis/projects/nna/data/\"\n",
    "data_folder = '/scratch/enis/data/nna/database/'\n",
    "#/scratch/enis/data/nna/database\n",
    "\n",
    "# path to search for audio files\n",
    "# where\n",
    "# ignore_folders=['/tank/data/nna/real/stinchcomb/']\n",
    "\n",
    "search_path=\"/tank/data/nna/real/\"\n",
    "\n",
    "ignore_folders=[\"/tank/data/nna/real/stinchcomb/dups/\",\"/tank/data/nna/real/stinchcomb/excerpts/\"]\n",
    "# search_path=\"/tank/data/nna/real/stinchcomb/\"\n",
    "\n"
   ]
  },
  {
   "cell_type": "code",
   "execution_count": 21,
   "metadata": {},
   "outputs": [],
   "source": [
    "# create Relative Path names\n",
    "\n",
    "# if we already have a list of files we can load them \n",
    "# files_list_path=data_folder+\"stinchcomb_files_pathV1.txt\"\n",
    "files_list_path=data_folder+ f\"allFields_path{new_database_ver_str}.txt\"\n",
    "\n",
    "# if we calculated audio lengths and saved them into text file, \n",
    "# we can load them\n",
    "fileswlen_path = data_folder+ f\"allFields_wlen_f{new_database_ver_str}.txt\"\n",
    "filesWError_out = data_folder+f\"allFields_wERROR_f{new_database_ver_str}.txt\"\n",
    "\n",
    "# do NOT add pkl at the end\n",
    "pkl_file_name=f\"allFields_data{new_database_ver_str}\"\n",
    "\n",
    "\n",
    "# this is the current info we have so we can check if we already processed a file before\n",
    "current_pkl_file = data_folder + f\"allFields_data{previous_database_ver_str}.pkl\""
   ]
  },
  {
   "cell_type": "code",
   "execution_count": 6,
   "metadata": {},
   "outputs": [
    {
     "name": "stdout",
     "output_type": "stream",
     "text": [
      "CPU times: user 812 ms, sys: 220 ms, total: 1.03 s\n",
      "Wall time: 1.03 s\n"
     ]
    }
   ],
   "source": [
    "%%time\n",
    "# Find files\n",
    "# in given search path ignoring given directories\n",
    "if not Path(fileswlen_path).exists():\n",
    "    files_path_list=list_files(search_path,ignore_folders)\n",
    "else:\n",
    "    with open(files_list_path,\"r\") as f:\n",
    "        lines=f.readlines()\n",
    "        files_path_list=[line.strip() for line in lines]\n"
   ]
  },
  {
   "cell_type": "code",
   "execution_count": 7,
   "metadata": {},
   "outputs": [
    {
     "name": "stdout",
     "output_type": "stream",
     "text": [
      "example file /tank/data/nna/real/anwr/31/2019/S4A10297_20190504_000000.flac\n"
     ]
    }
   ],
   "source": [
    "print('example file',files_path_list[0])\n"
   ]
  },
  {
   "cell_type": "code",
   "execution_count": null,
   "metadata": {},
   "outputs": [],
   "source": []
  },
  {
   "cell_type": "code",
   "execution_count": 8,
   "metadata": {},
   "outputs": [
    {
     "name": "stdout",
     "output_type": "stream",
     "text": [
      "Counter({'.flac': 151527, '.aac': 9101, '.mp3': 388, '.flac~': 1})\n"
     ]
    }
   ],
   "source": [
    "# count file extension and filter if required\n",
    "\n",
    "files_suffixes=[]\n",
    "files_path_list_filtered=[]\n",
    "for m in files_path_list:\n",
    "    m=Path(m)\n",
    "    mSuffix = m.suffix.lower()\n",
    "    \n",
    "    files_suffixes.append(mSuffix)\n",
    "    if \"~\" in str(m):\n",
    "        continue\n",
    "\n",
    "#     if mSuffix!=\".flac\" and mSuffix!=\".aac\" and mSuffix!=\".mp3\":\n",
    "#         print(m)\n",
    "#         break\n",
    "    files_path_list_filtered.append((m))\n",
    "        \n",
    "print(Counter(files_suffixes))\n",
    "files_path_list = files_path_list_filtered[:]"
   ]
  },
  {
   "cell_type": "code",
   "execution_count": 9,
   "metadata": {},
   "outputs": [],
   "source": [
    "#V4: Counter({'.flac': 112053, '.aac': 9101, '.mp3': 388, '.flac~': 1})\n",
    "#V5: Counter({'.flac': 151527, '.aac': 9101, '.mp3': 388, '.flac~': 1})\n"
   ]
  },
  {
   "cell_type": "code",
   "execution_count": 10,
   "metadata": {},
   "outputs": [],
   "source": [
    "# \n",
    "# Load previous data\n",
    "current_file_properties_df=pd.read_pickle(str(current_pkl_file))\n",
    "\n",
    "# remove files we already know about\n",
    "currentFileSet = set(current_file_properties_df.index)\n",
    "foundFileSet = set(files_path_list)\n",
    "foundFileSet = foundFileSet.difference(currentFileSet)\n",
    "New_files_path_list = list(foundFileSet)"
   ]
  },
  {
   "cell_type": "code",
   "execution_count": 11,
   "metadata": {},
   "outputs": [
    {
     "data": {
      "text/plain": [
       "('new', 39475, 'previously', 121541, 'total', 161016)"
      ]
     },
     "execution_count": 11,
     "metadata": {},
     "output_type": "execute_result"
    }
   ],
   "source": [
    "\"new\",len(New_files_path_list),\"previously\",len(currentFileSet),\"total\",len(files_path_list),"
   ]
  },
  {
   "cell_type": "code",
   "execution_count": 12,
   "metadata": {},
   "outputs": [],
   "source": [
    "# New_files_path_list"
   ]
  },
  {
   "cell_type": "code",
   "execution_count": 14,
   "metadata": {},
   "outputs": [
    {
     "name": "stdout",
     "output_type": "stream",
     "text": [
      "ERROR file is too short /tank/data/nna/real/dalton/04/2019/S4A10281_A_Summary.aac\n",
      "command run with ERROR: ['/scratch/enis/conda/envs/speechEnv/bin/ffprobe', '-i', '/tank/data/nna/real/dalton/04/2019/S4A10281_A_Summary.aac', '-show_entries', 'format=duration', '-v', 'quiet']\n"
     ]
    },
    {
     "ename": "TypeError",
     "evalue": "sequence item 0: expected str instance, PosixPath found",
     "output_type": "error",
     "traceback": [
      "\u001b[0;31m---------------------------------------------------------------------------\u001b[0m",
      "\u001b[0;31mTypeError\u001b[0m                                 Traceback (most recent call last)",
      "\u001b[0;32m<ipython-input-14-88e5011f98e1>\u001b[0m in \u001b[0;36m<module>\u001b[0;34m\u001b[0m\n\u001b[1;32m     31\u001b[0m     \u001b[0;32mwith\u001b[0m \u001b[0mopen\u001b[0m\u001b[0;34m(\u001b[0m\u001b[0mfileswlen_path\u001b[0m\u001b[0;34m,\u001b[0m\u001b[0;34m\"w\"\u001b[0m\u001b[0;34m)\u001b[0m \u001b[0;32mas\u001b[0m \u001b[0mf\u001b[0m\u001b[0;34m:\u001b[0m\u001b[0;34m\u001b[0m\u001b[0;34m\u001b[0m\u001b[0m\n\u001b[1;32m     32\u001b[0m         \u001b[0;32mfor\u001b[0m \u001b[0mline\u001b[0m \u001b[0;32min\u001b[0m \u001b[0mlength_list\u001b[0m\u001b[0;34m:\u001b[0m\u001b[0;34m\u001b[0m\u001b[0;34m\u001b[0m\u001b[0m\n\u001b[0;32m---> 33\u001b[0;31m             \u001b[0mf\u001b[0m\u001b[0;34m.\u001b[0m\u001b[0mwrite\u001b[0m\u001b[0;34m(\u001b[0m\u001b[0;34m\",\"\u001b[0m\u001b[0;34m.\u001b[0m\u001b[0mjoin\u001b[0m\u001b[0;34m(\u001b[0m\u001b[0;34m[\u001b[0m\u001b[0mline\u001b[0m\u001b[0;34m[\u001b[0m\u001b[0;36m0\u001b[0m\u001b[0;34m]\u001b[0m\u001b[0;34m,\u001b[0m\u001b[0mstr\u001b[0m\u001b[0;34m(\u001b[0m\u001b[0mline\u001b[0m\u001b[0;34m[\u001b[0m\u001b[0;36m1\u001b[0m\u001b[0;34m]\u001b[0m\u001b[0;34m)\u001b[0m\u001b[0;34m]\u001b[0m\u001b[0;34m)\u001b[0m\u001b[0;34m+\u001b[0m\u001b[0;34m\"\\n\"\u001b[0m\u001b[0;34m)\u001b[0m\u001b[0;34m\u001b[0m\u001b[0;34m\u001b[0m\u001b[0m\n\u001b[0m\u001b[1;32m     34\u001b[0m \u001b[0;34m\u001b[0m\u001b[0m\n\u001b[1;32m     35\u001b[0m \u001b[0;32mwith\u001b[0m \u001b[0mopen\u001b[0m\u001b[0;34m(\u001b[0m\u001b[0mfileswlen_path\u001b[0m\u001b[0;34m,\u001b[0m\u001b[0;34m\"r\"\u001b[0m\u001b[0;34m)\u001b[0m \u001b[0;32mas\u001b[0m \u001b[0mf\u001b[0m\u001b[0;34m:\u001b[0m\u001b[0;34m\u001b[0m\u001b[0;34m\u001b[0m\u001b[0m\n",
      "\u001b[0;31mTypeError\u001b[0m: sequence item 0: expected str instance, PosixPath found"
     ]
    }
   ],
   "source": [
    "# Load or calculate Audio length\n",
    "import subprocess\n",
    "\n",
    "filesWError = []\n",
    "\n",
    "# learn length of each audio and store in a text file, \n",
    "# if file already exists, it tries to get data from there\n",
    "if not Path(fileswlen_path).exists():\n",
    "    length_dict={}\n",
    "    for f in New_files_path_list:\n",
    "#         length=float(getLength(f))\n",
    "##################\n",
    "        input_video = f\n",
    "        \n",
    "        cmd=[]\n",
    "        cmd.extend( [ffprobe_path, '-i', '{}'.format(input_video), '-show_entries' ,'format=duration', '-v', 'quiet' ])\n",
    "        result = subprocess.Popen(cmd, stdout=subprocess.PIPE,stderr=subprocess.PIPE,)\n",
    "        output = result.communicate(b'\\n')\n",
    "        output = [i.decode('ascii') for i in output]\n",
    "        if output[0]==\"\":\n",
    "            length = -1\n",
    "            print(\"ERROR file is too short {}\".format(input_video))\n",
    "            print(\"command run with ERROR: {}\".format(cmd))\n",
    "            filesWError.append(input_video)\n",
    "        else:\n",
    "            length = output[0].split(\"\\n\")[1].split(\"=\")[1]\n",
    "###############\n",
    "        length_dict[f]=length\n",
    "\n",
    "    length_list=list(length_dict.items())\n",
    "    with open(fileswlen_path,\"w\") as f:\n",
    "        for line in length_list:\n",
    "            join_lines = [str(i) for i in line]\n",
    "            f.write(\",\".join(join_lines)+\"\\n\")\n",
    "\n",
    "with open(fileswlen_path,\"r\") as f:\n",
    "    lines=f.readlines()\n",
    "    fileswlen=[line.strip().split(\",\") for line in lines]"
   ]
  },
  {
   "cell_type": "code",
   "execution_count": 18,
   "metadata": {},
   "outputs": [],
   "source": []
  },
  {
   "cell_type": "code",
   "execution_count": 20,
   "metadata": {},
   "outputs": [
    {
     "data": {
      "text/plain": [
       "[PosixPath('/tank/data/nna/real/dalton/04/2019/S4A10281_A_Summary.aac')]"
      ]
     },
     "execution_count": 20,
     "metadata": {},
     "output_type": "execute_result"
    }
   ],
   "source": [
    "filesWError"
   ]
  },
  {
   "cell_type": "code",
   "execution_count": 22,
   "metadata": {},
   "outputs": [
    {
     "name": "stdout",
     "output_type": "stream",
     "text": [
      "1\n"
     ]
    }
   ],
   "source": [
    "# print and save files with errors\n",
    "\n",
    "print(len(filesWError))\n",
    "with open(filesWError_out,\"w\") as f:\n",
    "    for line in length_list:\n",
    "        join_lines = [str(i) for i in line]\n",
    "        f.write(\",\".join(join_lines)+\"\\n\")"
   ]
  },
  {
   "cell_type": "code",
   "execution_count": 23,
   "metadata": {},
   "outputs": [],
   "source": [
    "# turn results into a dict\n",
    "fileswlen=dict([(i[0],float(i[1])) for i in fileswlen])"
   ]
  },
  {
   "cell_type": "code",
   "execution_count": 26,
   "metadata": {},
   "outputs": [],
   "source": [
    "# file_properties\n",
    "file_properties,exceptions = read_file_properties_v2(New_files_path_list,debug=0)\n"
   ]
  },
  {
   "cell_type": "code",
   "execution_count": 27,
   "metadata": {},
   "outputs": [],
   "source": [
    "# file_properties,exceptions = read_file_properties_v2(New_files_path_list,debug=0)\n",
    "for f,lengthSeconds in fileswlen.items():\n",
    "    if file_properties.get(Path(f)) is not None:\n",
    "        file_properties[Path(f)][\"durationSec\"] = lengthSeconds\n",
    "        file_properties[Path(f)][\"timestampEnd\"] = file_properties[Path(f)][\"timestamp\"] + datetime.timedelta(seconds=lengthSeconds)\n",
    "file_properties_df=pd.DataFrame(file_properties).T\n"
   ]
  },
  {
   "cell_type": "code",
   "execution_count": 44,
   "metadata": {},
   "outputs": [
    {
     "data": {
      "text/html": [
       "<div>\n",
       "<style scoped>\n",
       "    .dataframe tbody tr th:only-of-type {\n",
       "        vertical-align: middle;\n",
       "    }\n",
       "\n",
       "    .dataframe tbody tr th {\n",
       "        vertical-align: top;\n",
       "    }\n",
       "\n",
       "    .dataframe thead th {\n",
       "        text-align: right;\n",
       "    }\n",
       "</style>\n",
       "<table border=\"1\" class=\"dataframe\">\n",
       "  <thead>\n",
       "    <tr style=\"text-align: right;\">\n",
       "      <th></th>\n",
       "      <th>site_id</th>\n",
       "      <th>locationId</th>\n",
       "      <th>site_name</th>\n",
       "      <th>recorderId</th>\n",
       "      <th>hour_min_sec</th>\n",
       "      <th>year</th>\n",
       "      <th>month</th>\n",
       "      <th>day</th>\n",
       "      <th>region</th>\n",
       "      <th>timestamp</th>\n",
       "      <th>durationSec</th>\n",
       "      <th>timestampEnd</th>\n",
       "    </tr>\n",
       "  </thead>\n",
       "  <tbody>\n",
       "    <tr>\n",
       "      <th>/tank/data/nna/real/dempster/14/2020/S4A10424_20200812_160000.flac</th>\n",
       "      <td>14</td>\n",
       "      <td>14</td>\n",
       "      <td></td>\n",
       "      <td>S4A10424</td>\n",
       "      <td>160000</td>\n",
       "      <td>2020</td>\n",
       "      <td>08</td>\n",
       "      <td>12</td>\n",
       "      <td>dempster</td>\n",
       "      <td>2020-08-12 16:00:00</td>\n",
       "      <td>300</td>\n",
       "      <td>2020-08-12 16:05:00</td>\n",
       "    </tr>\n",
       "    <tr>\n",
       "      <th>/tank/data/nna/real/dempster/13/2020/S4A10324_20200424_190710.flac</th>\n",
       "      <td>13</td>\n",
       "      <td>13</td>\n",
       "      <td></td>\n",
       "      <td>S4A10324</td>\n",
       "      <td>190710</td>\n",
       "      <td>2020</td>\n",
       "      <td>04</td>\n",
       "      <td>24</td>\n",
       "      <td>dempster</td>\n",
       "      <td>2020-04-24 19:07:10</td>\n",
       "      <td>300</td>\n",
       "      <td>2020-04-24 19:12:10</td>\n",
       "    </tr>\n",
       "    <tr>\n",
       "      <th>/tank/data/nna/real/dempster/13/2020/S4A10324_20200608_054710.flac</th>\n",
       "      <td>13</td>\n",
       "      <td>13</td>\n",
       "      <td></td>\n",
       "      <td>S4A10324</td>\n",
       "      <td>054710</td>\n",
       "      <td>2020</td>\n",
       "      <td>06</td>\n",
       "      <td>08</td>\n",
       "      <td>dempster</td>\n",
       "      <td>2020-06-08 05:47:10</td>\n",
       "      <td>300</td>\n",
       "      <td>2020-06-08 05:52:10</td>\n",
       "    </tr>\n",
       "    <tr>\n",
       "      <th>/tank/data/nna/real/dempster/23/2020/S4A10347_20200926_052000.flac</th>\n",
       "      <td>23</td>\n",
       "      <td>23</td>\n",
       "      <td></td>\n",
       "      <td>S4A10347</td>\n",
       "      <td>052000</td>\n",
       "      <td>2020</td>\n",
       "      <td>09</td>\n",
       "      <td>26</td>\n",
       "      <td>dempster</td>\n",
       "      <td>2020-09-26 05:20:00</td>\n",
       "      <td>300</td>\n",
       "      <td>2020-09-26 05:25:00</td>\n",
       "    </tr>\n",
       "    <tr>\n",
       "      <th>/tank/data/nna/real/dempster/22/2020/S4A10434_20200826_040000.flac</th>\n",
       "      <td>22</td>\n",
       "      <td>22</td>\n",
       "      <td></td>\n",
       "      <td>S4A10434</td>\n",
       "      <td>040000</td>\n",
       "      <td>2020</td>\n",
       "      <td>08</td>\n",
       "      <td>26</td>\n",
       "      <td>dempster</td>\n",
       "      <td>2020-08-26 04:00:00</td>\n",
       "      <td>300</td>\n",
       "      <td>2020-08-26 04:05:00</td>\n",
       "    </tr>\n",
       "    <tr>\n",
       "      <th>...</th>\n",
       "      <td>...</td>\n",
       "      <td>...</td>\n",
       "      <td>...</td>\n",
       "      <td>...</td>\n",
       "      <td>...</td>\n",
       "      <td>...</td>\n",
       "      <td>...</td>\n",
       "      <td>...</td>\n",
       "      <td>...</td>\n",
       "      <td>...</td>\n",
       "      <td>...</td>\n",
       "      <td>...</td>\n",
       "    </tr>\n",
       "    <tr>\n",
       "      <th>/tank/data/nna/real/dempster/11/2020/S4A10438_20200421_125209.flac</th>\n",
       "      <td>11</td>\n",
       "      <td>11</td>\n",
       "      <td></td>\n",
       "      <td>S4A10438</td>\n",
       "      <td>125209</td>\n",
       "      <td>2020</td>\n",
       "      <td>04</td>\n",
       "      <td>21</td>\n",
       "      <td>dempster</td>\n",
       "      <td>2020-04-21 12:52:09</td>\n",
       "      <td>300</td>\n",
       "      <td>2020-04-21 12:57:09</td>\n",
       "    </tr>\n",
       "    <tr>\n",
       "      <th>/tank/data/nna/real/dempster/25/2020/S4A10334_20200416_032002.flac</th>\n",
       "      <td>25</td>\n",
       "      <td>25</td>\n",
       "      <td></td>\n",
       "      <td>S4A10334</td>\n",
       "      <td>032002</td>\n",
       "      <td>2020</td>\n",
       "      <td>04</td>\n",
       "      <td>16</td>\n",
       "      <td>dempster</td>\n",
       "      <td>2020-04-16 03:20:02</td>\n",
       "      <td>300</td>\n",
       "      <td>2020-04-16 03:25:02</td>\n",
       "    </tr>\n",
       "    <tr>\n",
       "      <th>/tank/data/nna/real/dempster/25/2020/S4A10334_20200905_160000.flac</th>\n",
       "      <td>25</td>\n",
       "      <td>25</td>\n",
       "      <td></td>\n",
       "      <td>S4A10334</td>\n",
       "      <td>160000</td>\n",
       "      <td>2020</td>\n",
       "      <td>09</td>\n",
       "      <td>05</td>\n",
       "      <td>dempster</td>\n",
       "      <td>2020-09-05 16:00:00</td>\n",
       "      <td>300</td>\n",
       "      <td>2020-09-05 16:05:00</td>\n",
       "    </tr>\n",
       "    <tr>\n",
       "      <th>/tank/data/nna/real/dempster/22/2020/S4A10434_20200906_012000.flac</th>\n",
       "      <td>22</td>\n",
       "      <td>22</td>\n",
       "      <td></td>\n",
       "      <td>S4A10434</td>\n",
       "      <td>012000</td>\n",
       "      <td>2020</td>\n",
       "      <td>09</td>\n",
       "      <td>06</td>\n",
       "      <td>dempster</td>\n",
       "      <td>2020-09-06 01:20:00</td>\n",
       "      <td>300</td>\n",
       "      <td>2020-09-06 01:25:00</td>\n",
       "    </tr>\n",
       "    <tr>\n",
       "      <th>/tank/data/nna/real/dempster/12/2020/S4A10443_20200821_024000.flac</th>\n",
       "      <td>12</td>\n",
       "      <td>12</td>\n",
       "      <td></td>\n",
       "      <td>S4A10443</td>\n",
       "      <td>024000</td>\n",
       "      <td>2020</td>\n",
       "      <td>08</td>\n",
       "      <td>21</td>\n",
       "      <td>dempster</td>\n",
       "      <td>2020-08-21 02:40:00</td>\n",
       "      <td>300</td>\n",
       "      <td>2020-08-21 02:45:00</td>\n",
       "    </tr>\n",
       "  </tbody>\n",
       "</table>\n",
       "<p>39474 rows × 12 columns</p>\n",
       "</div>"
      ],
      "text/plain": [
       "                                                   site_id locationId  \\\n",
       "/tank/data/nna/real/dempster/14/2020/S4A10424_2...      14         14   \n",
       "/tank/data/nna/real/dempster/13/2020/S4A10324_2...      13         13   \n",
       "/tank/data/nna/real/dempster/13/2020/S4A10324_2...      13         13   \n",
       "/tank/data/nna/real/dempster/23/2020/S4A10347_2...      23         23   \n",
       "/tank/data/nna/real/dempster/22/2020/S4A10434_2...      22         22   \n",
       "...                                                    ...        ...   \n",
       "/tank/data/nna/real/dempster/11/2020/S4A10438_2...      11         11   \n",
       "/tank/data/nna/real/dempster/25/2020/S4A10334_2...      25         25   \n",
       "/tank/data/nna/real/dempster/25/2020/S4A10334_2...      25         25   \n",
       "/tank/data/nna/real/dempster/22/2020/S4A10434_2...      22         22   \n",
       "/tank/data/nna/real/dempster/12/2020/S4A10443_2...      12         12   \n",
       "\n",
       "                                                   site_name recorderId  \\\n",
       "/tank/data/nna/real/dempster/14/2020/S4A10424_2...             S4A10424   \n",
       "/tank/data/nna/real/dempster/13/2020/S4A10324_2...             S4A10324   \n",
       "/tank/data/nna/real/dempster/13/2020/S4A10324_2...             S4A10324   \n",
       "/tank/data/nna/real/dempster/23/2020/S4A10347_2...             S4A10347   \n",
       "/tank/data/nna/real/dempster/22/2020/S4A10434_2...             S4A10434   \n",
       "...                                                      ...        ...   \n",
       "/tank/data/nna/real/dempster/11/2020/S4A10438_2...             S4A10438   \n",
       "/tank/data/nna/real/dempster/25/2020/S4A10334_2...             S4A10334   \n",
       "/tank/data/nna/real/dempster/25/2020/S4A10334_2...             S4A10334   \n",
       "/tank/data/nna/real/dempster/22/2020/S4A10434_2...             S4A10434   \n",
       "/tank/data/nna/real/dempster/12/2020/S4A10443_2...             S4A10443   \n",
       "\n",
       "                                                   hour_min_sec  year month  \\\n",
       "/tank/data/nna/real/dempster/14/2020/S4A10424_2...       160000  2020    08   \n",
       "/tank/data/nna/real/dempster/13/2020/S4A10324_2...       190710  2020    04   \n",
       "/tank/data/nna/real/dempster/13/2020/S4A10324_2...       054710  2020    06   \n",
       "/tank/data/nna/real/dempster/23/2020/S4A10347_2...       052000  2020    09   \n",
       "/tank/data/nna/real/dempster/22/2020/S4A10434_2...       040000  2020    08   \n",
       "...                                                         ...   ...   ...   \n",
       "/tank/data/nna/real/dempster/11/2020/S4A10438_2...       125209  2020    04   \n",
       "/tank/data/nna/real/dempster/25/2020/S4A10334_2...       032002  2020    04   \n",
       "/tank/data/nna/real/dempster/25/2020/S4A10334_2...       160000  2020    09   \n",
       "/tank/data/nna/real/dempster/22/2020/S4A10434_2...       012000  2020    09   \n",
       "/tank/data/nna/real/dempster/12/2020/S4A10443_2...       024000  2020    08   \n",
       "\n",
       "                                                   day    region  \\\n",
       "/tank/data/nna/real/dempster/14/2020/S4A10424_2...  12  dempster   \n",
       "/tank/data/nna/real/dempster/13/2020/S4A10324_2...  24  dempster   \n",
       "/tank/data/nna/real/dempster/13/2020/S4A10324_2...  08  dempster   \n",
       "/tank/data/nna/real/dempster/23/2020/S4A10347_2...  26  dempster   \n",
       "/tank/data/nna/real/dempster/22/2020/S4A10434_2...  26  dempster   \n",
       "...                                                 ..       ...   \n",
       "/tank/data/nna/real/dempster/11/2020/S4A10438_2...  21  dempster   \n",
       "/tank/data/nna/real/dempster/25/2020/S4A10334_2...  16  dempster   \n",
       "/tank/data/nna/real/dempster/25/2020/S4A10334_2...  05  dempster   \n",
       "/tank/data/nna/real/dempster/22/2020/S4A10434_2...  06  dempster   \n",
       "/tank/data/nna/real/dempster/12/2020/S4A10443_2...  21  dempster   \n",
       "\n",
       "                                                             timestamp  \\\n",
       "/tank/data/nna/real/dempster/14/2020/S4A10424_2... 2020-08-12 16:00:00   \n",
       "/tank/data/nna/real/dempster/13/2020/S4A10324_2... 2020-04-24 19:07:10   \n",
       "/tank/data/nna/real/dempster/13/2020/S4A10324_2... 2020-06-08 05:47:10   \n",
       "/tank/data/nna/real/dempster/23/2020/S4A10347_2... 2020-09-26 05:20:00   \n",
       "/tank/data/nna/real/dempster/22/2020/S4A10434_2... 2020-08-26 04:00:00   \n",
       "...                                                                ...   \n",
       "/tank/data/nna/real/dempster/11/2020/S4A10438_2... 2020-04-21 12:52:09   \n",
       "/tank/data/nna/real/dempster/25/2020/S4A10334_2... 2020-04-16 03:20:02   \n",
       "/tank/data/nna/real/dempster/25/2020/S4A10334_2... 2020-09-05 16:00:00   \n",
       "/tank/data/nna/real/dempster/22/2020/S4A10434_2... 2020-09-06 01:20:00   \n",
       "/tank/data/nna/real/dempster/12/2020/S4A10443_2... 2020-08-21 02:40:00   \n",
       "\n",
       "                                                   durationSec  \\\n",
       "/tank/data/nna/real/dempster/14/2020/S4A10424_2...         300   \n",
       "/tank/data/nna/real/dempster/13/2020/S4A10324_2...         300   \n",
       "/tank/data/nna/real/dempster/13/2020/S4A10324_2...         300   \n",
       "/tank/data/nna/real/dempster/23/2020/S4A10347_2...         300   \n",
       "/tank/data/nna/real/dempster/22/2020/S4A10434_2...         300   \n",
       "...                                                        ...   \n",
       "/tank/data/nna/real/dempster/11/2020/S4A10438_2...         300   \n",
       "/tank/data/nna/real/dempster/25/2020/S4A10334_2...         300   \n",
       "/tank/data/nna/real/dempster/25/2020/S4A10334_2...         300   \n",
       "/tank/data/nna/real/dempster/22/2020/S4A10434_2...         300   \n",
       "/tank/data/nna/real/dempster/12/2020/S4A10443_2...         300   \n",
       "\n",
       "                                                          timestampEnd  \n",
       "/tank/data/nna/real/dempster/14/2020/S4A10424_2... 2020-08-12 16:05:00  \n",
       "/tank/data/nna/real/dempster/13/2020/S4A10324_2... 2020-04-24 19:12:10  \n",
       "/tank/data/nna/real/dempster/13/2020/S4A10324_2... 2020-06-08 05:52:10  \n",
       "/tank/data/nna/real/dempster/23/2020/S4A10347_2... 2020-09-26 05:25:00  \n",
       "/tank/data/nna/real/dempster/22/2020/S4A10434_2... 2020-08-26 04:05:00  \n",
       "...                                                                ...  \n",
       "/tank/data/nna/real/dempster/11/2020/S4A10438_2... 2020-04-21 12:57:09  \n",
       "/tank/data/nna/real/dempster/25/2020/S4A10334_2... 2020-04-16 03:25:02  \n",
       "/tank/data/nna/real/dempster/25/2020/S4A10334_2... 2020-09-05 16:05:00  \n",
       "/tank/data/nna/real/dempster/22/2020/S4A10434_2... 2020-09-06 01:25:00  \n",
       "/tank/data/nna/real/dempster/12/2020/S4A10443_2... 2020-08-21 02:45:00  \n",
       "\n",
       "[39474 rows x 12 columns]"
      ]
     },
     "execution_count": 44,
     "metadata": {},
     "output_type": "execute_result"
    }
   ],
   "source": [
    "file_properties_df"
   ]
  },
  {
   "cell_type": "code",
   "execution_count": null,
   "metadata": {},
   "outputs": [],
   "source": []
  },
  {
   "cell_type": "code",
   "execution_count": null,
   "metadata": {},
   "outputs": [],
   "source": []
  },
  {
   "cell_type": "code",
   "execution_count": 28,
   "metadata": {},
   "outputs": [],
   "source": [
    "# exceptions"
   ]
  },
  {
   "cell_type": "code",
   "execution_count": 29,
   "metadata": {},
   "outputs": [],
   "source": [
    "def str2timestamp(fileinfo_dict):\n",
    "    # x=file_properties[file]\n",
    "#         print(x)\n",
    "    hour_min_sec=fileinfo_dict[\"hour_min_sec\"]\n",
    "    hour=int(hour_min_sec[:2])\n",
    "    minute=int(hour_min_sec[2:4])\n",
    "    second=int(hour_min_sec[4:6])\n",
    "    year = int(fileinfo_dict[\"year\"])\n",
    "\n",
    "    timestamp=datetime.datetime(year, int(fileinfo_dict[\"month\"]), int(fileinfo_dict[\"day\"]),\n",
    "                hour=hour, minute=minute, second=second, microsecond=0)\n",
    "    fileinfo_dict[\"timestamp\"]=timestamp\n",
    "    return fileinfo_dict\n"
   ]
  },
  {
   "cell_type": "code",
   "execution_count": null,
   "metadata": {},
   "outputs": [],
   "source": []
  },
  {
   "cell_type": "code",
   "execution_count": 30,
   "metadata": {},
   "outputs": [],
   "source": [
    "# merge with previous file properties\n",
    "merged_file_properties_df = pd.concat([file_properties_df,current_file_properties_df])\n"
   ]
  },
  {
   "cell_type": "code",
   "execution_count": 32,
   "metadata": {},
   "outputs": [],
   "source": [
    "merged_file_properties_df.to_pickle(data_folder+pkl_file_name+\".pkl\")"
   ]
  },
  {
   "cell_type": "code",
   "execution_count": null,
   "metadata": {},
   "outputs": [],
   "source": []
  },
  {
   "cell_type": "markdown",
   "metadata": {},
   "source": [
    "### Keep only prudhoe and anwr filter others\n",
    "##### since they are only ones with images"
   ]
  },
  {
   "cell_type": "code",
   "execution_count": null,
   "metadata": {},
   "outputs": [],
   "source": [
    "# file_properties_df = pd.read_pickle(str(file_properties_df_FilePath))\n"
   ]
  },
  {
   "cell_type": "code",
   "execution_count": 143,
   "metadata": {},
   "outputs": [
    {
     "data": {
      "text/plain": [
       "121541"
      ]
     },
     "execution_count": 143,
     "metadata": {},
     "output_type": "execute_result"
    }
   ],
   "source": [
    "len(merged_file_properties_df)"
   ]
  },
  {
   "cell_type": "code",
   "execution_count": 144,
   "metadata": {},
   "outputs": [],
   "source": [
    "def mask2(df, key, value):\n",
    "    return df[df[key] == value]\n",
    "pd.DataFrame.mask2 = mask2"
   ]
  },
  {
   "cell_type": "code",
   "execution_count": 145,
   "metadata": {},
   "outputs": [],
   "source": [
    "prudhoe = merged_file_properties_df.mask2(\"region\",'prudhoe')\n",
    "anwr = merged_file_properties_df.mask2(\"region\",'anwr')"
   ]
  },
  {
   "cell_type": "code",
   "execution_count": 146,
   "metadata": {},
   "outputs": [
    {
     "data": {
      "text/plain": [
       "15778"
      ]
     },
     "execution_count": 146,
     "metadata": {},
     "output_type": "execute_result"
    }
   ],
   "source": [
    "len(prudhoe),len(anwr)"
   ]
  },
  {
   "cell_type": "code",
   "execution_count": null,
   "metadata": {},
   "outputs": [],
   "source": [
    "prudhoeAndAnwr4photoExp = pd.concat([prudhoe,anwr])\n"
   ]
  },
  {
   "cell_type": "code",
   "execution_count": 154,
   "metadata": {},
   "outputs": [
    {
     "data": {
      "text/plain": [
       "30466"
      ]
     },
     "execution_count": 154,
     "metadata": {},
     "output_type": "execute_result"
    }
   ],
   "source": [
    "len(prudhoeAndAnwr4photoExp)"
   ]
  },
  {
   "cell_type": "code",
   "execution_count": 152,
   "metadata": {},
   "outputs": [],
   "source": [
    "prudhoeAndAnwr4photoExp.to_pickle(data_folder+\"prudhoeAndAnwr4photoExp_dataV1\"+\".pkl\")"
   ]
  },
  {
   "cell_type": "code",
   "execution_count": 155,
   "metadata": {},
   "outputs": [
    {
     "data": {
      "text/plain": [
       "'/home/enis/projects/nna/data/prudhoeAndAnwr4photoExp_dataV1.pkl'"
      ]
     },
     "execution_count": 155,
     "metadata": {},
     "output_type": "execute_result"
    }
   ],
   "source": [
    "(data_folder+\"prudhoeAndAnwr4photoExp_dataV1\"+\".pkl\")"
   ]
  },
  {
   "cell_type": "code",
   "execution_count": 12,
   "metadata": {},
   "outputs": [],
   "source": [
    "ex = '/home/enis/tmp/dempster-11_1,0.pkl'\n",
    "import numpy as np"
   ]
  },
  {
   "cell_type": "code",
   "execution_count": 13,
   "metadata": {},
   "outputs": [],
   "source": [
    "\n",
    "def load_clipping_2dict(\n",
    "    region_location_name,\n",
    "    clipping_results_path,\n",
    "    threshold: float = 1.0,\n",
    "    gathered_results=None,\n",
    "):\n",
    "    \"\"\"Load clipping results into a dictionary.\n",
    "file_properties_df, region_location_name,\n",
    "                                    clipping_results_path\n",
    "    \"\"\"\n",
    "    clipping_results_path = Path(clipping_results_path)\n",
    "    if not gathered_results:\n",
    "        gathered_results = {}\n",
    "    clipping_threshold_str = str(threshold)\n",
    "    clipping_threshold_str = clipping_threshold_str.replace(\".\", \",\")\n",
    "    file_name = (clipping_results_path /\n",
    "                 (region_location_name + f\"_{clipping_threshold_str}.pkl\"))\n",
    "    results_dict = np.load(file_name, allow_pickle=True)\n",
    "    results_dict = results_dict[()]\n",
    "    gathered_results.update(results_dict)  #type: ignore\n",
    "    return gathered_results\n"
   ]
  },
  {
   "cell_type": "code",
   "execution_count": 14,
   "metadata": {},
   "outputs": [],
   "source": [
    "results_dict = np.load(ex, allow_pickle=True)\n",
    "results_dict = results_dict[()]"
   ]
  },
  {
   "cell_type": "code",
   "execution_count": 15,
   "metadata": {},
   "outputs": [],
   "source": [
    "asd=(list(results_dict.keys()))"
   ]
  },
  {
   "cell_type": "code",
   "execution_count": 16,
   "metadata": {},
   "outputs": [
    {
     "data": {
      "text/plain": [
       "1384"
      ]
     },
     "execution_count": 16,
     "metadata": {},
     "output_type": "execute_result"
    }
   ],
   "source": [
    "len(asd)"
   ]
  },
  {
   "cell_type": "code",
   "execution_count": 6,
   "metadata": {},
   "outputs": [],
   "source": [
    "asd.append('/tank/data/nna/real/dempster/14/2020/S4A10424_20200812_160000.flac')"
   ]
  },
  {
   "cell_type": "code",
   "execution_count": 8,
   "metadata": {},
   "outputs": [
    {
     "name": "stdout",
     "output_type": "stream",
     "text": [
      "Clipping file for dempster-11_1,0.pkl exists at /home/enis/tmp. Checking existing results.\n",
      "1 number of files missing results, calculating only those.\n"
     ]
    }
   ],
   "source": [
    "from nna import clippingutils\n",
    "all_results_dict, files_w_errors = clippingutils.run_task_save(\n",
    "        asd,\n",
    "        'dempster-11',\n",
    "        '/home/enis/tmp',\n",
    "        1.0,\n",
    "    )\n"
   ]
  },
  {
   "cell_type": "code",
   "execution_count": 48,
   "metadata": {},
   "outputs": [],
   "source": []
  },
  {
   "cell_type": "code",
   "execution_count": null,
   "metadata": {},
   "outputs": [],
   "source": []
  }
 ],
 "metadata": {
  "kernelspec": {
   "display_name": "speechEnv",
   "language": "python",
   "name": "speechenv"
  },
  "language_info": {
   "codemirror_mode": {
    "name": "ipython",
    "version": 3
   },
   "file_extension": ".py",
   "mimetype": "text/x-python",
   "name": "python",
   "nbconvert_exporter": "python",
   "pygments_lexer": "ipython3",
   "version": "3.7.2"
  }
 },
 "nbformat": 4,
 "nbformat_minor": 4
}

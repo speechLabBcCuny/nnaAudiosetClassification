{
 "cells": [
  {
   "cell_type": "code",
   "execution_count": null,
   "id": "626e90a9-04e7-41af-983d-848185588f91",
   "metadata": {},
   "outputs": [],
   "source": []
  },
  {
   "cell_type": "code",
   "execution_count": 1,
   "id": "16f69b18-bf03-4742-bf2f-fbb491b188b8",
   "metadata": {},
   "outputs": [],
   "source": [
    "# file_properties_df"
   ]
  },
  {
   "cell_type": "code",
   "execution_count": 20,
   "id": "269f2dc1-5866-4c55-88a0-1c3a9ad008b7",
   "metadata": {},
   "outputs": [],
   "source": [
    "import csv\n",
    "from datetime import datetime,timedelta\n",
    "from nna import fileUtils\n",
    "def read_csv(csv_file_path, fieldnames=None):\n",
    "    with open(csv_file_path, encoding='utf-8') as csv_file:\n",
    "        rows = csv.DictReader(csv_file,fieldnames=fieldnames)\n",
    "        rows = list(rows)\n",
    "        for row in rows:\n",
    "            for key,value in row.items():\n",
    "                if value.lower() == 'false':\n",
    "                    row[key]='FALSE'\n",
    "\n",
    "    return rows\n",
    "\n",
    "def write_csv(new_csv_file, rows_new,fieldnames=None):\n",
    "    with open(new_csv_file, 'w', newline='',encoding='utf-8') as csvfile:\n",
    "        if fieldnames is None:\n",
    "            fieldnames = rows_new[0].keys()\n",
    "        writer = csv.DictWriter(csvfile, fieldnames=fieldnames)\n",
    "\n",
    "        writer.writeheader()\n",
    "        writer.writerows(rows_new)\n",
    "        \n",
    "\n",
    "\n",
    "def get_region(row):\n",
    "    site_id = int(row['Site ID'])\n",
    "    if site_id<31:\n",
    "        region='prudhoe'\n",
    "    else:\n",
    "        region='anwr'\n",
    "    return region\n"
   ]
  },
  {
   "cell_type": "code",
   "execution_count": null,
   "id": "7f57e30a-4ffa-40cf-bc2b-351d5f7b3503",
   "metadata": {},
   "outputs": [],
   "source": []
  },
  {
   "cell_type": "code",
   "execution_count": 21,
   "id": "b8a1856b-212e-4d3f-88a9-aaf3131617be",
   "metadata": {},
   "outputs": [],
   "source": [
    "csv_file='/scratch/enis/data/nna/labeling/megan/datasetV3.1.csv'\n",
    "rows=read_csv(csv_file)\n"
   ]
  },
  {
   "cell_type": "code",
   "execution_count": 22,
   "id": "64f0e74c-4577-4750-b4b1-b501531a6756",
   "metadata": {},
   "outputs": [],
   "source": [
    "# c=0\n",
    "# t=0\n",
    "import pandas as pd\n",
    "from pathlib import Path\n",
    "\n",
    "file_properties_df = pd.read_pickle(\n",
    "    '/scratch/enis/data/nna/database/allFields_dataV6.pkl')\n",
    "output_folder = '/scratch/enis/data/nna/labeling/megan/datasetV2SpltMono/dataset_exact/'\n"
   ]
  },
  {
   "cell_type": "code",
   "execution_count": 24,
   "id": "e4680879-2ded-462a-9b14-3f6250c7fa8c",
   "metadata": {},
   "outputs": [],
   "source": [
    "# file_properties_df"
   ]
  },
  {
   "cell_type": "code",
   "execution_count": 25,
   "id": "4d8abcaf-617e-4f5c-a602-3c26eecd6a0c",
   "metadata": {},
   "outputs": [],
   "source": [
    "old_path2new_path={}\n",
    "# row"
   ]
  },
  {
   "cell_type": "code",
   "execution_count": 58,
   "id": "48378ced-2758-45d9-b4fd-aa646c359774",
   "metadata": {},
   "outputs": [
    {
     "data": {
      "text/plain": [
       "1671"
      ]
     },
     "execution_count": 58,
     "metadata": {},
     "output_type": "execute_result"
    }
   ],
   "source": [
    "len(old_path2new_path)"
   ]
  },
  {
   "cell_type": "code",
   "execution_count": 26,
   "id": "cbe2c6e7-9e76-409e-b77d-cc4cb3824ec5",
   "metadata": {},
   "outputs": [
    {
     "name": "stdout",
     "output_type": "stream",
     "text": [
      "0\n",
      "100\n",
      "200\n",
      "300\n",
      "400\n",
      "500\n",
      "600\n",
      "700\n",
      "800\n",
      "900\n",
      "1000\n",
      "1100\n",
      "1200\n",
      "1300\n",
      "1400\n",
      "1500\n",
      "1600\n"
     ]
    }
   ],
   "source": [
    "c=0\n",
    "failed=[]\n",
    "for row in rows:\n",
    "    region=get_region(row)\n",
    "    location = row['Site ID']\n",
    "    file_name='_'.join(([region,location,Path(row['File Name']).stem]))\n",
    "    \n",
    "    style='%H:%M:%S.%f'\n",
    "    length_time = datetime.strptime(row['Length'], style)\n",
    "    length_time=(length_time - length_time.replace(\n",
    "            hour=0, minute=0, second=0, microsecond=0)).total_seconds()\n",
    "    if length_time<10:\n",
    "        start = ' '.join([row['Date'],row['Start Time']])\n",
    "        start_time = datetime.strptime(start, '%m/%d/%Y %H:%M:%S.%f')\n",
    "        end_time = start_time+timedelta(seconds=10)\n",
    "        length=10\n",
    "        buffer=0\n",
    "        filenames,sorted_filtered=fileUtils.query_audio(location,\n",
    "                region,\n",
    "                start_time,\n",
    "                end_time,\n",
    "                length,\n",
    "                buffer,\n",
    "                file_properties_df,\n",
    "                file_name,\n",
    "                display_flag=False,\n",
    "                save=True,\n",
    "                tmp_folder=output_folder,\n",
    "                version='V2')\n",
    "        if c%100==0:\n",
    "            print(c)\n",
    "        c+=1\n",
    "        if filenames is None:\n",
    "            print('ERROR')\n",
    "            print(sorted_filtered)\n",
    "            print(row)\n",
    "        if filenames:\n",
    "            old_path2new_path[row['Clip Path']]=filenames[0]\n",
    "        else:\n",
    "            failed.append(row)\n"
   ]
  },
  {
   "cell_type": "code",
   "execution_count": 27,
   "id": "fabbeae5-3111-4c18-9700-74445ad0291f",
   "metadata": {},
   "outputs": [
    {
     "name": "stdout",
     "output_type": "stream",
     "text": [
      "9.0\n",
      "0\n",
      "7.995354\n",
      "9.284396\n",
      "8.099375\n",
      "7.302354\n",
      "5.230583\n",
      "3.951104\n",
      "1.030146\n",
      "2.764458\n",
      "4.016292\n",
      "1.356146\n",
      "5.167\n",
      "6.337396\n",
      "9.206167\n",
      "5.998354\n",
      "5.789708\n",
      "2.060313\n",
      "1.22575\n",
      "6.885083\n",
      "5.450688\n",
      "6.92075\n",
      "6.862188\n",
      "5.062667\n",
      "5.114854\n",
      "5.766854\n",
      "9.388729\n",
      "5.021958\n",
      "2.030563\n"
     ]
    }
   ],
   "source": [
    "c=0\n",
    "# failed=[]\n",
    "failed_again=[]\n",
    "old_path2new_path_2={}\n",
    "for row in failed:\n",
    "    region=get_region(row)\n",
    "    location = row['Site ID']\n",
    "    file_name='_'.join(([region,location,Path(row['File Name']).stem]))\n",
    "    \n",
    "    style='%H:%M:%S.%f'\n",
    "    length_time = datetime.strptime(row['Length'], style)\n",
    "    length_time=(length_time - length_time.replace(\n",
    "            hour=0, minute=0, second=0, microsecond=0)).total_seconds()\n",
    "    if length_time<10:\n",
    "        print(length_time)\n",
    "        start = ' '.join([row['Date'],row['Start Time']])\n",
    "        start_time = datetime.strptime(start, '%m/%d/%Y %H:%M:%S.%f')\n",
    "        end_time = start_time+timedelta(seconds=length_time)\n",
    "        start_time = end_time-timedelta(seconds=10)\n",
    "        length=10\n",
    "        buffer=0\n",
    "        filenames,sorted_filtered=fileUtils.query_audio(location,\n",
    "                region,\n",
    "                start_time,\n",
    "                end_time,\n",
    "                length,\n",
    "                buffer,\n",
    "                file_properties_df,\n",
    "                file_name,\n",
    "                display_flag=False,\n",
    "                save=True,\n",
    "                tmp_folder=output_folder,\n",
    "                version='V2',\n",
    "                stereo2mono=True,\n",
    "                sampling_rate=48000)\n",
    "        if c%100==0:\n",
    "            print(c)\n",
    "        c+=1\n",
    "        if filenames is None:\n",
    "            print('ERROR')\n",
    "            print(sorted_filtered)\n",
    "            print(row)\n",
    "        if filenames:\n",
    "            old_path2new_path_2[row['Clip Path']]=filenames[0]\n",
    "        else:\n",
    "            failed_again.append(row)\n"
   ]
  },
  {
   "cell_type": "code",
   "execution_count": 55,
   "id": "accbc11b-22b8-4f7c-869e-77b400bdf6e1",
   "metadata": {},
   "outputs": [],
   "source": [
    "# failed_again[20]"
   ]
  },
  {
   "cell_type": "code",
   "execution_count": 59,
   "id": "30b4975f-1681-4063-aecc-dfc579e1c3b4",
   "metadata": {},
   "outputs": [],
   "source": [
    "old_path2new_path_c = old_path2new_path.copy()"
   ]
  },
  {
   "cell_type": "code",
   "execution_count": 17,
   "id": "07c0c40b-2636-4fff-802b-a9fb57d26555",
   "metadata": {},
   "outputs": [
    {
     "data": {
      "text/plain": [
       "28"
      ]
     },
     "execution_count": 17,
     "metadata": {},
     "output_type": "execute_result"
    }
   ],
   "source": [
    "len(failed)"
   ]
  },
  {
   "cell_type": "code",
   "execution_count": 18,
   "id": "0bde6743-79a9-4719-b701-3ceba022f322",
   "metadata": {},
   "outputs": [
    {
     "data": {
      "text/plain": [
       "1671"
      ]
     },
     "execution_count": 18,
     "metadata": {},
     "output_type": "execute_result"
    }
   ],
   "source": [
    "len(old_path2new_path)"
   ]
  },
  {
   "cell_type": "code",
   "execution_count": 28,
   "id": "7f44d7a1-01c9-43bb-b0c9-754a5807f515",
   "metadata": {},
   "outputs": [],
   "source": [
    "rows_dict={row['Clip Path']:row for row in rows}\n"
   ]
  },
  {
   "cell_type": "code",
   "execution_count": 29,
   "id": "7b2f9256-e941-4d7e-a677-4c28580a34ca",
   "metadata": {},
   "outputs": [],
   "source": [
    "# old_path2new_path\n",
    "\n",
    "for key,new_key in old_path2new_path_2.items():\n",
    "    rows_dict[key]['Clip Path']=new_key\n",
    "    rows_dict[key]['Comments']+=',_exact_'"
   ]
  },
  {
   "cell_type": "code",
   "execution_count": null,
   "id": "6453a2eb-e186-48de-a672-c2f4443ef050",
   "metadata": {},
   "outputs": [],
   "source": []
  },
  {
   "cell_type": "code",
   "execution_count": 30,
   "id": "ef5bf75b-bd88-4b74-b2dc-5396e88fce12",
   "metadata": {},
   "outputs": [],
   "source": [
    "for key,new_key in old_path2new_path.items():\n",
    "    rows_dict[key]['Clip Path']=new_key\n",
    "    rows_dict[key]['Comments']+=',_exact_'"
   ]
  },
  {
   "cell_type": "code",
   "execution_count": 31,
   "id": "38a8fa65-df4b-4928-8d9f-f3b7dbd1d23b",
   "metadata": {},
   "outputs": [],
   "source": [
    "rows_exact = list(rows_dict.values())"
   ]
  },
  {
   "cell_type": "code",
   "execution_count": 32,
   "id": "4978dc21-5a82-447d-8f40-debf8e934014",
   "metadata": {},
   "outputs": [],
   "source": [
    "write_csv('/scratch/enis/data/nna/labeling/megan/datasetV3.1.exact.csv',rows_exact)\n",
    "# rows_exact = read_csv('/scratch/enis/data/nna/labeling/megan/datasetV3.1.exact.csv')"
   ]
  },
  {
   "cell_type": "code",
   "execution_count": 33,
   "id": "6c742013-fc7e-4c44-9cac-28dcc0501f3d",
   "metadata": {},
   "outputs": [],
   "source": [
    "# !head '/scratch/enis/data/nna/labeling/megan/datasetV3.1.exact.csv'\n"
   ]
  },
  {
   "cell_type": "code",
   "execution_count": 35,
   "id": "ed6bd513-7459-497d-9614-bebf68c96775",
   "metadata": {},
   "outputs": [],
   "source": [
    "# !head '/scratch/enis/data/nna/labeling/megan/datasetV3.1.csv'\n",
    "# import importlib\n",
    "# importlib.reload(nna.fileUtils)\n",
    "# importlib.reload(nna.labeling_utils)\n",
    "\n",
    "from nna import fileUtils"
   ]
  },
  {
   "cell_type": "code",
   "execution_count": 36,
   "id": "053fc5cd-e5b1-4e52-bfcc-79cb84775faa",
   "metadata": {},
   "outputs": [],
   "source": [
    "# for row in rows_exact:\n",
    "#     if 'flac' in row['Clip Path'] and 'exact' in row['Clip Path']:\n",
    "#         print(row['Clip Path'])\n"
   ]
  },
  {
   "cell_type": "code",
   "execution_count": 56,
   "id": "3073880d-2892-42c1-9d99-96e45e28438c",
   "metadata": {},
   "outputs": [
    {
     "name": "stdout",
     "output_type": "stream",
     "text": [
      "/scratch/enis/data/nna/labeling/megan/datasetV2SpltMono/AudioSamplesPerSite/Site_48/S4A10252_20190709_213000_Bio_Bird_DGS03_splt-0.wav\n",
      "/scratch/enis/data/nna/labeling/megan/datasetV2SpltMono/AudioSamplesPerSite/Site_48/S4A10252_20190709_213000_Bio_Bird_SongB_splt-0.wav\n"
     ]
    }
   ],
   "source": [
    "ff='/scratch/enis/data/nna/labeling/megan/datasetV2SpltMono/dataset_exact/anwr_48_S4A10252_20190709_213000_exact_2019-07-09_22-40-15_0m_0s__0m_10s.flac'\n",
    "for key,value in old_path2new_path.items():\n",
    "    if value==ff:\n",
    "        print(key)\n"
   ]
  },
  {
   "cell_type": "code",
   "execution_count": 61,
   "id": "e2b7afd5-9c3f-4f9d-bd2f-1ebdd62bb8a8",
   "metadata": {},
   "outputs": [
    {
     "name": "stdout",
     "output_type": "stream",
     "text": [
      "('/scratch/enis/data/nna/labeling/megan/datasetV2SpltMono/dataset_exact/anwr_48_S4A10252_20190709_213000_exact_2019-07-09_22-40-15_0m_0s__0m_10s.flac', 2)\n",
      "('/scratch/enis/data/nna/labeling/megan/datasetV2SpltMono/dataset_exact/prudhoe_30_S4A10264_20190608_041602_exact_2019-06-08_04-19-02_0m_0s__0m_10s.flac', 2)\n",
      "('/scratch/enis/data/nna/labeling/megan/datasetV2SpltMono/dataset_exact/prudhoe_30_S4A10264_20190608_041602_exact_2019-06-08_04-25-06_0m_0s__0m_10s.flac', 2)\n",
      "('/scratch/enis/data/nna/labeling/megan/datasetV2SpltMono/dataset_exact/prudhoe_12_S4A10268_20190606_091602_exact_2019-06-06_10-20-13_0m_0s__0m_10s.flac', 2)\n",
      "('/scratch/enis/data/nna/labeling/megan/datasetV2SpltMono/dataset_exact/prudhoe_22_S4A10275_20190806_043000_exact_2019-08-06_05-18-03_0m_0s__0m_10s.flac', 2)\n",
      "('/scratch/enis/data/nna/labeling/megan/datasetV2SpltMono/dataset_exact/prudhoe_22_S4A10275_20190806_043000_exact_2019-08-06_05-20-41_0m_0s__0m_10s.flac', 2)\n",
      "('/scratch/enis/data/nna/labeling/megan/datasetV2SpltMono/dataset_exact/prudhoe_22_S4A10275_20190806_043000_exact_2019-08-06_05-31-01_0m_0s__0m_10s.flac', 2)\n",
      "('/scratch/enis/data/nna/labeling/megan/datasetV2SpltMono/dataset_exact/prudhoe_25_S4A10295_20190728_051602_exact_2019-07-28_05-41-55_0m_0s__0m_10s.flac', 2)\n",
      "('/scratch/enis/data/nna/labeling/megan/datasetV2SpltMono/dataset_exact/prudhoe_17_S4A10307_20190807_134602_exact_2019-08-07_14-26-00_0m_0s__0m_10s.flac', 2)\n",
      "('/scratch/enis/data/nna/labeling/megan/datasetV2SpltMono/dataset_exact/prudhoe_14_S4A10361_20190710_134602_exact_2019-07-10_13-48-25_0m_0s__0m_10s.flac', 2)\n"
     ]
    }
   ],
   "source": [
    "list2=list(old_path2new_path.values())\n",
    "# old_path2new_path_filter={}\n",
    "# list2=[row['Clip Path'] for row in rows_exact]\n",
    "to_delete=[]\n",
    "len(list2),len(set(list2))\n",
    "from collections import Counter\n",
    "for item in Counter(list2).items():\n",
    "    if (item[1]>1):\n",
    "        print(item)\n",
    "        for k,v in old_path2new_path.items():\n",
    "            if v==item[0]:\n",
    "                to_delete.append(k)"
   ]
  },
  {
   "cell_type": "code",
   "execution_count": 63,
   "id": "9148de1b-7e57-4263-83eb-612558acc597",
   "metadata": {},
   "outputs": [],
   "source": [
    "for key in to_delete:\n",
    "    del old_path2new_path[key]"
   ]
  },
  {
   "cell_type": "code",
   "execution_count": 98,
   "id": "25cc63c9-2658-4868-bae6-40baee7bd970",
   "metadata": {},
   "outputs": [],
   "source": [
    "def swap_file_w_monosound_set_sr(input_file,\n",
    "                                 sr=48000,\n",
    "                                 suffix='.wav',\n",
    "                                 backend_path='/scratch/enis/conda/envs/speechEnv/bin/ffmpeg',):\n",
    "\n",
    "    input_file_new_suffix=input_file.with_suffix(suffix)\n",
    "    if not input_file.exists():\n",
    "        print('File does not exists',input_file)\n",
    "    output_file= Path('./temp.wav').with_suffix(suffix)\n",
    "    fileUtils.make_mono_set_sr(\n",
    "            str(input_file),\n",
    "            str(output_file),\n",
    "            stereo2mono=True,\n",
    "            sampling_rate=sr,\n",
    "            backend_path=backend_path,\n",
    "            overwrite=True)\n",
    "    input_file.unlink()\n",
    "    shutil.move(output_file, input_file_new_suffix)\n",
    "    return input_file_new_suffix"
   ]
  },
  {
   "cell_type": "code",
   "execution_count": 66,
   "id": "88414f4d-44f9-421a-9205-9922dc6c3b53",
   "metadata": {},
   "outputs": [
    {
     "name": "stdout",
     "output_type": "stream",
     "text": [
      "100\n",
      "200\n",
      "300\n",
      "400\n",
      "500\n",
      "600\n",
      "700\n",
      "800\n",
      "900\n",
      "1000\n",
      "1100\n"
     ]
    }
   ],
   "source": [
    "from pathlib import Path\n",
    "import shutil\n",
    "c=0\n",
    "for row in rows_exact:\n",
    "    if 'exact' not in row['Clip Path']:\n",
    "        continue\n",
    "    input_file=Path(row['Clip Path'])\n",
    "    input_file_wav=input_file.with_suffix('.wav')\n",
    "    if not input_file.exists():\n",
    "        continue\n",
    "    output_file=('./temp.wav')\n",
    "    fileUtils.make_mono_set_sr(\n",
    "            str(input_file),\n",
    "            str(output_file),\n",
    "            stereo2mono=True,\n",
    "            sampling_rate=48000,\n",
    "            backend_path='/scratch/enis/conda/envs/speechEnv/bin/ffmpeg',\n",
    "            overwrite=True)\n",
    "    input_file_wav=input_file.with_suffix('.wav')\n",
    "    input_file.unlink()\n",
    "    shutil.move(output_file, input_file_wav)\n",
    "    c+=1\n",
    "    if c%100==0:\n",
    "        print(c)\n",
    "    \n"
   ]
  },
  {
   "cell_type": "code",
   "execution_count": 69,
   "id": "9008e9f3-dc32-44ab-aba7-1356b6a9b4e2",
   "metadata": {},
   "outputs": [
    {
     "data": {
      "text/plain": [
       "'.mp3'"
      ]
     },
     "execution_count": 69,
     "metadata": {},
     "output_type": "execute_result"
    }
   ],
   "source": [
    "Path('asd.mp3').suffix"
   ]
  },
  {
   "cell_type": "code",
   "execution_count": null,
   "id": "dc1f7443-ddfc-498d-9ea2-c8b74e650fe1",
   "metadata": {},
   "outputs": [],
   "source": [
    "for row in rows_exact:\n",
    "    if 'exact' in row['Clip Path']:\n",
    "        input_file=Path(row['Clip Path'])\n",
    "        if input_file.suffix=='.flac':\n",
    "            # print(input_file)\n",
    "        # continue\n",
    "            input_file_wav=input_file.with_suffix('.wav')\n",
    "            if not input_file_wav.exists():\n",
    "                raise Error('asd')\n",
    "            row['Clip Path'] = input_file_wav\n",
    "            "
   ]
  },
  {
   "cell_type": "code",
   "execution_count": 68,
   "id": "eb27aa76-c690-4bde-984b-ec2db97bc2e2",
   "metadata": {},
   "outputs": [],
   "source": [
    "# !/scratch/enis/conda/envs/speechEnv/bin/python /home/enis/projects/nna/src/nna/slack_message.py -t \"cpu job ended\" -m 'split audio ended'\n"
   ]
  },
  {
   "cell_type": "code",
   "execution_count": 72,
   "id": "502195c9-e51d-46ae-a365-f140fac95d8e",
   "metadata": {},
   "outputs": [],
   "source": [
    "write_csv('/scratch/enis/data/nna/labeling/megan/datasetV3.1.exact2.csv',rows_exact)"
   ]
  },
  {
   "cell_type": "code",
   "execution_count": 74,
   "id": "d25fd7f2-fe2d-43ab-b06c-99a1dc90b6e0",
   "metadata": {},
   "outputs": [],
   "source": [
    "# !head /scratch/enis/data/nna/labeling/megan/datasetV3.1.exact2.csv"
   ]
  },
  {
   "cell_type": "code",
   "execution_count": 99,
   "id": "efa3ab9c-c435-4f5f-80bc-9b46b50dc736",
   "metadata": {},
   "outputs": [],
   "source": [
    "import json\n",
    "from subprocess import check_output\n",
    "\n",
    "def get_media_info(filename, print_result=False):\n",
    "    \"\"\"\n",
    "    Returns:\n",
    "        result = dict with audio info where:\n",
    "        result['format'] contains dict of tags, bit rate etc.\n",
    "        result['streams'] contains a dict per stream with sample rate, channels etc.\n",
    "    \"\"\"\n",
    "    filename = str(filename)\n",
    "    result = check_output(['/scratch/enis/conda/envs/speechEnv/bin/ffprobe',\n",
    "                            '-hide_banner', '-loglevel', 'panic',\n",
    "                            '-show_format',\n",
    "                            '-show_streams',\n",
    "                            '-of',\n",
    "                            'json', filename])\n",
    "\n",
    "    result = json.loads(result)\n",
    "\n",
    "    if print_result:\n",
    "        print('\\nFormat')\n",
    "\n",
    "        for key, value in result['format'].items():\n",
    "            print('   ', key, ':', value)\n",
    "\n",
    "        print('\\nStreams')\n",
    "        for stream in result['streams']:\n",
    "            for key, value in stream.items():\n",
    "                print('   ', key, ':', value)\n",
    "\n",
    "        print('\\n')\n",
    "\n",
    "    return result"
   ]
  },
  {
   "cell_type": "code",
   "execution_count": 91,
   "id": "704f54a1-3a3f-46f5-a37a-0f003d7c5571",
   "metadata": {},
   "outputs": [
    {
     "data": {
      "text/plain": [
       "'10.000000'"
      ]
     },
     "execution_count": 91,
     "metadata": {},
     "output_type": "execute_result"
    }
   ],
   "source": []
  },
  {
   "cell_type": "code",
   "execution_count": 92,
   "id": "e80da01e-6c4d-462a-ba92-736997355be3",
   "metadata": {},
   "outputs": [
    {
     "name": "stdout",
     "output_type": "stream",
     "text": [
      "5.000000 /scratch/enis/data/nna/labeling/megan/datasetV2SpltMono/dataset_exact/prudhoe_29__exact_2019-07-29_00-15-55_0m_0s__0m_10s.wav duration\n"
     ]
    }
   ],
   "source": [
    "ff='/scratch/enis/data/nna/labeling/megan/datasetV2SpltMono/dataset_exact/anwr_48_S4A10252_20190709_213000_exact_2019-07-09_22-40-15_0m_0s__0m_10s.wav'\n",
    "a=get_media_info(ff)\n",
    "\n",
    "for row in rows_exact:\n",
    "    input_file=Path(row['Clip Path'])\n",
    "    a=get_media_info(input_file)\n",
    "    if len(a['streams'])>1:\n",
    "        print(input_file)\n",
    "    if a['streams'][0]['sample_rate']!='48000':\n",
    "        print(a['streams'][0]['sample_rate'],input_file,)\n",
    "    if a['streams'][0]['duration']!='10.000000':\n",
    "        print(a['streams'][0]['duration'],input_file,'duration')\n",
    "# a\n"
   ]
  },
  {
   "cell_type": "code",
   "execution_count": 79,
   "id": "51075715-563a-4b40-a888-a9bc41619058",
   "metadata": {},
   "outputs": [
    {
     "data": {
      "text/plain": [
       "'/scratch/enis/data/nna/labeling/megan/datasetV2SpltMono/dataset_exact/anwr_48_S4A10252_20190709_213000_exact_2019-07-09_22-40-15_0m_0s__0m_10s.flac'"
      ]
     },
     "execution_count": 79,
     "metadata": {},
     "output_type": "execute_result"
    }
   ],
   "source": [
    "# /scratch/enis/data/nna/labeling/megan/datasetV2SpltMono/dataset_exact/prudhoe_29__exact_2019-07-29_00-15-55_0m_0s__0m_10s.wav\n",
    "# 5"
   ]
  },
  {
   "cell_type": "code",
   "execution_count": 81,
   "id": "a63fdb41-04a5-44f2-b86b-64cd9e2615d2",
   "metadata": {},
   "outputs": [
    {
     "name": "stdout",
     "output_type": "stream",
     "text": [
      "/scratch/enis/data/nna/labeling/megan/datasetV2SpltMono/dataset_exact/anwr_48_S4A10252_20190709_213000_exact_2019-07-09_22-40-15_0m_0s__0m_10s.wav\n"
     ]
    }
   ],
   "source": [
    "!ls '/scratch/enis/data/nna/labeling/megan/datasetV2SpltMono/dataset_exact/anwr_48_S4A10252_20190709_213000_exact_2019-07-09_22-40-15_0m_0s__0m_10s.wav'"
   ]
  },
  {
   "cell_type": "code",
   "execution_count": 93,
   "id": "8e485731-a423-44ef-9fe5-97d02f0a86a3",
   "metadata": {},
   "outputs": [],
   "source": [
    "a_dataset=read_csv('/scratch/enis/data/nna/labeling/megan/datasetV4.csv')"
   ]
  },
  {
   "cell_type": "code",
   "execution_count": 96,
   "id": "424f9ca1-9834-4a7b-a837-a01e231aa26a",
   "metadata": {},
   "outputs": [],
   "source": [
    "# len(a_dataset),a_dataset[0]"
   ]
  },
  {
   "cell_type": "code",
   "execution_count": null,
   "id": "4bcb0282-84e2-4d66-89fa-a8242fc28411",
   "metadata": {},
   "outputs": [
    {
     "name": "stdout",
     "output_type": "stream",
     "text": [
      "0\n",
      "100\n",
      "200\n",
      "1300\n",
      "1400\n",
      "1500\n",
      "1600\n",
      "1700\n",
      "1800\n",
      "1900\n",
      "2000\n",
      "2100\n",
      "2200\n",
      "2300\n",
      "2400\n",
      "2500\n",
      "2600\n",
      "2700\n",
      "2800\n",
      "2900\n",
      "3000\n",
      "3100\n",
      "3200\n",
      "3300\n",
      "3400\n",
      "3500\n",
      "3600\n",
      "3700\n",
      "3800\n",
      "3900\n",
      "4000\n",
      "4100\n",
      "4200\n",
      "4300\n",
      "4400\n",
      "4500\n",
      "4600\n",
      "4700\n",
      "4800\n",
      "4900\n",
      "5000\n",
      "5100\n",
      "5200\n",
      "5300\n",
      "5400\n",
      "5500\n",
      "5600\n",
      "5700\n",
      "5800\n",
      "5900\n",
      "6000\n",
      "6100\n",
      "6200\n",
      "6300\n",
      "6400\n",
      "6500\n",
      "6600\n",
      "6700\n",
      "6800\n",
      "9.999833 /scratch/enis/data/nna/labeling/megan/yfitloiq-V1/dalton/04/S4A10281_20190422_212934_3m_0s__3m_10s.wav duration\n",
      "9.999833 /scratch/enis/data/nna/labeling/megan/yfitloiq-V1/dalton/05/S4A10454_20191014_064000_2m_40s__2m_50s.wav duration\n",
      "9.999833 /scratch/enis/data/nna/labeling/megan/yfitloiq-V1/dalton/04/S4A10281_20190401_224934_4m_20s__4m_30s.wav duration\n",
      "6900\n",
      "7000\n",
      "7100\n",
      "7200\n",
      "9.999833 /scratch/enis/data/nna/labeling/megan/yfitloiq-V1/dalton/04/S4A10281_20190328_184934_4m_0s__4m_10s.wav duration\n",
      "7300\n",
      "9.999833 /scratch/enis/data/nna/labeling/megan/yfitloiq-V1/dalton/05/S4A10454_20191022_104000_4m_20s__4m_30s.wav duration\n",
      "10.000167 /scratch/enis/data/nna/labeling/megan/yfitloiq-V1/dalton/05/S4A10454_20190818_184000_2m_20s__2m_30s.wav duration\n",
      "9.999833 /scratch/enis/data/nna/labeling/megan/yfitloiq-V1/dalton/05/S4A10454_20190409_151814_3m_0s__3m_10s.wav duration\n",
      "9.999833 /scratch/enis/data/nna/labeling/megan/yfitloiq-V1/dalton/05/S4A10454_20190401_071814_0m_20s__0m_30s.wav duration\n",
      "7400\n",
      "9.999833 /scratch/enis/data/nna/labeling/megan/yfitloiq-V1/dalton/04/S4A10281_20190411_224934_1m_30s__1m_40s.wav duration\n",
      "10.000167 /scratch/enis/data/nna/labeling/megan/yfitloiq-V1/dalton/05/S4A10454_20190912_024000_2m_30s__2m_40s.wav duration\n",
      "7500\n",
      "10.000167 /scratch/enis/data/nna/labeling/megan/yfitloiq-V1/dalton/05/S4A10454_20190914_144000_3m_50s__4m_0s.wav duration\n",
      "9.999833 /scratch/enis/data/nna/labeling/megan/yfitloiq-V1/dalton/05/S4A10454_20190324_203814_2m_40s__2m_50s.wav duration\n",
      "7600\n",
      "7700\n",
      "10.000167 /scratch/enis/data/nna/labeling/megan/yfitloiq-V1/dalton/05/S4A10454_20190417_151814_3m_40s__3m_50s.wav duration\n",
      "9.999833 /scratch/enis/data/nna/labeling/megan/yfitloiq-V1/dalton/05/S4A10454_20190912_024000_4m_20s__4m_30s.wav duration\n",
      "10.000167 /scratch/enis/data/nna/labeling/megan/yfitloiq-V1/dalton/05/S4A10454_20190328_151814_1m_10s__1m_20s.wav duration\n",
      "7800\n",
      "9.999833 /scratch/enis/data/nna/labeling/megan/yfitloiq-V1/dalton/04/S4A10281_20190419_024934_0m_20s__0m_30s.wav duration\n",
      "7900\n",
      "10.000167 /scratch/enis/data/nna/labeling/megan/yfitloiq-V1/dalton/04/S4A10281_20190325_080934_3m_50s__4m_0s.wav duration\n",
      "9.999833 /scratch/enis/data/nna/labeling/megan/yfitloiq-V1/dalton/05/S4A10454_20190407_175814_1m_30s__1m_40s.wav duration\n",
      "8000\n",
      "9.999833 /scratch/enis/data/nna/labeling/megan/yfitloiq-V1/dalton/05/S4A10454_20190418_003814_0m_20s__0m_30s.wav duration\n",
      "8100\n",
      "9.999833 /scratch/enis/data/nna/labeling/megan/yfitloiq-V1/dalton/03/S4A10437_20190409_210755_4m_0s__4m_10s.wav duration\n",
      "8200\n",
      "8300\n",
      "9.999833 /scratch/enis/data/nna/labeling/megan/yfitloiq-V1/dalton/05/S4A10454_20190409_055814_2m_50s__3m_0s.wav duration\n",
      "9.999833 /scratch/enis/data/nna/labeling/megan/yfitloiq-V1/dalton/04/S4A10281_20190321_080934_1m_20s__1m_30s.wav duration\n",
      "8400\n",
      "9.999833 /scratch/enis/data/nna/labeling/megan/yfitloiq-V1/dalton/05/S4A10454_20190430_111814_4m_10s__4m_20s.wav duration\n",
      "9.999833 /scratch/enis/data/nna/labeling/megan/yfitloiq-V1/dalton/04/S4A10281_20190417_092934_4m_20s__4m_30s.wav duration\n"
     ]
    }
   ],
   "source": [
    "c=0\n",
    "short_files=[]\n",
    "for row in a_dataset:\n",
    "    input_file=row['Clip Path']\n",
    "    a=get_media_info(input_file)\n",
    "    needs_change=False\n",
    "    if len(a['streams'])>1:\n",
    "        # print('streams',len(a['streams']),input_file)\n",
    "        needs_change=True\n",
    "    if a['streams'][0]['sample_rate']!='48000':\n",
    "        # print(a['streams'][0]['sample_rate'],input_file,)\n",
    "        needs_change=True\n",
    "    if a['streams'][0]['duration']!='10.000000':\n",
    "        print(a['streams'][0]['duration'],input_file,'duration')\n",
    "        short_files.append(input_file)\n",
    "        # needs_change=True\n",
    "    if needs_change:\n",
    "        swap_file_w_monosound_set_sr(input_file)\n",
    "    if c%100==0:\n",
    "        print(c)\n",
    "    c+=1\n"
   ]
  },
  {
   "cell_type": "code",
   "execution_count": 101,
   "id": "7867e467-1de4-4c9a-a93e-d5950228ae79",
   "metadata": {},
   "outputs": [
    {
     "data": {
      "text/plain": [
       "31"
      ]
     },
     "execution_count": 101,
     "metadata": {},
     "output_type": "execute_result"
    }
   ],
   "source": [
    "len(short_files)"
   ]
  },
  {
   "cell_type": "code",
   "execution_count": null,
   "id": "1fb93762-4f45-4277-b55e-6a013f361476",
   "metadata": {},
   "outputs": [],
   "source": []
  }
 ],
 "metadata": {
  "kernelspec": {
   "display_name": "soundenv3",
   "language": "python",
   "name": "soundenv3"
  },
  "language_info": {
   "codemirror_mode": {
    "name": "ipython",
    "version": 3
   },
   "file_extension": ".py",
   "mimetype": "text/x-python",
   "name": "python",
   "nbconvert_exporter": "python",
   "pygments_lexer": "ipython3",
   "version": "3.7.9"
  }
 },
 "nbformat": 4,
 "nbformat_minor": 5
}

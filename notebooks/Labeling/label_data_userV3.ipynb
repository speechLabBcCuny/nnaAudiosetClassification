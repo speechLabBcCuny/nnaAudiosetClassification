{
 "cells": [
  {
   "cell_type": "code",
   "execution_count": 1,
   "metadata": {},
   "outputs": [
    {
     "data": {
      "application/vnd.jupyter.widget-view+json": {
       "model_id": "c6f0ab65b3a4497b999abbc4969932db",
       "version_major": 2,
       "version_minor": 0
      },
      "text/plain": [
       "Output(layout=Layout(border='1px solid black'))"
      ]
     },
     "metadata": {},
     "output_type": "display_data"
    }
   ],
   "source": [
    "# import ipywidgets as widgets\n",
    "# from IPython.display import Audio,display,HTML,clear_output\n",
    "from pathlib import Path\n",
    "from nna.labeling_utils import play_html_modify,save_to_csv,load_labels,labeling_UI\n",
    "from warnings import filterwarnings\n",
    "filterwarnings('ignore')"
   ]
  },
  {
   "cell_type": "code",
   "execution_count": 2,
   "metadata": {},
   "outputs": [],
   "source": [
    "# !ls /scratch/enis/data/nna/labeling/splits/ | head"
   ]
  },
  {
   "cell_type": "code",
   "execution_count": 3,
   "metadata": {},
   "outputs": [],
   "source": [
    "\n",
    "# PARAMETERS\n",
    "# when TEST_MODE is True: results are not saved\n",
    "TEST_MODE=False\n",
    "USERNAME = 'megan'\n",
    "dataset_name = 'V3'\n",
    "RESULTS_DIR = Path('./results_test')\n",
    "\n",
    "\n",
    "# has to be relative to where notebook server is running\n",
    "SAMPLES_DIR = ''\n",
    "samples_csv= '/home/enis/projects/nna/notebooks/Labeling/datasetV3.csv'\n",
    "# samples_csv = '/home/enis/projects/nna/notebooks/Labeling/results_megan/V3_megan_22-01-07_21-14-16.csv'\n",
    "locations = ['12']\n",
    "tags = ['Bio','Bird',\n",
    "    'Anth',  'Geo', 'Sil', 'Auto', 'Airc', 'Mach', 'Flare',  'Mam',\n",
    "    'Bug', 'Wind', 'Rain', 'Water', 'Truck', 'Car', 'Prop', 'Helo', 'Jet',\n",
    "    'Corv', 'SongB', 'DGS', 'Grous', 'Crane', 'Loon', 'SeaB', 'Owl', 'Hum',\n",
    "    'Rapt', 'Woop', 'ShorB', 'Woof', 'Bear', 'Mous', 'Deer', 'Weas', 'Meow',\n",
    "    'Hare', 'Shrew', 'Mosq', 'Fly'\n",
    "]\n",
    "\n",
    "box_per_row = 6\n",
    "box_length = 100\n",
    "img_width = 800\n",
    "img_height=800"
   ]
  },
  {
   "cell_type": "code",
   "execution_count": null,
   "metadata": {},
   "outputs": [],
   "source": []
  },
  {
   "cell_type": "code",
   "execution_count": 4,
   "metadata": {},
   "outputs": [
    {
     "data": {
      "application/vnd.jupyter.widget-view+json": {
       "model_id": "75f31f79d7014afbaf214d52ae86580f",
       "version_major": 2,
       "version_minor": 0
      },
      "text/plain": [
       "Output()"
      ]
     },
     "metadata": {},
     "output_type": "display_data"
    },
    {
     "data": {
      "application/vnd.jupyter.widget-view+json": {
       "model_id": "8c26b577d7714bd6a0619c3815ace3ff",
       "version_major": 2,
       "version_minor": 0
      },
      "text/plain": [
       "Text(value='', placeholder='Other tags (coma seperated)')"
      ]
     },
     "metadata": {},
     "output_type": "display_data"
    },
    {
     "data": {
      "application/vnd.jupyter.widget-view+json": {
       "model_id": "788b098f06f546f6b6e549eb2e18382f",
       "version_major": 2,
       "version_minor": 0
      },
      "text/plain": [
       "Button(description='Save', icon='check', style=ButtonStyle(), tooltip='Description')"
      ]
     },
     "metadata": {},
     "output_type": "display_data"
    },
    {
     "data": {
      "application/vnd.jupyter.widget-view+json": {
       "model_id": "7cbfb560673f4560a9eadcefcfc07392",
       "version_major": 2,
       "version_minor": 0
      },
      "text/plain": [
       "Output()"
      ]
     },
     "metadata": {},
     "output_type": "display_data"
    }
   ],
   "source": [
    "UI = labeling_UI(tags,\n",
    "                 SAMPLES_DIR,\n",
    "                 samples_csv,\n",
    "                 USERNAME,\n",
    "                 RESULTS_DIR,\n",
    "                 TEST_MODE=TEST_MODE,\n",
    "                 locations=locations,\n",
    "                 dataset_name=dataset_name,\n",
    "                 box_per_row=box_per_row,\n",
    "                 box_length=box_length,\n",
    "                 img_height=img_height,\n",
    "                 img_width=img_width\n",
    "                )"
   ]
  },
  {
   "cell_type": "code",
   "execution_count": 5,
   "metadata": {},
   "outputs": [
    {
     "data": {
      "text/html": [
       "<img src=https://crescent.sfo3.digitaloceanspaces.com/scratch/enis/data/nna/labeling/megan/datasetV2SpltMono_mel/datasetV2/S4A10268_20190520_070000_0m_0s__0m_30s_splt-0.svg width='100' height='100' viewBox='0 0 200 200'  style='transform: scale(5);background-color:#e8e4c9;'/>"
      ],
      "text/plain": [
       "<IPython.core.display.HTML object>"
      ]
     },
     "metadata": {},
     "output_type": "display_data"
    }
   ],
   "source": [
    "from IPython.display import Audio, display, HTML, clear_output\n",
    "src=\"https://crescent.sfo3.digitaloceanspaces.com/scratch/enis/data/nna/labeling/megan/datasetV2SpltMono_mel/datasetV2/S4A10268_20190520_070000_0m_0s__0m_30s_splt-0.svg\"\n",
    "# display(HTML(f\"<img src={src} width='100' height='100' viewBox='0 0 100 100'  style='background-color:#e8e4c9' />\"))\n",
    "display(HTML(\"<img src=\"+src+\" width='100' height='100' viewBox='0 0 200 200'  style='transform: scale(5);background-color:#e8e4c9;'/>\"))\n"
   ]
  },
  {
   "cell_type": "code",
   "execution_count": null,
   "metadata": {},
   "outputs": [],
   "source": [
    "height=10000 width=20000"
   ]
  },
  {
   "cell_type": "code",
   "execution_count": 94,
   "metadata": {},
   "outputs": [
    {
     "data": {
      "text/html": [
       "<img src=https://crescent.sfo3.digitaloceanspaces.com/scratch/enis/data/nna/labeling/megan/datasetV2SpltMono_mel/datasetV2/S4A10268_20190520_070000_0m_0s__0m_30s_splt-0.svg width='800' height='800' viewBox='0 0 100 800'  style='background-color:#e8e4c9' />"
      ],
      "text/plain": [
       "<IPython.core.display.HTML object>"
      ]
     },
     "metadata": {},
     "output_type": "display_data"
    }
   ],
   "source": [
    "display(HTML(f\"<img src={src} width='800' height='800' viewBox='0 0 100 800'  style='background-color:#e8e4c9' />\"))\n"
   ]
  },
  {
   "cell_type": "code",
   "execution_count": null,
   "metadata": {},
   "outputs": [],
   "source": []
  },
  {
   "cell_type": "code",
   "execution_count": null,
   "metadata": {},
   "outputs": [],
   "source": []
  },
  {
   "cell_type": "code",
   "execution_count": null,
   "metadata": {},
   "outputs": [],
   "source": []
  },
  {
   "cell_type": "code",
   "execution_count": null,
   "metadata": {},
   "outputs": [],
   "source": []
  }
 ],
 "metadata": {
  "kernelspec": {
   "display_name": "Python 3.9.13 64-bit",
   "language": "python",
   "name": "python3"
  },
  "language_info": {
   "codemirror_mode": {
    "name": "ipython",
    "version": 3
   },
   "file_extension": ".py",
   "mimetype": "text/x-python",
   "name": "python",
   "nbconvert_exporter": "python",
   "pygments_lexer": "ipython3",
   "version": "3.9.13"
  },
  "vscode": {
   "interpreter": {
    "hash": "b0fa6594d8f4cbf19f97940f81e996739fb7646882a419484c72d19e05852a7e"
   }
  }
 },
 "nbformat": 4,
 "nbformat_minor": 4
}

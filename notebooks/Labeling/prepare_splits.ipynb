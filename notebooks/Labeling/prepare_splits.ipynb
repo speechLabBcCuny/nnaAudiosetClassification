{
 "cells": [
  {
   "cell_type": "code",
   "execution_count": 1,
   "metadata": {},
   "outputs": [],
   "source": [
    "import os\n",
    "import sys\n"
   ]
  },
  {
   "cell_type": "code",
   "execution_count": 2,
   "metadata": {},
   "outputs": [],
   "source": [
    "from nna.fileUtils import list_files,getLength,read_file_properties_v2\n",
    "from nna.labeling_utils import save_to_csv,cut_random_file\n"
   ]
  },
  {
   "cell_type": "code",
   "execution_count": null,
   "metadata": {},
   "outputs": [],
   "source": []
  },
  {
   "cell_type": "code",
   "execution_count": 3,
   "metadata": {},
   "outputs": [],
   "source": [
    "\n",
    "from multiprocessing.dummy import Pool as ThreadPool\n",
    "import time\n",
    "\n",
    "from IPython.display import display\n",
    "import ipywidgets as widgets\n",
    "\n",
    "import random\n",
    "\n",
    "import glob\n",
    "import subprocess\n",
    "\n",
    "from pathlib import Path"
   ]
  },
  {
   "cell_type": "code",
   "execution_count": 15,
   "metadata": {},
   "outputs": [],
   "source": [
    "from nna import clippingutils\n",
    "import pandas as pd"
   ]
  },
  {
   "cell_type": "code",
   "execution_count": 5,
   "metadata": {},
   "outputs": [],
   "source": [
    "\n",
    "# PARAMETERS\n",
    "# NUMBER_OF_SPLITS=20*15000\n",
    "NUMBER_OF_SPLITS=20*3500\n",
    "\n",
    "THREAD_COUNT=20\n",
    "\n",
    "SAMPLES_DIR= Path(\"/scratch/enis/data/nna/labeling\")\n",
    "split_folder = SAMPLES_DIR / \"splitsV4/\"\n",
    "split_length_seconds=10\n",
    "\n",
    "flder=\"/home/enis/projects/nna/data/\"\n",
    "\n",
    "# files_list_path=flder+\"mp3files.txt\"\n",
    "# fileswlen_path = flder+\"mp3files_wlen.txt\"\n",
    "\n",
    "# files_list_path=flder+\"flacfilesv2.txt\"\n",
    "# fileswlen_path = flder+\"flacfiles_wlenv2.txt\"\n",
    "\n",
    "files_list_path=flder+\"flacfilesv5.txt\"\n",
    "fileswlen_path = flder+\"flacfiles_wlenv5.txt\"\n",
    "\n",
    "\n",
    "file_properties_path='/scratch/enis/data/nna/database/allFields_dataV5.pkl'"
   ]
  },
  {
   "cell_type": "code",
   "execution_count": null,
   "metadata": {},
   "outputs": [],
   "source": []
  },
  {
   "cell_type": "code",
   "execution_count": 6,
   "metadata": {},
   "outputs": [],
   "source": [
    "Path(split_folder).mkdir(exist_ok=True)"
   ]
  },
  {
   "cell_type": "code",
   "execution_count": 7,
   "metadata": {},
   "outputs": [],
   "source": [
    "file_properties = pd.read_pickle(str(file_properties_path))\n"
   ]
  },
  {
   "cell_type": "code",
   "execution_count": 8,
   "metadata": {},
   "outputs": [],
   "source": [
    "# set(file_properties.region)"
   ]
  },
  {
   "cell_type": "code",
   "execution_count": 9,
   "metadata": {},
   "outputs": [],
   "source": [
    "file_properties_filtered=file_properties[file_properties.region!='stinchcomb']"
   ]
  },
  {
   "cell_type": "code",
   "execution_count": 10,
   "metadata": {},
   "outputs": [],
   "source": [
    "fileswlen = list(zip(file_properties_filtered.index,file_properties_filtered.durationSec))\n",
    "fileswlen = [(str(i[0]),i[1]) for i in fileswlen ]"
   ]
  },
  {
   "cell_type": "code",
   "execution_count": null,
   "metadata": {},
   "outputs": [],
   "source": []
  },
  {
   "cell_type": "code",
   "execution_count": 11,
   "metadata": {},
   "outputs": [
    {
     "data": {
      "text/plain": [
       "{'.aac', '.flac'}"
      ]
     },
     "execution_count": 11,
     "metadata": {},
     "output_type": "execute_result"
    }
   ],
   "source": [
    "# !ls '/home/enis/projects/nna/data/flacfiles_wlenv3.txt'\n",
    "set(i.suffix for i in file_properties_filtered.index)"
   ]
  },
  {
   "cell_type": "code",
   "execution_count": null,
   "metadata": {},
   "outputs": [],
   "source": []
  },
  {
   "cell_type": "code",
   "execution_count": 12,
   "metadata": {},
   "outputs": [],
   "source": [
    "# ### Calculating audio length from scratch\n",
    "# ##### DO NOT NEED WITH file_properties\n",
    "\n",
    "# # create files_list_path\n",
    "# if not Path(fileswlen_path).exists():\n",
    "#     print(\"searching given directory\")\n",
    "#     ignore_folders=['/tank/data/nna/real/stinchcomb/']\n",
    "#     search_path=\"/tank/data/nna/real/\"\n",
    "\n",
    "#     files_path_list=list_files(search_path,ignore_folders)\n",
    "# else:\n",
    "#     with open(files_list_path,\"r\") as f:\n",
    "#         lines=f.readlines()\n",
    "#         files_path_list=[line.strip() for line in lines]\n",
    "\n",
    "# # generate  fileswlen list\n",
    "# if not Path(fileswlen_path).exists():\n",
    "#     length_dict={}\n",
    "#     for f in files_path_list:\n",
    "#         try:\n",
    "#             length=float(getLength(f))\n",
    "#             length_dict[f]=length\n",
    "#         except:\n",
    "#             print(f)\n",
    "\n",
    "#     length_list=list(length_dict.items())\n",
    "#     with open(fileswlen_path,\"w\") as f:\n",
    "#         for line in length_list:\n",
    "#             f.write(\",\".join([line[0],str(line[1])])+\"\\n\")\n",
    "\n",
    "# with open(fileswlen_path,\"r\") as f:\n",
    "#     lines=f.readlines()\n",
    "#     fileswlen=[line.strip().split(\",\") for line in lines]"
   ]
  },
  {
   "cell_type": "code",
   "execution_count": 14,
   "metadata": {},
   "outputs": [],
   "source": [
    "fileswlen=[i for i in fileswlen if float(i[1])>10]"
   ]
  },
  {
   "cell_type": "code",
   "execution_count": 15,
   "metadata": {},
   "outputs": [
    {
     "data": {
      "text/plain": [
       "160450"
      ]
     },
     "execution_count": 15,
     "metadata": {},
     "output_type": "execute_result"
    }
   ],
   "source": [
    "len(fileswlen)"
   ]
  },
  {
   "cell_type": "code",
   "execution_count": null,
   "metadata": {},
   "outputs": [],
   "source": [
    "try:\n",
    "    s=time.time()\n",
    "    progress = widgets.FloatProgress(value=0.0, min=0.0, max=NUMBER_OF_SPLITS)\n",
    "    display(progress)\n",
    "\n",
    "    def work(index):\n",
    "        input_mp3_file,length_seconds=random.choice(fileswlen)\n",
    "        length_min = int(float(length_seconds)//60)\n",
    "\n",
    "        cut_random_file(input_mp3_file,length=split_length_seconds,\n",
    "                        split_folder=split_folder,total_minute=length_min-1,depth=0,backend=\"ffmpeg\",\n",
    "                       backend_path='/scratch/enis/conda/envs/speechEnv/bin/ffmpeg')\n",
    "        progress.value+=1\n",
    "\n",
    "    pool = ThreadPool(THREAD_COUNT)\n",
    "    results = pool.map(work, range(NUMBER_OF_SPLITS))\n",
    "    pool.close()\n",
    "    pool.join()\n",
    "except Exception as e: \n",
    "    print(e)\n",
    "    !/scratch/enis/conda/envs/speechEnv/bin/python /home/enis/projects/nna/src/nna/slack_message.py -m \"split failed\" "
   ]
  },
  {
   "cell_type": "code",
   "execution_count": 17,
   "metadata": {},
   "outputs": [
    {
     "data": {
      "application/vnd.jupyter.widget-view+json": {
       "model_id": "695b63fa815d492dbedb7c22c3a69a3c",
       "version_major": 2,
       "version_minor": 0
      },
      "text/plain": [
       "FloatProgress(value=229167.0, max=300000.0)"
      ]
     },
     "metadata": {},
     "output_type": "display_data"
    }
   ],
   "source": [
    "progress"
   ]
  },
  {
   "cell_type": "code",
   "execution_count": 9,
   "metadata": {},
   "outputs": [],
   "source": [
    "!/scratch/enis/conda/envs/speechEnv/bin/python /home/enis/projects/nna/src/nna/slack_message.py -m \"split ended\" "
   ]
  },
  {
   "cell_type": "code",
   "execution_count": 22,
   "metadata": {},
   "outputs": [],
   "source": [
    "# from IPython.display import display\n",
    "# import ipywidgets as widgets\n",
    "# progress = widgets.FloatProgress(value=0.0, min=0.0, max=NUMBER_OF_SPLITS)\n",
    "# display(progress)\n",
    "\n",
    "# progress.value+=1\n",
    "\n",
    "# !conda run -n speechEnv python /home/enis/projects/nna/src/slack_message.py -m \"split ended\" "
   ]
  },
  {
   "cell_type": "code",
   "execution_count": 20,
   "metadata": {},
   "outputs": [],
   "source": []
  },
  {
   "cell_type": "code",
   "execution_count": null,
   "metadata": {},
   "outputs": [],
   "source": [
    "input_files = glob.glob"
   ]
  },
  {
   "cell_type": "code",
   "execution_count": 120,
   "metadata": {},
   "outputs": [
    {
     "data": {
      "text/plain": [
       "'/scratch/enis/data/nna/labeling/splitsV4/INP-AR-01_20180508_200000_4m_21s__4m_31s.flac'"
      ]
     },
     "execution_count": 120,
     "metadata": {},
     "output_type": "execute_result"
    }
   ],
   "source": []
  },
  {
   "cell_type": "code",
   "execution_count": 21,
   "metadata": {},
   "outputs": [
    {
     "data": {
      "text/plain": [
       "PosixPath('/scratch/enis/data/nna/labeling/splitsV4')"
      ]
     },
     "execution_count": 21,
     "metadata": {},
     "output_type": "execute_result"
    }
   ],
   "source": [
    "split_folder_1600='/scratch/enis/data/nna/labeling/splitsV4_16000/'\n",
    "clips_1600=fileUtils.list_files(str(split_folder_1600))\n",
    "print(f'number of clips is {len(clips)}')"
   ]
  },
  {
   "cell_type": "code",
   "execution_count": 25,
   "metadata": {},
   "outputs": [],
   "source": [
    "from nna import fileUtils"
   ]
  },
  {
   "cell_type": "code",
   "execution_count": 27,
   "metadata": {},
   "outputs": [],
   "source": [
    "clips=fileUtils.list_files(str(split_folder))\n",
    "print(f'number of clips is {len(clips)}')"
   ]
  },
  {
   "cell_type": "code",
   "execution_count": 112,
   "metadata": {},
   "outputs": [
    {
     "name": "stdout",
     "output_type": "stream",
     "text": [
      "number of clips is 294318\n"
     ]
    }
   ],
   "source": [
    "print(f'number of clips is {len(clips)}')"
   ]
  },
  {
   "cell_type": "code",
   "execution_count": 117,
   "metadata": {},
   "outputs": [],
   "source": [
    "# with open('clips_list.txt','w') as f:\n",
    "#     f.writelines([clip+'\\n' for clip in clips])"
   ]
  },
  {
   "cell_type": "code",
   "execution_count": 9,
   "metadata": {},
   "outputs": [],
   "source": [
    "\n",
    "with open('/home/enis/projects/nna/notebooks/Labeling/clips_list.txt','r') as f:\n",
    "    clips=f.readlines()\n",
    "    clips = [clip.strip() for clip in clips]"
   ]
  },
  {
   "cell_type": "code",
   "execution_count": null,
   "metadata": {},
   "outputs": [],
   "source": []
  },
  {
   "cell_type": "code",
   "execution_count": null,
   "metadata": {},
   "outputs": [],
   "source": [
    "/scratch/enis/data/nna/labeling/splitsV4_16000/clips_list.txt"
   ]
  },
  {
   "cell_type": "code",
   "execution_count": 121,
   "metadata": {},
   "outputs": [
    {
     "data": {
      "text/plain": [
       "'/scratch/enis/data/nna/labeling/splitsV4/INP-AR-01_20180508_200000_4m_21s__4m_31s.flac'"
      ]
     },
     "execution_count": 121,
     "metadata": {},
     "output_type": "execute_result"
    }
   ],
   "source": [
    "clips[0]"
   ]
  },
  {
   "cell_type": "code",
   "execution_count": 131,
   "metadata": {},
   "outputs": [],
   "source": [
    "left_ones=[]\n",
    "c=0\n",
    "for aaci in clips:\n",
    "    new_path=(move2/(Path(aaci).stem+'.flac'))\n",
    "    if asd.exists():\n",
    "        c+=1\n",
    "    else:\n",
    "        left_ones.append(aaci)\n"
   ]
  },
  {
   "cell_type": "code",
   "execution_count": 132,
   "metadata": {},
   "outputs": [
    {
     "data": {
      "text/plain": [
       "(0, 294318)"
      ]
     },
     "execution_count": 132,
     "metadata": {},
     "output_type": "execute_result"
    }
   ],
   "source": [
    "len(left_ones),c"
   ]
  },
  {
   "cell_type": "code",
   "execution_count": 123,
   "metadata": {},
   "outputs": [
    {
     "data": {
      "text/plain": [
       "PosixPath('/scratch/enis/data/nna/labeling/splitsV4_16000')"
      ]
     },
     "execution_count": 123,
     "metadata": {},
     "output_type": "execute_result"
    }
   ],
   "source": [
    "move2"
   ]
  },
  {
   "cell_type": "code",
   "execution_count": 13,
   "metadata": {},
   "outputs": [],
   "source": [
    "# /home/enis/projects/nna/notebooks/Labeling/clips_list.txt\n",
    "move2= Path('/scratch/enis/data/nna/labeling/splitsV4_16000/')\n",
    "all_results_dict={}\n",
    "problematic_keys=[]"
   ]
  },
  {
   "cell_type": "code",
   "execution_count": 19,
   "metadata": {},
   "outputs": [
    {
     "data": {
      "text/plain": [
       "'/scratch/enis/data/nna/labeling/splitsV4_16000/INP-AR-01_20180508_200000_4m_21s__4m_31s.flac'"
      ]
     },
     "execution_count": 19,
     "metadata": {},
     "output_type": "execute_result"
    }
   ],
   "source": [
    "next(iter(all_results_dict.keys()))"
   ]
  },
  {
   "cell_type": "code",
   "execution_count": 20,
   "metadata": {},
   "outputs": [],
   "source": []
  },
  {
   "cell_type": "code",
   "execution_count": 30,
   "metadata": {},
   "outputs": [],
   "source": [
    "problematic_keys=[]\n"
   ]
  },
  {
   "cell_type": "code",
   "execution_count": null,
   "metadata": {},
   "outputs": [],
   "source": [
    "pre_results= set(all_results_dict.keys())\n",
    "laps=1\n",
    "for i in range(0,len(clips),laps):\n",
    "    clips2=[]\n",
    "    for aaci in clips[i:i+laps]:\n",
    "        new_path=(move2/(Path(aaci).stem+'.flac'))\n",
    "        if new_path in pre_results:\n",
    "            continue\n",
    "        if new_path.exists():\n",
    "            clips2.append(str(new_path))\n",
    "    if clips2:\n",
    "        try:\n",
    "            results_dict,_=clippingutils.run_task_save(clips2,\n",
    "                              'mixed_area',\n",
    "                              'results_folder_not_important',\n",
    "                              clipping_threshold=1.0,\n",
    "                              segment_len = 10,\n",
    "                              audio_load_backend = \"pydub\",\n",
    "                              save=False)\n",
    "            all_results_dict.update(results_dict)\n",
    "        except Exception as e:\n",
    "            print(e)\n",
    "            print(clips2)\n",
    "            problematic_keys.extend(clips2)\n",
    "\n"
   ]
  },
  {
   "cell_type": "code",
   "execution_count": null,
   "metadata": {},
   "outputs": [],
   "source": []
  },
  {
   "cell_type": "code",
   "execution_count": 33,
   "metadata": {},
   "outputs": [
    {
     "data": {
      "text/plain": [
       "294191"
      ]
     },
     "execution_count": 33,
     "metadata": {},
     "output_type": "execute_result"
    }
   ],
   "source": [
    "len(all_results_dict)"
   ]
  },
  {
   "cell_type": "code",
   "execution_count": 34,
   "metadata": {},
   "outputs": [
    {
     "data": {
      "text/plain": [
       "'/scratch/enis/data/nna/labeling/splitsV4_16000/INP-AR-01_20180508_200000_4m_21s__4m_31s.flac'"
      ]
     },
     "execution_count": 34,
     "metadata": {},
     "output_type": "execute_result"
    }
   ],
   "source": [
    "next(iter(all_results_dict.keys()))"
   ]
  },
  {
   "cell_type": "code",
   "execution_count": 36,
   "metadata": {},
   "outputs": [],
   "source": [
    "aaa=(iter(all_results_dict.values()))"
   ]
  },
  {
   "cell_type": "code",
   "execution_count": 45,
   "metadata": {},
   "outputs": [],
   "source": [
    "all_results_dict_list = {k:list(v[0]) for k,v in all_results_dict.items()}"
   ]
  },
  {
   "cell_type": "code",
   "execution_count": 48,
   "metadata": {},
   "outputs": [],
   "source": [
    "import pickle\n",
    "with open('fall_results_dict_list.pkl', 'wb') as handle:\n",
    "    pickle.dump(all_results_dict_list, handle, protocol=pickle.HIGHEST_PROTOCOL)"
   ]
  },
  {
   "cell_type": "code",
   "execution_count": 70,
   "metadata": {},
   "outputs": [],
   "source": [
    "import numpy as np"
   ]
  },
  {
   "cell_type": "code",
   "execution_count": 81,
   "metadata": {},
   "outputs": [
    {
     "name": "stdout",
     "output_type": "stream",
     "text": [
      "56856\n"
     ]
    }
   ],
   "source": [
    "limit_t=0.01\n",
    "c=0\n",
    "clipped_too_much=[]\n",
    "not_clipped_too_much=[]\n",
    "for k,v in all_results_dict.items():\n",
    "    if np.max(v)>limit_t:\n",
    "        c+=1\n",
    "        clipped_too_much.append(k)\n",
    "    else:\n",
    "        not_clipped_too_much.append(k)\n",
    "print(c)"
   ]
  },
  {
   "cell_type": "code",
   "execution_count": 88,
   "metadata": {},
   "outputs": [],
   "source": [
    "# len(clipped_too_much)/294000\n",
    "\n",
    "targetdir='/scratch/enis/data/nna/labeling/splitsV4_16000_2clipped/'\n",
    "targetdir=Path(targetdir)\n",
    "\n",
    "for k in clipped_too_much:\n",
    "    k=Path(k)\n",
    "    k.rename(targetdir/k.name)\n",
    "#     print(targetdir/k.name)\n",
    "#     print(k,k2)\n",
    "#     (fromdir/(Path(aaci).stem+'.flac')).rename(move2/(Path(aaci).stem+'.flac'))\n",
    "#     break"
   ]
  },
  {
   "cell_type": "code",
   "execution_count": null,
   "metadata": {},
   "outputs": [],
   "source": []
  },
  {
   "cell_type": "code",
   "execution_count": null,
   "metadata": {},
   "outputs": [],
   "source": []
  },
  {
   "cell_type": "code",
   "execution_count": 86,
   "metadata": {},
   "outputs": [
    {
     "data": {
      "text/plain": [
       "'INP-AR-01_20180718_160000_3m_33s__3m_43s.flac'"
      ]
     },
     "execution_count": 86,
     "metadata": {},
     "output_type": "execute_result"
    }
   ],
   "source": [
    "Path(k).name"
   ]
  },
  {
   "cell_type": "code",
   "execution_count": 98,
   "metadata": {},
   "outputs": [],
   "source": [
    "a=next(iter(all_results_dict.keys()))"
   ]
  },
  {
   "cell_type": "code",
   "execution_count": 103,
   "metadata": {},
   "outputs": [
    {
     "data": {
      "text/plain": [
       "PosixPath('/scratch/enis/data/nna/labeling/splitsV4_16000/INP-AR-01_20180508_200000_4m_21s__4m_31s.flac')"
      ]
     },
     "execution_count": 103,
     "metadata": {},
     "output_type": "execute_result"
    }
   ],
   "source": [
    "out_path= Path('/scratch/enis/data/nna/labeling/splitsV4_16000/')\n",
    "out_path/Path(a).name"
   ]
  },
  {
   "cell_type": "code",
   "execution_count": 110,
   "metadata": {},
   "outputs": [
    {
     "name": "stdout",
     "output_type": "stream",
     "text": [
      "/scratch/enis/data/nna/labeling/splitsV4_16000/S4A10227_20190601_050000_73m_4s__73m_14s.flac\n",
      "/scratch/enis/data/nna/labeling/splitsV4_16000/S4A10238_20190527_080000_51m_52s__52m_2s.flac\n",
      "/scratch/enis/data/nna/labeling/splitsV4_16000/S4A10238_20190527_080000_59m_35s__59m_45s.flac\n",
      "/scratch/enis/data/nna/labeling/splitsV4_16000/S4A10238_20190527_080000_74m_26s__74m_36s.flac\n",
      "/scratch/enis/data/nna/labeling/splitsV4_16000/S4A10445_20200531_170708_0m_26s__0m_36s.flac\n",
      "/scratch/enis/data/nna/labeling/splitsV4_16000/S4A10445_20200531_170708_2m_21s__2m_31s.flac\n",
      "/scratch/enis/data/nna/labeling/splitsV4_16000/S4A10445_20200531_170708_4m_53s__5m_3s.flac\n"
     ]
    }
   ],
   "source": [
    "clips_16k = []\n",
    "for clipf in clips:\n",
    "    bb=((out_path/ Path(clipf).stem).with_suffix('.flac'))\n",
    "    if not (bb.exists()):\n",
    "        print(bb)\n",
    "    clips_16k.append(bb)"
   ]
  },
  {
   "cell_type": "code",
   "execution_count": 111,
   "metadata": {},
   "outputs": [],
   "source": [
    "clips_processed=[str((out_path/ Path(i).stem).with_suffix('.flac')) for i in all_results_dict.keys()]\n"
   ]
  },
  {
   "cell_type": "code",
   "execution_count": null,
   "metadata": {},
   "outputs": [],
   "source": [
    "!/scratch/enis/conda/envs/speechEnv/bin/python /home/enis/projects/nna/src/nna/slack_message.py -m \"clippingutils ended\" "
   ]
  },
  {
   "cell_type": "code",
   "execution_count": 51,
   "metadata": {},
   "outputs": [
    {
     "data": {
      "text/plain": [
       "{'aac', 'flac'}"
      ]
     },
     "execution_count": 51,
     "metadata": {},
     "output_type": "execute_result"
    }
   ],
   "source": [
    "{i.split('.')[1] for i in clips}"
   ]
  },
  {
   "cell_type": "code",
   "execution_count": 61,
   "metadata": {},
   "outputs": [],
   "source": [
    "aacf=[i for i in clips if  i.split('.')[1]=='aac']\n",
    "flacf=[i for i in clips if  i.split('.')[1]=='flac']"
   ]
  },
  {
   "cell_type": "code",
   "execution_count": 54,
   "metadata": {},
   "outputs": [
    {
     "data": {
      "text/plain": [
       "16439"
      ]
     },
     "execution_count": 54,
     "metadata": {},
     "output_type": "execute_result"
    }
   ],
   "source": [
    "len(aacf)"
   ]
  },
  {
   "cell_type": "code",
   "execution_count": 59,
   "metadata": {},
   "outputs": [],
   "source": [
    "thefile='/scratch/enis/data/nna/labeling/ls_splitsV4AAC.txt'\n",
    "with open(thefile,'w') as f:\n",
    "    for line in aacf:\n",
    "        line2=line.replace('aac','flac')\n",
    "        f.write(line+','+line2+'\\n')"
   ]
  },
  {
   "cell_type": "code",
   "execution_count": 70,
   "metadata": {},
   "outputs": [],
   "source": [
    "thefile='/scratch/enis/data/nna/labeling/ls_splitsV4flac.txt'\n",
    "out_path='/scratch/enis/data/nna/labeling/splitsV4_16000/'\n",
    "with open(thefile,'w') as f:\n",
    "    for line in flacf:\n",
    "        col2=out_path+line.split('/')[-1]\n",
    "        col1=line\n",
    "        f.write(','.join([col1,col2])+'\\n')"
   ]
  },
  {
   "cell_type": "code",
   "execution_count": 67,
   "metadata": {},
   "outputs": [
    {
     "data": {
      "text/plain": [
       "'/scratch/enis/data/nna/labeling/splitsV4_1600/SINP-10_20190825_153000_54m_31s__54m_41s.flac'"
      ]
     },
     "execution_count": 67,
     "metadata": {},
     "output_type": "execute_result"
    }
   ],
   "source": []
  },
  {
   "cell_type": "code",
   "execution_count": null,
   "metadata": {},
   "outputs": [],
   "source": [
    "cat '/scratch/enis/data/nna/labeling/ls_splitsV4flac.txt' | \\\n",
    "parallel --csv -P 40 -n 1 echo {1} \\\n",
    "i {2}"
   ]
  },
  {
   "cell_type": "code",
   "execution_count": 72,
   "metadata": {},
   "outputs": [
    {
     "data": {
      "text/plain": [
       "30"
      ]
     },
     "execution_count": 72,
     "metadata": {},
     "output_type": "execute_result"
    }
   ],
   "source": []
  },
  {
   "cell_type": "code",
   "execution_count": 92,
   "metadata": {},
   "outputs": [
    {
     "data": {
      "text/plain": [
       "(PosixPath('/scratch/enis/data/nna/labeling/splitsV4/S4A10454_20191022_132000_1m_12s__1m_22s.flac'),\n",
       " PosixPath('/scratch/enis/data/nna/labeling/splitsV4_16000/S4A10454_20191022_132000_1m_12s__1m_22s.flac'))"
      ]
     },
     "execution_count": 92,
     "metadata": {},
     "output_type": "execute_result"
    }
   ],
   "source": [
    "move2= Path('/scratch/enis/data/nna/labeling/splitsV4_16000/')\n",
    "fromdir= Path('/scratch/enis/data/nna/labeling/splitsV4/')\n",
    "(fromdir/(Path(aaci).stem+'.flac')),move2/(Path(aaci).stem+'.flac')"
   ]
  },
  {
   "cell_type": "code",
   "execution_count": 93,
   "metadata": {},
   "outputs": [],
   "source": [
    "(fromdir/(Path(aaci).stem+'.flac')).rename(move2/(Path(aaci).stem+'.flac'))\n"
   ]
  },
  {
   "cell_type": "code",
   "execution_count": 94,
   "metadata": {},
   "outputs": [
    {
     "name": "stdout",
     "output_type": "stream",
     "text": [
      "/scratch/enis/data/nna/labeling/splitsV4/S4A10454_20191022_132000_1m_12s__1m_22s.aac\n"
     ]
    }
   ],
   "source": [
    "for aaci in aacf:\n",
    "    if Path(aaci.replace('aac','flac')).exists():\n",
    "        (fromdir/(Path(aaci).stem+'.flac')).rename(move2/(Path(aaci).stem+'.flac'))\n",
    "    else:\n",
    "        print(aaci)\n",
    "        "
   ]
  },
  {
   "cell_type": "code",
   "execution_count": null,
   "metadata": {},
   "outputs": [],
   "source": [
    "# import os\n",
    "# import shutil\n",
    "\n",
    "# os.rename(\"path/to/current/file.foo\", \"path/to/new/destination/for/file.foo\")"
   ]
  },
  {
   "cell_type": "code",
   "execution_count": null,
   "metadata": {},
   "outputs": [],
   "source": []
  },
  {
   "cell_type": "code",
   "execution_count": null,
   "metadata": {},
   "outputs": [],
   "source": []
  }
 ],
 "metadata": {
  "kernelspec": {
   "display_name": "speechEnv",
   "language": "python",
   "name": "speechenv"
  },
  "language_info": {
   "codemirror_mode": {
    "name": "ipython",
    "version": 3
   },
   "file_extension": ".py",
   "mimetype": "text/x-python",
   "name": "python",
   "nbconvert_exporter": "python",
   "pygments_lexer": "ipython3",
   "version": "3.7.2"
  }
 },
 "nbformat": 4,
 "nbformat_minor": 4
}

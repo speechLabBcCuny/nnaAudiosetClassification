{
 "cells": [
  {
   "cell_type": "code",
   "execution_count": 1,
   "metadata": {},
   "outputs": [
    {
     "ename": "ModuleNotFoundError",
     "evalue": "No module named 'nna'",
     "output_type": "error",
     "traceback": [
      "\u001b[0;31m---------------------------------------------------------------------------\u001b[0m",
      "\u001b[0;31mModuleNotFoundError\u001b[0m                       Traceback (most recent call last)",
      "Cell \u001b[0;32mIn [1], line 4\u001b[0m\n\u001b[1;32m      1\u001b[0m \u001b[38;5;66;03m# import ipywidgets as widgets\u001b[39;00m\n\u001b[1;32m      2\u001b[0m \u001b[38;5;66;03m# from IPython.display import Audio,display,HTML,clear_output\u001b[39;00m\n\u001b[1;32m      3\u001b[0m \u001b[38;5;28;01mfrom\u001b[39;00m \u001b[38;5;21;01mpathlib\u001b[39;00m \u001b[38;5;28;01mimport\u001b[39;00m Path\n\u001b[0;32m----> 4\u001b[0m \u001b[38;5;28;01mfrom\u001b[39;00m \u001b[38;5;21;01mnna\u001b[39;00m\u001b[38;5;21;01m.\u001b[39;00m\u001b[38;5;21;01mlabeling_utils\u001b[39;00m \u001b[38;5;28;01mimport\u001b[39;00m play_html_modify,labeling_UI\n",
      "\u001b[0;31mModuleNotFoundError\u001b[0m: No module named 'nna'"
     ]
    }
   ],
   "source": [
    "# import ipywidgets as widgets\n",
    "# from IPython.display import Audio,display,HTML,clear_output\n",
    "from pathlib import Path\n",
    "from nna.labeling_utils import play_html_modify,labeling_UI\n",
    "# from warnings import filterwarnings\n",
    "# filterwarnings('ignore')"
   ]
  },
  {
   "cell_type": "code",
   "execution_count": null,
   "metadata": {},
   "outputs": [],
   "source": [
    "# %load_ext autoreload\n",
    "# %autoreload 2"
   ]
  },
  {
   "cell_type": "code",
   "execution_count": 3,
   "metadata": {},
   "outputs": [],
   "source": [
    "# !ls /scratch/enis/data/nna/labeling/splits/ | head"
   ]
  },
  {
   "cell_type": "code",
   "execution_count": 4,
   "metadata": {},
   "outputs": [],
   "source": [
    "\n",
    "# PARAMETERS\n",
    "# when TEST_MODE is True: results are not saved\n",
    "TEST_MODE=False \n",
    "USERNAME = 'megan'\n",
    "dataset_name = 'V4'\n",
    "RESULTS_DIR = Path('./results_megan')\n",
    "\n",
    "\n",
    "# has to be relative to where notebook server is running\n",
    "SAMPLES_DIR = ''\n",
    "# samples_csv= '/home/enis/projects/nna/notebooks/Labeling/results_megan/V3_megan_22-01-22_21-20-09.csv'\n",
    "# samples_csv='/home/enis/projects/nna/notebooks/Labeling/results_megan/V3_megan_22-02-25_14-06-08.csv'\n",
    "# samples_csv='/home/enis/projects/nna/notebooks/Labeling/results_megan/V3_megan_22-02-28_21-37-53.csv'\n",
    "samples_csv = '/home/enis/projects/nna/notebooks/Labeling/results_megan/test.csv'\n",
    "\n",
    "locations = []\n",
    "tags = ['Bio','Bird',\n",
    "    'Anth',  'Geo', 'Sil', 'Auto', 'Airc', 'Mach', 'Flare',  'Mam',\n",
    "    'Bug', 'Wind', 'Rain', 'Water', 'Truck', 'Car', 'Prop', 'Helo', 'Jet',\n",
    "    'Corv', 'SongB', 'DGS', 'Grous', 'Crane', 'Loon', 'SeaB', 'Owl', 'Hum',\n",
    "    'Rapt', 'Woop', 'ShorB', 'Woof', 'Bear', 'Mous', 'Deer', 'Weas', 'Meow',\n",
    "    'Hare', 'Shrew', 'Mosq', 'Fly'\n",
    "]\n",
    "\n",
    "box_per_row = 6\n",
    "box_length = 100\n",
    "\n",
    "img_width = 850\n",
    "img_height=800"
   ]
  },
  {
   "cell_type": "code",
   "execution_count": 4,
   "metadata": {},
   "outputs": [
    {
     "data": {
      "application/vnd.jupyter.widget-view+json": {
       "model_id": "d0473cd03315412f8c496b46bba01f05",
       "version_major": 2,
       "version_minor": 0
      },
      "text/plain": [
       "Checkbox(value=False, description='Check me', indent=False)"
      ]
     },
     "execution_count": 4,
     "metadata": {},
     "output_type": "execute_result"
    }
   ],
   "source": [
    "import ipywidgets as widgets\n",
    "widgets.Checkbox(\n",
    "    value=False,\n",
    "    description='Check me',\n",
    "    disabled=False,\n",
    "    indent=False\n",
    ")"
   ]
  },
  {
   "cell_type": "code",
   "execution_count": 2,
   "metadata": {},
   "outputs": [
    {
     "data": {
      "application/vnd.jupyter.widget-view+json": {
       "model_id": "2f0163a7d6db41cb8773b98d78697227",
       "version_major": 2,
       "version_minor": 0
      },
      "text/plain": [
       "Button(description='test', style=ButtonStyle())"
      ]
     },
     "execution_count": 2,
     "metadata": {},
     "output_type": "execute_result"
    }
   ],
   "source": [
    "from ipywidgets import Button\n",
    "Button(description='test')"
   ]
  },
  {
   "cell_type": "code",
   "execution_count": 3,
   "metadata": {},
   "outputs": [
    {
     "ename": "NameError",
     "evalue": "name 'widgets' is not defined",
     "output_type": "error",
     "traceback": [
      "\u001b[0;31m---------------------------------------------------------------------------\u001b[0m",
      "\u001b[0;31mNameError\u001b[0m                                 Traceback (most recent call last)",
      "Cell \u001b[0;32mIn [3], line 2\u001b[0m\n\u001b[1;32m      1\u001b[0m \u001b[38;5;28;01mfrom\u001b[39;00m \u001b[38;5;21;01mIPython\u001b[39;00m\u001b[38;5;21;01m.\u001b[39;00m\u001b[38;5;21;01mdisplay\u001b[39;00m \u001b[38;5;28;01mimport\u001b[39;00m display\n\u001b[0;32m----> 2\u001b[0m w \u001b[38;5;241m=\u001b[39m \u001b[43mwidgets\u001b[49m\u001b[38;5;241m.\u001b[39mIntSlider()\n\u001b[1;32m      3\u001b[0m display(w)\n",
      "\u001b[0;31mNameError\u001b[0m: name 'widgets' is not defined"
     ]
    }
   ],
   "source": [
    "from IPython.display import display\n",
    "w = widgets.IntSlider()\n",
    "display(w)\n",
    "\n"
   ]
  },
  {
   "cell_type": "code",
   "execution_count": 13,
   "metadata": {
    "tags": []
   },
   "outputs": [
    {
     "data": {
      "application/vnd.jupyter.widget-view+json": {
       "model_id": "8ca542ff83034affaf695333a9a10b96",
       "version_major": 2,
       "version_minor": 0
      },
      "text/plain": [
       "Output(layout=Layout(border='1px solid black'))"
      ]
     },
     "metadata": {},
     "output_type": "display_data"
    },
    {
     "data": {
      "application/vnd.jupyter.widget-view+json": {
       "model_id": "a4ca6fba84aa42e2a80ea3f639333145",
       "version_major": 2,
       "version_minor": 0
      },
      "text/plain": [
       "Output(layout=Layout(border='1px solid black', height='160px', width='100%'), outputs=({'name': 'stdout', 'out…"
      ]
     },
     "metadata": {},
     "output_type": "display_data"
    },
    {
     "name": "stdout",
     "output_type": "stream",
     "text": [
      "here\n",
      "here2\n",
      "here3\n"
     ]
    }
   ],
   "source": [
    "UI = labeling_UI(tags,\n",
    "                 SAMPLES_DIR,\n",
    "                 samples_csv,\n",
    "                 USERNAME,\n",
    "                 RESULTS_DIR,\n",
    "                 TEST_MODE=TEST_MODE,\n",
    "                 locations=locations,\n",
    "                 dataset_name=dataset_name,\n",
    "                 box_per_row=box_per_row,\n",
    "                 box_length=box_length,\n",
    "                 img_height=img_height,\n",
    "                 img_width=img_width\n",
    "                )"
   ]
  },
  {
   "cell_type": "code",
   "execution_count": 6,
   "metadata": {},
   "outputs": [
    {
     "ename": "NameError",
     "evalue": "name 'handler' is not defined",
     "output_type": "error",
     "traceback": [
      "\u001b[0;31m---------------------------------------------------------------------------\u001b[0m",
      "\u001b[0;31mNameError\u001b[0m                                 Traceback (most recent call last)",
      "\u001b[0;32m<ipython-input-6-4fc3268cc850>\u001b[0m in \u001b[0;36m<module>\u001b[0;34m\u001b[0m\n\u001b[0;32m----> 1\u001b[0;31m \u001b[0mhandler\u001b[0m\u001b[0;34m.\u001b[0m\u001b[0mshow_logs\u001b[0m\u001b[0;34m(\u001b[0m\u001b[0;34m)\u001b[0m\u001b[0;34m\u001b[0m\u001b[0;34m\u001b[0m\u001b[0m\n\u001b[0m",
      "\u001b[0;31mNameError\u001b[0m: name 'handler' is not defined"
     ]
    }
   ],
   "source": [
    "handler.show_logs()"
   ]
  },
  {
   "cell_type": "code",
   "execution_count": 5,
   "metadata": {},
   "outputs": [],
   "source": [
    "# from IPython.display import Audio, display, HTML, clear_output\n",
    "\n",
    "# display(HTML(f\"<img src='test.svg' height='200'  width=95% />\".format('/scratch/enis/data/nna/labeling/megan/datasetV2SpltMono_mel/datasetV3/S4A10288_20190808_231602_50m_10s__50m_20s.svg')))\n"
   ]
  },
  {
   "cell_type": "markdown",
   "metadata": {},
   "source": []
  },
  {
   "cell_type": "code",
   "execution_count": 8,
   "metadata": {},
   "outputs": [
    {
     "data": {
      "text/plain": [
       "OrderedDict([('data_version', 'V4'),\n",
       "             ('Annotator', 'combined7-V1'),\n",
       "             ('Site ID', '32'),\n",
       "             ('Comments', ''),\n",
       "             ('File Name',\n",
       "              '/tank/data/nna/real/anwr/32/2019/S4A10266_20190725_000000.flac'),\n",
       "             ('Date', '07/25/2019'),\n",
       "             ('Start Time', '00:23:10.000000'),\n",
       "             ('End Time', '00:23:20.000000'),\n",
       "             ('Length', '00:00:10.000000'),\n",
       "             ('Anth', '0'),\n",
       "             ('Bio', '1'),\n",
       "             ('Geo', '0'),\n",
       "             ('Sil', '0'),\n",
       "             ('Auto', '0'),\n",
       "             ('Airc', '0'),\n",
       "             ('Mach', '0'),\n",
       "             ('Flare', '0'),\n",
       "             ('Bird', '0'),\n",
       "             ('Mam', '0'),\n",
       "             ('Bug', '1'),\n",
       "             ('Wind', '0'),\n",
       "             ('Rain', '0'),\n",
       "             ('Water', '0'),\n",
       "             ('Truck', '0'),\n",
       "             ('Car', '0'),\n",
       "             ('Prop', '0'),\n",
       "             ('Helo', '0'),\n",
       "             ('Jet', '0'),\n",
       "             ('Corv', '0'),\n",
       "             ('SongB', '0'),\n",
       "             ('DGS', '0'),\n",
       "             ('Grous', '0'),\n",
       "             ('Crane', '0'),\n",
       "             ('Loon', '0'),\n",
       "             ('SeaB', '0'),\n",
       "             ('Owl', '0'),\n",
       "             ('Hum', '0'),\n",
       "             ('Rapt', '0'),\n",
       "             ('Woop', '0'),\n",
       "             ('ShorB', '0'),\n",
       "             ('Woof', '0'),\n",
       "             ('Bear', '0'),\n",
       "             ('Mous', '0'),\n",
       "             ('Deer', '0'),\n",
       "             ('Weas', '0'),\n",
       "             ('Meow', '0'),\n",
       "             ('Hare', '0'),\n",
       "             ('Shrew', '0'),\n",
       "             ('Mosq', '0'),\n",
       "             ('Fly', '0'),\n",
       "             ('Clip Path',\n",
       "              '/scratch/enis/data/nna/labeling/megan/combined7-V1/anwr/32/S4A10266_20190725_000000_23m_10s__23m_20s.wav'),\n",
       "             ('Anth_r', '0'),\n",
       "             ('Bio_r', '1'),\n",
       "             ('Geo_r', '0'),\n",
       "             ('Sil_r', '0'),\n",
       "             ('Auto_r', '0'),\n",
       "             ('Airc_r', '0'),\n",
       "             ('Mach_r', '0'),\n",
       "             ('Flare_r', '0'),\n",
       "             ('Bird_r', '0'),\n",
       "             ('Mam_r', '0'),\n",
       "             ('Bug_r', '1'),\n",
       "             ('Wind_r', '0'),\n",
       "             ('Rain_r', '0'),\n",
       "             ('Water_r', '0'),\n",
       "             ('Truck_r', '0'),\n",
       "             ('Car_r', '0'),\n",
       "             ('Prop_r', '0'),\n",
       "             ('Helo_r', '0'),\n",
       "             ('Jet_r', '0'),\n",
       "             ('Corv_r', '0'),\n",
       "             ('SongB_r', '0'),\n",
       "             ('DGS_r', '0'),\n",
       "             ('Grous_r', '0'),\n",
       "             ('Crane_r', '0'),\n",
       "             ('Loon_r', '0'),\n",
       "             ('SeaB_r', '0'),\n",
       "             ('Owl_r', '0'),\n",
       "             ('Hum_r', '0'),\n",
       "             ('Rapt_r', '0'),\n",
       "             ('Woop_r', '0'),\n",
       "             ('ShorB_r', '0'),\n",
       "             ('Woof_r', '0'),\n",
       "             ('Bear_r', '0'),\n",
       "             ('Mous_r', '0'),\n",
       "             ('Deer_r', '0'),\n",
       "             ('Weas_r', '0'),\n",
       "             ('Meow_r', '0'),\n",
       "             ('Hare_r', '0'),\n",
       "             ('Shrew_r', '0'),\n",
       "             ('Reviewed', 'False'),\n",
       "             ('extra_tags', '')])"
      ]
     },
     "execution_count": 8,
     "metadata": {},
     "output_type": "execute_result"
    }
   ],
   "source": [
    "UI.current_audio"
   ]
  },
  {
   "cell_type": "code",
   "execution_count": null,
   "metadata": {},
   "outputs": [],
   "source": []
  },
  {
   "cell_type": "code",
   "execution_count": null,
   "metadata": {},
   "outputs": [],
   "source": []
  },
  {
   "cell_type": "code",
   "execution_count": null,
   "metadata": {},
   "outputs": [],
   "source": []
  },
  {
   "cell_type": "code",
   "execution_count": null,
   "metadata": {},
   "outputs": [],
   "source": []
  },
  {
   "cell_type": "code",
   "execution_count": null,
   "metadata": {},
   "outputs": [],
   "source": []
  }
 ],
 "metadata": {
  "kernelspec": {
   "display_name": "Python 3.9.13 64-bit",
   "language": "python",
   "name": "python3"
  },
  "language_info": {
   "codemirror_mode": {
    "name": "ipython",
    "version": 3
   },
   "file_extension": ".py",
   "mimetype": "text/x-python",
   "name": "python",
   "nbconvert_exporter": "python",
   "pygments_lexer": "ipython3",
   "version": "3.9.13"
  },
  "vscode": {
   "interpreter": {
    "hash": "b0fa6594d8f4cbf19f97940f81e996739fb7646882a419484c72d19e05852a7e"
   }
  }
 },
 "nbformat": 4,
 "nbformat_minor": 4
}

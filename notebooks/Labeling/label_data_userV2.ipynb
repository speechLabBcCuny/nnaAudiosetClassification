{
 "cells": [
  {
   "cell_type": "code",
   "execution_count": 7,
   "metadata": {},
   "outputs": [],
   "source": [
    "# import ipywidgets as widgets\n",
    "# from IPython.display import Audio,display,HTML,clear_output\n",
    "from pathlib import Path\n",
    "from nna.labeling_utils import play_html_modify,load_labels,labeling_UI\n",
    "from warnings import filterwarnings\n",
    "filterwarnings('ignore')"
   ]
  },
  {
   "cell_type": "code",
   "execution_count": 8,
   "metadata": {},
   "outputs": [],
   "source": [
    "# !ls /scratch/enis/data/nna/labeling/splits/ | head"
   ]
  },
  {
   "cell_type": "code",
   "execution_count": 9,
   "metadata": {},
   "outputs": [],
   "source": [
    "\n",
    "# PARAMETERS\n",
    "# when TEST_MODE is True: results are not saved\n",
    "TEST_MODE=False \n",
    "USERNAME = 'megan'\n",
    "dataset_name = 'V4'\n",
    "RESULTS_DIR = Path('./results_megan')\n",
    "\n",
    "\n",
    "# has to be relative to where notebook server is running\n",
    "SAMPLES_DIR = ''\n",
    "# samples_csv= '/home/enis/projects/nna/notebooks/Labeling/results_megan/V3_megan_22-01-22_21-20-09.csv'\n",
    "# samples_csv='/home/enis/projects/nna/notebooks/Labeling/results_megan/V3_megan_22-02-25_14-06-08.csv'\n",
    "# samples_csv='/home/enis/projects/nna/notebooks/Labeling/results_megan/V3_megan_22-02-28_21-37-53.csv'\n",
    "samples_csv = '/home/enis/projects/nna/notebooks/Labeling/results_megan/V4_megan_22-03-23_12-37-07.csv'\n",
    "\n",
    "locations = []\n",
    "tags = ['Bio','Bird',\n",
    "    'Anth',  'Geo', 'Sil', 'Auto', 'Airc', 'Mach', 'Flare',  'Mam',\n",
    "    'Bug', 'Wind', 'Rain', 'Water', 'Truck', 'Car', 'Prop', 'Helo', 'Jet',\n",
    "    'Corv', 'SongB', 'DGS', 'Grous', 'Crane', 'Loon', 'SeaB', 'Owl', 'Hum',\n",
    "    'Rapt', 'Woop', 'ShorB', 'Woof', 'Bear', 'Mous', 'Deer', 'Weas', 'Meow',\n",
    "    'Hare', 'Shrew', 'Mosq', 'Fly'\n",
    "]\n",
    "\n",
    "box_per_row = 6\n",
    "box_length = 100\n",
    "\n",
    "img_width = 850\n",
    "img_height=800"
   ]
  },
  {
   "cell_type": "code",
   "execution_count": null,
   "metadata": {},
   "outputs": [],
   "source": []
  },
  {
   "cell_type": "code",
   "execution_count": 10,
   "metadata": {
    "tags": []
   },
   "outputs": [
    {
     "data": {
      "application/vnd.jupyter.widget-view+json": {
       "model_id": "0d4d4876c5e142e6ae254313be8132f1",
       "version_major": 2,
       "version_minor": 0
      },
      "text/plain": [
       "Output()"
      ]
     },
     "metadata": {},
     "output_type": "display_data"
    },
    {
     "data": {
      "application/vnd.jupyter.widget-view+json": {
       "model_id": "299200a9c2524266aad77d037a60cb00",
       "version_major": 2,
       "version_minor": 0
      },
      "text/plain": [
       "Text(value='', placeholder='Other tags (coma seperated)')"
      ]
     },
     "metadata": {},
     "output_type": "display_data"
    },
    {
     "data": {
      "application/vnd.jupyter.widget-view+json": {
       "model_id": "b931da0558c340858737bb2de3d06340",
       "version_major": 2,
       "version_minor": 0
      },
      "text/plain": [
       "Button(description='Save', icon='check', style=ButtonStyle(), tooltip='Description')"
      ]
     },
     "metadata": {},
     "output_type": "display_data"
    },
    {
     "data": {
      "application/vnd.jupyter.widget-view+json": {
       "model_id": "a5926cd371c748fca53891750ae1b45e",
       "version_major": 2,
       "version_minor": 0
      },
      "text/plain": [
       "Output()"
      ]
     },
     "metadata": {},
     "output_type": "display_data"
    }
   ],
   "source": [
    "UI = labeling_UI(tags,\n",
    "                 SAMPLES_DIR,\n",
    "                 samples_csv,\n",
    "                 USERNAME,\n",
    "                 RESULTS_DIR,\n",
    "                 TEST_MODE=TEST_MODE,\n",
    "                 locations=locations,\n",
    "                 dataset_name=dataset_name,\n",
    "                 box_per_row=box_per_row,\n",
    "                 box_length=box_length,\n",
    "                 img_height=img_height,\n",
    "                 img_width=img_width\n",
    "                )"
   ]
  },
  {
   "cell_type": "code",
   "execution_count": 5,
   "metadata": {},
   "outputs": [],
   "source": [
    "# from IPython.display import Audio, display, HTML, clear_output\n",
    "\n",
    "# display(HTML(f\"<img src='test.svg' height='200'  width=95% />\".format('/scratch/enis/data/nna/labeling/megan/datasetV2SpltMono_mel/datasetV3/S4A10288_20190808_231602_50m_10s__50m_20s.svg')))\n"
   ]
  },
  {
   "cell_type": "code",
   "execution_count": null,
   "metadata": {},
   "outputs": [],
   "source": []
  },
  {
   "cell_type": "code",
   "execution_count": null,
   "metadata": {},
   "outputs": [],
   "source": []
  },
  {
   "cell_type": "code",
   "execution_count": null,
   "metadata": {},
   "outputs": [],
   "source": []
  },
  {
   "cell_type": "code",
   "execution_count": null,
   "metadata": {},
   "outputs": [],
   "source": []
  },
  {
   "cell_type": "code",
   "execution_count": null,
   "metadata": {},
   "outputs": [],
   "source": []
  },
  {
   "cell_type": "code",
   "execution_count": null,
   "metadata": {},
   "outputs": [],
   "source": []
  }
 ],
 "metadata": {
  "kernelspec": {
   "display_name": "soundenv3",
   "language": "python",
   "name": "soundenv3"
  },
  "language_info": {
   "codemirror_mode": {
    "name": "ipython",
    "version": 3
   },
   "file_extension": ".py",
   "mimetype": "text/x-python",
   "name": "python",
   "nbconvert_exporter": "python",
   "pygments_lexer": "ipython3",
   "version": "3.7.9"
  }
 },
 "nbformat": 4,
 "nbformat_minor": 4
}

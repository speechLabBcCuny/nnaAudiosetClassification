{
 "cells": [
  {
   "cell_type": "code",
   "execution_count": 2,
   "id": "645cc797-4bca-4c5d-ae7a-6a042dd54344",
   "metadata": {},
   "outputs": [
    {
     "data": {
      "application/vnd.jupyter.widget-view+json": {
       "model_id": "fc873faf55db49eab7987d5352ae74e3",
       "version_major": 2,
       "version_minor": 0
      },
      "text/plain": [
       "Output(layout=Layout(border='1px solid black'))"
      ]
     },
     "metadata": {},
     "output_type": "display_data"
    }
   ],
   "source": [
    "import os \n",
    "import importlib\n",
    "\n",
    "path='/home/enis/projects/nna/src/scripts/'\n",
    "os.chdir(path)\n",
    "import teacher\n",
    "\n",
    "import itertools\n",
    "\n",
    "import glob\n",
    "from pathlib import Path\n",
    "\n",
    "import numpy as np\n",
    "import pandas as pd\n",
    "\n",
    "\n"
   ]
  },
  {
   "cell_type": "code",
   "execution_count": null,
   "id": "bf8e3015-d164-4053-92b9-768c519c5a6b",
   "metadata": {},
   "outputs": [],
   "source": [
    "exported_models=glob.glob('/scratch/enis/data/nna/results/csv_export_raw/*')\n",
    "\n",
    "exported_model_names=[]\n",
    "for m in exported_models:\n",
    "    if 'V1' in m and 'merged' not in m and '.zip' not in m:\n",
    "        exported_model_names.append(m.split('/')[-1])\n",
    "exported_model_names.sort()\n",
    "exported_model_names\n",
    "\n",
    "# prudhoe_11=glob.glob('/scratch/enis/data/nna/real/prudhoe/11/2019/S4A10276_20190507_000000_*-0-0-0')\n",
    "# prudhoe_11=['-'.join(name.split('_')[-1].split('-')[:2]) for name in prudhoe_11]\n",
    "# prudhoe_11\n",
    "\n",
    "\n",
    "# anwr_39=glob.glob('/scratch/enis/data/nna/real/anwr/39/2019/S4A10262_20190504_000000_*-0-0-0')\n",
    "# anwr_39=['-'.join(name.split('_')[-1].split('-')[:2]) for name in anwr_39]\n",
    "# anwr_39\n",
    "\n",
    "# anwr_39_2021=glob.glob('/scratch/enis/data/nna/real/anwr/31/2021/S4A10297_20210504_000000_*0-0-0')\n",
    "# anwr_39_2021=['-'.join(name.split('_')[-1].split('-')[:2]) for name in anwr_39_2021]\n",
    "# anwr_39_2021\n",
    "\n"
   ]
  },
  {
   "cell_type": "code",
   "execution_count": null,
   "id": "a1569a0e-208c-4e53-b3b9-82cff2191b4e",
   "metadata": {},
   "outputs": [],
   "source": []
  },
  {
   "cell_type": "code",
   "execution_count": 3,
   "id": "01425ce2-7cf8-49ef-aa2e-d54f4394706d",
   "metadata": {},
   "outputs": [],
   "source": [
    "importlib.reload(teacher)\n",
    "config = teacher.setup(versiontag='combined7-V1')\n",
    "\n",
    "## data-1: as many sampes as possible\n",
    "config['new_dataset_path'] = './datasetV4.csv'\n",
    "config['dataset_version'] = 'V4'\n",
    "# config['versiontag'] = 'yfitloiq-V1'\n",
    "\n",
    "# try! to collect same amount of samples from each location\n",
    "config['balance_by_location'] = False\n",
    "config['confidence_thresholds'] = {\n",
    "        'biophony':0.99,\n",
    "            'insect': 0.99,\n",
    "            # 'bird':0.99,\n",
    "                # 'songbirds':0.95,\n",
    "                # 'duck-goose-swan': 0.9,\n",
    "                # 'grouse-ptarmigan': 0.9,\n",
    "        'anthrophony': 0.7,\n",
    "            'aircraft': 0.25,\n",
    "        # 'silence': 0.99,\n",
    "    }\n",
    "                             # only applies to main label\n",
    "\n",
    "\n",
    "\n",
    "# I DID NOT USE THESE NUMBERS\n",
    "config['new_data_classes_counts'] = {\n",
    "    'biophony':10*3,\n",
    "        'insect': 10*4,\n",
    "        'bird':10**3,\n",
    "            'songbirds':10*4,\n",
    "            'duck-goose-swan': 10*4,\n",
    "            'grouse-ptarmigan': 10*4,\n",
    "    'anthrophony': 10*4,\n",
    "        'aircraft': 10**4,\n",
    "    'silence': 10*3,\n",
    "}\n",
    "\n",
    "config['labels_thresholds'] = {\n",
    "        'default': 0.5,\n",
    "        'biophony': 0.5,\n",
    "        'insect': 0.39,\n",
    "        'bird': 0.5,\n",
    "        'songbirds': 0.5,\n",
    "        'duck-goose-swan': 0.5,\n",
    "        'grouse-ptarmigan': 0.5,\n",
    "        'anthrophony': 0.08,\n",
    "        'aircraft': 0.2,\n",
    "        'silence': 0.5,\n",
    "    }\n",
    "\n",
    "\n"
   ]
  },
  {
   "cell_type": "code",
   "execution_count": 5,
   "id": "648d60a6-45b9-4f68-a181-842f19d6c801",
   "metadata": {},
   "outputs": [],
   "source": [
    "# # load and filter by confidence_threshold\n",
    "\n",
    "# confident_preds_dict = load_filter_csv(\n",
    "#     config['new_data_classes_counts'], config['reg_loc_per_set'],\n",
    "#     config['merged_out_dir'], config['versiontag'],\n",
    "#     config['confidence_threshold'], config['related_cols'],\n",
    "#     config['count_from_each_year'],config['labels_threholds'])"
   ]
  },
  {
   "cell_type": "code",
   "execution_count": 6,
   "id": "51c4fc2d-70eb-4037-ad30-7bb77ab60255",
   "metadata": {},
   "outputs": [
    {
     "data": {
      "text/plain": [
       "'/scratch/enis/data/nna/results/csv_export_raw_merged/'"
      ]
     },
     "execution_count": 6,
     "metadata": {},
     "output_type": "execute_result"
    }
   ],
   "source": [
    "config['merged_out_dir']"
   ]
  },
  {
   "cell_type": "code",
   "execution_count": null,
   "id": "131d67f7-c907-4a82-a0e0-e69f1cc3e9a0",
   "metadata": {},
   "outputs": [],
   "source": []
  },
  {
   "cell_type": "code",
   "execution_count": null,
   "id": "452ab465-7e7a-422b-ad30-c68d5b8af5c7",
   "metadata": {},
   "outputs": [],
   "source": []
  },
  {
   "cell_type": "code",
   "execution_count": null,
   "id": "ce8be895-5f8c-4df7-afa6-de29432ec97f",
   "metadata": {},
   "outputs": [],
   "source": []
  },
  {
   "cell_type": "code",
   "execution_count": 9,
   "id": "0f188380-f313-4c8c-b6da-dda545d47927",
   "metadata": {},
   "outputs": [],
   "source": [
    "# results_dict"
   ]
  },
  {
   "cell_type": "code",
   "execution_count": null,
   "id": "3b47b178-2c3d-4fdd-af99-4d0c53efe8e2",
   "metadata": {},
   "outputs": [],
   "source": []
  },
  {
   "cell_type": "code",
   "execution_count": 11,
   "id": "91a7045d-d5bf-4f71-8711-5df37ca1b170",
   "metadata": {},
   "outputs": [
    {
     "name": "stdout",
     "output_type": "stream",
     "text": [
      "/scratch/enis/data/nna/results/csv_export_raw_merged/182tahb6-V1/prudhoe/15/*\n",
      "/scratch/enis/data/nna/results/csv_export_raw_merged/182tahb6-V1/prudhoe/20/*\n",
      "/scratch/enis/data/nna/results/csv_export_raw_merged/182tahb6-V1/anwr/31/*\n",
      "/scratch/enis/data/nna/results/csv_export_raw_merged/182tahb6-V1/anwr/34/*\n",
      "/scratch/enis/data/nna/results/csv_export_raw_merged/182tahb6-V1/anwr/47/*\n",
      "/scratch/enis/data/nna/results/csv_export_raw_merged/182tahb6-V1/prudhoe/12/*\n",
      "/scratch/enis/data/nna/results/csv_export_raw_merged/182tahb6-V1/prudhoe/18/*\n",
      "/scratch/enis/data/nna/results/csv_export_raw_merged/182tahb6-V1/prudhoe/26/*\n",
      "/scratch/enis/data/nna/results/csv_export_raw_merged/182tahb6-V1/prudhoe/27/*\n",
      "/scratch/enis/data/nna/results/csv_export_raw_merged/182tahb6-V1/anwr/32/*\n",
      "/scratch/enis/data/nna/results/csv_export_raw_merged/182tahb6-V1/anwr/36/*\n",
      "/scratch/enis/data/nna/results/csv_export_raw_merged/182tahb6-V1/anwr/45/*\n",
      "/scratch/enis/data/nna/results/csv_export_raw_merged/182tahb6-V1/anwr/50/*\n",
      "/scratch/enis/data/nna/results/csv_export_raw_merged/2wbqfywy-V1/prudhoe/15/*\n",
      "/scratch/enis/data/nna/results/csv_export_raw_merged/2wbqfywy-V1/prudhoe/20/*\n",
      "/scratch/enis/data/nna/results/csv_export_raw_merged/2wbqfywy-V1/anwr/31/*\n",
      "/scratch/enis/data/nna/results/csv_export_raw_merged/2wbqfywy-V1/anwr/34/*\n",
      "/scratch/enis/data/nna/results/csv_export_raw_merged/2wbqfywy-V1/anwr/47/*\n",
      "/scratch/enis/data/nna/results/csv_export_raw_merged/2wbqfywy-V1/prudhoe/12/*\n",
      "/scratch/enis/data/nna/results/csv_export_raw_merged/2wbqfywy-V1/prudhoe/18/*\n",
      "/scratch/enis/data/nna/results/csv_export_raw_merged/2wbqfywy-V1/prudhoe/26/*\n",
      "/scratch/enis/data/nna/results/csv_export_raw_merged/2wbqfywy-V1/prudhoe/27/*\n",
      "/scratch/enis/data/nna/results/csv_export_raw_merged/2wbqfywy-V1/anwr/32/*\n",
      "/scratch/enis/data/nna/results/csv_export_raw_merged/2wbqfywy-V1/anwr/36/*\n",
      "/scratch/enis/data/nna/results/csv_export_raw_merged/2wbqfywy-V1/anwr/45/*\n",
      "/scratch/enis/data/nna/results/csv_export_raw_merged/2wbqfywy-V1/anwr/50/*\n",
      "/scratch/enis/data/nna/results/csv_export_raw_merged/multi9-V1/prudhoe/15/*\n",
      "/scratch/enis/data/nna/results/csv_export_raw_merged/multi9-V1/prudhoe/20/*\n",
      "/scratch/enis/data/nna/results/csv_export_raw_merged/multi9-V1/anwr/31/*\n",
      "/scratch/enis/data/nna/results/csv_export_raw_merged/multi9-V1/anwr/34/*\n",
      "/scratch/enis/data/nna/results/csv_export_raw_merged/multi9-V1/anwr/47/*\n",
      "/scratch/enis/data/nna/results/csv_export_raw_merged/multi9-V1/prudhoe/12/*\n",
      "/scratch/enis/data/nna/results/csv_export_raw_merged/multi9-V1/prudhoe/18/*\n",
      "/scratch/enis/data/nna/results/csv_export_raw_merged/multi9-V1/prudhoe/26/*\n",
      "/scratch/enis/data/nna/results/csv_export_raw_merged/multi9-V1/prudhoe/27/*\n",
      "/scratch/enis/data/nna/results/csv_export_raw_merged/multi9-V1/anwr/32/*\n",
      "/scratch/enis/data/nna/results/csv_export_raw_merged/multi9-V1/anwr/36/*\n",
      "/scratch/enis/data/nna/results/csv_export_raw_merged/multi9-V1/anwr/45/*\n",
      "/scratch/enis/data/nna/results/csv_export_raw_merged/multi9-V1/anwr/50/*\n",
      "/scratch/enis/data/nna/results/csv_export_raw_merged/1jvt1zva-V1/prudhoe/15/*\n",
      "/scratch/enis/data/nna/results/csv_export_raw_merged/1jvt1zva-V1/prudhoe/20/*\n",
      "/scratch/enis/data/nna/results/csv_export_raw_merged/1jvt1zva-V1/anwr/31/*\n",
      "/scratch/enis/data/nna/results/csv_export_raw_merged/1jvt1zva-V1/anwr/34/*\n",
      "/scratch/enis/data/nna/results/csv_export_raw_merged/1jvt1zva-V1/anwr/47/*\n",
      "/scratch/enis/data/nna/results/csv_export_raw_merged/1jvt1zva-V1/prudhoe/12/*\n",
      "/scratch/enis/data/nna/results/csv_export_raw_merged/1jvt1zva-V1/prudhoe/18/*\n",
      "/scratch/enis/data/nna/results/csv_export_raw_merged/1jvt1zva-V1/prudhoe/26/*\n",
      "/scratch/enis/data/nna/results/csv_export_raw_merged/1jvt1zva-V1/prudhoe/27/*\n",
      "/scratch/enis/data/nna/results/csv_export_raw_merged/1jvt1zva-V1/anwr/32/*\n",
      "/scratch/enis/data/nna/results/csv_export_raw_merged/1jvt1zva-V1/anwr/36/*\n",
      "/scratch/enis/data/nna/results/csv_export_raw_merged/1jvt1zva-V1/anwr/45/*\n",
      "/scratch/enis/data/nna/results/csv_export_raw_merged/1jvt1zva-V1/anwr/50/*\n",
      "/scratch/enis/data/nna/results/csv_export_raw_merged/3rk9ayjc-V1/prudhoe/15/*\n",
      "/scratch/enis/data/nna/results/csv_export_raw_merged/3rk9ayjc-V1/prudhoe/20/*\n",
      "/scratch/enis/data/nna/results/csv_export_raw_merged/3rk9ayjc-V1/anwr/31/*\n",
      "/scratch/enis/data/nna/results/csv_export_raw_merged/3rk9ayjc-V1/anwr/34/*\n",
      "/scratch/enis/data/nna/results/csv_export_raw_merged/3rk9ayjc-V1/anwr/47/*\n",
      "/scratch/enis/data/nna/results/csv_export_raw_merged/3rk9ayjc-V1/prudhoe/12/*\n",
      "/scratch/enis/data/nna/results/csv_export_raw_merged/3rk9ayjc-V1/prudhoe/18/*\n",
      "/scratch/enis/data/nna/results/csv_export_raw_merged/3rk9ayjc-V1/prudhoe/26/*\n",
      "/scratch/enis/data/nna/results/csv_export_raw_merged/3rk9ayjc-V1/prudhoe/27/*\n",
      "/scratch/enis/data/nna/results/csv_export_raw_merged/3rk9ayjc-V1/anwr/32/*\n",
      "/scratch/enis/data/nna/results/csv_export_raw_merged/3rk9ayjc-V1/anwr/36/*\n",
      "/scratch/enis/data/nna/results/csv_export_raw_merged/3rk9ayjc-V1/anwr/45/*\n",
      "/scratch/enis/data/nna/results/csv_export_raw_merged/3rk9ayjc-V1/anwr/50/*\n",
      "/scratch/enis/data/nna/results/csv_export_raw_merged/12wnziv9-V1/prudhoe/15/*\n",
      "/scratch/enis/data/nna/results/csv_export_raw_merged/12wnziv9-V1/prudhoe/20/*\n",
      "/scratch/enis/data/nna/results/csv_export_raw_merged/12wnziv9-V1/anwr/31/*\n",
      "/scratch/enis/data/nna/results/csv_export_raw_merged/12wnziv9-V1/anwr/34/*\n",
      "/scratch/enis/data/nna/results/csv_export_raw_merged/12wnziv9-V1/anwr/47/*\n",
      "/scratch/enis/data/nna/results/csv_export_raw_merged/12wnziv9-V1/prudhoe/12/*\n",
      "/scratch/enis/data/nna/results/csv_export_raw_merged/12wnziv9-V1/prudhoe/18/*\n",
      "/scratch/enis/data/nna/results/csv_export_raw_merged/12wnziv9-V1/prudhoe/26/*\n",
      "/scratch/enis/data/nna/results/csv_export_raw_merged/12wnziv9-V1/prudhoe/27/*\n",
      "/scratch/enis/data/nna/results/csv_export_raw_merged/12wnziv9-V1/anwr/32/*\n",
      "/scratch/enis/data/nna/results/csv_export_raw_merged/12wnziv9-V1/anwr/36/*\n",
      "/scratch/enis/data/nna/results/csv_export_raw_merged/12wnziv9-V1/anwr/45/*\n",
      "/scratch/enis/data/nna/results/csv_export_raw_merged/12wnziv9-V1/anwr/50/*\n",
      "/scratch/enis/data/nna/results/csv_export_raw_merged/yfitloiq-V1/prudhoe/15/*\n",
      "/scratch/enis/data/nna/results/csv_export_raw_merged/yfitloiq-V1/prudhoe/20/*\n",
      "/scratch/enis/data/nna/results/csv_export_raw_merged/yfitloiq-V1/anwr/31/*\n",
      "/scratch/enis/data/nna/results/csv_export_raw_merged/yfitloiq-V1/anwr/34/*\n",
      "/scratch/enis/data/nna/results/csv_export_raw_merged/yfitloiq-V1/anwr/47/*\n",
      "/scratch/enis/data/nna/results/csv_export_raw_merged/yfitloiq-V1/prudhoe/12/*\n",
      "/scratch/enis/data/nna/results/csv_export_raw_merged/yfitloiq-V1/prudhoe/18/*\n",
      "/scratch/enis/data/nna/results/csv_export_raw_merged/yfitloiq-V1/prudhoe/26/*\n",
      "/scratch/enis/data/nna/results/csv_export_raw_merged/yfitloiq-V1/prudhoe/27/*\n",
      "/scratch/enis/data/nna/results/csv_export_raw_merged/yfitloiq-V1/anwr/32/*\n",
      "/scratch/enis/data/nna/results/csv_export_raw_merged/yfitloiq-V1/anwr/36/*\n",
      "/scratch/enis/data/nna/results/csv_export_raw_merged/yfitloiq-V1/anwr/45/*\n",
      "/scratch/enis/data/nna/results/csv_export_raw_merged/yfitloiq-V1/anwr/50/*\n"
     ]
    }
   ],
   "source": [
    "preds_df_version_tags={}\n",
    "version_tags=[\n",
    "    '182tahb6-V1',\n",
    " '2wbqfywy-V1',\n",
    " 'multi9-V1',\n",
    " '1jvt1zva-V1',\n",
    " '3rk9ayjc-V1',\n",
    " '12wnziv9-V1',\n",
    " 'yfitloiq-V1'\n",
    "]\n",
    "test_loc=config['reg_loc_per_set'][1]\n",
    "valid_loc =config['reg_loc_per_set'][2]\n",
    "\n",
    "for version_tag in version_tags:\n",
    "    preds_df = teacher.load_all_rawcsv_as_df(test_loc+valid_loc,config['merged_out_dir'],version_tag,years=['2019'])\n",
    "    preds_df_version_tags[version_tag] = preds_df.copy()"
   ]
  },
  {
   "cell_type": "code",
   "execution_count": 12,
   "id": "59e9e87a-4d99-4fc8-bfb5-5ef8014679eb",
   "metadata": {},
   "outputs": [],
   "source": [
    "for key,df in preds_df_version_tags.items():\n",
    "    df['unique']=df['TIMESTAMP']+df['region']+df['location']\n",
    "    df.set_index('unique',inplace=True)\n",
    "    df.sort_index(inplace=True)"
   ]
  },
  {
   "cell_type": "code",
   "execution_count": 13,
   "id": "9d565569-6b0b-4036-acd6-8d44389715b2",
   "metadata": {},
   "outputs": [],
   "source": [
    "# preds_df_version_tags.keys()"
   ]
  },
  {
   "cell_type": "code",
   "execution_count": 14,
   "id": "bc1dc1f2-ce01-4c0b-8a4a-f37109d98df1",
   "metadata": {},
   "outputs": [
    {
     "name": "stdout",
     "output_type": "stream",
     "text": [
      "182tahb6-V1 4143168\n",
      "2wbqfywy-V1 4143168\n",
      "multi9-V1 3902400\n",
      "1jvt1zva-V1 391512\n",
      "3rk9ayjc-V1 4143168\n",
      "12wnziv9-V1 4143168\n",
      "yfitloiq-V1 4143168\n"
     ]
    }
   ],
   "source": [
    "for key,df in preds_df_version_tags.items():\n",
    "    print(key,len(df))"
   ]
  },
  {
   "cell_type": "code",
   "execution_count": null,
   "id": "09471ac0-287e-4883-baab-24ed9277a903",
   "metadata": {},
   "outputs": [],
   "source": []
  },
  {
   "cell_type": "code",
   "execution_count": 15,
   "id": "19ed779a-7456-40a1-ba60-856a3cde9aa6",
   "metadata": {},
   "outputs": [],
   "source": [
    "# broadcast smaller ones' index to a bigger one, fill missing values with bigger one, since we will do max(max), it does not matter\n",
    "big_one = preds_df_version_tags['182tahb6-V1']\n",
    "\n",
    "for small_one_key in ['multi9-V1','1jvt1zva-V1']:\n",
    "    small_one = preds_df_version_tags[small_one_key]\n",
    "    small_one = small_one.combine_first(big_one)\n",
    "    preds_df_version_tags[small_one_key] = small_one\n",
    "\n",
    "    # left, right = big_one.align(small_one, join=\"outer\", axis=0, fill_value=0)\n",
    "    # preds_df_version_tags[small_one_key] = right\n",
    "    # small_one.fillna(0,inplace=True)\n",
    "\n"
   ]
  },
  {
   "cell_type": "code",
   "execution_count": null,
   "id": "131b9db6-0be2-4938-859e-c79cb05c76fb",
   "metadata": {},
   "outputs": [],
   "source": []
  },
  {
   "cell_type": "code",
   "execution_count": 16,
   "id": "e54d126f-2990-469e-8f5e-859064d6de2c",
   "metadata": {},
   "outputs": [
    {
     "name": "stdout",
     "output_type": "stream",
     "text": [
      "182tahb6-V1 4143168\n",
      "2wbqfywy-V1 4143168\n",
      "multi9-V1 4143168\n",
      "1jvt1zva-V1 4143168\n",
      "3rk9ayjc-V1 4143168\n",
      "12wnziv9-V1 4143168\n",
      "yfitloiq-V1 4143168\n"
     ]
    }
   ],
   "source": [
    "for key,df in preds_df_version_tags.items():\n",
    "    print(key,len(df))\n",
    "    assert (big_one.index.equals(df.index))\n"
   ]
  },
  {
   "cell_type": "code",
   "execution_count": null,
   "id": "03cc7448-6f1e-44e4-948b-51fcccecdb40",
   "metadata": {},
   "outputs": [],
   "source": []
  },
  {
   "cell_type": "code",
   "execution_count": null,
   "id": "3467fdf3-0800-4132-b33e-bd547fb2a0f3",
   "metadata": {},
   "outputs": [],
   "source": []
  },
  {
   "cell_type": "code",
   "execution_count": null,
   "id": "3ee2803d-c6ac-4d98-a31a-3452cb770e16",
   "metadata": {},
   "outputs": [],
   "source": []
  },
  {
   "cell_type": "code",
   "execution_count": null,
   "id": "c904592e-bb4e-41a7-ae66-7ffa5ef324f9",
   "metadata": {},
   "outputs": [],
   "source": []
  },
  {
   "cell_type": "code",
   "execution_count": 17,
   "id": "a649716d-e3c4-45cd-884e-eb6fa3e912ba",
   "metadata": {},
   "outputs": [],
   "source": [
    "# only_numbers=A[['anthrophony', 'aircraft', 'biophony', 'bird', 'songbirds',\n",
    "#        'duck-goose-swan', 'grouse-ptarmigan', 'insect', 'silence']].to_numpy()"
   ]
  },
  {
   "cell_type": "code",
   "execution_count": null,
   "id": "2a18140b-73e1-4deb-9532-1251731bbb81",
   "metadata": {},
   "outputs": [],
   "source": []
  },
  {
   "cell_type": "code",
   "execution_count": 20,
   "id": "675b5a17-1b24-4f03-942a-1715eee387e3",
   "metadata": {},
   "outputs": [],
   "source": [
    "# for key,df in preds_df_version_tags.items():\n",
    "version_keys = list(preds_df_version_tags.keys())\n",
    "left = version_keys[0]\n",
    "left_np = preds_df_version_tags[left].to_numpy()\n",
    "\n",
    "for right in version_keys[1:]:\n",
    "    rigth_np = preds_df_version_tags[right].to_numpy()\n",
    "    left_np = np.maximum(left_np,rigth_np)\n"
   ]
  },
  {
   "cell_type": "code",
   "execution_count": 21,
   "id": "710e2f94-ca88-4dcb-82fe-46321ddbda47",
   "metadata": {},
   "outputs": [],
   "source": [
    "combined_max=pd.DataFrame(data=left_np, index=preds_df_version_tags[key].index, columns=preds_df_version_tags[key].columns, copy=True)\n"
   ]
  },
  {
   "cell_type": "code",
   "execution_count": 22,
   "id": "bf6bacd3-d757-4b41-b69b-798a7f257574",
   "metadata": {},
   "outputs": [
    {
     "data": {
      "text/html": [
       "<div>\n",
       "<style scoped>\n",
       "    .dataframe tbody tr th:only-of-type {\n",
       "        vertical-align: middle;\n",
       "    }\n",
       "\n",
       "    .dataframe tbody tr th {\n",
       "        vertical-align: top;\n",
       "    }\n",
       "\n",
       "    .dataframe thead th {\n",
       "        text-align: right;\n",
       "    }\n",
       "</style>\n",
       "<table border=\"1\" class=\"dataframe\">\n",
       "  <thead>\n",
       "    <tr style=\"text-align: right;\">\n",
       "      <th></th>\n",
       "      <th>TIMESTAMP</th>\n",
       "      <th>anthrophony</th>\n",
       "      <th>aircraft</th>\n",
       "      <th>biophony</th>\n",
       "      <th>bird</th>\n",
       "      <th>songbirds</th>\n",
       "      <th>duck-goose-swan</th>\n",
       "      <th>grouse-ptarmigan</th>\n",
       "      <th>insect</th>\n",
       "      <th>silence</th>\n",
       "      <th>sum</th>\n",
       "      <th>region</th>\n",
       "      <th>location</th>\n",
       "    </tr>\n",
       "    <tr>\n",
       "      <th>unique</th>\n",
       "      <th></th>\n",
       "      <th></th>\n",
       "      <th></th>\n",
       "      <th></th>\n",
       "      <th></th>\n",
       "      <th></th>\n",
       "      <th></th>\n",
       "      <th></th>\n",
       "      <th></th>\n",
       "      <th></th>\n",
       "      <th></th>\n",
       "      <th></th>\n",
       "      <th></th>\n",
       "    </tr>\n",
       "  </thead>\n",
       "  <tbody>\n",
       "    <tr>\n",
       "      <th>2019-05-03_00:00:00prudhoe26</th>\n",
       "      <td>2019-05-03_00:00:00</td>\n",
       "      <td>0.021</td>\n",
       "      <td>0.016</td>\n",
       "      <td>1</td>\n",
       "      <td>1</td>\n",
       "      <td>0.333</td>\n",
       "      <td>0.081</td>\n",
       "      <td>0.959</td>\n",
       "      <td>0.202</td>\n",
       "      <td>0.777</td>\n",
       "      <td>3.866</td>\n",
       "      <td>prudhoe</td>\n",
       "      <td>26</td>\n",
       "    </tr>\n",
       "    <tr>\n",
       "      <th>2019-05-03_00:00:10prudhoe26</th>\n",
       "      <td>2019-05-03_00:00:10</td>\n",
       "      <td>0.016</td>\n",
       "      <td>0.013</td>\n",
       "      <td>1</td>\n",
       "      <td>1</td>\n",
       "      <td>0.999</td>\n",
       "      <td>0.076</td>\n",
       "      <td>1</td>\n",
       "      <td>0.188</td>\n",
       "      <td>0.797</td>\n",
       "      <td>3.823</td>\n",
       "      <td>prudhoe</td>\n",
       "      <td>26</td>\n",
       "    </tr>\n",
       "    <tr>\n",
       "      <th>2019-05-03_00:00:20prudhoe26</th>\n",
       "      <td>2019-05-03_00:00:20</td>\n",
       "      <td>0.008</td>\n",
       "      <td>0.009</td>\n",
       "      <td>1</td>\n",
       "      <td>1</td>\n",
       "      <td>0.965</td>\n",
       "      <td>0.065</td>\n",
       "      <td>0.984</td>\n",
       "      <td>0.188</td>\n",
       "      <td>0.788</td>\n",
       "      <td>3.776</td>\n",
       "      <td>prudhoe</td>\n",
       "      <td>26</td>\n",
       "    </tr>\n",
       "    <tr>\n",
       "      <th>2019-05-03_00:00:30prudhoe26</th>\n",
       "      <td>2019-05-03_00:00:30</td>\n",
       "      <td>0.02</td>\n",
       "      <td>0.015</td>\n",
       "      <td>1</td>\n",
       "      <td>1</td>\n",
       "      <td>0.908</td>\n",
       "      <td>0.08</td>\n",
       "      <td>0.934</td>\n",
       "      <td>0.198</td>\n",
       "      <td>0.798</td>\n",
       "      <td>3.888</td>\n",
       "      <td>prudhoe</td>\n",
       "      <td>26</td>\n",
       "    </tr>\n",
       "    <tr>\n",
       "      <th>2019-05-03_00:00:40prudhoe26</th>\n",
       "      <td>2019-05-03_00:00:40</td>\n",
       "      <td>0.018</td>\n",
       "      <td>0.013</td>\n",
       "      <td>1</td>\n",
       "      <td>1</td>\n",
       "      <td>0.347</td>\n",
       "      <td>0.076</td>\n",
       "      <td>0.972</td>\n",
       "      <td>0.202</td>\n",
       "      <td>0.777</td>\n",
       "      <td>3.867</td>\n",
       "      <td>prudhoe</td>\n",
       "      <td>26</td>\n",
       "    </tr>\n",
       "    <tr>\n",
       "      <th>...</th>\n",
       "      <td>...</td>\n",
       "      <td>...</td>\n",
       "      <td>...</td>\n",
       "      <td>...</td>\n",
       "      <td>...</td>\n",
       "      <td>...</td>\n",
       "      <td>...</td>\n",
       "      <td>...</td>\n",
       "      <td>...</td>\n",
       "      <td>...</td>\n",
       "      <td>...</td>\n",
       "      <td>...</td>\n",
       "      <td>...</td>\n",
       "    </tr>\n",
       "    <tr>\n",
       "      <th>2019-09-06_15:59:12prudhoe20</th>\n",
       "      <td>2019-09-06_15:59:12</td>\n",
       "      <td>0.786</td>\n",
       "      <td>0.788</td>\n",
       "      <td>1</td>\n",
       "      <td>1</td>\n",
       "      <td>1</td>\n",
       "      <td>0.178</td>\n",
       "      <td>0.128</td>\n",
       "      <td>0.995</td>\n",
       "      <td>0.086</td>\n",
       "      <td>4.367</td>\n",
       "      <td>prudhoe</td>\n",
       "      <td>20</td>\n",
       "    </tr>\n",
       "    <tr>\n",
       "      <th>2019-09-06_15:59:22prudhoe20</th>\n",
       "      <td>2019-09-06_15:59:22</td>\n",
       "      <td>0.588</td>\n",
       "      <td>0.383</td>\n",
       "      <td>1</td>\n",
       "      <td>1</td>\n",
       "      <td>1</td>\n",
       "      <td>0.483</td>\n",
       "      <td>0.124</td>\n",
       "      <td>0.997</td>\n",
       "      <td>0.268</td>\n",
       "      <td>3.961</td>\n",
       "      <td>prudhoe</td>\n",
       "      <td>20</td>\n",
       "    </tr>\n",
       "    <tr>\n",
       "      <th>2019-09-06_15:59:32prudhoe20</th>\n",
       "      <td>2019-09-06_15:59:32</td>\n",
       "      <td>0.734</td>\n",
       "      <td>0.621</td>\n",
       "      <td>1</td>\n",
       "      <td>1</td>\n",
       "      <td>1</td>\n",
       "      <td>0.182</td>\n",
       "      <td>0.108</td>\n",
       "      <td>0.996</td>\n",
       "      <td>0.114</td>\n",
       "      <td>3.913</td>\n",
       "      <td>prudhoe</td>\n",
       "      <td>20</td>\n",
       "    </tr>\n",
       "    <tr>\n",
       "      <th>2019-09-06_15:59:42prudhoe20</th>\n",
       "      <td>2019-09-06_15:59:42</td>\n",
       "      <td>0.625</td>\n",
       "      <td>0.492</td>\n",
       "      <td>1</td>\n",
       "      <td>1</td>\n",
       "      <td>1</td>\n",
       "      <td>0.148</td>\n",
       "      <td>0.125</td>\n",
       "      <td>0.982</td>\n",
       "      <td>0.082</td>\n",
       "      <td>3.888</td>\n",
       "      <td>prudhoe</td>\n",
       "      <td>20</td>\n",
       "    </tr>\n",
       "    <tr>\n",
       "      <th>2019-09-06_15:59:52prudhoe20</th>\n",
       "      <td>2019-09-06_15:59:52</td>\n",
       "      <td>0.573</td>\n",
       "      <td>0.497</td>\n",
       "      <td>1</td>\n",
       "      <td>0.992</td>\n",
       "      <td>0.992</td>\n",
       "      <td>0.103</td>\n",
       "      <td>0.094</td>\n",
       "      <td>0.944</td>\n",
       "      <td>0.138</td>\n",
       "      <td>3.387</td>\n",
       "      <td>prudhoe</td>\n",
       "      <td>20</td>\n",
       "    </tr>\n",
       "  </tbody>\n",
       "</table>\n",
       "<p>4143168 rows × 13 columns</p>\n",
       "</div>"
      ],
      "text/plain": [
       "                                        TIMESTAMP anthrophony aircraft  \\\n",
       "unique                                                                   \n",
       "2019-05-03_00:00:00prudhoe26  2019-05-03_00:00:00       0.021    0.016   \n",
       "2019-05-03_00:00:10prudhoe26  2019-05-03_00:00:10       0.016    0.013   \n",
       "2019-05-03_00:00:20prudhoe26  2019-05-03_00:00:20       0.008    0.009   \n",
       "2019-05-03_00:00:30prudhoe26  2019-05-03_00:00:30        0.02    0.015   \n",
       "2019-05-03_00:00:40prudhoe26  2019-05-03_00:00:40       0.018    0.013   \n",
       "...                                           ...         ...      ...   \n",
       "2019-09-06_15:59:12prudhoe20  2019-09-06_15:59:12       0.786    0.788   \n",
       "2019-09-06_15:59:22prudhoe20  2019-09-06_15:59:22       0.588    0.383   \n",
       "2019-09-06_15:59:32prudhoe20  2019-09-06_15:59:32       0.734    0.621   \n",
       "2019-09-06_15:59:42prudhoe20  2019-09-06_15:59:42       0.625    0.492   \n",
       "2019-09-06_15:59:52prudhoe20  2019-09-06_15:59:52       0.573    0.497   \n",
       "\n",
       "                             biophony   bird songbirds duck-goose-swan  \\\n",
       "unique                                                                   \n",
       "2019-05-03_00:00:00prudhoe26        1      1     0.333           0.081   \n",
       "2019-05-03_00:00:10prudhoe26        1      1     0.999           0.076   \n",
       "2019-05-03_00:00:20prudhoe26        1      1     0.965           0.065   \n",
       "2019-05-03_00:00:30prudhoe26        1      1     0.908            0.08   \n",
       "2019-05-03_00:00:40prudhoe26        1      1     0.347           0.076   \n",
       "...                               ...    ...       ...             ...   \n",
       "2019-09-06_15:59:12prudhoe20        1      1         1           0.178   \n",
       "2019-09-06_15:59:22prudhoe20        1      1         1           0.483   \n",
       "2019-09-06_15:59:32prudhoe20        1      1         1           0.182   \n",
       "2019-09-06_15:59:42prudhoe20        1      1         1           0.148   \n",
       "2019-09-06_15:59:52prudhoe20        1  0.992     0.992           0.103   \n",
       "\n",
       "                             grouse-ptarmigan insect silence    sum   region  \\\n",
       "unique                                                                         \n",
       "2019-05-03_00:00:00prudhoe26            0.959  0.202   0.777  3.866  prudhoe   \n",
       "2019-05-03_00:00:10prudhoe26                1  0.188   0.797  3.823  prudhoe   \n",
       "2019-05-03_00:00:20prudhoe26            0.984  0.188   0.788  3.776  prudhoe   \n",
       "2019-05-03_00:00:30prudhoe26            0.934  0.198   0.798  3.888  prudhoe   \n",
       "2019-05-03_00:00:40prudhoe26            0.972  0.202   0.777  3.867  prudhoe   \n",
       "...                                       ...    ...     ...    ...      ...   \n",
       "2019-09-06_15:59:12prudhoe20            0.128  0.995   0.086  4.367  prudhoe   \n",
       "2019-09-06_15:59:22prudhoe20            0.124  0.997   0.268  3.961  prudhoe   \n",
       "2019-09-06_15:59:32prudhoe20            0.108  0.996   0.114  3.913  prudhoe   \n",
       "2019-09-06_15:59:42prudhoe20            0.125  0.982   0.082  3.888  prudhoe   \n",
       "2019-09-06_15:59:52prudhoe20            0.094  0.944   0.138  3.387  prudhoe   \n",
       "\n",
       "                             location  \n",
       "unique                                 \n",
       "2019-05-03_00:00:00prudhoe26       26  \n",
       "2019-05-03_00:00:10prudhoe26       26  \n",
       "2019-05-03_00:00:20prudhoe26       26  \n",
       "2019-05-03_00:00:30prudhoe26       26  \n",
       "2019-05-03_00:00:40prudhoe26       26  \n",
       "...                               ...  \n",
       "2019-09-06_15:59:12prudhoe20       20  \n",
       "2019-09-06_15:59:22prudhoe20       20  \n",
       "2019-09-06_15:59:32prudhoe20       20  \n",
       "2019-09-06_15:59:42prudhoe20       20  \n",
       "2019-09-06_15:59:52prudhoe20       20  \n",
       "\n",
       "[4143168 rows x 13 columns]"
      ]
     },
     "execution_count": 22,
     "metadata": {},
     "output_type": "execute_result"
    }
   ],
   "source": [
    "combined_max"
   ]
  },
  {
   "cell_type": "code",
   "execution_count": 26,
   "id": "7784884d-dbe9-42bf-b1c6-3576e8209f9c",
   "metadata": {},
   "outputs": [],
   "source": [
    "combined_max['sum']= df[['anthrophony', 'aircraft', 'biophony', 'bird', 'songbirds',\n",
    "       'duck-goose-swan', 'grouse-ptarmigan', 'insect', 'silence']].sum(axis=1)"
   ]
  },
  {
   "cell_type": "code",
   "execution_count": 47,
   "id": "80e88e38-305d-4719-8ee7-f481df7c618c",
   "metadata": {},
   "outputs": [
    {
     "data": {
      "text/plain": [
       "unique\n",
       "2019-05-03_02:05:32prudhoe26     0.24\n",
       "2019-05-03_04:30:50prudhoe26    0.209\n",
       "2019-05-03_04:32:50prudhoe26    0.284\n",
       "2019-05-03_04:34:20prudhoe26    0.216\n",
       "2019-05-03_04:35:20prudhoe26    0.283\n",
       "                                ...  \n",
       "2019-09-06_15:59:12prudhoe20    0.788\n",
       "2019-09-06_15:59:22prudhoe20    0.383\n",
       "2019-09-06_15:59:32prudhoe20    0.621\n",
       "2019-09-06_15:59:42prudhoe20    0.492\n",
       "2019-09-06_15:59:52prudhoe20    0.497\n",
       "Name: aircraft, Length: 1424630, dtype: object"
      ]
     },
     "execution_count": 47,
     "metadata": {},
     "output_type": "execute_result"
    }
   ],
   "source": []
  },
  {
   "cell_type": "code",
   "execution_count": 23,
   "id": "dd7711f7-c921-4e15-bd64-926685736973",
   "metadata": {},
   "outputs": [],
   "source": [
    "# if config['balance_by_location']:\n",
    "#     confident_preds_dict = teacher.pick_clips_equally_from_locations(\n",
    "#         config['new_data_classes_counts'], confident_preds_dict)\n",
    "# pred_for_year"
   ]
  },
  {
   "cell_type": "code",
   "execution_count": 24,
   "id": "265b1a51-3b84-4787-97f8-dd049b8cc634",
   "metadata": {},
   "outputs": [],
   "source": [
    "# pred_for_year = pd.read_csv('/scratch/enis/data/nna/results/csv_export_raw_merged/1jvt1zva-V1/prudhoe/12/2019/1jvt1zva-V1.csv')"
   ]
  },
  {
   "cell_type": "code",
   "execution_count": 25,
   "id": "9871f638-a0a8-4fa6-9714-5b125adc60ea",
   "metadata": {},
   "outputs": [],
   "source": [
    "# preds_df"
   ]
  },
  {
   "cell_type": "code",
   "execution_count": 73,
   "id": "a1d245ea-ac9e-4485-9769-76f65b0fb9f4",
   "metadata": {},
   "outputs": [],
   "source": [
    "# preds_df.reset_index(inplace=True,drop=True)"
   ]
  },
  {
   "cell_type": "code",
   "execution_count": null,
   "id": "49ca1ec5-54b2-4443-b046-042de52fb7bd",
   "metadata": {},
   "outputs": [],
   "source": [
    "preds_df=combined_max"
   ]
  },
  {
   "cell_type": "code",
   "execution_count": 27,
   "id": "3d1a2145-a974-471c-bb83-4cd93e2b43e4",
   "metadata": {},
   "outputs": [
    {
     "name": "stdout",
     "output_type": "stream",
     "text": [
      "-------- biophony\n",
      "anthrophony\n",
      "648675\n",
      "aircraft\n",
      "648675\n",
      "insect\n",
      "616592\n",
      "silence\n",
      "616592\n",
      "-------- insect\n",
      "anthrophony\n",
      "10437\n",
      "aircraft\n",
      "10437\n",
      "bird\n",
      "840\n",
      "songbirds\n",
      "840\n",
      "duck-goose-swan\n",
      "840\n",
      "grouse-ptarmigan\n",
      "840\n",
      "silence\n",
      "840\n",
      "-------- anthrophony\n",
      "biophony\n",
      "502\n",
      "bird\n",
      "359\n",
      "songbirds\n",
      "359\n",
      "duck-goose-swan\n",
      "359\n",
      "grouse-ptarmigan\n",
      "359\n",
      "insect\n",
      "359\n",
      "silence\n",
      "359\n",
      "-------- aircraft\n",
      "biophony\n",
      "1709\n",
      "bird\n",
      "1657\n",
      "songbirds\n",
      "1657\n",
      "duck-goose-swan\n",
      "1657\n",
      "grouse-ptarmigan\n",
      "1657\n",
      "insect\n",
      "1657\n",
      "silence\n",
      "1657\n"
     ]
    }
   ],
   "source": [
    "confident_preds_dict = {}\n",
    "\n",
    "for label_to_sample in config['confidence_thresholds'].keys():\n",
    "    print(\"--------\",label_to_sample)\n",
    "    confidence_threshold=config['confidence_thresholds'][label_to_sample]\n",
    "    confident_preds = teacher.pick_confidents(preds_df, label_to_sample,\n",
    "                                                     confidence_threshold,\n",
    "                                                     config['related_cols'],\n",
    "                                                     config['labels_thresholds'],\n",
    "                                                    columns_to_exclude=['TIMESTAMP','sum','location','region'])\n",
    "    confident_preds_dict[label_to_sample] = confident_preds.copy()\n"
   ]
  },
  {
   "cell_type": "code",
   "execution_count": 34,
   "id": "f678cee2-2d46-403a-b497-6ab7fb87e8c7",
   "metadata": {},
   "outputs": [
    {
     "name": "stdout",
     "output_type": "stream",
     "text": [
      "biophony 616592\n",
      "insect 840\n",
      "anthrophony 359\n",
      "aircraft 1657\n"
     ]
    }
   ],
   "source": [
    "selected_data={}\n",
    "\n",
    "# sort values by sum so other lables has lower confidence\n",
    "for k,v in confident_preds_dict.items():\n",
    "    confident_preds_dict[k]=v.sort_values(by='sum', ascending=True)\n",
    "    \n",
    "#select samples\n",
    "for k,v in confident_preds_dict.items():\n",
    "    print(k,len(v))\n",
    "    if k in ['anthrophony', 'aircraft']:\n",
    "        selected_data[k]=v.iloc[:841]\n",
    "    elif k in ['biophony']:\n",
    "        continue\n",
    "    else:\n",
    "        selected_data[k]=v.iloc[:4000]\n"
   ]
  },
  {
   "cell_type": "code",
   "execution_count": null,
   "id": "f3d87f05-6376-4157-9157-924926cbc018",
   "metadata": {},
   "outputs": [],
   "source": []
  },
  {
   "cell_type": "code",
   "execution_count": 67,
   "id": "4384de21-63d7-480b-b1bc-d24e95289787",
   "metadata": {},
   "outputs": [
    {
     "name": "stdout",
     "output_type": "stream",
     "text": [
      "label_1 label_2 common\n",
      "insect anthrophony 0\n",
      "insect aircraft 0\n",
      "anthrophony aircraft 1\n"
     ]
    }
   ],
   "source": [
    "print('label_1','label_2','common')\n",
    "label_pairs = list(itertools.combinations(confident_preds_dict.keys(), 2))\n",
    "for k1,k2 in label_pairs:\n",
    "    if 'biophony' not in [k1,k2]:\n",
    "        if k1!=k2:\n",
    "            s1 = pd.merge(selected_data[k1], selected_data[k2], how='inner', )\n",
    "            print(k1,k2,len(s1))\n",
    "\n"
   ]
  },
  {
   "cell_type": "code",
   "execution_count": null,
   "id": "7e01d8a5-9fce-4d89-ad21-bbe2851ece56",
   "metadata": {},
   "outputs": [],
   "source": []
  },
  {
   "cell_type": "code",
   "execution_count": 36,
   "id": "19192f7e-9f4f-452f-b2c3-d0bcd34fb8bd",
   "metadata": {},
   "outputs": [],
   "source": [
    "import pandas as pd\n",
    "selected_data_merged=pd.concat(selected_data.values())\n",
    "selected_data_merged_unq = selected_data_merged.drop_duplicates()"
   ]
  },
  {
   "cell_type": "code",
   "execution_count": 68,
   "id": "fc326413-0524-4c9e-8adb-18e7ef010b89",
   "metadata": {},
   "outputs": [
    {
     "name": "stdout",
     "output_type": "stream",
     "text": [
      "all samples - unique samples = diff\n",
      "2040 2039 1\n"
     ]
    }
   ],
   "source": [
    "print('all samples - unique samples = diff')\n",
    "all_count = len(selected_data_merged)\n",
    "unq_count = len(selected_data_merged_unq)\n",
    "print(all_count,unq_count,all_count-unq_count)"
   ]
  },
  {
   "cell_type": "code",
   "execution_count": null,
   "id": "6f778b4f-380f-4ffd-9d1e-c8ef69300ffe",
   "metadata": {},
   "outputs": [],
   "source": []
  },
  {
   "cell_type": "code",
   "execution_count": 69,
   "id": "67fd40a2-6be3-4eef-9af3-7d940bc2e208",
   "metadata": {},
   "outputs": [
    {
     "name": "stdout",
     "output_type": "stream",
     "text": [
      "biophony\n",
      "[('26', 14780), ('27', 18290), ('32', 23984), ('18', 26622), ('45', 27644), ('47', 45166), ('36', 47940), ('31', 50516), ('20', 54147), ('34', 56262), ('12', 82600), ('15', 84291), ('50', 84350)]\n",
      "insect\n",
      "[('50', 1), ('36', 1), ('15', 2), ('47', 2), ('27', 6), ('12', 7), ('20', 7), ('32', 114), ('31', 277), ('34', 423)]\n",
      "anthrophony\n",
      "[('27', 1), ('47', 1), ('12', 2), ('36', 5), ('20', 5), ('34', 12), ('15', 15), ('18', 20), ('31', 24), ('32', 59), ('26', 215)]\n",
      "aircraft\n",
      "[('47', 11), ('27', 27), ('36', 46), ('26', 79), ('12', 81), ('50', 100), ('20', 103), ('15', 105), ('18', 172), ('34', 198), ('31', 354), ('32', 381)]\n"
     ]
    }
   ],
   "source": [
    "# ALL Confident DATA\n",
    "from collections import Counter\n",
    "for k,v in confident_preds_dict.items():\n",
    "    print(k)\n",
    "    cc=Counter(confident_preds_dict[k]['location'])\n",
    "    cc=sorted(list(cc.items()),key=lambda x:x[1])\n",
    "    print(cc)\n",
    "# Counter(selected_data_merged_unq['location'])"
   ]
  },
  {
   "cell_type": "code",
   "execution_count": 70,
   "id": "b3adff7f-8023-4a95-991f-19f52b903709",
   "metadata": {},
   "outputs": [
    {
     "name": "stdout",
     "output_type": "stream",
     "text": [
      "insect\n",
      "[('50', 1), ('36', 1), ('15', 2), ('47', 2), ('27', 6), ('12', 7), ('20', 7), ('32', 114), ('31', 277), ('34', 423)]\n",
      "anthrophony\n",
      "[('27', 1), ('47', 1), ('12', 2), ('36', 5), ('20', 5), ('34', 12), ('15', 15), ('18', 20), ('31', 24), ('32', 59), ('26', 215)]\n",
      "aircraft\n",
      "[('47', 6), ('27', 10), ('26', 25), ('36', 30), ('15', 54), ('12', 56), ('20', 67), ('18', 71), ('50', 75), ('34', 112), ('31', 136), ('32', 199)]\n"
     ]
    }
   ],
   "source": [
    "# SELECTED DATA\n",
    "for k,v in selected_data.items():\n",
    "    print(k)\n",
    "    cc=Counter(selected_data[k]['location'])\n",
    "    cc=sorted(list(cc.items()),key=lambda x:x[1])\n",
    "    print(cc)"
   ]
  },
  {
   "cell_type": "code",
   "execution_count": 44,
   "id": "425940d9-ea66-46dd-811d-2e84de7514f1",
   "metadata": {},
   "outputs": [
    {
     "name": "stdout",
     "output_type": "stream",
     "text": [
      "test\n"
     ]
    }
   ],
   "source": [
    "# file_properties_df\n",
    "print('test')"
   ]
  },
  {
   "cell_type": "code",
   "execution_count": 7,
   "id": "d17df388-4b84-4d3d-8207-026f3ec7ea14",
   "metadata": {},
   "outputs": [],
   "source": [
    "file_properties_df = pd.read_pickle(\n",
    "    '/scratch/enis/data/nna/database/allFields_dataV6.pkl')\n"
   ]
  },
  {
   "cell_type": "code",
   "execution_count": 80,
   "id": "ead246aa-6459-439d-b35f-814ee5cc4598",
   "metadata": {},
   "outputs": [
    {
     "name": "stdout",
     "output_type": "stream",
     "text": [
      "/home/enis/projects/nna/src/scripts\n"
     ]
    }
   ],
   "source": [
    "!pwd"
   ]
  },
  {
   "cell_type": "code",
   "execution_count": 4,
   "id": "7b15a4f6-390a-478f-954a-b3a5d6722fa0",
   "metadata": {},
   "outputs": [],
   "source": [
    "file_name='/home/enis/projects/nna/notebooks/Labeling/tmp.pkl'\n",
    "file_name2='/home/enis/projects/nna/notebooks/Labeling/max.pkl'\n"
   ]
  },
  {
   "cell_type": "code",
   "execution_count": 5,
   "id": "9fbe583d-59fa-4c30-adc2-1400db502aa7",
   "metadata": {},
   "outputs": [],
   "source": [
    "# selected_data_merged_unq.to_pickle(file_name)  # where to save it, usually as a .pkl\n",
    "selected_data_merged_unq = pd.read_pickle(file_name)\n",
    "\n",
    "# combined_max.to_pickle(file_name2)  # where to save it, usually as a .pkl\n",
    "combined_max = pd.read_pickle(file_name2)\n"
   ]
  },
  {
   "cell_type": "code",
   "execution_count": null,
   "id": "f5a2643d-e048-48df-93d0-1918c264c190",
   "metadata": {},
   "outputs": [],
   "source": []
  },
  {
   "cell_type": "code",
   "execution_count": 8,
   "id": "3705fa7c-b30a-4fbb-a7cf-817c742b8de6",
   "metadata": {},
   "outputs": [
    {
     "name": "stdout",
     "output_type": "stream",
     "text": [
      "--------------------------------------\n",
      "Not Found\n",
      "301955 TIMESTAMP           2019-07-25_11:59:52\n",
      "anthrophony                        0.01\n",
      "aircraft                          0.005\n",
      "biophony                          0.997\n",
      "bird                              0.471\n",
      "songbirds                         0.055\n",
      "duck-goose-swan                   0.003\n",
      "grouse-ptarmigan                  0.003\n",
      "insect                            0.994\n",
      "silence                           0.001\n",
      "sum                               2.539\n",
      "region                             anwr\n",
      "location                             34\n",
      "Name: 301955, dtype: object\n"
     ]
    }
   ],
   "source": [
    "\n",
    "\n",
    "new_dataset_csv, not_found_rows = teacher.generate_new_dataset(\n",
    "    selected_data_merged_unq,\n",
    "    config['versiontag'],\n",
    "    config['split_out_path'],\n",
    "    file_properties_df,\n",
    "    config['upper_taxo_links'],\n",
    "    config['dataset_version'],\n",
    "    excell_label_headers= config['excell_label_headers'],\n",
    "    labels_thresholds= config['labels_thresholds'],\n",
    "    outputSuffix='.wav',\n",
    "    dry_run=False,\n",
    "    excell_labels_2_names=config['excell_labels_2_names'],\n",
    "    stereo2mono=True,\n",
    "    overwrite=False,\n",
    "    sampling_rate=48000,\n",
    ")\n",
    "\n",
    "\n",
    "# from copy import deepcopy\n",
    "# new_dataset_csv_backup = deepcopy(new_dataset_csv)\n",
    "# not_found_rows_backup = deepcopy(not_found_rows)\n",
    "\n",
    "# del not_found_rows_backup,new_dataset_csv_backup\n",
    "\n",
    "\n",
    "# write_csv(config['new_dataset_path'],\n",
    "#           new_dataset_csv,\n",
    "#           fieldnames=config['excell_all_headers'])"
   ]
  },
  {
   "cell_type": "code",
   "execution_count": 54,
   "id": "17f08e34-f3b1-4997-ba54-6d7421b73bcb",
   "metadata": {},
   "outputs": [],
   "source": [
    "# new_dataset_csv"
   ]
  },
  {
   "cell_type": "code",
   "execution_count": 9,
   "id": "b81f6425-0bea-4455-8a28-a8c9144b6e49",
   "metadata": {},
   "outputs": [],
   "source": [
    "!/scratch/enis/conda/envs/speechEnv/bin/python /home/enis/projects/nna/src/nna/slack_message.py -t \"cpu job ended\" -m 'split audio ended'\n"
   ]
  },
  {
   "cell_type": "code",
   "execution_count": 10,
   "id": "f22182bc-2b81-4ecb-b475-f6ae5c3caee1",
   "metadata": {},
   "outputs": [
    {
     "data": {
      "text/plain": [
       "2038"
      ]
     },
     "execution_count": 10,
     "metadata": {},
     "output_type": "execute_result"
    }
   ],
   "source": [
    "len(new_dataset_csv)"
   ]
  },
  {
   "cell_type": "code",
   "execution_count": 11,
   "id": "2ecb2986-1ee1-4fdf-bdb0-c8bedde218ba",
   "metadata": {},
   "outputs": [],
   "source": [
    "from copy import deepcopy\n",
    "new_dataset_csv_backup = deepcopy(new_dataset_csv)\n",
    "not_found_rows_backup = deepcopy(not_found_rows)\n",
    "\n",
    "\n"
   ]
  },
  {
   "cell_type": "code",
   "execution_count": 12,
   "id": "916986b0-a79d-4a53-b9ff-11abb974976e",
   "metadata": {},
   "outputs": [
    {
     "name": "stdout",
     "output_type": "stream",
     "text": [
      "./datasetV4.csv\n"
     ]
    }
   ],
   "source": [
    "print(config['new_dataset_path'])\n"
   ]
  },
  {
   "cell_type": "code",
   "execution_count": 60,
   "id": "8ab18995-9816-4da9-b08b-f66bd3ec4372",
   "metadata": {},
   "outputs": [
    {
     "name": "stdout",
     "output_type": "stream",
     "text": [
      "/home/enis/projects/nna/src/scripts\n"
     ]
    }
   ],
   "source": [
    "!pwd\n"
   ]
  },
  {
   "cell_type": "code",
   "execution_count": null,
   "id": "5f56d173-0874-42e7-9c96-7babde524a11",
   "metadata": {},
   "outputs": [],
   "source": []
  },
  {
   "cell_type": "code",
   "execution_count": 13,
   "id": "7a38586e-4ec3-47d4-83fe-03c90b859306",
   "metadata": {},
   "outputs": [],
   "source": [
    "# print(config['new_dataset_path'])\n",
    "teacher.write_csv('/home/enis/projects/nna/notebooks/Labeling/datasetmodels_V6.csv',\n",
    "          new_dataset_csv,\n",
    "          fieldnames=config['excell_all_headers'])"
   ]
  },
  {
   "cell_type": "code",
   "execution_count": 19,
   "id": "0e3e4172-66d3-426f-86a4-b7c76feb7255",
   "metadata": {},
   "outputs": [
    {
     "name": "stdout",
     "output_type": "stream",
     "text": [
      "/home/enis/projects/nna/src/scripts\n"
     ]
    }
   ],
   "source": [
    "!cd /home/enis/projects/nna/src/scripts"
   ]
  },
  {
   "cell_type": "code",
   "execution_count": 14,
   "id": "dcf8a5ce-100d-445f-bc78-f8e7e14b28dd",
   "metadata": {},
   "outputs": [
    {
     "data": {
      "text/plain": [
       "2038"
      ]
     },
     "execution_count": 14,
     "metadata": {},
     "output_type": "execute_result"
    }
   ],
   "source": [
    "len(new_dataset_csv)"
   ]
  },
  {
   "cell_type": "code",
   "execution_count": 15,
   "id": "d2b606e4-a644-44b9-a799-6776ec42d2ad",
   "metadata": {},
   "outputs": [],
   "source": [
    "from nna.fileUtils import getLength,change_sampling_rate"
   ]
  },
  {
   "cell_type": "code",
   "execution_count": 16,
   "id": "19d1e99e-2b47-4a7c-89b1-ced584657500",
   "metadata": {},
   "outputs": [],
   "source": [
    "# for i,row in enumerate(new_dataset_csv):\n",
    "#     relative_part=row['Clip Path'].relative_to('/scratch/enis/data/nna/labeling/megan/3rk9ayjc-V1/')\n",
    "#     new_file='/scratch/enis/data/nna/labeling/megan/3rk9ayjc-V2'/ relative_part\n",
    "#     new_file.parent.mkdir(exist_ok=True,parents=True)\n",
    "# #     print(row['Clip Path'],'\\n',new_file)\n",
    "# #     break\n",
    "#     # output=change_sampling_rate(row['Clip Path'],new_file,48000)\n",
    "# #     break\n",
    "#     if i%1000==0:\n",
    "#         print(i)"
   ]
  },
  {
   "cell_type": "code",
   "execution_count": null,
   "id": "85ed87bf-781b-4b6f-a48a-6205dc3b1012",
   "metadata": {},
   "outputs": [],
   "source": []
  },
  {
   "cell_type": "code",
   "execution_count": null,
   "id": "ce2766b9-a73a-4583-bf49-1f803fa7fd68",
   "metadata": {},
   "outputs": [],
   "source": []
  },
  {
   "cell_type": "code",
   "execution_count": 17,
   "id": "d50e20a6-f618-4825-9937-df91de86b866",
   "metadata": {},
   "outputs": [
    {
     "name": "stdout",
     "output_type": "stream",
     "text": [
      "0\n",
      "100\n",
      "200\n",
      "300\n",
      "400\n",
      "500\n",
      "600\n",
      "700\n",
      "800\n",
      "900\n",
      "1000\n",
      "1100\n",
      "1200\n",
      "1300\n",
      "1400\n",
      "1500\n",
      "1600\n",
      "1700\n",
      "1800\n",
      "1900\n",
      "2000\n"
     ]
    }
   ],
   "source": [
    "short_ones=[]\n",
    "for i,row in enumerate(new_dataset_csv):\n",
    "    length = getLength(row['Clip Path'])\n",
    "    if length!=10.0:\n",
    "        short_ones.append(row)\n",
    "        print(length)\n",
    "    if i%100==0:\n",
    "        print(i)"
   ]
  },
  {
   "cell_type": "code",
   "execution_count": 71,
   "id": "7876dcb9-3651-475a-916b-7398e9645aae",
   "metadata": {},
   "outputs": [
    {
     "name": "stdout",
     "output_type": "stream",
     "text": [
      "/scratch/enis/data/nna/labeling/megan/3rk9ayjc-V1/dalton/05/S4A10454_20190915_144000_0m_20s__0m_30s.wav\n",
      "9.999833\n",
      "/scratch/enis/data/nna/labeling/megan/3rk9ayjc-V1/dalton/05/S4A10454_20190829_172000_1m_10s__1m_20s.wav\n",
      "10.000167\n",
      "/scratch/enis/data/nna/labeling/megan/3rk9ayjc-V1/dalton/05/S4A10454_20190902_224000_0m_10s__0m_20s.wav\n",
      "9.999833\n",
      "/scratch/enis/data/nna/labeling/megan/3rk9ayjc-V1/dalton/05/S4A10454_20190427_031814_1m_0s__1m_10s.wav\n",
      "10.000167\n",
      "/scratch/enis/data/nna/labeling/megan/3rk9ayjc-V1/dalton/03/S4A10437_20190423_130755_0m_0s__0m_10s.wav\n",
      "9.999833\n"
     ]
    }
   ],
   "source": [
    "for row in short_ones:\n",
    "    print(row['Clip Path'])\n",
    "    length = getLength(row['Clip Path'])\n",
    "    print(length)"
   ]
  },
  {
   "cell_type": "code",
   "execution_count": null,
   "id": "2d30577a-31fb-41bd-86e9-5d814b361330",
   "metadata": {},
   "outputs": [],
   "source": [
    "/scratch/enis/data/nna/labeling/megan/3rk9ayjc-V1/dalton/05/S4A10454_20190915_144000_0m_20s__0m_30s.wav\n",
    "9.999833\n",
    "/scratch/enis/data/nna/labeling/megan/3rk9ayjc-V1/dalton/05/S4A10454_20190829_172000_1m_10s__1m_20s.wav\n",
    "10.000167\n",
    "/scratch/enis/data/nna/labeling/megan/3rk9ayjc-V1/dalton/05/S4A10454_20190902_224000_0m_10s__0m_20s.wav\n",
    "9.999833\n",
    "/scratch/enis/data/nna/labeling/megan/3rk9ayjc-V1/dalton/05/S4A10454_20190427_031814_1m_0s__1m_10s.wav\n",
    "10.000167\n",
    "/scratch/enis/data/nna/labeling/megan/3rk9ayjc-V1/dalton/03/S4A10437_20190423_130755_0m_0s__0m_10s.wav\n",
    "9.999833\n"
   ]
  },
  {
   "cell_type": "code",
   "execution_count": null,
   "id": "5d83489d-7c2b-44cf-b5e8-5221c1fb84a1",
   "metadata": {},
   "outputs": [],
   "source": []
  }
 ],
 "metadata": {
  "kernelspec": {
   "display_name": "speechEnv",
   "language": "python",
   "name": "speechenv"
  },
  "language_info": {
   "codemirror_mode": {
    "name": "ipython",
    "version": 3
   },
   "file_extension": ".py",
   "mimetype": "text/x-python",
   "name": "python",
   "nbconvert_exporter": "python",
   "pygments_lexer": "ipython3",
   "version": "3.7.2"
  }
 },
 "nbformat": 4,
 "nbformat_minor": 5
}

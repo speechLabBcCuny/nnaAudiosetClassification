{
 "cells": [
  {
   "cell_type": "markdown",
   "id": "5eb5c636-5743-449c-a6f1-2e2828b71e2d",
   "metadata": {},
   "source": [
    "## experiment 2 (flare search)\n",
    "* here we are looking for samples that are in a main category but not in the child ones\n",
    "* an exmaple is samples that are in anthrohony but not in aircraft\n",
    "* here we did not filter aircrafts with bio and bird because there was not enough sample otherwise"
   ]
  },
  {
   "cell_type": "code",
   "execution_count": 1,
   "id": "645cc797-4bca-4c5d-ae7a-6a042dd54344",
   "metadata": {},
   "outputs": [],
   "source": [
    "import os \n",
    "import importlib\n",
    "\n",
    "path='/home/enis/projects/nna/src/scripts/'\n",
    "os.chdir(path)\n",
    "import teacher\n",
    "\n",
    "import itertools\n",
    "import pandas as pd"
   ]
  },
  {
   "cell_type": "code",
   "execution_count": 17,
   "id": "7353dc57-4620-4a79-bbd0-95b8ba28ed21",
   "metadata": {},
   "outputs": [],
   "source": [
    "aa=[('dalton', '01'),\n",
    "        ('dalton', '02'),\n",
    "        ('dalton', '03'),\n",
    "        ('dalton', '04'),\n",
    "        ('dalton', '05'),\n",
    "        ('dalton', '06'),\n",
    "        ('dalton', '07'),\n",
    "        ('dalton', '08'),\n",
    "        ('dalton', '09'),\n",
    "        ('dalton', '10')\n",
    "    ] + [('dempster', '11'), ('dempster', '12'), ('dempster', '13'),\n",
    "         ('dempster', '14'), ('dempster', '15'), ('dempster', '16'),\n",
    "         ('dempster', '17'), ('dempster', '19'), ('dempster', '20'),\n",
    "         ('dempster', '21'), ('dempster', '22'), ('dempster', '23'),\n",
    "         ('dempster', '24'), ('dempster', '25')] + [('ivvavik', 'AR01'),\n",
    "                                                    ('ivvavik', 'AR02'),\n",
    "                                                    ('ivvavik', 'AR03'),\n",
    "                                                    ('ivvavik', 'AR04'),\n",
    "                                                    ('ivvavik', 'AR05'),\n",
    "                                                    ('ivvavik', 'AR06'),\n",
    "                                                    ('ivvavik', 'AR07'),\n",
    "                                                    ('ivvavik', 'AR08'),\n",
    "                                                    ('ivvavik', 'AR09'),\n",
    "                                                    ('ivvavik', 'AR10'),\n",
    "                                                    ('ivvavik', 'SINP01'),\n",
    "                                                    ('ivvavik', 'SINP02'),\n",
    "                                                    ('ivvavik', 'SINP03'),\n",
    "                                                    ('ivvavik', 'SINP04'),\n",
    "                                                    ('ivvavik', 'SINP05'),\n",
    "                                                    ('ivvavik', 'SINP06'),\n",
    "                                                    ('ivvavik', 'SINP07'),\n",
    "                                                    ('ivvavik', 'SINP08'),\n",
    "                                                    ('ivvavik', 'SINP09'),\n",
    "                                                    ('ivvavik', 'SINP10')]"
   ]
  },
  {
   "cell_type": "code",
   "execution_count": 18,
   "id": "a93029e2-4f47-4d28-adaa-03344843d7ab",
   "metadata": {},
   "outputs": [
    {
     "data": {
      "text/plain": [
       "44"
      ]
     },
     "execution_count": 18,
     "metadata": {},
     "output_type": "execute_result"
    }
   ],
   "source": [
    "len(aa)"
   ]
  },
  {
   "cell_type": "code",
   "execution_count": 14,
   "id": "ab605842-e69b-4508-8ef0-2d2fa28ad62c",
   "metadata": {},
   "outputs": [],
   "source": [
    "a=['41', '21', '49', '48', '19', '16', '39', '30', '38', '22', '11', '37',\n",
    "        '44', '33', '29', '46', '25', '13', '24', '17', '40', '14']+ ['15', '20', '31', '47', '34']+['12', '27', '26', '45', '50', '18', '32', '36']"
   ]
  },
  {
   "cell_type": "code",
   "execution_count": 15,
   "id": "a64dff78-7165-4a5e-a4ce-77d1372aa53d",
   "metadata": {},
   "outputs": [
    {
     "data": {
      "text/plain": [
       "['11',\n",
       " '12',\n",
       " '13',\n",
       " '14',\n",
       " '15',\n",
       " '16',\n",
       " '17',\n",
       " '18',\n",
       " '19',\n",
       " '20',\n",
       " '21',\n",
       " '22',\n",
       " '24',\n",
       " '25',\n",
       " '26',\n",
       " '27',\n",
       " '29',\n",
       " '30',\n",
       " '31',\n",
       " '32',\n",
       " '33',\n",
       " '34',\n",
       " '36',\n",
       " '37',\n",
       " '38',\n",
       " '39',\n",
       " '40',\n",
       " '41',\n",
       " '44',\n",
       " '45',\n",
       " '46',\n",
       " '47',\n",
       " '48',\n",
       " '49',\n",
       " '50']"
      ]
     },
     "execution_count": 15,
     "metadata": {},
     "output_type": "execute_result"
    }
   ],
   "source": [
    "sorted(a)"
   ]
  },
  {
   "cell_type": "code",
   "execution_count": null,
   "id": "4a852f72-370b-495d-8f9d-2db2776e858a",
   "metadata": {},
   "outputs": [],
   "source": [
    "import glob\n",
    "from pathlib import Path\n"
   ]
  },
  {
   "cell_type": "code",
   "execution_count": 144,
   "id": "648d60a6-45b9-4f68-a181-842f19d6c801",
   "metadata": {},
   "outputs": [
    {
     "name": "stdout",
     "output_type": "stream",
     "text": [
      "-------- bird\n",
      "anthrophony\n",
      "1099053\n",
      "aircraft\n",
      "1099053\n",
      "insect\n",
      "1081408\n",
      "silence\n",
      "1056244\n",
      "-------- biophony\n",
      "anthrophony\n",
      "1998831\n",
      "aircraft\n",
      "1998831\n",
      "insect\n",
      "1732830\n",
      "silence\n",
      "1699232\n",
      "bird 1056244\n",
      "biophony 1699232\n"
     ]
    }
   ],
   "source": [
    "importlib.reload(teacher)\n",
    "config = teacher.setup()\n",
    "\n",
    "## data-1: as many sampes as possible\n",
    "config['new_dataset_path'] = './datasetV2.1.2.csv'\n",
    "config['dataset_version'] = 'V2.1.2'\n",
    "config['versiontag'] = '3rk9ayjc-V1'\n",
    "\n",
    "# try! to collect same amount of samples from each location\n",
    "config['balance_by_location'] = False\n",
    "config['confidence_thresholds'] = {\n",
    "        'biophony':0.99, \n",
    "            'insect': 0.99,\n",
    "            'bird':0.99,\n",
    "                'songbirds':0.95,\n",
    "                'duck-goose-swan': 0.9,\n",
    "                'grouse-ptarmigan': 0.9,\n",
    "        'anthrophony': 0.8,\n",
    "            'aircraft': 0.99,\n",
    "        'silence': 0.99,\n",
    "    }\n",
    "\n",
    "# only applies to main label\n",
    "config['labels_thresholds'] = {\n",
    "    'default': 0.5,\n",
    "    'biophony': 0.9,\n",
    "    'insect': 0.5,\n",
    "    'bird': 0.9,\n",
    "    'songbirds': 0.9,\n",
    "    'duck-goose-swan': 0.5,\n",
    "    'grouse-ptarmigan': 0.5,\n",
    "    'anthrophony': 0.08,\n",
    "    'aircraft': 0.5,\n",
    "    'silence': 0.5,\n",
    "}\n",
    "\n",
    "# I DID NOT USE THESE NUMBERS\n",
    "config['new_data_classes_counts'] = {\n",
    "    'biophony':10*3,\n",
    "        'insect': 10*4,\n",
    "        'bird':10**3,\n",
    "            'songbirds':10*4,\n",
    "            'duck-goose-swan': 10*4,\n",
    "            'grouse-ptarmigan': 10*4,\n",
    "    'anthrophony': 10*4,\n",
    "        'aircraft': 10**4,\n",
    "    'silence': 10*3,\n",
    "}\n",
    "\n",
    "\n",
    "\n",
    "\n",
    "confident_preds_dict = {}\n",
    "# config['new_data_classes_counts'].keys()\n",
    "for label_to_sample in ['bird','biophony']:\n",
    "    print(\"--------\",label_to_sample)\n",
    "    confidence_threshold=config['confidence_thresholds'][label_to_sample]\n",
    "    confident_preds = teacher.pick_confidents(preds_df, label_to_sample,\n",
    "                                                     confidence_threshold,\n",
    "                                                     config['related_cols'],\n",
    "                                                     config['labels_thresholds'],\n",
    "                                                    columns_to_exclude=['TIMESTAMP','sum','location','region'])\n",
    "    confident_preds_dict[label_to_sample] = confident_preds.copy()\n",
    "\n",
    "selected_data={}\n",
    "\n",
    "# sort values by sum so other lables has lower confidence\n",
    "for k,v in confident_preds_dict.items():\n",
    "    confident_preds_dict[k]=v.sort_values(by='sum', ascending=True)\n",
    "    \n",
    "#select samples\n",
    "for k,v in confident_preds_dict.items():\n",
    "    print(k,len(v))\n",
    "    if k in ['biophony', 'bird']:\n",
    "        selected_data[k]=v.iloc[:50000]\n",
    "    else:\n",
    "        selected_data[k]=v.iloc[:2000]\n",
    "\n",
    "only_biophony=(confident_preds_dict['biophony'][~confident_preds_dict['biophony'].isin( confident_preds_dict['bird']).all(1)])\n",
    "only_biophony=only_biophony.sort_values(by='bird', ascending=True)\n",
    "only_biophony=only_biophony[only_biophony['bird']<=0.112]"
   ]
  },
  {
   "cell_type": "code",
   "execution_count": 121,
   "id": "01425ce2-7cf8-49ef-aa2e-d54f4394706d",
   "metadata": {},
   "outputs": [],
   "source": [
    "importlib.reload(teacher)\n",
    "config = teacher.setup()\n",
    "\n",
    "## data-1: as many sampes as possible\n",
    "config['new_dataset_path'] = './datasetV2.1.2.csv'\n",
    "config['dataset_version'] = 'V2.1.2'\n",
    "config['versiontag'] = '3rk9ayjc-V1'\n",
    "\n",
    "# try! to collect same amount of samples from each location\n",
    "config['balance_by_location'] = False\n",
    "config['confidence_thresholds'] = {\n",
    "        'biophony':0.99, \n",
    "            'insect': 0.99,\n",
    "            'bird':0.99,\n",
    "                'songbirds':0.95,\n",
    "                'duck-goose-swan': 0.9,\n",
    "                'grouse-ptarmigan': 0.9,\n",
    "        'anthrophony': 0.8,\n",
    "            'aircraft': 0.99,\n",
    "        'silence': 0.99,\n",
    "    }\n",
    "\n",
    "# only applies to main label\n",
    "config['labels_thresholds'] = {\n",
    "    'default': 0.5,\n",
    "    'biophony': 0.9,\n",
    "    'insect': 0.5,\n",
    "    'bird': 0.9,\n",
    "    'songbirds': 0.12,\n",
    "    'duck-goose-swan': 0.5,\n",
    "    'grouse-ptarmigan': 0.5,\n",
    "    'anthrophony': 0.08,\n",
    "    'aircraft': 0.5,\n",
    "    'silence': 0.5,\n",
    "}\n",
    "\n",
    "# I DID NOT USE THESE NUMBERS\n",
    "config['new_data_classes_counts'] = {\n",
    "    'biophony':10*3,\n",
    "        'insect': 10*4,\n",
    "        'bird':10**3,\n",
    "            'songbirds':10*4,\n",
    "            'duck-goose-swan': 10*4,\n",
    "            'grouse-ptarmigan': 10*4,\n",
    "    'anthrophony': 10*4,\n",
    "        'aircraft': 10**4,\n",
    "    'silence': 10*3,\n",
    "}\n",
    "\n",
    "\n",
    "\n",
    "import glob\n",
    "from pathlib import Path"
   ]
  },
  {
   "cell_type": "code",
   "execution_count": 122,
   "id": "91a7045d-d5bf-4f71-8711-5df37ca1b170",
   "metadata": {},
   "outputs": [],
   "source": [
    "# preds_df = teacher.load_all_rawcsv_as_df(config['reg_loc_per_set'][0],config['merged_out_dir'],config['versiontag'])\n",
    "# preds_df.reset_index(inplace=True,drop=True)"
   ]
  },
  {
   "cell_type": "code",
   "execution_count": 123,
   "id": "3d1a2145-a974-471c-bb83-4cd93e2b43e4",
   "metadata": {},
   "outputs": [
    {
     "name": "stdout",
     "output_type": "stream",
     "text": [
      "-------- aircraft\n",
      "biophony\n",
      "90958\n",
      "bird\n",
      "90657\n",
      "songbirds\n",
      "33693\n",
      "duck-goose-swan\n",
      "33511\n",
      "grouse-ptarmigan\n",
      "33084\n",
      "insect\n",
      "29926\n",
      "silence\n",
      "29926\n",
      "-------- anthrophony\n",
      "biophony\n",
      "331420\n",
      "bird\n",
      "329988\n",
      "songbirds\n",
      "65206\n",
      "duck-goose-swan\n",
      "64492\n",
      "grouse-ptarmigan\n",
      "63360\n",
      "insect\n",
      "51945\n",
      "silence\n",
      "51945\n"
     ]
    }
   ],
   "source": [
    "confident_preds_dict = {}\n",
    "# config['new_data_classes_counts'].keys()\n",
    "for label_to_sample in ['aircraft','anthrophony']:\n",
    "    print(\"--------\",label_to_sample)\n",
    "    confidence_threshold=config['confidence_thresholds'][label_to_sample]\n",
    "    confident_preds = teacher.pick_confidents(preds_df, label_to_sample,\n",
    "                                                     confidence_threshold,\n",
    "                                                     config['related_cols'],\n",
    "                                                     config['labels_thresholds'],\n",
    "                                                    columns_to_exclude=['TIMESTAMP','sum','location','region'])\n",
    "    confident_preds_dict[label_to_sample] = confident_preds.copy()\n"
   ]
  },
  {
   "cell_type": "code",
   "execution_count": 124,
   "id": "a0f4d3a6-83fc-409f-bd31-01c2994cb2da",
   "metadata": {},
   "outputs": [],
   "source": [
    "# confident_preds_dict['aircraft']"
   ]
  },
  {
   "cell_type": "code",
   "execution_count": null,
   "id": "8a6ce03c-f45f-4513-b581-b05b9d833927",
   "metadata": {},
   "outputs": [],
   "source": []
  },
  {
   "cell_type": "code",
   "execution_count": 125,
   "id": "be059224-90ed-4c6e-85cb-b2a31f623957",
   "metadata": {},
   "outputs": [],
   "source": [
    "\n",
    "# pd.merge(, confident_preds_dict['aircraft'], how='inner', )"
   ]
  },
  {
   "cell_type": "code",
   "execution_count": 126,
   "id": "f678cee2-2d46-403a-b497-6ab7fb87e8c7",
   "metadata": {},
   "outputs": [
    {
     "name": "stdout",
     "output_type": "stream",
     "text": [
      "aircraft 29926\n",
      "anthrophony 51945\n"
     ]
    }
   ],
   "source": [
    "selected_data={}\n",
    "\n",
    "# sort values by sum so other lables has lower confidence\n",
    "for k,v in confident_preds_dict.items():\n",
    "    confident_preds_dict[k]=v.sort_values(by='sum', ascending=True)\n",
    "    \n",
    "#select samples\n",
    "for k,v in confident_preds_dict.items():\n",
    "    print(k,len(v))\n",
    "    if k in ['anthrophony', 'aircraft']:\n",
    "        selected_data[k]=v.iloc[:]\n",
    "    else:\n",
    "        selected_data[k]=v.iloc[:2000]\n"
   ]
  },
  {
   "cell_type": "code",
   "execution_count": 140,
   "id": "475e730e-e7c6-49cb-8883-1c0099488ff3",
   "metadata": {},
   "outputs": [],
   "source": [
    "only_anthrophony=(confident_preds_dict['anthrophony'][~confident_preds_dict['anthrophony'].isin( confident_preds_dict['aircraft']).all(1)])\n",
    "only_anthrophony=only_anthrophony.sort_values(by='aircraft', ascending=True)\n",
    "only_anthrophony=only_anthrophony[only_anthrophony['aircraft']<=0.112]"
   ]
  },
  {
   "cell_type": "code",
   "execution_count": 142,
   "id": "f3d87f05-6376-4157-9157-924926cbc018",
   "metadata": {},
   "outputs": [
    {
     "data": {
      "text/plain": [
       "2009"
      ]
     },
     "execution_count": 142,
     "metadata": {},
     "output_type": "execute_result"
    }
   ],
   "source": []
  },
  {
   "cell_type": "code",
   "execution_count": null,
   "id": "50518fcb-6178-467a-986e-355283084d9c",
   "metadata": {},
   "outputs": [],
   "source": []
  },
  {
   "cell_type": "code",
   "execution_count": 128,
   "id": "4384de21-63d7-480b-b1bc-d24e95289787",
   "metadata": {},
   "outputs": [
    {
     "name": "stdout",
     "output_type": "stream",
     "text": [
      "label_1 label_2 common\n",
      "aircraft anthrophony 29926\n"
     ]
    }
   ],
   "source": [
    "print('label_1','label_2','common')\n",
    "label_pairs = list(itertools.combinations(confident_preds_dict.keys(), 2))\n",
    "for k1,k2 in label_pairs:\n",
    "    if k1!=k2:\n",
    "        s1 = pd.merge(selected_data[k1], selected_data[k2], how='inner', )\n",
    "        print(k1,k2,len(s1))\n",
    "\n"
   ]
  },
  {
   "cell_type": "code",
   "execution_count": 141,
   "id": "7e01d8a5-9fce-4d89-ad21-bbe2851ece56",
   "metadata": {},
   "outputs": [],
   "source": [
    "confident_preds_dict['anthrophony']=only_anthrophony"
   ]
  },
  {
   "cell_type": "code",
   "execution_count": 40,
   "id": "19192f7e-9f4f-452f-b2c3-d0bcd34fb8bd",
   "metadata": {},
   "outputs": [],
   "source": [
    "import pandas as pd\n",
    "selected_data_merged=pd.concat(selected_data.values())\n",
    "selected_data_merged_unq = selected_data_merged.drop_duplicates()"
   ]
  },
  {
   "cell_type": "code",
   "execution_count": 11,
   "id": "fc326413-0524-4c9e-8adb-18e7ef010b89",
   "metadata": {},
   "outputs": [
    {
     "name": "stdout",
     "output_type": "stream",
     "text": [
      "all samples - unique samples = diff\n",
      "19953 13989 5964\n"
     ]
    }
   ],
   "source": [
    "print('all samples - unique samples = diff')\n",
    "all_count = len(selected_data_merged)\n",
    "unq_count = len(selected_data_merged_unq)\n",
    "print(all_count,unq_count,all_count-unq_count)"
   ]
  },
  {
   "cell_type": "code",
   "execution_count": null,
   "id": "67fd40a2-6be3-4eef-9af3-7d940bc2e208",
   "metadata": {},
   "outputs": [],
   "source": []
  },
  {
   "cell_type": "code",
   "execution_count": null,
   "id": "425940d9-ea66-46dd-811d-2e84de7514f1",
   "metadata": {},
   "outputs": [],
   "source": []
  },
  {
   "cell_type": "code",
   "execution_count": 12,
   "id": "d17df388-4b84-4d3d-8207-026f3ec7ea14",
   "metadata": {},
   "outputs": [],
   "source": [
    "file_properties_df = pd.read_pickle(\n",
    "    '/scratch/enis/data/nna/database/allFields_dataV5.pkl')\n"
   ]
  },
  {
   "cell_type": "code",
   "execution_count": 13,
   "id": "3705fa7c-b30a-4fbb-a7cf-817c742b8de6",
   "metadata": {},
   "outputs": [
    {
     "name": "stdout",
     "output_type": "stream",
     "text": [
      "--------------------------------------\n",
      "Not Found\n",
      "3928632 TIMESTAMP           2019-07-20_04:29:52\n",
      "anthrophony                       0.005\n",
      "aircraft                          0.003\n",
      "biophony                              1\n",
      "bird                                  1\n",
      "songbirds                         0.147\n",
      "duck-goose-swan                   0.099\n",
      "grouse-ptarmigan                   0.08\n",
      "insect                            0.055\n",
      "silence                           0.149\n",
      "sum                               2.538\n",
      "region                             anwr\n",
      "location                             48\n",
      "Name: 3928632, dtype: object\n",
      "--------------------------------------\n",
      "Not Found\n",
      "7108181 TIMESTAMP           2019-05-09_19:59:52\n",
      "anthrophony                       0.018\n",
      "aircraft                          0.012\n",
      "biophony                              1\n",
      "bird                                  1\n",
      "songbirds                         0.186\n",
      "duck-goose-swan                   0.116\n",
      "grouse-ptarmigan                  0.095\n",
      "insect                            0.072\n",
      "silence                           0.149\n",
      "sum                               2.648\n",
      "region                          ivvavik\n",
      "location                         SINP02\n",
      "Name: 7108181, dtype: object\n",
      "--------------------------------------\n",
      "Not Found\n",
      "9037066 TIMESTAMP           2019-07-09_20:29:52\n",
      "anthrophony                        0.07\n",
      "aircraft                          0.098\n",
      "biophony                              1\n",
      "bird                              0.998\n",
      "songbirds                         0.128\n",
      "duck-goose-swan                   0.036\n",
      "grouse-ptarmigan                    0.1\n",
      "insect                            0.113\n",
      "silence                            0.16\n",
      "sum                               2.703\n",
      "region                          prudhoe\n",
      "location                             11\n",
      "Name: 9037066, dtype: object\n",
      "--------------------------------------\n",
      "Not Found\n",
      "12201586 TIMESTAMP           2019-06-10_08:59:52\n",
      "anthrophony                       0.043\n",
      "aircraft                          0.038\n",
      "biophony                              1\n",
      "bird                              0.999\n",
      "songbirds                          0.11\n",
      "duck-goose-swan                   0.168\n",
      "grouse-ptarmigan                  0.091\n",
      "insect                            0.117\n",
      "silence                           0.166\n",
      "sum                               2.732\n",
      "region                          prudhoe\n",
      "location                             24\n",
      "Name: 12201586, dtype: object\n",
      "--------------------------------------\n",
      "Not Found\n",
      "11574730 TIMESTAMP           2019-07-19_15:59:52\n",
      "anthrophony                       0.065\n",
      "aircraft                          0.057\n",
      "biophony                              1\n",
      "bird                              0.999\n",
      "songbirds                         0.214\n",
      "duck-goose-swan                    0.03\n",
      "grouse-ptarmigan                  0.121\n",
      "insect                            0.119\n",
      "silence                           0.141\n",
      "sum                               2.746\n",
      "region                          prudhoe\n",
      "location                             22\n",
      "Name: 11574730, dtype: object\n",
      "--------------------------------------\n",
      "Not Found\n",
      "3868332 TIMESTAMP           2019-07-07_01:29:52\n",
      "anthrophony                       0.004\n",
      "aircraft                          0.003\n",
      "biophony                              1\n",
      "bird                                  1\n",
      "songbirds                         0.178\n",
      "duck-goose-swan                   0.189\n",
      "grouse-ptarmigan                  0.144\n",
      "insect                             0.05\n",
      "silence                           0.198\n",
      "sum                               2.766\n",
      "region                             anwr\n",
      "location                             48\n",
      "Name: 3868332, dtype: object\n",
      "--------------------------------------\n",
      "Not Found\n",
      "11567530 TIMESTAMP           2019-07-18_01:59:52\n",
      "anthrophony                        0.04\n",
      "aircraft                          0.052\n",
      "biophony                          0.999\n",
      "bird                              0.998\n",
      "songbirds                         0.149\n",
      "duck-goose-swan                    0.05\n",
      "grouse-ptarmigan                  0.154\n",
      "insect                            0.103\n",
      "silence                           0.234\n",
      "sum                               2.779\n",
      "region                          prudhoe\n",
      "location                             22\n",
      "Name: 11567530, dtype: object\n",
      "--------------------------------------\n",
      "Not Found\n",
      "4305744 TIMESTAMP           2019-07-20_13:59:52\n",
      "anthrophony                       0.011\n",
      "aircraft                          0.007\n",
      "biophony                              1\n",
      "bird                              0.998\n",
      "songbirds                          0.25\n",
      "duck-goose-swan                   0.099\n",
      "grouse-ptarmigan                  0.125\n",
      "insect                            0.103\n",
      "silence                           0.196\n",
      "sum                               2.789\n",
      "region                             anwr\n",
      "location                             49\n",
      "Name: 4305744, dtype: object\n",
      "--------------------------------------\n",
      "Not Found\n",
      "2835120 TIMESTAMP           2019-08-05_05:59:52\n",
      "anthrophony                        0.01\n",
      "aircraft                          0.006\n",
      "biophony                          0.999\n",
      "bird                              0.994\n",
      "songbirds                         0.155\n",
      "duck-goose-swan                   0.094\n",
      "grouse-ptarmigan                  0.089\n",
      "insect                            0.178\n",
      "silence                           0.274\n",
      "sum                               2.799\n",
      "region                             anwr\n",
      "location                             43\n",
      "Name: 2835120, dtype: object\n",
      "--------------------------------------\n",
      "Not Found\n",
      "10858258 TIMESTAMP           2019-07-16_21:29:52\n",
      "anthrophony                        0.04\n",
      "aircraft                          0.047\n",
      "biophony                              1\n",
      "bird                              0.255\n",
      "songbirds                          0.07\n",
      "duck-goose-swan                   0.058\n",
      "grouse-ptarmigan                  0.028\n",
      "insect                                1\n",
      "silence                           0.104\n",
      "sum                               2.602\n",
      "region                          prudhoe\n",
      "location                             19\n",
      "Name: 10858258, dtype: object\n",
      "--------------------------------------\n",
      "Not Found\n",
      "8770198 TIMESTAMP           2019-07-04_08:59:52\n",
      "anthrophony                       0.005\n",
      "aircraft                          0.003\n",
      "biophony                          0.999\n",
      "bird                              0.999\n",
      "songbirds                         0.982\n",
      "duck-goose-swan                   0.019\n",
      "grouse-ptarmigan                  0.112\n",
      "insect                             0.06\n",
      "silence                           0.181\n",
      "sum                                3.36\n",
      "region                          ivvavik\n",
      "location                         SINP10\n",
      "Name: 8770198, dtype: object\n",
      "--------------------------------------\n",
      "Not Found\n",
      "152999 TIMESTAMP           2019-06-06_04:59:52\n",
      "anthrophony                       0.003\n",
      "aircraft                          0.002\n",
      "biophony                              1\n",
      "bird                                  1\n",
      "songbirds                         0.961\n",
      "duck-goose-swan                   0.018\n",
      "grouse-ptarmigan                  0.268\n",
      "insect                            0.035\n",
      "silence                           0.105\n",
      "sum                               3.392\n",
      "region                             anwr\n",
      "location                             33\n",
      "Name: 152999, dtype: object\n",
      "--------------------------------------\n",
      "Not Found\n",
      "11103058 TIMESTAMP           2019-06-07_04:29:52\n",
      "anthrophony                       0.021\n",
      "aircraft                          0.019\n",
      "biophony                          0.999\n",
      "bird                                  1\n",
      "songbirds                         0.963\n",
      "duck-goose-swan                   0.038\n",
      "grouse-ptarmigan                  0.128\n",
      "insect                            0.047\n",
      "silence                           0.205\n",
      "sum                                3.42\n",
      "region                          prudhoe\n",
      "location                             21\n",
      "Name: 11103058, dtype: object\n",
      "--------------------------------------\n",
      "Not Found\n",
      "10225102 TIMESTAMP           2019-06-08_04:59:52\n",
      "anthrophony                        0.02\n",
      "aircraft                          0.011\n",
      "biophony                          0.999\n",
      "bird                              0.999\n",
      "songbirds                         0.952\n",
      "duck-goose-swan                   0.078\n",
      "grouse-ptarmigan                  0.229\n",
      "insect                            0.045\n",
      "silence                           0.106\n",
      "sum                               3.439\n",
      "region                          prudhoe\n",
      "location                             16\n",
      "Name: 10225102, dtype: object\n",
      "--------------------------------------\n",
      "Not Found\n",
      "8705398 TIMESTAMP           2019-06-11_06:59:52\n",
      "anthrophony                       0.018\n",
      "aircraft                          0.013\n",
      "biophony                          0.998\n",
      "bird                              0.998\n",
      "songbirds                         0.953\n",
      "duck-goose-swan                   0.039\n",
      "grouse-ptarmigan                  0.082\n",
      "insect                            0.101\n",
      "silence                           0.242\n",
      "sum                               3.444\n",
      "region                          ivvavik\n",
      "location                         SINP10\n",
      "Name: 8705398, dtype: object\n",
      "--------------------------------------\n",
      "Not Found\n",
      "3848976 TIMESTAMP           2019-06-16_00:29:52\n",
      "anthrophony                       0.002\n",
      "aircraft                          0.002\n",
      "biophony                              1\n",
      "bird                                  1\n",
      "songbirds                         0.117\n",
      "duck-goose-swan                   0.976\n",
      "grouse-ptarmigan                  0.243\n",
      "insect                            0.021\n",
      "silence                           0.137\n",
      "sum                               3.498\n",
      "region                             anwr\n",
      "location                             48\n",
      "Name: 3848976, dtype: object\n",
      "--------------------------------------\n",
      "Not Found\n",
      "3905232 TIMESTAMP           2019-07-15_01:59:52\n",
      "anthrophony                       0.001\n",
      "aircraft                          0.001\n",
      "biophony                              1\n",
      "bird                                  1\n",
      "songbirds                         0.105\n",
      "duck-goose-swan                   0.979\n",
      "grouse-ptarmigan                  0.331\n",
      "insect                            0.012\n",
      "silence                           0.078\n",
      "sum                               3.507\n",
      "region                             anwr\n",
      "location                             48\n",
      "Name: 3905232, dtype: object\n",
      "--------------------------------------\n",
      "Not Found\n",
      "11361370 TIMESTAMP           2019-05-13_08:59:52\n",
      "anthrophony                       0.003\n",
      "aircraft                          0.003\n",
      "biophony                              1\n",
      "bird                                  1\n",
      "songbirds                         0.104\n",
      "duck-goose-swan                   0.265\n",
      "grouse-ptarmigan                  0.995\n",
      "insect                            0.039\n",
      "silence                           0.103\n",
      "sum                               3.512\n",
      "region                          prudhoe\n",
      "location                             22\n",
      "Name: 11361370, dtype: object\n",
      "--------------------------------------\n",
      "Not Found\n",
      "2066928 TIMESTAMP           2019-07-20_14:29:52\n",
      "anthrophony                       0.037\n",
      "aircraft                          0.037\n",
      "biophony                          0.999\n",
      "bird                              0.997\n",
      "songbirds                         0.118\n",
      "duck-goose-swan                   0.058\n",
      "grouse-ptarmigan                  0.965\n",
      "insect                            0.268\n",
      "silence                           0.183\n",
      "sum                               3.662\n",
      "region                             anwr\n",
      "location                             41\n",
      "Name: 2066928, dtype: object\n",
      "--------------------------------------\n",
      "Not Found\n",
      "8264051 TIMESTAMP           2019-08-27_00:29:52\n",
      "anthrophony                           1\n",
      "aircraft                              1\n",
      "biophony                          0.446\n",
      "bird                              0.285\n",
      "songbirds                          0.09\n",
      "duck-goose-swan                   0.024\n",
      "grouse-ptarmigan                  0.013\n",
      "insect                            0.195\n",
      "silence                            0.07\n",
      "sum                               3.123\n",
      "region                          ivvavik\n",
      "location                         SINP07\n",
      "Name: 8264051, dtype: object\n",
      "--------------------------------------\n",
      "Not Found\n",
      "12781410 TIMESTAMP           2019-08-12_22:29:52\n",
      "anthrophony                           1\n",
      "aircraft                              1\n",
      "biophony                          0.453\n",
      "bird                              0.283\n",
      "songbirds                         0.074\n",
      "duck-goose-swan                    0.03\n",
      "grouse-ptarmigan                  0.019\n",
      "insect                            0.209\n",
      "silence                           0.062\n",
      "sum                                3.13\n",
      "region                          prudhoe\n",
      "location                             25\n",
      "Name: 12781410, dtype: object\n"
     ]
    }
   ],
   "source": [
    "\n",
    "\n",
    "new_dataset_csv, not_found_rows = teacher.generate_new_dataset(\n",
    "    selected_data_merged_unq,\n",
    "    config['versiontag'],\n",
    "    config['split_out_path'],\n",
    "    file_properties_df,\n",
    "    config['upper_taxo_links'],\n",
    "    config['dataset_version'],\n",
    "    excell_label_headers= config['excell_label_headers'],\n",
    "    labels_thresholds= config['labels_thresholds'],\n",
    "    dry_run=False,\n",
    "    excell_labels_2_names=config['excell_labels_2_names'],\n",
    "    stereo2mono=True,\n",
    "    overwrite=True,\n",
    ")\n",
    "\n",
    "\n",
    "# from copy import deepcopy\n",
    "# new_dataset_csv_backup = deepcopy(new_dataset_csv)\n",
    "# not_found_rows_backup = deepcopy(not_found_rows)\n",
    "\n",
    "# del not_found_rows_backup,new_dataset_csv_backup\n",
    "\n",
    "\n",
    "# write_csv(config['new_dataset_path'],\n",
    "#           new_dataset_csv,\n",
    "#           fieldnames=config['excell_all_headers'])"
   ]
  },
  {
   "cell_type": "code",
   "execution_count": 34,
   "id": "17f08e34-f3b1-4997-ba54-6d7421b73bcb",
   "metadata": {},
   "outputs": [],
   "source": [
    "# new_dataset_csv"
   ]
  },
  {
   "cell_type": "code",
   "execution_count": null,
   "id": "b81f6425-0bea-4455-8a28-a8c9144b6e49",
   "metadata": {},
   "outputs": [],
   "source": []
  },
  {
   "cell_type": "code",
   "execution_count": 20,
   "id": "f22182bc-2b81-4ecb-b475-f6ae5c3caee1",
   "metadata": {},
   "outputs": [
    {
     "data": {
      "text/plain": [
       "13968"
      ]
     },
     "execution_count": 20,
     "metadata": {},
     "output_type": "execute_result"
    }
   ],
   "source": [
    "len(new_dataset_csv)"
   ]
  },
  {
   "cell_type": "code",
   "execution_count": 16,
   "id": "2ecb2986-1ee1-4fdf-bdb0-c8bedde218ba",
   "metadata": {},
   "outputs": [],
   "source": [
    "from copy import deepcopy\n",
    "new_dataset_csv_backup = deepcopy(new_dataset_csv)\n",
    "not_found_rows_backup = deepcopy(not_found_rows)\n",
    "\n",
    "\n"
   ]
  },
  {
   "cell_type": "code",
   "execution_count": 18,
   "id": "7a38586e-4ec3-47d4-83fe-03c90b859306",
   "metadata": {},
   "outputs": [
    {
     "name": "stdout",
     "output_type": "stream",
     "text": [
      "./datasetV2.1.2.csv\n"
     ]
    }
   ],
   "source": [
    "print(config['new_dataset_path'])\n",
    "teacher.write_csv(config['new_dataset_path'],\n",
    "          new_dataset_csv,\n",
    "          fieldnames=config['excell_all_headers'])"
   ]
  },
  {
   "cell_type": "code",
   "execution_count": 19,
   "id": "0e3e4172-66d3-426f-86a4-b7c76feb7255",
   "metadata": {},
   "outputs": [
    {
     "name": "stdout",
     "output_type": "stream",
     "text": [
      "/home/enis/projects/nna/src/scripts\n"
     ]
    }
   ],
   "source": [
    "!cd /home/enis/projects/nna/src/scripts"
   ]
  },
  {
   "cell_type": "code",
   "execution_count": 54,
   "id": "dcf8a5ce-100d-445f-bc78-f8e7e14b28dd",
   "metadata": {},
   "outputs": [],
   "source": []
  },
  {
   "cell_type": "code",
   "execution_count": null,
   "id": "19d1e99e-2b47-4a7c-89b1-ced584657500",
   "metadata": {},
   "outputs": [
    {
     "name": "stdout",
     "output_type": "stream",
     "text": [
      "0\n",
      "1000\n",
      "2000\n",
      "3000\n"
     ]
    }
   ],
   "source": [
    "for i,row in enumerate(new_dataset_csv):\n",
    "    relative_part=row['Clip Path'].relative_to('/scratch/enis/data/nna/labeling/megan/3rk9ayjc-V1/')\n",
    "    new_file='/scratch/enis/data/nna/labeling/megan/3rk9ayjc-V2'/ relative_part\n",
    "    new_file.parent.mkdir(exist_ok=True,parents=True)\n",
    "#     print(row['Clip Path'],'\\n',new_file)\n",
    "#     break\n",
    "    output=change_sampling_rate(row['Clip Path'],new_file,48000)\n",
    "#     break\n",
    "    if i%1000==0:\n",
    "        print(i)"
   ]
  },
  {
   "cell_type": "code",
   "execution_count": 58,
   "id": "ce2766b9-a73a-4583-bf49-1f803fa7fd68",
   "metadata": {},
   "outputs": [
    {
     "data": {
      "text/plain": [
       "PosixPath('/scratch/enis/data/nna/labeling/megan/3rk9ayjc-V2/anwr/48/S4A10252_20190709_120000_54m_40s__54m_50s.wav')"
      ]
     },
     "execution_count": 58,
     "metadata": {},
     "output_type": "execute_result"
    }
   ],
   "source": [
    "output"
   ]
  },
  {
   "cell_type": "code",
   "execution_count": 21,
   "id": "18f8d116-aaee-40d3-868a-710eeb910f23",
   "metadata": {},
   "outputs": [],
   "source": [
    "import subprocess\n"
   ]
  },
  {
   "cell_type": "code",
   "execution_count": 56,
   "id": "e4728367-6c1f-4eea-896f-26fafe7f31f5",
   "metadata": {},
   "outputs": [],
   "source": [
    "def change_sampling_rate(input_file,output_file,sampling_rate):\n",
    "    \n",
    "    cmd = ['ffmpeg', '-i', str(input_file),'-y','-ar', str(sampling_rate), str(output_file)]\n",
    "    \n",
    "    proc = subprocess.Popen(cmd,\n",
    "                            stdout=subprocess.PIPE,\n",
    "                            stderr=subprocess.PIPE)\n",
    "\n",
    "    o, e = proc.communicate()\n",
    "\n",
    "    if proc.returncode != 0:\n",
    "        print(\"---------\")\n",
    "        print(cmd)\n",
    "        print('Output: ' + o.decode('ascii'))\n",
    "        print('Error: ' + e.decode('ascii'))\n",
    "        return 0\n",
    "    else:\n",
    "        return output_file\n"
   ]
  },
  {
   "cell_type": "code",
   "execution_count": 37,
   "id": "fe876f34-fc73-4e15-bf01-eab705cc12c6",
   "metadata": {},
   "outputs": [
    {
     "name": "stdout",
     "output_type": "stream",
     "text": [
      "['ffmpeg', '-i', '/scratch/enis/data/nna/labeling/megan/3rk9ayjc-V1/anwr/48/S4A10252_20190709_120000_54m_40s__54m_50s.wav', '-y', '-ar', '48000', '/scratch/enis/data/nna/labeling/megan/3rk9ayjc-V2/anwr/48/S4A10252_20190709_120000_54m_40s__54m_50s.wav']\n"
     ]
    }
   ],
   "source": [
    "f='/scratch/enis/data/nna/labeling/megan/3rk9ayjc-V1/anwr/48/S4A10252_20190709_120000_54m_40s__54m_50s.wav'\n",
    "f2='/scratch/enis/data/nna/labeling/megan/3rk9ayjc-V2/anwr/48/S4A10252_20190709_120000_54m_40s__54m_50s.wav'\n",
    "cmd=change_sampling_rate(f,f2,48000)"
   ]
  },
  {
   "cell_type": "code",
   "execution_count": 38,
   "id": "94a1e666-8541-44dc-834b-5bdbb51db2ab",
   "metadata": {},
   "outputs": [
    {
     "data": {
      "text/plain": [
       "'ffmpeg -i /scratch/enis/data/nna/labeling/megan/3rk9ayjc-V1/anwr/48/S4A10252_20190709_120000_54m_40s__54m_50s.wav -y -ar 48000 /scratch/enis/data/nna/labeling/megan/3rk9ayjc-V2/anwr/48/S4A10252_20190709_120000_54m_40s__54m_50s.wav'"
      ]
     },
     "execution_count": 38,
     "metadata": {},
     "output_type": "execute_result"
    }
   ],
   "source": [
    "' '.join(cmd)    "
   ]
  },
  {
   "cell_type": "code",
   "execution_count": 31,
   "id": "66c8055c-6141-4767-8e30-78d9a1084f36",
   "metadata": {},
   "outputs": [
    {
     "data": {
      "text/plain": [
       "1"
      ]
     },
     "execution_count": 31,
     "metadata": {},
     "output_type": "execute_result"
    }
   ],
   "source": [
    "cmd"
   ]
  },
  {
   "cell_type": "code",
   "execution_count": 9,
   "id": "f5e29433-c5ea-4d35-b371-c187e634dc78",
   "metadata": {},
   "outputs": [],
   "source": []
  },
  {
   "cell_type": "code",
   "execution_count": 10,
   "id": "258e5cf1-b101-49d0-9cbd-d88f10ce6855",
   "metadata": {},
   "outputs": [
    {
     "data": {
      "text/plain": [
       "14"
      ]
     },
     "execution_count": 10,
     "metadata": {},
     "output_type": "execute_result"
    }
   ],
   "source": []
  },
  {
   "cell_type": "code",
   "execution_count": null,
   "id": "a53188db-66e7-47be-a742-f5f001901866",
   "metadata": {},
   "outputs": [],
   "source": []
  },
  {
   "cell_type": "code",
   "execution_count": null,
   "id": "129a1a72-c99c-4c8a-9fc2-79dcc5f645d4",
   "metadata": {},
   "outputs": [],
   "source": []
  },
  {
   "cell_type": "code",
   "execution_count": null,
   "id": "07a7b52e-8a90-4921-9a03-b050c9a4e0bb",
   "metadata": {},
   "outputs": [],
   "source": []
  },
  {
   "cell_type": "code",
   "execution_count": null,
   "id": "2d30577a-31fb-41bd-86e9-5d814b361330",
   "metadata": {},
   "outputs": [],
   "source": []
  },
  {
   "cell_type": "code",
   "execution_count": null,
   "id": "5d83489d-7c2b-44cf-b5e8-5221c1fb84a1",
   "metadata": {},
   "outputs": [],
   "source": []
  }
 ],
 "metadata": {
  "kernelspec": {
   "display_name": "speechEnv",
   "language": "python",
   "name": "speechenv"
  },
  "language_info": {
   "codemirror_mode": {
    "name": "ipython",
    "version": 3
   },
   "file_extension": ".py",
   "mimetype": "text/x-python",
   "name": "python",
   "nbconvert_exporter": "python",
   "pygments_lexer": "ipython3",
   "version": "3.7.2"
  }
 },
 "nbformat": 4,
 "nbformat_minor": 5
}

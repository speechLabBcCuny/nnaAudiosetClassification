{
 "cells": [
  {
   "cell_type": "code",
   "execution_count": 1,
   "id": "235706dc-39dc-43d7-9878-bcc404eee1a0",
   "metadata": {},
   "outputs": [],
   "source": [
    "# labels_r, Reviewed=False,extra_tags\n",
    "import glob\n",
    "import csv\n",
    "\n",
    "from pathlib import Path\n",
    "\n",
    "def read_csv(csv_file_path, fieldnames=None):\n",
    "    with open(csv_file_path, encoding='utf-8') as csv_file:\n",
    "        rows = csv.DictReader(csv_file,fieldnames=fieldnames)\n",
    "        rows = list(rows)\n",
    "        for row in rows:\n",
    "            for key,value in row.items():\n",
    "                if value.lower() == 'false':\n",
    "                    row[key]='FALSE'\n",
    "\n",
    "    return rows\n",
    "\n",
    "def write_csv(new_csv_file, rows_new,fieldnames=None):\n",
    "    with open(new_csv_file, 'w', newline='',encoding='utf-8') as csvfile:\n",
    "        if fieldnames is None:\n",
    "            fieldnames = rows_new[0].keys()\n",
    "        writer = csv.DictWriter(csvfile, fieldnames=fieldnames)\n",
    "\n",
    "        writer.writeheader()\n",
    "        writer.writerows(rows_new)\n",
    "        \n",
    "\n"
   ]
  },
  {
   "cell_type": "code",
   "execution_count": null,
   "id": "2d64981e-fbac-4319-a642-b09d446114e5",
   "metadata": {},
   "outputs": [],
   "source": []
  },
  {
   "cell_type": "code",
   "execution_count": 2,
   "id": "194d2011-87b9-4306-bb24-b09130e6535f",
   "metadata": {},
   "outputs": [],
   "source": [
    "file_name='/home/enis/projects/nna/notebooks/Labeling/datasetmodels_V6.csv'\n",
    "new_file_name='/home/enis/projects/nna/notebooks/Labeling/results_megan/datasetmodels_V6_UI.csv'\n",
    "dataset_rows=read_csv(file_name)\n"
   ]
  },
  {
   "cell_type": "code",
   "execution_count": 3,
   "id": "4070a02e-3aca-498b-9551-17d62932a80d",
   "metadata": {},
   "outputs": [],
   "source": [
    "tag_names=list(dataset_rows[0].keys())[9:-3]\n",
    "first_cols=list(dataset_rows[0].keys())[:9]\n",
    "last_cols=list(dataset_rows[0].keys())[-3:]"
   ]
  },
  {
   "cell_type": "code",
   "execution_count": 4,
   "id": "c4b17afd-83b8-478e-b0a1-bf13f27a607d",
   "metadata": {},
   "outputs": [],
   "source": [
    "# tag_names"
   ]
  },
  {
   "cell_type": "code",
   "execution_count": 6,
   "id": "df7f41fc-aa31-4379-b5ac-40fa0f2bc170",
   "metadata": {},
   "outputs": [],
   "source": [
    "for row in dataset_rows:\n",
    "    for tag in tag_names:\n",
    "        row[tag+'_r']='N/A'\n",
    "    row['Reviewed'] = False\n",
    "    row['extra_tags']=''"
   ]
  },
  {
   "cell_type": "code",
   "execution_count": 7,
   "id": "16a61284-e55f-42e8-b04b-1e3bb5ecd54d",
   "metadata": {},
   "outputs": [],
   "source": [
    "write_csv(new_file_name,dataset_rows)"
   ]
  },
  {
   "cell_type": "code",
   "execution_count": null,
   "id": "5898537f-a589-47d0-bbc5-3ead6a7f88d0",
   "metadata": {},
   "outputs": [],
   "source": []
  },
  {
   "cell_type": "code",
   "execution_count": 8,
   "id": "02ab7197-8090-4a8b-a161-0430a4f19709",
   "metadata": {},
   "outputs": [],
   "source": [
    "# rows=read_csv('/home/enis/projects/nna/notebooks/explore/datasetUI_V5_short2k.csv')"
   ]
  },
  {
   "cell_type": "code",
   "execution_count": 9,
   "id": "f109d4af-6b1d-468d-8db3-7c0635d56917",
   "metadata": {},
   "outputs": [],
   "source": [
    "# import shutil\n",
    "# from pathlib import Path\n",
    "# for row in rows:\n",
    "#     dst=row['Clip Path']\n",
    "#     Path(dst).parent.mkdir(parents=True,exist_ok=True)\n",
    "#     src=row['Clip Path'].replace('yfitloiq-V1','yfitloiq-V1_backup')\n",
    "#     shutil.copyfile(src, dst)\n"
   ]
  },
  {
   "cell_type": "code",
   "execution_count": 10,
   "id": "81f1ff99-25ce-4c70-9051-26355e3acb30",
   "metadata": {},
   "outputs": [],
   "source": [
    "import librosa\n",
    "import librosa.display\n",
    "import numpy as np\n",
    "import matplotlib.pyplot as plt\n",
    "from pathlib import Path\n"
   ]
  },
  {
   "cell_type": "code",
   "execution_count": 11,
   "id": "031844a7-6960-4666-8713-eb20432afb76",
   "metadata": {},
   "outputs": [
    {
     "data": {
      "text/plain": [
       "'/scratch/enis/data/nna/labeling/megan/combined7-V1/prudhoe/26/S4A10255_20190904_201602_67m_10s__67m_20s.wav'"
      ]
     },
     "execution_count": 11,
     "metadata": {},
     "output_type": "execute_result"
    }
   ],
   "source": [
    "row['Clip Path']"
   ]
  },
  {
   "cell_type": "code",
   "execution_count": null,
   "id": "2eb2930f-6e1c-43a2-92b9-d7c5e49e6498",
   "metadata": {},
   "outputs": [],
   "source": [
    "# /scratch/enis/data/nna/labeling/megan/yfitloiq-V1_mel/\n",
    "\n",
    "for row in dataset_rows:\n",
    "    fig, ax = plt.subplots(figsize=(32, 8))\n",
    "\n",
    "    # print(c)\n",
    "    cp=row['Clip Path']\n",
    "    mel_path = cp.replace('combined7-V1','combined7-V1_mel')\n",
    "    clip_path = Path(mel_path)\n",
    "    clip_path.parent.mkdir(parents=True,exist_ok=True)\n",
    "    c=clip_path.with_suffix('.svg')\n",
    "\n",
    "    if c.exists():\n",
    "        plt.close()\n",
    "        continue\n",
    "\n",
    "    y, sr = librosa.load(cp)\n",
    "\n",
    "    S = librosa.feature.melspectrogram(y, sr=sr)\n",
    "    S_DB = librosa.power_to_db(S, ref=np.max)\n",
    "\n",
    "    \n",
    "    img = librosa.display.specshow(S_DB,\n",
    "                                   sr=sr,\n",
    "                                   x_axis='time',\n",
    "                                   y_axis='mel',\n",
    "                                   ax=ax)\n",
    "    fig.colorbar(img, format='%+2.0f dB', ax=ax)\n",
    "    # plt.show()\n",
    "    # break\n",
    "    plt.savefig(c,bbox_inches='tight')\n",
    "    plt.close()\n",
    "    print(c)\n",
    "\n",
    "    \n",
    "    "
   ]
  },
  {
   "cell_type": "code",
   "execution_count": 13,
   "id": "a880b17b-6d26-4e5c-86b1-c66da49d3f7f",
   "metadata": {},
   "outputs": [],
   "source": [
    "!/scratch/enis/conda/envs/speechEnv/bin/python /home/enis/projects/nna/src/nna/slack_message.py -t \"mel job ended\" -m 'mel audio ended'\n"
   ]
  },
  {
   "cell_type": "code",
   "execution_count": 14,
   "id": "fbe09f3a-ba99-4fbe-a877-b88fc2065676",
   "metadata": {},
   "outputs": [],
   "source": [
    "!rclone copy --s3-acl=public-read /scratch/enis/data/nna/labeling/megan/combined7-V1_mel/ enisdo:crescent/scratch/enis/data/nna/labeling/megan/combined7-V1_mel/\n",
    "\n",
    "https://crescent.sfo3.digitaloceanspaces.com/scratch/enis/data/nna/labeling/megan/combined7-V1/anwr/34/S4A10327_20190714_053000_48m_50s__49m_0s.svg"
   ]
  },
  {
   "cell_type": "code",
   "execution_count": 15,
   "id": "968f8bb1-a57c-4422-a060-936d407e3adc",
   "metadata": {},
   "outputs": [],
   "source": [
    "!/scratch/enis/conda/envs/speechEnv/bin/python /home/enis/projects/nna/src/nna/slack_message.py -t \"upload job ended\" -m 'upload audio ended'\n"
   ]
  },
  {
   "cell_type": "code",
   "execution_count": null,
   "id": "45ca49c6-5cc5-4a3d-ab50-138745b8ee50",
   "metadata": {},
   "outputs": [],
   "source": []
  }
 ],
 "metadata": {
  "kernelspec": {
   "display_name": "Python 3 (ipykernel)",
   "language": "python",
   "name": "python3"
  }
 },
 "nbformat": 4,
 "nbformat_minor": 5
}

{
 "cells": [
  {
   "cell_type": "code",
   "execution_count": null,
   "metadata": {},
   "outputs": [],
   "source": [
    "'''Find audio segments at the time a photo is taken.\n",
    "\n",
    "Given directory of photos, find corresponding audio segments\n",
    "and save them to given folder.\n",
    "\n",
    "'''"
   ]
  },
  {
   "cell_type": "code",
   "execution_count": null,
   "metadata": {},
   "outputs": [],
   "source": [
    "from datetime import timedelta\n",
    "import datetime\n",
    "\n",
    "from nna.fileUtils import read_file_properties_v2, find_filesv2, list_files\n",
    "from nna.fileUtils import get_audio, str2timestamp, query_audio\n",
    "\n",
    "from nna.imgUtils import get_labeled_exif\n",
    "\n",
    "import pandas as pd\n",
    "from pathlib import Path\n"
   ]
  },
  {
   "cell_type": "code",
   "execution_count": null,
   "metadata": {},
   "outputs": [],
   "source": [
    "p_path = \"/home/enis/projects/nna/data/cameraTraps/test.txt\"\n",
    "\n",
    "with open(p_path) as p_file:\n",
    "    photo_paths = p_file.readlines()\n",
    "    photo_paths = [i.strip() for i in photo_paths]\n",
    "\n",
    "other_folder = [\n",
    "    \"anwr_35_2019_101RECNX_RCNX3373.JPG\",\n",
    "    \"anwr_42_2019_100RECNX_RCNX3574.JPG\",\n",
    "    \"ivvavik_SINP03_2019_100RECNX_IMG_3219.JPG\",\n",
    "    \"ivvavik_SINP05_2019_100RECNX_IMG_2867.JPG\",\n",
    "    \"ivvavik_SINP06_2019_100RECNX_IMG_1884.JPG\",\n",
    "    \"ivvavik_SINP09_2019_100RECNX_IMG_2743.JPG\",\n",
    "    \"prudhoe_17_2019_100RECNX_RCNX3916.JPG\",\n",
    "]\n",
    "\n",
    "parent_path1 = \"/tank/data/nna/examples/randomPhotos10k/\"\n",
    "parent_path2 = \"/tank/data/nna/examples/randomPhotos1k/\"\n",
    "\n",
    "file_properties_df = pd.read_pickle(\n",
    "    \"/home/enis/projects/nna/data/realdata_v2No_stinchcomb.pkl\")\n",
    "\n",
    "# img_file_name=\"anwr_33_2019_101RECNX_RCNX3238.jpg\"\n",
    "\n",
    "buffer = 10800  # how much buffer to each side\n",
    "tmp_folder = \"./trap_photo_audio_new3/\"\n"
   ]
  },
  {
   "cell_type": "code",
   "execution_count": null,
   "metadata": {},
   "outputs": [],
   "source": [
    "def img2audio_query(img_file_name, parent_path):\n",
    "\n",
    "    location = img_file_name.split(\"_\")[1]\n",
    "\n",
    "    labeled = get_labeled_exif(parent_path + img_file_name)\n",
    "\n",
    "    timestamp = labeled[\"DateTimeDigitized\"]\n",
    "    timestamp = datetime.datetime.strptime(timestamp, '%Y:%m:%d %H:%M:%S')\n",
    "\n",
    "    start_time = timestamp - timedelta(seconds=30)\n",
    "    start_time = start_time.strftime('%Y-%m-%d_%H:%M:%S')\n",
    "    length = 60  # seconds of audio, if set end_time is IGNORED\n",
    "    end_time = ''  # or datetime object\n",
    "    print(img_file_name, start_time)\n",
    "\n",
    "    file_name = img_file_name[:-4]\n",
    "\n",
    "    return location, start_time, end_time, length, file_name\n"
   ]
  },
  {
   "cell_type": "code",
   "execution_count": null,
   "metadata": {},
   "outputs": [],
   "source": [
    "for img_file_name in photo_paths:\n",
    "    img_file_name = (img_file_name)[:-4] + \".JPG\"\n",
    "\n",
    "    if img_file_name in other_folder:\n",
    "        parent_path = parent_path2\n",
    "    else:\n",
    "        parent_path = parent_path1\n",
    "\n",
    "    location, start_time, end_time, length, file_name = img2audio_query(\n",
    "        img_file_name, parent_path)\n",
    "\n",
    "    sorted_filtered = query_audio(location,\n",
    "                                  start_time,\n",
    "                                  end_time,\n",
    "                                  length,\n",
    "                                  buffer,\n",
    "                                  file_properties_df,\n",
    "                                  file_name,\n",
    "                                  display_flag=False,\n",
    "                                  save=True,\n",
    "                                  tmp_folder=tmp_folder)\n"
   ]
  },
  {
   "cell_type": "code",
   "execution_count": null,
   "metadata": {},
   "outputs": [],
   "source": [
    "audio4photo = list_files(\n",
    "    \"/home/enis/projects/nna/notebooks/trap_photo_audio_new2\")\n"
   ]
  },
  {
   "cell_type": "code",
   "execution_count": null,
   "metadata": {},
   "outputs": [],
   "source": [
    "len(audio4photo)"
   ]
  }
 ],
 "metadata": {
  "kernelspec": {
   "display_name": "speechEnv",
   "language": "python",
   "name": "speechenv"
  },
  "language_info": {
   "codemirror_mode": {
    "name": "ipython",
    "version": 3
   },
   "file_extension": ".py",
   "mimetype": "text/x-python",
   "name": "python",
   "nbconvert_exporter": "python",
   "pygments_lexer": "ipython3",
   "version": "3.7.2"
  }
 },
 "nbformat": 4,
 "nbformat_minor": 4
}
